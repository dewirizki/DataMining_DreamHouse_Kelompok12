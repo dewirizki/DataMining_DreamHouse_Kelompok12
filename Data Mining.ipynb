{
  "nbformat": 4,
  "nbformat_minor": 0,
  "metadata": {
    "colab": {
      "name": "Untitled0.ipynb",
      "provenance": [],
      "include_colab_link": true
    },
    "kernelspec": {
      "name": "python3",
      "display_name": "Python 3"
    },
    "language_info": {
      "name": "python"
    }
  },
  "cells": [
    {
      "cell_type": "markdown",
      "metadata": {
        "id": "view-in-github",
        "colab_type": "text"
      },
      "source": [
        "<a href=\"https://colab.research.google.com/github/dewirizki/DataMining_DreamHouse_Kelompok12/blob/main/Data%20Mining.ipynb\" target=\"_parent\"><img src=\"https://colab.research.google.com/assets/colab-badge.svg\" alt=\"Open In Colab\"/></a>"
      ]
    },
    {
      "cell_type": "code",
      "metadata": {
        "colab": {
          "base_uri": "https://localhost:8080/"
        },
        "id": "5724gxm8Ksq-",
        "outputId": "ab54663c-7a62-4046-dd89-5ea736682ce2"
      },
      "source": [
        "pip install matplotlib"
      ],
      "execution_count": null,
      "outputs": [
        {
          "output_type": "stream",
          "text": [
            "Requirement already satisfied: matplotlib in /usr/local/lib/python3.7/dist-packages (3.2.2)\n",
            "Requirement already satisfied: pyparsing!=2.0.4,!=2.1.2,!=2.1.6,>=2.0.1 in /usr/local/lib/python3.7/dist-packages (from matplotlib) (2.4.7)\n",
            "Requirement already satisfied: python-dateutil>=2.1 in /usr/local/lib/python3.7/dist-packages (from matplotlib) (2.8.1)\n",
            "Requirement already satisfied: cycler>=0.10 in /usr/local/lib/python3.7/dist-packages (from matplotlib) (0.10.0)\n",
            "Requirement already satisfied: numpy>=1.11 in /usr/local/lib/python3.7/dist-packages (from matplotlib) (1.19.5)\n",
            "Requirement already satisfied: kiwisolver>=1.0.1 in /usr/local/lib/python3.7/dist-packages (from matplotlib) (1.3.1)\n",
            "Requirement already satisfied: six>=1.5 in /usr/local/lib/python3.7/dist-packages (from python-dateutil>=2.1->matplotlib) (1.15.0)\n"
          ],
          "name": "stdout"
        }
      ]
    },
    {
      "cell_type": "code",
      "metadata": {
        "colab": {
          "base_uri": "https://localhost:8080/"
        },
        "id": "6SBdsmz9KzU6",
        "outputId": "1f83bf96-38ce-4c4e-9a8a-dd00f8c68d57"
      },
      "source": [
        "pip install pandas"
      ],
      "execution_count": null,
      "outputs": [
        {
          "output_type": "stream",
          "text": [
            "Requirement already satisfied: pandas in /usr/local/lib/python3.7/dist-packages (1.1.5)\n",
            "Requirement already satisfied: pytz>=2017.2 in /usr/local/lib/python3.7/dist-packages (from pandas) (2018.9)\n",
            "Requirement already satisfied: python-dateutil>=2.7.3 in /usr/local/lib/python3.7/dist-packages (from pandas) (2.8.1)\n",
            "Requirement already satisfied: numpy>=1.15.4 in /usr/local/lib/python3.7/dist-packages (from pandas) (1.19.5)\n",
            "Requirement already satisfied: six>=1.5 in /usr/local/lib/python3.7/dist-packages (from python-dateutil>=2.7.3->pandas) (1.15.0)\n"
          ],
          "name": "stdout"
        }
      ]
    },
    {
      "cell_type": "code",
      "metadata": {
        "colab": {
          "base_uri": "https://localhost:8080/"
        },
        "id": "A98b-YQIK242",
        "outputId": "a0919675-7764-477a-f295-ae7e264d2d76"
      },
      "source": [
        "pip install stats"
      ],
      "execution_count": null,
      "outputs": [
        {
          "output_type": "stream",
          "text": [
            "Collecting stats\n",
            "\u001b[?25l  Downloading https://files.pythonhosted.org/packages/87/43/f2d8d8e2660740ecca9c0fab85a07bc02da27d1fcc5071ee481082888720/stats-0.1.2a.tar.gz (127kB)\n",
            "\r\u001b[K     |██▋                             | 10kB 15.7MB/s eta 0:00:01\r\u001b[K     |█████▏                          | 20kB 20.6MB/s eta 0:00:01\r\u001b[K     |███████▊                        | 30kB 8.5MB/s eta 0:00:01\r\u001b[K     |██████████▎                     | 40kB 7.2MB/s eta 0:00:01\r\u001b[K     |████████████▉                   | 51kB 8.0MB/s eta 0:00:01\r\u001b[K     |███████████████▍                | 61kB 8.0MB/s eta 0:00:01\r\u001b[K     |██████████████████              | 71kB 7.4MB/s eta 0:00:01\r\u001b[K     |████████████████████▌           | 81kB 7.9MB/s eta 0:00:01\r\u001b[K     |███████████████████████         | 92kB 7.8MB/s eta 0:00:01\r\u001b[K     |█████████████████████████▊      | 102kB 7.7MB/s eta 0:00:01\r\u001b[K     |████████████████████████████▎   | 112kB 7.7MB/s eta 0:00:01\r\u001b[K     |██████████████████████████████▉ | 122kB 7.7MB/s eta 0:00:01\r\u001b[K     |████████████████████████████████| 133kB 7.7MB/s \n",
            "\u001b[?25hBuilding wheels for collected packages: stats\n",
            "  Building wheel for stats (setup.py) ... \u001b[?25l\u001b[?25hdone\n",
            "  Created wheel for stats: filename=stats-0.1.2a0-cp37-none-any.whl size=24279 sha256=b6cd949b04a31c983e5bdfd2c0436bc397512567ba23ad933e02209cec99c74d\n",
            "  Stored in directory: /root/.cache/pip/wheels/1f/64/c9/da1748f4ce76935afc665178ead2217b90147bac5ca096aa56\n",
            "Successfully built stats\n",
            "Installing collected packages: stats\n",
            "Successfully installed stats-0.1.2a0\n"
          ],
          "name": "stdout"
        }
      ]
    },
    {
      "cell_type": "code",
      "metadata": {
        "colab": {
          "base_uri": "https://localhost:8080/"
        },
        "id": "KrtiDR6sK8OK",
        "outputId": "62f13411-ef15-4e5e-a3b8-50e03adf4499"
      },
      "source": [
        "pip install scipy"
      ],
      "execution_count": null,
      "outputs": [
        {
          "output_type": "stream",
          "text": [
            "Requirement already satisfied: scipy in /usr/local/lib/python3.7/dist-packages (1.4.1)\n",
            "Requirement already satisfied: numpy>=1.13.3 in /usr/local/lib/python3.7/dist-packages (from scipy) (1.19.5)\n"
          ],
          "name": "stdout"
        }
      ]
    },
    {
      "cell_type": "code",
      "metadata": {
        "colab": {
          "base_uri": "https://localhost:8080/"
        },
        "id": "Cdax0b9KK_tZ",
        "outputId": "19b26dc8-e2d1-422a-bb98-1b9011263bc4"
      },
      "source": [
        "pip install more-itertools"
      ],
      "execution_count": null,
      "outputs": [
        {
          "output_type": "stream",
          "text": [
            "Requirement already satisfied: more-itertools in /usr/local/lib/python3.7/dist-packages (8.7.0)\n"
          ],
          "name": "stdout"
        }
      ]
    },
    {
      "cell_type": "code",
      "metadata": {
        "colab": {
          "base_uri": "https://localhost:8080/"
        },
        "id": "3Zitksd5LDra",
        "outputId": "567a23d5-6777-4543-e27b-b2db4dc8ae99"
      },
      "source": [
        "pip install seaborn"
      ],
      "execution_count": null,
      "outputs": [
        {
          "output_type": "stream",
          "text": [
            "Requirement already satisfied: seaborn in /usr/local/lib/python3.7/dist-packages (0.11.1)\n",
            "Requirement already satisfied: numpy>=1.15 in /usr/local/lib/python3.7/dist-packages (from seaborn) (1.19.5)\n",
            "Requirement already satisfied: pandas>=0.23 in /usr/local/lib/python3.7/dist-packages (from seaborn) (1.1.5)\n",
            "Requirement already satisfied: matplotlib>=2.2 in /usr/local/lib/python3.7/dist-packages (from seaborn) (3.2.2)\n",
            "Requirement already satisfied: scipy>=1.0 in /usr/local/lib/python3.7/dist-packages (from seaborn) (1.4.1)\n",
            "Requirement already satisfied: python-dateutil>=2.7.3 in /usr/local/lib/python3.7/dist-packages (from pandas>=0.23->seaborn) (2.8.1)\n",
            "Requirement already satisfied: pytz>=2017.2 in /usr/local/lib/python3.7/dist-packages (from pandas>=0.23->seaborn) (2018.9)\n",
            "Requirement already satisfied: cycler>=0.10 in /usr/local/lib/python3.7/dist-packages (from matplotlib>=2.2->seaborn) (0.10.0)\n",
            "Requirement already satisfied: kiwisolver>=1.0.1 in /usr/local/lib/python3.7/dist-packages (from matplotlib>=2.2->seaborn) (1.3.1)\n",
            "Requirement already satisfied: pyparsing!=2.0.4,!=2.1.2,!=2.1.6,>=2.0.1 in /usr/local/lib/python3.7/dist-packages (from matplotlib>=2.2->seaborn) (2.4.7)\n",
            "Requirement already satisfied: six>=1.5 in /usr/local/lib/python3.7/dist-packages (from python-dateutil>=2.7.3->pandas>=0.23->seaborn) (1.15.0)\n"
          ],
          "name": "stdout"
        }
      ]
    },
    {
      "cell_type": "code",
      "metadata": {
        "colab": {
          "base_uri": "https://localhost:8080/"
        },
        "id": "Uc8rUEDKLIvB",
        "outputId": "5bbaed29-8434-457c-a6e5-15d5530e8f1f"
      },
      "source": [
        "pip install numpy"
      ],
      "execution_count": null,
      "outputs": [
        {
          "output_type": "stream",
          "text": [
            "Requirement already satisfied: numpy in /usr/local/lib/python3.7/dist-packages (1.19.5)\n"
          ],
          "name": "stdout"
        }
      ]
    },
    {
      "cell_type": "code",
      "metadata": {
        "colab": {
          "base_uri": "https://localhost:8080/"
        },
        "id": "8MzBETIWLKzL",
        "outputId": "b8101d63-9846-4a60-a061-14456f777dae"
      },
      "source": [
        "pip install scikit-lego"
      ],
      "execution_count": null,
      "outputs": [
        {
          "output_type": "stream",
          "text": [
            "Collecting scikit-lego\n",
            "\u001b[?25l  Downloading https://files.pythonhosted.org/packages/ec/33/068c7a588df9b5fc8f3dcf64fc2a91812360edf4c3ccc87664f6e0c1bc87/scikit_lego-0.6.6-py2.py3-none-any.whl (220kB)\n",
            "\r\u001b[K     |█▌                              | 10kB 12.2MB/s eta 0:00:01\r\u001b[K     |███                             | 20kB 11.2MB/s eta 0:00:01\r\u001b[K     |████▌                           | 30kB 12.7MB/s eta 0:00:01\r\u001b[K     |██████                          | 40kB 14.9MB/s eta 0:00:01\r\u001b[K     |███████▍                        | 51kB 16.8MB/s eta 0:00:01\r\u001b[K     |█████████                       | 61kB 8.6MB/s eta 0:00:01\r\u001b[K     |██████████▍                     | 71kB 9.6MB/s eta 0:00:01\r\u001b[K     |███████████▉                    | 81kB 10.4MB/s eta 0:00:01\r\u001b[K     |█████████████▍                  | 92kB 9.3MB/s eta 0:00:01\r\u001b[K     |██████████████▉                 | 102kB 10.0MB/s eta 0:00:01\r\u001b[K     |████████████████▎               | 112kB 10.0MB/s eta 0:00:01\r\u001b[K     |█████████████████▉              | 122kB 10.0MB/s eta 0:00:01\r\u001b[K     |███████████████████▎            | 133kB 10.0MB/s eta 0:00:01\r\u001b[K     |████████████████████▉           | 143kB 10.0MB/s eta 0:00:01\r\u001b[K     |██████████████████████▎         | 153kB 10.0MB/s eta 0:00:01\r\u001b[K     |███████████████████████▊        | 163kB 10.0MB/s eta 0:00:01\r\u001b[K     |█████████████████████████▎      | 174kB 10.0MB/s eta 0:00:01\r\u001b[K     |██████████████████████████▊     | 184kB 10.0MB/s eta 0:00:01\r\u001b[K     |████████████████████████████▏   | 194kB 10.0MB/s eta 0:00:01\r\u001b[K     |█████████████████████████████▊  | 204kB 10.0MB/s eta 0:00:01\r\u001b[K     |███████████████████████████████▏| 215kB 10.0MB/s eta 0:00:01\r\u001b[K     |████████████████████████████████| 225kB 10.0MB/s \n",
            "\u001b[?25hRequirement already satisfied: autograd>=1.2 in /usr/local/lib/python3.7/dist-packages (from scikit-lego) (1.3)\n",
            "Requirement already satisfied: pandas>=1.1.5 in /usr/local/lib/python3.7/dist-packages (from scikit-lego) (1.1.5)\n",
            "Collecting scikit-learn>=0.24.1\n",
            "\u001b[?25l  Downloading https://files.pythonhosted.org/packages/f3/74/eb899f41d55f957e2591cde5528e75871f817d9fb46d4732423ecaca736d/scikit_learn-0.24.1-cp37-cp37m-manylinux2010_x86_64.whl (22.3MB)\n",
            "\u001b[K     |████████████████████████████████| 22.3MB 6.3MB/s \n",
            "\u001b[?25hRequirement already satisfied: patsy>=0.5.1 in /usr/local/lib/python3.7/dist-packages (from scikit-lego) (0.5.1)\n",
            "Collecting Deprecated>=1.2.6\n",
            "  Downloading https://files.pythonhosted.org/packages/fb/73/994edfcba74443146c84b91921fcc269374354118d4f452fb0c54c1cbb12/Deprecated-1.2.12-py2.py3-none-any.whl\n",
            "Collecting umap-learn>=0.4.6\n",
            "\u001b[?25l  Downloading https://files.pythonhosted.org/packages/75/69/85e7f950bb75792ad5d666d86c5f3e62eedbb942848e7e3126513af9999c/umap-learn-0.5.1.tar.gz (80kB)\n",
            "\u001b[K     |████████████████████████████████| 81kB 8.2MB/s \n",
            "\u001b[?25hRequirement already satisfied: future>=0.15.2 in /usr/local/lib/python3.7/dist-packages (from autograd>=1.2->scikit-lego) (0.16.0)\n",
            "Requirement already satisfied: numpy>=1.12 in /usr/local/lib/python3.7/dist-packages (from autograd>=1.2->scikit-lego) (1.19.5)\n",
            "Requirement already satisfied: python-dateutil>=2.7.3 in /usr/local/lib/python3.7/dist-packages (from pandas>=1.1.5->scikit-lego) (2.8.1)\n",
            "Requirement already satisfied: pytz>=2017.2 in /usr/local/lib/python3.7/dist-packages (from pandas>=1.1.5->scikit-lego) (2018.9)\n",
            "Requirement already satisfied: joblib>=0.11 in /usr/local/lib/python3.7/dist-packages (from scikit-learn>=0.24.1->scikit-lego) (1.0.1)\n",
            "Requirement already satisfied: scipy>=0.19.1 in /usr/local/lib/python3.7/dist-packages (from scikit-learn>=0.24.1->scikit-lego) (1.4.1)\n",
            "Collecting threadpoolctl>=2.0.0\n",
            "  Downloading https://files.pythonhosted.org/packages/f7/12/ec3f2e203afa394a149911729357aa48affc59c20e2c1c8297a60f33f133/threadpoolctl-2.1.0-py3-none-any.whl\n",
            "Requirement already satisfied: six in /usr/local/lib/python3.7/dist-packages (from patsy>=0.5.1->scikit-lego) (1.15.0)\n",
            "Requirement already satisfied: wrapt<2,>=1.10 in /usr/local/lib/python3.7/dist-packages (from Deprecated>=1.2.6->scikit-lego) (1.12.1)\n",
            "Requirement already satisfied: numba>=0.49 in /usr/local/lib/python3.7/dist-packages (from umap-learn>=0.4.6->scikit-lego) (0.51.2)\n",
            "Collecting pynndescent>=0.5\n",
            "\u001b[?25l  Downloading https://files.pythonhosted.org/packages/af/65/8189298dd3a05bbad716ee8e249764ff8800e365d8dc652ad2192ca01b4a/pynndescent-0.5.2.tar.gz (1.1MB)\n",
            "\u001b[K     |████████████████████████████████| 1.2MB 22.9MB/s \n",
            "\u001b[?25hRequirement already satisfied: setuptools in /usr/local/lib/python3.7/dist-packages (from numba>=0.49->umap-learn>=0.4.6->scikit-lego) (54.2.0)\n",
            "Requirement already satisfied: llvmlite<0.35,>=0.34.0.dev0 in /usr/local/lib/python3.7/dist-packages (from numba>=0.49->umap-learn>=0.4.6->scikit-lego) (0.34.0)\n",
            "Building wheels for collected packages: umap-learn, pynndescent\n",
            "  Building wheel for umap-learn (setup.py) ... \u001b[?25l\u001b[?25hdone\n",
            "  Created wheel for umap-learn: filename=umap_learn-0.5.1-cp37-none-any.whl size=76569 sha256=88a318e0973e998efb14d59802f2bd01b3491a6fff887a2d6cf59c20ea2fa930\n",
            "  Stored in directory: /root/.cache/pip/wheels/ad/df/d5/a3691296ff779f25cd1cf415a3af954b987fb53111e3392cf4\n",
            "  Building wheel for pynndescent (setup.py) ... \u001b[?25l\u001b[?25hdone\n",
            "  Created wheel for pynndescent: filename=pynndescent-0.5.2-cp37-none-any.whl size=51351 sha256=07958627014c137ec54e72522cd869c323cc0622e04bd924d4dde5378dac9200\n",
            "  Stored in directory: /root/.cache/pip/wheels/ba/52/4e/4c28d04d144a28f89e2575fb63628df6e6d49b56c5ddd0c74e\n",
            "Successfully built umap-learn pynndescent\n",
            "Installing collected packages: threadpoolctl, scikit-learn, Deprecated, pynndescent, umap-learn, scikit-lego\n",
            "  Found existing installation: scikit-learn 0.22.2.post1\n",
            "    Uninstalling scikit-learn-0.22.2.post1:\n",
            "      Successfully uninstalled scikit-learn-0.22.2.post1\n",
            "Successfully installed Deprecated-1.2.12 pynndescent-0.5.2 scikit-learn-0.24.1 scikit-lego-0.6.6 threadpoolctl-2.1.0 umap-learn-0.5.1\n"
          ],
          "name": "stdout"
        }
      ]
    },
    {
      "cell_type": "code",
      "metadata": {
        "colab": {
          "base_uri": "https://localhost:8080/"
        },
        "id": "lgKxZSaOLTdk",
        "outputId": "c7ea2d44-6c92-475a-c52b-b7f702ab15cd"
      },
      "source": [
        "pip install scikit-mlm"
      ],
      "execution_count": null,
      "outputs": [
        {
          "output_type": "stream",
          "text": [
            "Collecting scikit-mlm\n",
            "  Downloading https://files.pythonhosted.org/packages/03/df/4beec31e0d421ee4daffc7838ca262b4811340acca83b689f4020f180e1f/scikit-mlm-0.1.1.tar.gz\n",
            "Requirement already satisfied: numpy>=1.15.4 in /usr/local/lib/python3.7/dist-packages (from scikit-mlm) (1.19.5)\n",
            "Requirement already satisfied: scipy>=1.1.0 in /usr/local/lib/python3.7/dist-packages (from scikit-mlm) (1.4.1)\n",
            "Requirement already satisfied: scikit-learn>=0.21.0 in /usr/local/lib/python3.7/dist-packages (from scikit-mlm) (0.24.1)\n",
            "Collecting fuzzy-c-means>=0.0.6\n",
            "  Downloading https://files.pythonhosted.org/packages/cc/34/64498f52ddfb0a22a22f2cfcc0b293c6864f6fcc664a53b4cce9302b59fc/fuzzy_c_means-1.2.4-py3-none-any.whl\n",
            "\u001b[31mERROR: Could not find a version that satisfies the requirement mrsr>=0.0.3 (from scikit-mlm) (from versions: none)\u001b[0m\n",
            "\u001b[31mERROR: No matching distribution found for mrsr>=0.0.3 (from scikit-mlm)\u001b[0m\n"
          ],
          "name": "stdout"
        }
      ]
    },
    {
      "cell_type": "code",
      "metadata": {
        "colab": {
          "base_uri": "https://localhost:8080/"
        },
        "id": "gzbeAQBALWfw",
        "outputId": "489e8adf-5ea4-4220-ee88-0a59f26d3eee"
      },
      "source": [
        "pip install pytest-warnings"
      ],
      "execution_count": null,
      "outputs": [
        {
          "output_type": "stream",
          "text": [
            "Collecting pytest-warnings\n",
            "  Downloading https://files.pythonhosted.org/packages/01/2f/74fecb0fd1a87272fd29af0c41ea86992a070c47373447b6a544f257c4e0/pytest_warnings-0.3.1-py2.py3-none-any.whl\n",
            "Requirement already satisfied: pytest in /usr/local/lib/python3.7/dist-packages (from pytest-warnings) (3.6.4)\n",
            "Requirement already satisfied: setuptools in /usr/local/lib/python3.7/dist-packages (from pytest->pytest-warnings) (54.2.0)\n",
            "Requirement already satisfied: pluggy<0.8,>=0.5 in /usr/local/lib/python3.7/dist-packages (from pytest->pytest-warnings) (0.7.1)\n",
            "Requirement already satisfied: py>=1.5.0 in /usr/local/lib/python3.7/dist-packages (from pytest->pytest-warnings) (1.10.0)\n",
            "Requirement already satisfied: six>=1.10.0 in /usr/local/lib/python3.7/dist-packages (from pytest->pytest-warnings) (1.15.0)\n",
            "Requirement already satisfied: atomicwrites>=1.0 in /usr/local/lib/python3.7/dist-packages (from pytest->pytest-warnings) (1.4.0)\n",
            "Requirement already satisfied: more-itertools>=4.0.0 in /usr/local/lib/python3.7/dist-packages (from pytest->pytest-warnings) (8.7.0)\n",
            "Requirement already satisfied: attrs>=17.4.0 in /usr/local/lib/python3.7/dist-packages (from pytest->pytest-warnings) (20.3.0)\n",
            "Installing collected packages: pytest-warnings\n",
            "Successfully installed pytest-warnings-0.3.1\n"
          ],
          "name": "stdout"
        }
      ]
    },
    {
      "cell_type": "code",
      "metadata": {
        "colab": {
          "base_uri": "https://localhost:8080/"
        },
        "id": "4xU4RN1WLamW",
        "outputId": "af95a53f-d520-4986-fc7c-7a66e8d9be0b"
      },
      "source": [
        "pip install scikit-learn"
      ],
      "execution_count": null,
      "outputs": [
        {
          "output_type": "stream",
          "text": [
            "Requirement already satisfied: scikit-learn in /usr/local/lib/python3.7/dist-packages (0.24.1)\n",
            "Requirement already satisfied: scipy>=0.19.1 in /usr/local/lib/python3.7/dist-packages (from scikit-learn) (1.4.1)\n",
            "Requirement already satisfied: joblib>=0.11 in /usr/local/lib/python3.7/dist-packages (from scikit-learn) (1.0.1)\n",
            "Requirement already satisfied: numpy>=1.13.3 in /usr/local/lib/python3.7/dist-packages (from scikit-learn) (1.19.5)\n",
            "Requirement already satisfied: threadpoolctl>=2.0.0 in /usr/local/lib/python3.7/dist-packages (from scikit-learn) (2.1.0)\n"
          ],
          "name": "stdout"
        }
      ]
    },
    {
      "cell_type": "code",
      "metadata": {
        "colab": {
          "base_uri": "https://localhost:8080/"
        },
        "id": "4aAqqlUPLdwm",
        "outputId": "887e5d76-b9cd-4e2c-d4b5-e39015eea2dd"
      },
      "source": [
        "pip install scikit-mlm"
      ],
      "execution_count": null,
      "outputs": [
        {
          "output_type": "stream",
          "text": [
            "Collecting scikit-mlm\n",
            "  Using cached https://files.pythonhosted.org/packages/03/df/4beec31e0d421ee4daffc7838ca262b4811340acca83b689f4020f180e1f/scikit-mlm-0.1.1.tar.gz\n",
            "Requirement already satisfied: numpy>=1.15.4 in /usr/local/lib/python3.7/dist-packages (from scikit-mlm) (1.19.5)\n",
            "Requirement already satisfied: scipy>=1.1.0 in /usr/local/lib/python3.7/dist-packages (from scikit-mlm) (1.4.1)\n",
            "Requirement already satisfied: scikit-learn>=0.21.0 in /usr/local/lib/python3.7/dist-packages (from scikit-mlm) (0.24.1)\n",
            "Collecting fuzzy-c-means>=0.0.6\n",
            "  Using cached https://files.pythonhosted.org/packages/cc/34/64498f52ddfb0a22a22f2cfcc0b293c6864f6fcc664a53b4cce9302b59fc/fuzzy_c_means-1.2.4-py3-none-any.whl\n",
            "\u001b[31mERROR: Could not find a version that satisfies the requirement mrsr>=0.0.3 (from scikit-mlm) (from versions: none)\u001b[0m\n",
            "\u001b[31mERROR: No matching distribution found for mrsr>=0.0.3 (from scikit-mlm)\u001b[0m\n"
          ],
          "name": "stdout"
        }
      ]
    },
    {
      "cell_type": "code",
      "metadata": {
        "id": "us50D6_ELi-G"
      },
      "source": [
        "import warnings; warnings.simplefilter('ignore')\n",
        "import scipy, itertools, pandas as pd, matplotlib.pyplot as plt, seaborn as sns, numpy as np\n",
        "from scipy import stats\n",
        "from sklearn.preprocessing import StandardScaler, MinMaxScaler\n",
        "\n",
        "plt.style.use('bmh'); sns.set()"
      ],
      "execution_count": null,
      "outputs": []
    },
    {
      "cell_type": "code",
      "metadata": {
        "id": "BsaarKLGLlRj"
      },
      "source": [
        "# Importing CSV data  https://pandas.pydata.org/pandas-docs/stable/reference/api/pandas.read_csv.html\n",
        "try:\n",
        "    # Running Locally \n",
        "    rumah = pd.read_csv('main/rumah.csv')\n",
        "except:\n",
        "    # Running in Google Colab\n",
        "    !mkdir main\n",
        "    !wget -P main/ https://raw.githubusercontent.com/dewirizki/DataMining_DreamHouse_Kelompok12/main/rumah.csv\n",
        "    rumah = pd.read_csv('data/rumah.csv')"
      ],
      "execution_count": null,
      "outputs": []
    },
    {
      "cell_type": "code",
      "metadata": {
        "colab": {
          "base_uri": "https://localhost:8080/"
        },
        "id": "zINrPCrSLuOx",
        "outputId": "8adcffd9-c3c0-47cb-9a53-88f3234fafdc"
      },
      "source": [
        "# Tipe Datanya : DataFrame (df)\n",
        "print(type(rumah))\n",
        "# Ukuran Data\n",
        "N, P = rumah.shape\n",
        "'baris = ', N, ', Kolom = ', P"
      ],
      "execution_count": null,
      "outputs": [
        {
          "output_type": "stream",
          "text": [
            "<class 'pandas.core.frame.DataFrame'>\n"
          ],
          "name": "stdout"
        },
        {
          "output_type": "execute_result",
          "data": {
            "text/plain": [
              "('baris = ', 50, ', Kolom = ', 17)"
            ]
          },
          "metadata": {
            "tags": []
          },
          "execution_count": 16
        }
      ]
    },
    {
      "cell_type": "code",
      "metadata": {
        "colab": {
          "base_uri": "https://localhost:8080/",
          "height": 847
        },
        "id": "-mb4FqFmLzBr",
        "outputId": "acc02232-e97d-40cb-8fb7-c13f4519d2ba"
      },
      "source": [
        "rumah.head(7)"
      ],
      "execution_count": null,
      "outputs": [
        {
          "output_type": "execute_result",
          "data": {
            "text/html": [
              "<div>\n",
              "<style scoped>\n",
              "    .dataframe tbody tr th:only-of-type {\n",
              "        vertical-align: middle;\n",
              "    }\n",
              "\n",
              "    .dataframe tbody tr th {\n",
              "        vertical-align: top;\n",
              "    }\n",
              "\n",
              "    .dataframe thead th {\n",
              "        text-align: right;\n",
              "    }\n",
              "</style>\n",
              "<table border=\"1\" class=\"dataframe\">\n",
              "  <thead>\n",
              "    <tr style=\"text-align: right;\">\n",
              "      <th></th>\n",
              "      <th>no</th>\n",
              "      <th>Tgl_Iklan</th>\n",
              "      <th>url</th>\n",
              "      <th>Harga_juta</th>\n",
              "      <th>Kota/ Provinsi</th>\n",
              "      <th>Luas Tanah</th>\n",
              "      <th>Luas Bangunan</th>\n",
              "      <th>Kamar Tidur</th>\n",
              "      <th>Kamar Mandi</th>\n",
              "      <th>Kamar Tidur Pembantu</th>\n",
              "      <th>Kamar Mandi Pembantu</th>\n",
              "      <th>Carport</th>\n",
              "      <th>Garasi</th>\n",
              "      <th>Listrik</th>\n",
              "      <th>Surat</th>\n",
              "      <th>Judul</th>\n",
              "      <th>Deskripsi</th>\n",
              "    </tr>\n",
              "  </thead>\n",
              "  <tbody>\n",
              "    <tr>\n",
              "      <th>0</th>\n",
              "      <td>1</td>\n",
              "      <td>08/04/2021</td>\n",
              "      <td>https://www.realoka.com/82784-dijual-disewa-ru...</td>\n",
              "      <td>1200</td>\n",
              "      <td>Ambon, Maluku</td>\n",
              "      <td>135.0</td>\n",
              "      <td>70.0</td>\n",
              "      <td>2</td>\n",
              "      <td>2</td>\n",
              "      <td>1</td>\n",
              "      <td>0</td>\n",
              "      <td>1</td>\n",
              "      <td>0</td>\n",
              "      <td>1300.0</td>\n",
              "      <td>SHM</td>\n",
              "      <td>Dijual Disewa Rumah di Citraland Ambon Pr1699</td>\n",
              "      <td>Peminat Serius Hubungi:\\nIbu Ata\\n0851-0126800...</td>\n",
              "    </tr>\n",
              "    <tr>\n",
              "      <th>1</th>\n",
              "      <td>2</td>\n",
              "      <td>04/04/2021</td>\n",
              "      <td>https://www.olx.co.id/item/rumah-di-citraland-...</td>\n",
              "      <td>1110</td>\n",
              "      <td>Ambon, Maluku</td>\n",
              "      <td>135.0</td>\n",
              "      <td>70.0</td>\n",
              "      <td>3</td>\n",
              "      <td>2</td>\n",
              "      <td>0</td>\n",
              "      <td>0</td>\n",
              "      <td>1</td>\n",
              "      <td>0</td>\n",
              "      <td>NaN</td>\n",
              "      <td>SHM</td>\n",
              "      <td>Rumah di Citraland Ambon</td>\n",
              "      <td>Pemilik langsung, tanpa perantara. Lokasi Stra...</td>\n",
              "    </tr>\n",
              "    <tr>\n",
              "      <th>2</th>\n",
              "      <td>3</td>\n",
              "      <td>22/03/2021</td>\n",
              "      <td>https://www.olx.co.id/item/di-jual-rumah-tingg...</td>\n",
              "      <td>2100</td>\n",
              "      <td>Tual, Maluku</td>\n",
              "      <td>875.0</td>\n",
              "      <td>220.0</td>\n",
              "      <td>3</td>\n",
              "      <td>3</td>\n",
              "      <td>0</td>\n",
              "      <td>0</td>\n",
              "      <td>1</td>\n",
              "      <td>1</td>\n",
              "      <td>2200.0</td>\n",
              "      <td>SHM</td>\n",
              "      <td>Di Jual Rumah Tinggal Di BTN Indah Tual</td>\n",
              "      <td>Sertifikat SHM ( Sertifikat Hak Milik ). Harga...</td>\n",
              "    </tr>\n",
              "    <tr>\n",
              "      <th>3</th>\n",
              "      <td>4</td>\n",
              "      <td>17/03/2021</td>\n",
              "      <td>https://rumah.trovit.co.id/listing/rumah-belan...</td>\n",
              "      <td>12000</td>\n",
              "      <td>Ambon, Maluku</td>\n",
              "      <td>360.0</td>\n",
              "      <td>300.0</td>\n",
              "      <td>5</td>\n",
              "      <td>2</td>\n",
              "      <td>0</td>\n",
              "      <td>0</td>\n",
              "      <td>3</td>\n",
              "      <td>0</td>\n",
              "      <td>NaN</td>\n",
              "      <td>NaN</td>\n",
              "      <td>Rumah Belanda Sayap Riau Terawat, Belitung, Am...</td>\n",
              "      <td>Luas Tanah 360m Bangunan 300m Kamar Tidur 5 Ma...</td>\n",
              "    </tr>\n",
              "    <tr>\n",
              "      <th>4</th>\n",
              "      <td>5</td>\n",
              "      <td>17/03/2021</td>\n",
              "      <td>https://rumah.trovit.co.id/listing/dijual-ruma...</td>\n",
              "      <td>1250</td>\n",
              "      <td>Maluku Tengah</td>\n",
              "      <td>120.0</td>\n",
              "      <td>542.0</td>\n",
              "      <td>3</td>\n",
              "      <td>2</td>\n",
              "      <td>0</td>\n",
              "      <td>0</td>\n",
              "      <td>0</td>\n",
              "      <td>0</td>\n",
              "      <td>NaN</td>\n",
              "      <td>SHM</td>\n",
              "      <td>Dijual Rumah Potensi Pebisnis</td>\n",
              "      <td>Jual Rumah 3Kamar, 2 kamar mandi\\nSpesifikasi ...</td>\n",
              "    </tr>\n",
              "    <tr>\n",
              "      <th>5</th>\n",
              "      <td>6</td>\n",
              "      <td>14/03/2021</td>\n",
              "      <td>https://www.dotproperty.id/rumah-dijual-dengan...</td>\n",
              "      <td>15000</td>\n",
              "      <td>Ambon, Maluku</td>\n",
              "      <td>500.0</td>\n",
              "      <td>255.0</td>\n",
              "      <td>5</td>\n",
              "      <td>4</td>\n",
              "      <td>0</td>\n",
              "      <td>0</td>\n",
              "      <td>0</td>\n",
              "      <td>6</td>\n",
              "      <td>4400.0</td>\n",
              "      <td>SHM</td>\n",
              "      <td>Rumah dijual Cepat Tanpa Perantara-SHM, Karang...</td>\n",
              "      <td>Rumah dijual dengan 5 kamar tidur di Karang Pa...</td>\n",
              "    </tr>\n",
              "    <tr>\n",
              "      <th>6</th>\n",
              "      <td>7</td>\n",
              "      <td>10/03/2021</td>\n",
              "      <td>https://www.99.co/id/properti/rumah-dijual-1-1...</td>\n",
              "      <td>1100</td>\n",
              "      <td>Ambon, Maluku</td>\n",
              "      <td>134.0</td>\n",
              "      <td>250.0</td>\n",
              "      <td>3</td>\n",
              "      <td>2</td>\n",
              "      <td>0</td>\n",
              "      <td>0</td>\n",
              "      <td>0</td>\n",
              "      <td>0</td>\n",
              "      <td>2200.0</td>\n",
              "      <td>SHM</td>\n",
              "      <td>Rumah Murah di karang panjang, Ambon Maluku</td>\n",
              "      <td>Dijual rumah Murah di Karang Panjang ambon Mal...</td>\n",
              "    </tr>\n",
              "  </tbody>\n",
              "</table>\n",
              "</div>"
            ],
            "text/plain": [
              "   no  ...                                          Deskripsi\n",
              "0   1  ...  Peminat Serius Hubungi:\\nIbu Ata\\n0851-0126800...\n",
              "1   2  ...  Pemilik langsung, tanpa perantara. Lokasi Stra...\n",
              "2   3  ...  Sertifikat SHM ( Sertifikat Hak Milik ). Harga...\n",
              "3   4  ...  Luas Tanah 360m Bangunan 300m Kamar Tidur 5 Ma...\n",
              "4   5  ...  Jual Rumah 3Kamar, 2 kamar mandi\\nSpesifikasi ...\n",
              "5   6  ...  Rumah dijual dengan 5 kamar tidur di Karang Pa...\n",
              "6   7  ...  Dijual rumah Murah di Karang Panjang ambon Mal...\n",
              "\n",
              "[7 rows x 17 columns]"
            ]
          },
          "metadata": {
            "tags": []
          },
          "execution_count": 17
        }
      ]
    },
    {
      "cell_type": "code",
      "metadata": {
        "colab": {
          "base_uri": "https://localhost:8080/",
          "height": 564
        },
        "id": "010Mex3TLzPx",
        "outputId": "565e2a90-e40c-42d3-b15f-88a1dbd809da"
      },
      "source": [
        "rumah.tail(5)"
      ],
      "execution_count": null,
      "outputs": [
        {
          "output_type": "execute_result",
          "data": {
            "text/html": [
              "<div>\n",
              "<style scoped>\n",
              "    .dataframe tbody tr th:only-of-type {\n",
              "        vertical-align: middle;\n",
              "    }\n",
              "\n",
              "    .dataframe tbody tr th {\n",
              "        vertical-align: top;\n",
              "    }\n",
              "\n",
              "    .dataframe thead th {\n",
              "        text-align: right;\n",
              "    }\n",
              "</style>\n",
              "<table border=\"1\" class=\"dataframe\">\n",
              "  <thead>\n",
              "    <tr style=\"text-align: right;\">\n",
              "      <th></th>\n",
              "      <th>no</th>\n",
              "      <th>Tgl_Iklan</th>\n",
              "      <th>url</th>\n",
              "      <th>Harga_juta</th>\n",
              "      <th>Kota/ Provinsi</th>\n",
              "      <th>Luas Tanah</th>\n",
              "      <th>Luas Bangunan</th>\n",
              "      <th>Kamar Tidur</th>\n",
              "      <th>Kamar Mandi</th>\n",
              "      <th>Kamar Tidur Pembantu</th>\n",
              "      <th>Kamar Mandi Pembantu</th>\n",
              "      <th>Carport</th>\n",
              "      <th>Garasi</th>\n",
              "      <th>Listrik</th>\n",
              "      <th>Surat</th>\n",
              "      <th>Judul</th>\n",
              "      <th>Deskripsi</th>\n",
              "    </tr>\n",
              "  </thead>\n",
              "  <tbody>\n",
              "    <tr>\n",
              "      <th>45</th>\n",
              "      <td>46</td>\n",
              "      <td>04/07/2018</td>\n",
              "      <td>https://dagymoiproperti.wordpress.com/2018/07/...</td>\n",
              "      <td>785</td>\n",
              "      <td>Ternate, Maluku Utara</td>\n",
              "      <td>120.0</td>\n",
              "      <td>120.0</td>\n",
              "      <td>4</td>\n",
              "      <td>3</td>\n",
              "      <td>0</td>\n",
              "      <td>0</td>\n",
              "      <td>1</td>\n",
              "      <td>0</td>\n",
              "      <td>NaN</td>\n",
              "      <td>SHM</td>\n",
              "      <td>Update Harga Perumahan Dagymoi Green Village, ...</td>\n",
              "      <td>Sertifikat Hak Milik \\n➡4 kamar tidur \\n➡3 kam...</td>\n",
              "    </tr>\n",
              "    <tr>\n",
              "      <th>46</th>\n",
              "      <td>47</td>\n",
              "      <td>25/02/2018</td>\n",
              "      <td>https://dagymoiproperti.wordpress.com/2018/02/...</td>\n",
              "      <td>300</td>\n",
              "      <td>Ternate, Maluku Utara</td>\n",
              "      <td>98.0</td>\n",
              "      <td>70.0</td>\n",
              "      <td>2</td>\n",
              "      <td>2</td>\n",
              "      <td>0</td>\n",
              "      <td>0</td>\n",
              "      <td>1</td>\n",
              "      <td>0</td>\n",
              "      <td>1100.0</td>\n",
              "      <td>SHM</td>\n",
              "      <td>Jambula Residence (SOLD)</td>\n",
              "      <td>Tipe 70 Jambula Residence. Fasilitas : 2 kamar...</td>\n",
              "    </tr>\n",
              "    <tr>\n",
              "      <th>47</th>\n",
              "      <td>48</td>\n",
              "      <td>25/02/2018</td>\n",
              "      <td>https://dagymoiproperti.wordpress.com/2018/02/...</td>\n",
              "      <td>168</td>\n",
              "      <td>Bacan, Maluku Utara</td>\n",
              "      <td>36.0</td>\n",
              "      <td>98.0</td>\n",
              "      <td>2</td>\n",
              "      <td>1</td>\n",
              "      <td>0</td>\n",
              "      <td>0</td>\n",
              "      <td>1</td>\n",
              "      <td>0</td>\n",
              "      <td>NaN</td>\n",
              "      <td>SHM</td>\n",
              "      <td>Marabose Permai, Bacan Halsel</td>\n",
              "      <td>Perumahan Marabose Permai berlokasi di Kota Ba...</td>\n",
              "    </tr>\n",
              "    <tr>\n",
              "      <th>48</th>\n",
              "      <td>49</td>\n",
              "      <td>25/02/2018</td>\n",
              "      <td>https://dagymoiproperti.wordpress.com/2018/02/...</td>\n",
              "      <td>141</td>\n",
              "      <td>Ternate, Maluku Utara</td>\n",
              "      <td>87.0</td>\n",
              "      <td>36.0</td>\n",
              "      <td>2</td>\n",
              "      <td>1</td>\n",
              "      <td>0</td>\n",
              "      <td>0</td>\n",
              "      <td>1</td>\n",
              "      <td>0</td>\n",
              "      <td>1100.0</td>\n",
              "      <td>SHM</td>\n",
              "      <td>Jambula Residence (SOLD)</td>\n",
              "      <td>Tipe 36 Jambula Residence.Cicilan 870rb-an/bul...</td>\n",
              "    </tr>\n",
              "    <tr>\n",
              "      <th>49</th>\n",
              "      <td>50</td>\n",
              "      <td>26/08/2017</td>\n",
              "      <td>umah.waa2.co.id/detail?id=a04cea79e83644265109...</td>\n",
              "      <td>900</td>\n",
              "      <td>Ambon, Maluku</td>\n",
              "      <td>314.0</td>\n",
              "      <td>300.0</td>\n",
              "      <td>8</td>\n",
              "      <td>5</td>\n",
              "      <td>0</td>\n",
              "      <td>0</td>\n",
              "      <td>0</td>\n",
              "      <td>0</td>\n",
              "      <td>NaN</td>\n",
              "      <td>NaN</td>\n",
              "      <td>Rumah dijual rumah kos dijual investasi cerdas...</td>\n",
              "      <td>Rumah dijual rumah kos dijual investasi cerdas...</td>\n",
              "    </tr>\n",
              "  </tbody>\n",
              "</table>\n",
              "</div>"
            ],
            "text/plain": [
              "    no  ...                                          Deskripsi\n",
              "45  46  ...  Sertifikat Hak Milik \\n➡4 kamar tidur \\n➡3 kam...\n",
              "46  47  ...  Tipe 70 Jambula Residence. Fasilitas : 2 kamar...\n",
              "47  48  ...  Perumahan Marabose Permai berlokasi di Kota Ba...\n",
              "48  49  ...  Tipe 36 Jambula Residence.Cicilan 870rb-an/bul...\n",
              "49  50  ...  Rumah dijual rumah kos dijual investasi cerdas...\n",
              "\n",
              "[5 rows x 17 columns]"
            ]
          },
          "metadata": {
            "tags": []
          },
          "execution_count": 18
        }
      ]
    },
    {
      "cell_type": "code",
      "metadata": {
        "colab": {
          "base_uri": "https://localhost:8080/",
          "height": 1000
        },
        "id": "81Wq9ikpLzZY",
        "outputId": "0230f824-4724-4458-cc43-d1a2c08ce9be"
      },
      "source": [
        "rumah.sample(10)"
      ],
      "execution_count": null,
      "outputs": [
        {
          "output_type": "execute_result",
          "data": {
            "text/html": [
              "<div>\n",
              "<style scoped>\n",
              "    .dataframe tbody tr th:only-of-type {\n",
              "        vertical-align: middle;\n",
              "    }\n",
              "\n",
              "    .dataframe tbody tr th {\n",
              "        vertical-align: top;\n",
              "    }\n",
              "\n",
              "    .dataframe thead th {\n",
              "        text-align: right;\n",
              "    }\n",
              "</style>\n",
              "<table border=\"1\" class=\"dataframe\">\n",
              "  <thead>\n",
              "    <tr style=\"text-align: right;\">\n",
              "      <th></th>\n",
              "      <th>no</th>\n",
              "      <th>Tgl_Iklan</th>\n",
              "      <th>url</th>\n",
              "      <th>Harga_juta</th>\n",
              "      <th>Kota/ Provinsi</th>\n",
              "      <th>Luas Tanah</th>\n",
              "      <th>Luas Bangunan</th>\n",
              "      <th>Kamar Tidur</th>\n",
              "      <th>Kamar Mandi</th>\n",
              "      <th>Kamar Tidur Pembantu</th>\n",
              "      <th>Kamar Mandi Pembantu</th>\n",
              "      <th>Carport</th>\n",
              "      <th>Garasi</th>\n",
              "      <th>Listrik</th>\n",
              "      <th>Surat</th>\n",
              "      <th>Judul</th>\n",
              "      <th>Deskripsi</th>\n",
              "    </tr>\n",
              "  </thead>\n",
              "  <tbody>\n",
              "    <tr>\n",
              "      <th>39</th>\n",
              "      <td>40</td>\n",
              "      <td>07/05/2019</td>\n",
              "      <td>https://dagymoiproperti.wordpress.com/2019/05/...</td>\n",
              "      <td>168</td>\n",
              "      <td>Ternate, Maluku Utara</td>\n",
              "      <td>84.0</td>\n",
              "      <td>36.0</td>\n",
              "      <td>2</td>\n",
              "      <td>1</td>\n",
              "      <td>0</td>\n",
              "      <td>0</td>\n",
              "      <td>1</td>\n",
              "      <td>0</td>\n",
              "      <td>1300.0</td>\n",
              "      <td>NaN</td>\n",
              "      <td>Soft Launching Perumahan Bhayangkara Grha Dgym...</td>\n",
              "      <td>Perumahan dengan harga Jual Subsidi Type 36/85...</td>\n",
              "    </tr>\n",
              "    <tr>\n",
              "      <th>14</th>\n",
              "      <td>15</td>\n",
              "      <td>07/03/2021</td>\n",
              "      <td>https://rumah.trovit.co.id/listing/dijual-mura...</td>\n",
              "      <td>280</td>\n",
              "      <td>Ternate, Maluku Utara</td>\n",
              "      <td>902.0</td>\n",
              "      <td>902.0</td>\n",
              "      <td>2</td>\n",
              "      <td>1</td>\n",
              "      <td>0</td>\n",
              "      <td>0</td>\n",
              "      <td>1</td>\n",
              "      <td>0</td>\n",
              "      <td>NaN</td>\n",
              "      <td>SHM</td>\n",
              "      <td>Dijual Murah Rumah Hunian Lokasi Stategis</td>\n",
              "      <td>Di jual rumah strategis,dekat dengan pusat kot...</td>\n",
              "    </tr>\n",
              "    <tr>\n",
              "      <th>25</th>\n",
              "      <td>26</td>\n",
              "      <td>18/01/2021</td>\n",
              "      <td>https://www.olx.co.id/item/jual-rumah-siap-pak...</td>\n",
              "      <td>650</td>\n",
              "      <td>Ambon, Maluku</td>\n",
              "      <td>120.0</td>\n",
              "      <td>120.0</td>\n",
              "      <td>3</td>\n",
              "      <td>1</td>\n",
              "      <td>0</td>\n",
              "      <td>0</td>\n",
              "      <td>0</td>\n",
              "      <td>0</td>\n",
              "      <td>NaN</td>\n",
              "      <td>SHM</td>\n",
              "      <td>Jual Rumah siap Pakai BTN Kebun Cengkeh, Ambon</td>\n",
              "      <td>Rumah layak pakai, ukuran lebih besar dari rum...</td>\n",
              "    </tr>\n",
              "    <tr>\n",
              "      <th>24</th>\n",
              "      <td>25</td>\n",
              "      <td>22/01/2021</td>\n",
              "      <td>https://www.olx.co.id/item/rumah-prospek-bange...</td>\n",
              "      <td>2400</td>\n",
              "      <td>Ambon, Maluku</td>\n",
              "      <td>800.0</td>\n",
              "      <td>660.0</td>\n",
              "      <td>6</td>\n",
              "      <td>5</td>\n",
              "      <td>0</td>\n",
              "      <td>0</td>\n",
              "      <td>8</td>\n",
              "      <td>1</td>\n",
              "      <td>NaN</td>\n",
              "      <td>SHM</td>\n",
              "      <td>Rumah prospek banget Masih bisa Nego - Lokasi ...</td>\n",
              "      <td>Yang Bantu Jualkan dapat 1% Dari Harga Jual (k...</td>\n",
              "    </tr>\n",
              "    <tr>\n",
              "      <th>1</th>\n",
              "      <td>2</td>\n",
              "      <td>04/04/2021</td>\n",
              "      <td>https://www.olx.co.id/item/rumah-di-citraland-...</td>\n",
              "      <td>1110</td>\n",
              "      <td>Ambon, Maluku</td>\n",
              "      <td>135.0</td>\n",
              "      <td>70.0</td>\n",
              "      <td>3</td>\n",
              "      <td>2</td>\n",
              "      <td>0</td>\n",
              "      <td>0</td>\n",
              "      <td>1</td>\n",
              "      <td>0</td>\n",
              "      <td>NaN</td>\n",
              "      <td>SHM</td>\n",
              "      <td>Rumah di Citraland Ambon</td>\n",
              "      <td>Pemilik langsung, tanpa perantara. Lokasi Stra...</td>\n",
              "    </tr>\n",
              "    <tr>\n",
              "      <th>9</th>\n",
              "      <td>10</td>\n",
              "      <td>08/03/2021</td>\n",
              "      <td>https://rumah.trovit.co.id/listing/perumahan-b...</td>\n",
              "      <td>422</td>\n",
              "      <td>Ternate, Maluku Utara</td>\n",
              "      <td>NaN</td>\n",
              "      <td>452.0</td>\n",
              "      <td>2</td>\n",
              "      <td>1</td>\n",
              "      <td>0</td>\n",
              "      <td>0</td>\n",
              "      <td>0</td>\n",
              "      <td>0</td>\n",
              "      <td>NaN</td>\n",
              "      <td>NaN</td>\n",
              "      <td>Perumahan Baru Cluster Griya Samara Kota Merauke</td>\n",
              "      <td>Perumahan baru dengan konsep keamanan satu pin...</td>\n",
              "    </tr>\n",
              "    <tr>\n",
              "      <th>16</th>\n",
              "      <td>17</td>\n",
              "      <td>04/03/2021</td>\n",
              "      <td>https://www.rumah123.com/properti/ternate/hos7...</td>\n",
              "      <td>5000</td>\n",
              "      <td>Ternate, Maluku Utara</td>\n",
              "      <td>214.0</td>\n",
              "      <td>100.0</td>\n",
              "      <td>5</td>\n",
              "      <td>4</td>\n",
              "      <td>0</td>\n",
              "      <td>0</td>\n",
              "      <td>4</td>\n",
              "      <td>0</td>\n",
              "      <td>2200.0</td>\n",
              "      <td>SHM</td>\n",
              "      <td>rumah dan 2 ruko | #0058</td>\n",
              "      <td>Kode Iklan #0058 RUMAH 2 lantai plus 2 ruko de...</td>\n",
              "    </tr>\n",
              "    <tr>\n",
              "      <th>12</th>\n",
              "      <td>13</td>\n",
              "      <td>07/03/2021</td>\n",
              "      <td>https://www.olx.co.id/item/jual-bangunan-dan-t...</td>\n",
              "      <td>3500</td>\n",
              "      <td>Ambon, Maluku</td>\n",
              "      <td>387.0</td>\n",
              "      <td>85.0</td>\n",
              "      <td>10</td>\n",
              "      <td>4</td>\n",
              "      <td>0</td>\n",
              "      <td>0</td>\n",
              "      <td>0</td>\n",
              "      <td>0</td>\n",
              "      <td>NaN</td>\n",
              "      <td>SHM</td>\n",
              "      <td>Jual bangunan dan tanah Depan pintu masuk rekt...</td>\n",
              "      <td>Luas tanah 387 m2. Bangunan 85 m2. Sertifikat ...</td>\n",
              "    </tr>\n",
              "    <tr>\n",
              "      <th>41</th>\n",
              "      <td>42</td>\n",
              "      <td>23/07/2018</td>\n",
              "      <td>https://dagymoiproperti.wordpress.com/2018/07/...</td>\n",
              "      <td>168</td>\n",
              "      <td>Ternate, Maluku Utara</td>\n",
              "      <td>85.0</td>\n",
              "      <td>36.0</td>\n",
              "      <td>2</td>\n",
              "      <td>1</td>\n",
              "      <td>0</td>\n",
              "      <td>0</td>\n",
              "      <td>1</td>\n",
              "      <td>0</td>\n",
              "      <td>NaN</td>\n",
              "      <td>AJB/BPHTB</td>\n",
              "      <td>Perumahan Subsidi Dagymoi Green Park I, Tubo</td>\n",
              "      <td>Perumahan dengan Harga Jual Subsidi type 36/85...</td>\n",
              "    </tr>\n",
              "    <tr>\n",
              "      <th>35</th>\n",
              "      <td>36</td>\n",
              "      <td>26/07/2019</td>\n",
              "      <td>https://www.rumah123.com/properti/ambon/hos479...</td>\n",
              "      <td>650</td>\n",
              "      <td>Ambon, Maluku</td>\n",
              "      <td>193.0</td>\n",
              "      <td>30.0</td>\n",
              "      <td>1</td>\n",
              "      <td>1</td>\n",
              "      <td>0</td>\n",
              "      <td>0</td>\n",
              "      <td>0</td>\n",
              "      <td>0</td>\n",
              "      <td>1300.0</td>\n",
              "      <td>SHM</td>\n",
              "      <td>murah bth cepat laku!! waitatiri ambon, strate...</td>\n",
              "      <td>Rumah Dijual Ambon</td>\n",
              "    </tr>\n",
              "  </tbody>\n",
              "</table>\n",
              "</div>"
            ],
            "text/plain": [
              "    no  ...                                          Deskripsi\n",
              "39  40  ...  Perumahan dengan harga Jual Subsidi Type 36/85...\n",
              "14  15  ...  Di jual rumah strategis,dekat dengan pusat kot...\n",
              "25  26  ...  Rumah layak pakai, ukuran lebih besar dari rum...\n",
              "24  25  ...  Yang Bantu Jualkan dapat 1% Dari Harga Jual (k...\n",
              "1    2  ...  Pemilik langsung, tanpa perantara. Lokasi Stra...\n",
              "9   10  ...  Perumahan baru dengan konsep keamanan satu pin...\n",
              "16  17  ...  Kode Iklan #0058 RUMAH 2 lantai plus 2 ruko de...\n",
              "12  13  ...  Luas tanah 387 m2. Bangunan 85 m2. Sertifikat ...\n",
              "41  42  ...  Perumahan dengan Harga Jual Subsidi type 36/85...\n",
              "35  36  ...                                 Rumah Dijual Ambon\n",
              "\n",
              "[10 rows x 17 columns]"
            ]
          },
          "metadata": {
            "tags": []
          },
          "execution_count": 19
        }
      ]
    },
    {
      "cell_type": "code",
      "metadata": {
        "colab": {
          "base_uri": "https://localhost:8080/"
        },
        "id": "oQtNfE_ZL8Y3",
        "outputId": "f25b11a4-d29f-4e84-dda2-8e3c500da348"
      },
      "source": [
        "rumah.columns"
      ],
      "execution_count": null,
      "outputs": [
        {
          "output_type": "execute_result",
          "data": {
            "text/plain": [
              "Index(['no', 'Tgl_Iklan', 'url', 'Harga_juta', 'Kota/ Provinsi', 'Luas Tanah',\n",
              "       'Luas Bangunan', 'Kamar Tidur', 'Kamar Mandi', 'Kamar Tidur Pembantu',\n",
              "       'Kamar Mandi Pembantu', 'Carport', 'Garasi', 'Listrik', 'Surat',\n",
              "       'Judul', 'Deskripsi'],\n",
              "      dtype='object')"
            ]
          },
          "metadata": {
            "tags": []
          },
          "execution_count": 20
        }
      ]
    },
    {
      "cell_type": "code",
      "metadata": {
        "id": "RZUnYCYBMCDl"
      },
      "source": [
        "# Drop kolom pertama karena tidak berguna (hanya index)\n",
        "rumah.drop(\"no\", axis=1, inplace=True)"
      ],
      "execution_count": null,
      "outputs": []
    },
    {
      "cell_type": "code",
      "metadata": {
        "colab": {
          "base_uri": "https://localhost:8080/"
        },
        "id": "34ZlH5YsMFpC",
        "outputId": "2a48e85c-2752-4060-a360-1c5df76dae14"
      },
      "source": [
        "# tipe data di setiap kolom\n",
        "# Wajib di periksa apakah tipe datanya sudah tepat?\n",
        "# Perhatikan df sebagaimana semua variable di Python diperlakukan seperti object\n",
        "rumah.info()"
      ],
      "execution_count": null,
      "outputs": [
        {
          "output_type": "stream",
          "text": [
            "<class 'pandas.core.frame.DataFrame'>\n",
            "RangeIndex: 50 entries, 0 to 49\n",
            "Data columns (total 16 columns):\n",
            " #   Column                Non-Null Count  Dtype  \n",
            "---  ------                --------------  -----  \n",
            " 0   Tgl_Iklan             50 non-null     object \n",
            " 1   url                   50 non-null     object \n",
            " 2   Harga_juta            50 non-null     int64  \n",
            " 3   Kota/ Provinsi        50 non-null     object \n",
            " 4   Luas Tanah            48 non-null     float64\n",
            " 5   Luas Bangunan         47 non-null     float64\n",
            " 6   Kamar Tidur           50 non-null     int64  \n",
            " 7   Kamar Mandi           50 non-null     int64  \n",
            " 8   Kamar Tidur Pembantu  50 non-null     int64  \n",
            " 9   Kamar Mandi Pembantu  50 non-null     int64  \n",
            " 10  Carport               50 non-null     int64  \n",
            " 11  Garasi                50 non-null     int64  \n",
            " 12  Listrik               24 non-null     float64\n",
            " 13  Surat                 41 non-null     object \n",
            " 14  Judul                 49 non-null     object \n",
            " 15  Deskripsi             50 non-null     object \n",
            "dtypes: float64(3), int64(7), object(6)\n",
            "memory usage: 6.4+ KB\n"
          ],
          "name": "stdout"
        }
      ]
    },
    {
      "cell_type": "code",
      "metadata": {
        "colab": {
          "base_uri": "https://localhost:8080/"
        },
        "id": "xdg5ZPcNMJZo",
        "outputId": "f8c4483a-f140-4544-f67b-e92b7797d04f"
      },
      "source": [
        "rumah.dtypes"
      ],
      "execution_count": null,
      "outputs": [
        {
          "output_type": "execute_result",
          "data": {
            "text/plain": [
              "Tgl_Iklan                object\n",
              "url                      object\n",
              "Harga_juta                int64\n",
              "Kota/ Provinsi           object\n",
              "Luas Tanah              float64\n",
              "Luas Bangunan           float64\n",
              "Kamar Tidur               int64\n",
              "Kamar Mandi               int64\n",
              "Kamar Tidur Pembantu      int64\n",
              "Kamar Mandi Pembantu      int64\n",
              "Carport                   int64\n",
              "Garasi                    int64\n",
              "Listrik                 float64\n",
              "Surat                    object\n",
              "Judul                    object\n",
              "Deskripsi                object\n",
              "dtype: object"
            ]
          },
          "metadata": {
            "tags": []
          },
          "execution_count": 23
        }
      ]
    },
    {
      "cell_type": "code",
      "metadata": {
        "colab": {
          "base_uri": "https://localhost:8080/"
        },
        "id": "b6m-L-mIMMuj",
        "outputId": "f0b3a57d-b605-4694-ae42-c73fb6bb080a"
      },
      "source": [
        "# dataframe types: https://pbpython.com/pandas_dtypes.html\n",
        "rumah['Tgl_Iklan'] = rumah['Tgl_Iklan'].astype('datetime64')\n",
        "rumah['Listrik'] = rumah['Listrik'].astype('float64')\n",
        "rumah.dtypes"
      ],
      "execution_count": null,
      "outputs": [
        {
          "output_type": "execute_result",
          "data": {
            "text/plain": [
              "Tgl_Iklan               datetime64[ns]\n",
              "url                             object\n",
              "Harga_juta                       int64\n",
              "Kota/ Provinsi                  object\n",
              "Luas Tanah                     float64\n",
              "Luas Bangunan                  float64\n",
              "Kamar Tidur                      int64\n",
              "Kamar Mandi                      int64\n",
              "Kamar Tidur Pembantu             int64\n",
              "Kamar Mandi Pembantu             int64\n",
              "Carport                          int64\n",
              "Garasi                           int64\n",
              "Listrik                        float64\n",
              "Surat                           object\n",
              "Judul                           object\n",
              "Deskripsi                       object\n",
              "dtype: object"
            ]
          },
          "metadata": {
            "tags": []
          },
          "execution_count": 28
        }
      ]
    },
    {
      "cell_type": "code",
      "metadata": {
        "colab": {
          "base_uri": "https://localhost:8080/"
        },
        "id": "tIhbbAWTNtXc",
        "outputId": "dffe90b0-8464-4410-b198-f5d6266dc775"
      },
      "source": [
        "#mengecek apakah ada duplikat data?\n",
        "print(rumah.shape)\n",
        "rumah.duplicated().sum()"
      ],
      "execution_count": null,
      "outputs": [
        {
          "output_type": "stream",
          "text": [
            "(50, 17)\n"
          ],
          "name": "stdout"
        },
        {
          "output_type": "execute_result",
          "data": {
            "text/plain": [
              "0"
            ]
          },
          "metadata": {
            "tags": []
          },
          "execution_count": 7
        }
      ]
    },
    {
      "cell_type": "code",
      "metadata": {
        "colab": {
          "base_uri": "https://localhost:8080/"
        },
        "id": "Y4x_Sw-LOCf1",
        "outputId": "6195d16a-c2b9-4579-e11e-7c6ac6687f02"
      },
      "source": [
        "#menghapus entri yang memiliki data duplikat\n",
        "rumah.drop_duplicates(inplace=True)\n",
        "print(rumah.duplicated().sum())\n",
        "print(rumah.shape)"
      ],
      "execution_count": null,
      "outputs": [
        {
          "output_type": "stream",
          "text": [
            "0\n",
            "(50, 17)\n"
          ],
          "name": "stdout"
        }
      ]
    },
    {
      "cell_type": "code",
      "metadata": {
        "id": "F_B_KA4RPHxP"
      },
      "source": [
        ""
      ],
      "execution_count": null,
      "outputs": []
    }
  ]
}