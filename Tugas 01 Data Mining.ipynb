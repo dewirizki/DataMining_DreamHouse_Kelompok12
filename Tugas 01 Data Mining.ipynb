{
  "nbformat": 4,
  "nbformat_minor": 0,
  "metadata": {
    "colab": {
      "name": "Bismillah Fix Datmin",
      "provenance": [],
      "collapsed_sections": [],
      "include_colab_link": true
    },
    "kernelspec": {
      "name": "python3",
      "display_name": "Python 3"
    },
    "language_info": {
      "name": "python"
    }
  },
  "cells": [
    {
      "cell_type": "markdown",
      "metadata": {
        "id": "view-in-github",
        "colab_type": "text"
      },
      "source": [
        "<a href=\"https://colab.research.google.com/github/dewirizki/DataMining_DreamHouse_Kelompok12/blob/main/Data%20Mining.ipynb\" target=\"_parent\"><img src=\"https://colab.research.google.com/assets/colab-badge.svg\" alt=\"Open In Colab\"/></a>"
      ]
    },
    {
      "cell_type": "code",
      "metadata": {
        "colab": {
          "base_uri": "https://localhost:8080/"
        },
        "id": "5724gxm8Ksq-",
        "outputId": "fea9ce73-59be-4d3b-c526-01ac0d230bac"
      },
      "source": [
        "pip install matplotlib"
      ],
      "execution_count": null,
      "outputs": [
        {
          "output_type": "stream",
          "text": [
            "Requirement already satisfied: matplotlib in /usr/local/lib/python3.7/dist-packages (3.2.2)\n",
            "Requirement already satisfied: python-dateutil>=2.1 in /usr/local/lib/python3.7/dist-packages (from matplotlib) (2.8.1)\n",
            "Requirement already satisfied: cycler>=0.10 in /usr/local/lib/python3.7/dist-packages (from matplotlib) (0.10.0)\n",
            "Requirement already satisfied: numpy>=1.11 in /usr/local/lib/python3.7/dist-packages (from matplotlib) (1.19.5)\n",
            "Requirement already satisfied: pyparsing!=2.0.4,!=2.1.2,!=2.1.6,>=2.0.1 in /usr/local/lib/python3.7/dist-packages (from matplotlib) (2.4.7)\n",
            "Requirement already satisfied: kiwisolver>=1.0.1 in /usr/local/lib/python3.7/dist-packages (from matplotlib) (1.3.1)\n",
            "Requirement already satisfied: six>=1.5 in /usr/local/lib/python3.7/dist-packages (from python-dateutil>=2.1->matplotlib) (1.15.0)\n"
          ],
          "name": "stdout"
        }
      ]
    },
    {
      "cell_type": "code",
      "metadata": {
        "colab": {
          "base_uri": "https://localhost:8080/"
        },
        "id": "6SBdsmz9KzU6",
        "outputId": "973ad0cc-8adb-4ee1-ab3d-d56f8806dc78"
      },
      "source": [
        "pip install pandas"
      ],
      "execution_count": null,
      "outputs": [
        {
          "output_type": "stream",
          "text": [
            "Requirement already satisfied: pandas in /usr/local/lib/python3.7/dist-packages (1.1.5)\n",
            "Requirement already satisfied: python-dateutil>=2.7.3 in /usr/local/lib/python3.7/dist-packages (from pandas) (2.8.1)\n",
            "Requirement already satisfied: numpy>=1.15.4 in /usr/local/lib/python3.7/dist-packages (from pandas) (1.19.5)\n",
            "Requirement already satisfied: pytz>=2017.2 in /usr/local/lib/python3.7/dist-packages (from pandas) (2018.9)\n",
            "Requirement already satisfied: six>=1.5 in /usr/local/lib/python3.7/dist-packages (from python-dateutil>=2.7.3->pandas) (1.15.0)\n"
          ],
          "name": "stdout"
        }
      ]
    },
    {
      "cell_type": "code",
      "metadata": {
        "colab": {
          "base_uri": "https://localhost:8080/"
        },
        "id": "A98b-YQIK242",
        "outputId": "600514fb-cf86-4379-ff1b-8f437d1f1021"
      },
      "source": [
        "pip install stats"
      ],
      "execution_count": null,
      "outputs": [
        {
          "output_type": "stream",
          "text": [
            "Collecting stats\n",
            "\u001b[?25l  Downloading https://files.pythonhosted.org/packages/87/43/f2d8d8e2660740ecca9c0fab85a07bc02da27d1fcc5071ee481082888720/stats-0.1.2a.tar.gz (127kB)\n",
            "\r\u001b[K     |██▋                             | 10kB 11.2MB/s eta 0:00:01\r\u001b[K     |█████▏                          | 20kB 14.9MB/s eta 0:00:01\r\u001b[K     |███████▊                        | 30kB 8.3MB/s eta 0:00:01\r\u001b[K     |██████████▎                     | 40kB 8.6MB/s eta 0:00:01\r\u001b[K     |████████████▉                   | 51kB 4.8MB/s eta 0:00:01\r\u001b[K     |███████████████▍                | 61kB 5.5MB/s eta 0:00:01\r\u001b[K     |██████████████████              | 71kB 5.5MB/s eta 0:00:01\r\u001b[K     |████████████████████▌           | 81kB 6.1MB/s eta 0:00:01\r\u001b[K     |███████████████████████         | 92kB 5.8MB/s eta 0:00:01\r\u001b[K     |█████████████████████████▊      | 102kB 6.3MB/s eta 0:00:01\r\u001b[K     |████████████████████████████▎   | 112kB 6.3MB/s eta 0:00:01\r\u001b[K     |██████████████████████████████▉ | 122kB 6.3MB/s eta 0:00:01\r\u001b[K     |████████████████████████████████| 133kB 6.3MB/s \n",
            "\u001b[?25hBuilding wheels for collected packages: stats\n",
            "  Building wheel for stats (setup.py) ... \u001b[?25l\u001b[?25hdone\n",
            "  Created wheel for stats: filename=stats-0.1.2a0-cp37-none-any.whl size=24279 sha256=3dd09002a246eea2baa6fa89f4e4b6e7b62f41b3598d02651894f6750c156c26\n",
            "  Stored in directory: /root/.cache/pip/wheels/1f/64/c9/da1748f4ce76935afc665178ead2217b90147bac5ca096aa56\n",
            "Successfully built stats\n",
            "Installing collected packages: stats\n",
            "Successfully installed stats-0.1.2a0\n"
          ],
          "name": "stdout"
        }
      ]
    },
    {
      "cell_type": "code",
      "metadata": {
        "colab": {
          "base_uri": "https://localhost:8080/"
        },
        "id": "KrtiDR6sK8OK",
        "outputId": "88335267-0f7c-4b50-a890-8704149a8455"
      },
      "source": [
        "pip install scipy"
      ],
      "execution_count": null,
      "outputs": [
        {
          "output_type": "stream",
          "text": [
            "Requirement already satisfied: scipy in /usr/local/lib/python3.7/dist-packages (1.4.1)\n",
            "Requirement already satisfied: numpy>=1.13.3 in /usr/local/lib/python3.7/dist-packages (from scipy) (1.19.5)\n"
          ],
          "name": "stdout"
        }
      ]
    },
    {
      "cell_type": "code",
      "metadata": {
        "colab": {
          "base_uri": "https://localhost:8080/"
        },
        "id": "Cdax0b9KK_tZ",
        "outputId": "9b410ffa-1d55-4ca7-f12a-9852e54d8d39"
      },
      "source": [
        "pip install more-itertools"
      ],
      "execution_count": null,
      "outputs": [
        {
          "output_type": "stream",
          "text": [
            "Requirement already satisfied: more-itertools in /usr/local/lib/python3.7/dist-packages (8.7.0)\n"
          ],
          "name": "stdout"
        }
      ]
    },
    {
      "cell_type": "code",
      "metadata": {
        "colab": {
          "base_uri": "https://localhost:8080/"
        },
        "id": "3Zitksd5LDra",
        "outputId": "01524110-32da-4e47-a95f-edb0d9561a50"
      },
      "source": [
        "pip install seaborn"
      ],
      "execution_count": null,
      "outputs": [
        {
          "output_type": "stream",
          "text": [
            "Requirement already satisfied: seaborn in /usr/local/lib/python3.7/dist-packages (0.11.1)\n",
            "Requirement already satisfied: pandas>=0.23 in /usr/local/lib/python3.7/dist-packages (from seaborn) (1.1.5)\n",
            "Requirement already satisfied: matplotlib>=2.2 in /usr/local/lib/python3.7/dist-packages (from seaborn) (3.2.2)\n",
            "Requirement already satisfied: scipy>=1.0 in /usr/local/lib/python3.7/dist-packages (from seaborn) (1.4.1)\n",
            "Requirement already satisfied: numpy>=1.15 in /usr/local/lib/python3.7/dist-packages (from seaborn) (1.19.5)\n",
            "Requirement already satisfied: python-dateutil>=2.7.3 in /usr/local/lib/python3.7/dist-packages (from pandas>=0.23->seaborn) (2.8.1)\n",
            "Requirement already satisfied: pytz>=2017.2 in /usr/local/lib/python3.7/dist-packages (from pandas>=0.23->seaborn) (2018.9)\n",
            "Requirement already satisfied: kiwisolver>=1.0.1 in /usr/local/lib/python3.7/dist-packages (from matplotlib>=2.2->seaborn) (1.3.1)\n",
            "Requirement already satisfied: cycler>=0.10 in /usr/local/lib/python3.7/dist-packages (from matplotlib>=2.2->seaborn) (0.10.0)\n",
            "Requirement already satisfied: pyparsing!=2.0.4,!=2.1.2,!=2.1.6,>=2.0.1 in /usr/local/lib/python3.7/dist-packages (from matplotlib>=2.2->seaborn) (2.4.7)\n",
            "Requirement already satisfied: six>=1.5 in /usr/local/lib/python3.7/dist-packages (from python-dateutil>=2.7.3->pandas>=0.23->seaborn) (1.15.0)\n"
          ],
          "name": "stdout"
        }
      ]
    },
    {
      "cell_type": "code",
      "metadata": {
        "colab": {
          "base_uri": "https://localhost:8080/"
        },
        "id": "Uc8rUEDKLIvB",
        "outputId": "8b4b042c-27c8-4215-8f0e-c33d034dec61"
      },
      "source": [
        "pip install numpy"
      ],
      "execution_count": null,
      "outputs": [
        {
          "output_type": "stream",
          "text": [
            "Requirement already satisfied: numpy in /usr/local/lib/python3.7/dist-packages (1.19.5)\n"
          ],
          "name": "stdout"
        }
      ]
    },
    {
      "cell_type": "code",
      "metadata": {
        "colab": {
          "base_uri": "https://localhost:8080/"
        },
        "id": "8MzBETIWLKzL",
        "outputId": "a6992f90-5ba9-40c0-b82a-7aa10806f32a"
      },
      "source": [
        "pip install scikit-lego"
      ],
      "execution_count": null,
      "outputs": [
        {
          "output_type": "stream",
          "text": [
            "Collecting scikit-lego\n",
            "\u001b[?25l  Downloading https://files.pythonhosted.org/packages/ec/33/068c7a588df9b5fc8f3dcf64fc2a91812360edf4c3ccc87664f6e0c1bc87/scikit_lego-0.6.6-py2.py3-none-any.whl (220kB)\n",
            "\r\u001b[K     |█▌                              | 10kB 14.0MB/s eta 0:00:01\r\u001b[K     |███                             | 20kB 10.5MB/s eta 0:00:01\r\u001b[K     |████▌                           | 30kB 10.2MB/s eta 0:00:01\r\u001b[K     |██████                          | 40kB 8.2MB/s eta 0:00:01\r\u001b[K     |███████▍                        | 51kB 5.1MB/s eta 0:00:01\r\u001b[K     |█████████                       | 61kB 5.9MB/s eta 0:00:01\r\u001b[K     |██████████▍                     | 71kB 6.0MB/s eta 0:00:01\r\u001b[K     |███████████▉                    | 81kB 6.2MB/s eta 0:00:01\r\u001b[K     |█████████████▍                  | 92kB 6.1MB/s eta 0:00:01\r\u001b[K     |██████████████▉                 | 102kB 6.3MB/s eta 0:00:01\r\u001b[K     |████████████████▎               | 112kB 6.3MB/s eta 0:00:01\r\u001b[K     |█████████████████▉              | 122kB 6.3MB/s eta 0:00:01\r\u001b[K     |███████████████████▎            | 133kB 6.3MB/s eta 0:00:01\r\u001b[K     |████████████████████▉           | 143kB 6.3MB/s eta 0:00:01\r\u001b[K     |██████████████████████▎         | 153kB 6.3MB/s eta 0:00:01\r\u001b[K     |███████████████████████▊        | 163kB 6.3MB/s eta 0:00:01\r\u001b[K     |█████████████████████████▎      | 174kB 6.3MB/s eta 0:00:01\r\u001b[K     |██████████████████████████▊     | 184kB 6.3MB/s eta 0:00:01\r\u001b[K     |████████████████████████████▏   | 194kB 6.3MB/s eta 0:00:01\r\u001b[K     |█████████████████████████████▊  | 204kB 6.3MB/s eta 0:00:01\r\u001b[K     |███████████████████████████████▏| 215kB 6.3MB/s eta 0:00:01\r\u001b[K     |████████████████████████████████| 225kB 6.3MB/s \n",
            "\u001b[?25hRequirement already satisfied: patsy>=0.5.1 in /usr/local/lib/python3.7/dist-packages (from scikit-lego) (0.5.1)\n",
            "Requirement already satisfied: pandas>=1.1.5 in /usr/local/lib/python3.7/dist-packages (from scikit-lego) (1.1.5)\n",
            "Collecting umap-learn>=0.4.6\n",
            "\u001b[?25l  Downloading https://files.pythonhosted.org/packages/75/69/85e7f950bb75792ad5d666d86c5f3e62eedbb942848e7e3126513af9999c/umap-learn-0.5.1.tar.gz (80kB)\n",
            "\u001b[K     |████████████████████████████████| 81kB 4.7MB/s \n",
            "\u001b[?25hCollecting Deprecated>=1.2.6\n",
            "  Downloading https://files.pythonhosted.org/packages/fb/73/994edfcba74443146c84b91921fcc269374354118d4f452fb0c54c1cbb12/Deprecated-1.2.12-py2.py3-none-any.whl\n",
            "Collecting scikit-learn>=0.24.1\n",
            "\u001b[?25l  Downloading https://files.pythonhosted.org/packages/f3/74/eb899f41d55f957e2591cde5528e75871f817d9fb46d4732423ecaca736d/scikit_learn-0.24.1-cp37-cp37m-manylinux2010_x86_64.whl (22.3MB)\n",
            "\u001b[K     |████████████████████████████████| 22.3MB 1.4MB/s \n",
            "\u001b[?25hRequirement already satisfied: autograd>=1.2 in /usr/local/lib/python3.7/dist-packages (from scikit-lego) (1.3)\n",
            "Requirement already satisfied: numpy>=1.4 in /usr/local/lib/python3.7/dist-packages (from patsy>=0.5.1->scikit-lego) (1.19.5)\n",
            "Requirement already satisfied: six in /usr/local/lib/python3.7/dist-packages (from patsy>=0.5.1->scikit-lego) (1.15.0)\n",
            "Requirement already satisfied: pytz>=2017.2 in /usr/local/lib/python3.7/dist-packages (from pandas>=1.1.5->scikit-lego) (2018.9)\n",
            "Requirement already satisfied: python-dateutil>=2.7.3 in /usr/local/lib/python3.7/dist-packages (from pandas>=1.1.5->scikit-lego) (2.8.1)\n",
            "Requirement already satisfied: scipy>=1.0 in /usr/local/lib/python3.7/dist-packages (from umap-learn>=0.4.6->scikit-lego) (1.4.1)\n",
            "Requirement already satisfied: numba>=0.49 in /usr/local/lib/python3.7/dist-packages (from umap-learn>=0.4.6->scikit-lego) (0.51.2)\n",
            "Collecting pynndescent>=0.5\n",
            "\u001b[?25l  Downloading https://files.pythonhosted.org/packages/af/65/8189298dd3a05bbad716ee8e249764ff8800e365d8dc652ad2192ca01b4a/pynndescent-0.5.2.tar.gz (1.1MB)\n",
            "\u001b[K     |████████████████████████████████| 1.2MB 50.1MB/s \n",
            "\u001b[?25hRequirement already satisfied: wrapt<2,>=1.10 in /usr/local/lib/python3.7/dist-packages (from Deprecated>=1.2.6->scikit-lego) (1.12.1)\n",
            "Requirement already satisfied: joblib>=0.11 in /usr/local/lib/python3.7/dist-packages (from scikit-learn>=0.24.1->scikit-lego) (1.0.1)\n",
            "Collecting threadpoolctl>=2.0.0\n",
            "  Downloading https://files.pythonhosted.org/packages/f7/12/ec3f2e203afa394a149911729357aa48affc59c20e2c1c8297a60f33f133/threadpoolctl-2.1.0-py3-none-any.whl\n",
            "Requirement already satisfied: future>=0.15.2 in /usr/local/lib/python3.7/dist-packages (from autograd>=1.2->scikit-lego) (0.16.0)\n",
            "Requirement already satisfied: llvmlite<0.35,>=0.34.0.dev0 in /usr/local/lib/python3.7/dist-packages (from numba>=0.49->umap-learn>=0.4.6->scikit-lego) (0.34.0)\n",
            "Requirement already satisfied: setuptools in /usr/local/lib/python3.7/dist-packages (from numba>=0.49->umap-learn>=0.4.6->scikit-lego) (54.2.0)\n",
            "Building wheels for collected packages: umap-learn, pynndescent\n",
            "  Building wheel for umap-learn (setup.py) ... \u001b[?25l\u001b[?25hdone\n",
            "  Created wheel for umap-learn: filename=umap_learn-0.5.1-cp37-none-any.whl size=76569 sha256=6cc6b428506d3cde0198c1fb2b8b8ab3f7b9c1c2abce6aaec75b34ff0db26470\n",
            "  Stored in directory: /root/.cache/pip/wheels/ad/df/d5/a3691296ff779f25cd1cf415a3af954b987fb53111e3392cf4\n",
            "  Building wheel for pynndescent (setup.py) ... \u001b[?25l\u001b[?25hdone\n",
            "  Created wheel for pynndescent: filename=pynndescent-0.5.2-cp37-none-any.whl size=51351 sha256=b736cf29deabf00f8027578227ed93cf79f0f48b4f4b6ce8e051453a1dbb19ff\n",
            "  Stored in directory: /root/.cache/pip/wheels/ba/52/4e/4c28d04d144a28f89e2575fb63628df6e6d49b56c5ddd0c74e\n",
            "Successfully built umap-learn pynndescent\n",
            "Installing collected packages: threadpoolctl, scikit-learn, pynndescent, umap-learn, Deprecated, scikit-lego\n",
            "  Found existing installation: scikit-learn 0.22.2.post1\n",
            "    Uninstalling scikit-learn-0.22.2.post1:\n",
            "      Successfully uninstalled scikit-learn-0.22.2.post1\n",
            "Successfully installed Deprecated-1.2.12 pynndescent-0.5.2 scikit-learn-0.24.1 scikit-lego-0.6.6 threadpoolctl-2.1.0 umap-learn-0.5.1\n"
          ],
          "name": "stdout"
        }
      ]
    },
    {
      "cell_type": "code",
      "metadata": {
        "colab": {
          "base_uri": "https://localhost:8080/"
        },
        "id": "lgKxZSaOLTdk",
        "outputId": "f2302c93-513a-4119-dbda-3b25ee5da5c7"
      },
      "source": [
        "pip install scikit-mlm"
      ],
      "execution_count": null,
      "outputs": [
        {
          "output_type": "stream",
          "text": [
            "Collecting scikit-mlm\n",
            "  Downloading https://files.pythonhosted.org/packages/03/df/4beec31e0d421ee4daffc7838ca262b4811340acca83b689f4020f180e1f/scikit-mlm-0.1.1.tar.gz\n",
            "Requirement already satisfied: numpy>=1.15.4 in /usr/local/lib/python3.7/dist-packages (from scikit-mlm) (1.19.5)\n",
            "Requirement already satisfied: scipy>=1.1.0 in /usr/local/lib/python3.7/dist-packages (from scikit-mlm) (1.4.1)\n",
            "Requirement already satisfied: scikit-learn>=0.21.0 in /usr/local/lib/python3.7/dist-packages (from scikit-mlm) (0.24.1)\n",
            "Collecting fuzzy-c-means>=0.0.6\n",
            "  Downloading https://files.pythonhosted.org/packages/cc/34/64498f52ddfb0a22a22f2cfcc0b293c6864f6fcc664a53b4cce9302b59fc/fuzzy_c_means-1.2.4-py3-none-any.whl\n",
            "\u001b[31mERROR: Could not find a version that satisfies the requirement mrsr>=0.0.3 (from scikit-mlm) (from versions: none)\u001b[0m\n",
            "\u001b[31mERROR: No matching distribution found for mrsr>=0.0.3 (from scikit-mlm)\u001b[0m\n"
          ],
          "name": "stdout"
        }
      ]
    },
    {
      "cell_type": "code",
      "metadata": {
        "colab": {
          "base_uri": "https://localhost:8080/"
        },
        "id": "gzbeAQBALWfw",
        "outputId": "87e1b835-2497-43ae-b17b-8d5e7c09a25c"
      },
      "source": [
        "pip install pytest-warnings"
      ],
      "execution_count": null,
      "outputs": [
        {
          "output_type": "stream",
          "text": [
            "Collecting pytest-warnings\n",
            "  Downloading https://files.pythonhosted.org/packages/01/2f/74fecb0fd1a87272fd29af0c41ea86992a070c47373447b6a544f257c4e0/pytest_warnings-0.3.1-py2.py3-none-any.whl\n",
            "Requirement already satisfied: pytest in /usr/local/lib/python3.7/dist-packages (from pytest-warnings) (3.6.4)\n",
            "Requirement already satisfied: pluggy<0.8,>=0.5 in /usr/local/lib/python3.7/dist-packages (from pytest->pytest-warnings) (0.7.1)\n",
            "Requirement already satisfied: atomicwrites>=1.0 in /usr/local/lib/python3.7/dist-packages (from pytest->pytest-warnings) (1.4.0)\n",
            "Requirement already satisfied: more-itertools>=4.0.0 in /usr/local/lib/python3.7/dist-packages (from pytest->pytest-warnings) (8.7.0)\n",
            "Requirement already satisfied: six>=1.10.0 in /usr/local/lib/python3.7/dist-packages (from pytest->pytest-warnings) (1.15.0)\n",
            "Requirement already satisfied: py>=1.5.0 in /usr/local/lib/python3.7/dist-packages (from pytest->pytest-warnings) (1.10.0)\n",
            "Requirement already satisfied: setuptools in /usr/local/lib/python3.7/dist-packages (from pytest->pytest-warnings) (54.2.0)\n",
            "Requirement already satisfied: attrs>=17.4.0 in /usr/local/lib/python3.7/dist-packages (from pytest->pytest-warnings) (20.3.0)\n",
            "Installing collected packages: pytest-warnings\n",
            "Successfully installed pytest-warnings-0.3.1\n"
          ],
          "name": "stdout"
        }
      ]
    },
    {
      "cell_type": "code",
      "metadata": {
        "colab": {
          "base_uri": "https://localhost:8080/"
        },
        "id": "4xU4RN1WLamW",
        "outputId": "32a86ced-5090-4e1f-ce19-9a5f0fc3e807"
      },
      "source": [
        "pip install scikit-learn"
      ],
      "execution_count": null,
      "outputs": [
        {
          "output_type": "stream",
          "text": [
            "Requirement already satisfied: scikit-learn in /usr/local/lib/python3.7/dist-packages (0.24.1)\n",
            "Requirement already satisfied: joblib>=0.11 in /usr/local/lib/python3.7/dist-packages (from scikit-learn) (1.0.1)\n",
            "Requirement already satisfied: scipy>=0.19.1 in /usr/local/lib/python3.7/dist-packages (from scikit-learn) (1.4.1)\n",
            "Requirement already satisfied: threadpoolctl>=2.0.0 in /usr/local/lib/python3.7/dist-packages (from scikit-learn) (2.1.0)\n",
            "Requirement already satisfied: numpy>=1.13.3 in /usr/local/lib/python3.7/dist-packages (from scikit-learn) (1.19.5)\n"
          ],
          "name": "stdout"
        }
      ]
    },
    {
      "cell_type": "code",
      "metadata": {
        "colab": {
          "base_uri": "https://localhost:8080/"
        },
        "id": "4aAqqlUPLdwm",
        "outputId": "c62fd8cb-c7ae-43d0-8cfe-722c89ee6f7f"
      },
      "source": [
        "pip install scikit-mlm"
      ],
      "execution_count": null,
      "outputs": [
        {
          "output_type": "stream",
          "text": [
            "Collecting scikit-mlm\n",
            "  Using cached https://files.pythonhosted.org/packages/03/df/4beec31e0d421ee4daffc7838ca262b4811340acca83b689f4020f180e1f/scikit-mlm-0.1.1.tar.gz\n",
            "Requirement already satisfied: numpy>=1.15.4 in /usr/local/lib/python3.7/dist-packages (from scikit-mlm) (1.19.5)\n",
            "Requirement already satisfied: scipy>=1.1.0 in /usr/local/lib/python3.7/dist-packages (from scikit-mlm) (1.4.1)\n",
            "Requirement already satisfied: scikit-learn>=0.21.0 in /usr/local/lib/python3.7/dist-packages (from scikit-mlm) (0.24.1)\n",
            "Collecting fuzzy-c-means>=0.0.6\n",
            "  Using cached https://files.pythonhosted.org/packages/cc/34/64498f52ddfb0a22a22f2cfcc0b293c6864f6fcc664a53b4cce9302b59fc/fuzzy_c_means-1.2.4-py3-none-any.whl\n",
            "\u001b[31mERROR: Could not find a version that satisfies the requirement mrsr>=0.0.3 (from scikit-mlm) (from versions: none)\u001b[0m\n",
            "\u001b[31mERROR: No matching distribution found for mrsr>=0.0.3 (from scikit-mlm)\u001b[0m\n"
          ],
          "name": "stdout"
        }
      ]
    },
    {
      "cell_type": "code",
      "metadata": {
        "id": "us50D6_ELi-G"
      },
      "source": [
        "import warnings; warnings.simplefilter('ignore')\n",
        "import scipy, itertools, pandas as pd, matplotlib.pyplot as plt, seaborn as sns, numpy as np\n",
        "from scipy import stats\n",
        "from sklearn.preprocessing import StandardScaler, MinMaxScaler\n",
        "\n",
        "plt.style.use('bmh'); sns.set()"
      ],
      "execution_count": null,
      "outputs": []
    },
    {
      "cell_type": "code",
      "metadata": {
        "id": "BsaarKLGLlRj",
        "colab": {
          "base_uri": "https://localhost:8080/"
        },
        "outputId": "3d0ece11-7a85-44fe-a777-da0ccd151df7"
      },
      "source": [
        "# Importing CSV data  https://pandas.pydata.org/pandas-docs/stable/reference/api/pandas.read_csv.html\n",
        "try:\n",
        "    # Running Locally \n",
        "    rumah = pd.read_csv('main/jual.csv')\n",
        "except:\n",
        "    # Running in Google Colab\n",
        "    !mkdir main\n",
        "    !wget -P main/ https://raw.githubusercontent.com/dewirizki/DataMining_DreamHouse_Kelompok12/main/jual.csv\n",
        "    rumah = pd.read_csv('main/jual.csv')"
      ],
      "execution_count": null,
      "outputs": [
        {
          "output_type": "stream",
          "text": [
            "--2021-04-11 12:43:39--  https://raw.githubusercontent.com/dewirizki/DataMining_DreamHouse_Kelompok12/main/jual.csv\n",
            "Resolving raw.githubusercontent.com (raw.githubusercontent.com)... 185.199.110.133, 185.199.108.133, 185.199.109.133, ...\n",
            "Connecting to raw.githubusercontent.com (raw.githubusercontent.com)|185.199.110.133|:443... connected.\n",
            "HTTP request sent, awaiting response... 200 OK\n",
            "Length: 28589 (28K) [text/plain]\n",
            "Saving to: ‘main/jual.csv’\n",
            "\n",
            "\rjual.csv              0%[                    ]       0  --.-KB/s               \rjual.csv            100%[===================>]  27.92K  --.-KB/s    in 0.002s  \n",
            "\n",
            "2021-04-11 12:43:39 (14.9 MB/s) - ‘main/jual.csv’ saved [28589/28589]\n",
            "\n"
          ],
          "name": "stdout"
        }
      ]
    },
    {
      "cell_type": "code",
      "metadata": {
        "colab": {
          "base_uri": "https://localhost:8080/"
        },
        "id": "zINrPCrSLuOx",
        "outputId": "3f542f82-69de-4341-e5a7-6e9f1fe49fed"
      },
      "source": [
        "# Tipe Datanya : DataFrame (df)\n",
        "print(type(rumah))\n",
        "# Ukuran Data\n",
        "N, P = rumah.shape\n",
        "'baris = ', N, ', Kolom = ', P"
      ],
      "execution_count": null,
      "outputs": [
        {
          "output_type": "stream",
          "text": [
            "<class 'pandas.core.frame.DataFrame'>\n"
          ],
          "name": "stdout"
        },
        {
          "output_type": "execute_result",
          "data": {
            "text/plain": [
              "('baris = ', 50, ', Kolom = ', 17)"
            ]
          },
          "metadata": {
            "tags": []
          },
          "execution_count": 16
        }
      ]
    },
    {
      "cell_type": "code",
      "metadata": {
        "colab": {
          "base_uri": "https://localhost:8080/",
          "height": 794
        },
        "id": "-mb4FqFmLzBr",
        "outputId": "bfd26588-2489-4752-f3dc-af782166ef4a"
      },
      "source": [
        "rumah.head(7)"
      ],
      "execution_count": null,
      "outputs": [
        {
          "output_type": "execute_result",
          "data": {
            "text/html": [
              "<div>\n",
              "<style scoped>\n",
              "    .dataframe tbody tr th:only-of-type {\n",
              "        vertical-align: middle;\n",
              "    }\n",
              "\n",
              "    .dataframe tbody tr th {\n",
              "        vertical-align: top;\n",
              "    }\n",
              "\n",
              "    .dataframe thead th {\n",
              "        text-align: right;\n",
              "    }\n",
              "</style>\n",
              "<table border=\"1\" class=\"dataframe\">\n",
              "  <thead>\n",
              "    <tr style=\"text-align: right;\">\n",
              "      <th></th>\n",
              "      <th>no</th>\n",
              "      <th>Tgl_Iklan</th>\n",
              "      <th>url</th>\n",
              "      <th>Harga_juta</th>\n",
              "      <th>Kota_Provinsi</th>\n",
              "      <th>Luas_Tanah</th>\n",
              "      <th>Luas_Bangunan</th>\n",
              "      <th>KT</th>\n",
              "      <th>KM</th>\n",
              "      <th>KTP</th>\n",
              "      <th>KMP</th>\n",
              "      <th>Carport</th>\n",
              "      <th>Garasi</th>\n",
              "      <th>Listrik</th>\n",
              "      <th>Surat</th>\n",
              "      <th>Judul</th>\n",
              "      <th>Deskripsi</th>\n",
              "    </tr>\n",
              "  </thead>\n",
              "  <tbody>\n",
              "    <tr>\n",
              "      <th>0</th>\n",
              "      <td>1</td>\n",
              "      <td>08/04/2021</td>\n",
              "      <td>https://www.realoka.com/82784-dijual-disewa-ru...</td>\n",
              "      <td>1200</td>\n",
              "      <td>Ambon, Maluku</td>\n",
              "      <td>135.0</td>\n",
              "      <td>70.0</td>\n",
              "      <td>2</td>\n",
              "      <td>2</td>\n",
              "      <td>1</td>\n",
              "      <td>0</td>\n",
              "      <td>1</td>\n",
              "      <td>0</td>\n",
              "      <td>1300.0</td>\n",
              "      <td>SHM</td>\n",
              "      <td>Dijual Disewa Rumah di Citraland Ambon Pr1699</td>\n",
              "      <td>Peminat Serius Hubungi:\\r\\nIbu Ata\\r\\n0851-012...</td>\n",
              "    </tr>\n",
              "    <tr>\n",
              "      <th>1</th>\n",
              "      <td>2</td>\n",
              "      <td>04/04/2021</td>\n",
              "      <td>https://www.olx.co.id/item/rumah-di-citraland-...</td>\n",
              "      <td>1110</td>\n",
              "      <td>Ambon, Maluku</td>\n",
              "      <td>135.0</td>\n",
              "      <td>70.0</td>\n",
              "      <td>3</td>\n",
              "      <td>2</td>\n",
              "      <td>0</td>\n",
              "      <td>0</td>\n",
              "      <td>1</td>\n",
              "      <td>0</td>\n",
              "      <td>NaN</td>\n",
              "      <td>SHM</td>\n",
              "      <td>Rumah di Citraland Ambon</td>\n",
              "      <td>Pemilik langsung, tanpa perantara. Lokasi Stra...</td>\n",
              "    </tr>\n",
              "    <tr>\n",
              "      <th>2</th>\n",
              "      <td>3</td>\n",
              "      <td>22/03/2021</td>\n",
              "      <td>https://www.olx.co.id/item/di-jual-rumah-tingg...</td>\n",
              "      <td>2100</td>\n",
              "      <td>Tual, Maluku</td>\n",
              "      <td>875.0</td>\n",
              "      <td>220.0</td>\n",
              "      <td>3</td>\n",
              "      <td>3</td>\n",
              "      <td>0</td>\n",
              "      <td>0</td>\n",
              "      <td>1</td>\n",
              "      <td>1</td>\n",
              "      <td>2200.0</td>\n",
              "      <td>SHM</td>\n",
              "      <td>Di Jual Rumah Tinggal Di BTN Indah Tual</td>\n",
              "      <td>Sertifikat SHM ( Sertifikat Hak Milik ). Harga...</td>\n",
              "    </tr>\n",
              "    <tr>\n",
              "      <th>3</th>\n",
              "      <td>4</td>\n",
              "      <td>17/03/2021</td>\n",
              "      <td>https://rumah.trovit.co.id/listing/rumah-belan...</td>\n",
              "      <td>12000</td>\n",
              "      <td>Ambon, Maluku</td>\n",
              "      <td>360.0</td>\n",
              "      <td>300.0</td>\n",
              "      <td>5</td>\n",
              "      <td>2</td>\n",
              "      <td>0</td>\n",
              "      <td>0</td>\n",
              "      <td>3</td>\n",
              "      <td>0</td>\n",
              "      <td>NaN</td>\n",
              "      <td>NaN</td>\n",
              "      <td>Rumah Belanda Sayap Riau Terawat, Belitung, Am...</td>\n",
              "      <td>Luas Tanah 360m Bangunan 300m Kamar Tidur 5 Ma...</td>\n",
              "    </tr>\n",
              "    <tr>\n",
              "      <th>4</th>\n",
              "      <td>5</td>\n",
              "      <td>17/03/2021</td>\n",
              "      <td>https://rumah.trovit.co.id/listing/dijual-ruma...</td>\n",
              "      <td>1250</td>\n",
              "      <td>Maluku Tengah</td>\n",
              "      <td>120.0</td>\n",
              "      <td>542.0</td>\n",
              "      <td>3</td>\n",
              "      <td>2</td>\n",
              "      <td>0</td>\n",
              "      <td>0</td>\n",
              "      <td>0</td>\n",
              "      <td>0</td>\n",
              "      <td>NaN</td>\n",
              "      <td>SHM</td>\n",
              "      <td>Dijual Rumah Potensi Pebisnis</td>\n",
              "      <td>Jual Rumah 3Kamar, 2 kamar mandi\\r\\nSpesifikas...</td>\n",
              "    </tr>\n",
              "    <tr>\n",
              "      <th>5</th>\n",
              "      <td>6</td>\n",
              "      <td>14/03/2021</td>\n",
              "      <td>https://www.dotproperty.id/rumah-dijual-dengan...</td>\n",
              "      <td>15000</td>\n",
              "      <td>Ambon, Maluku</td>\n",
              "      <td>500.0</td>\n",
              "      <td>255.0</td>\n",
              "      <td>5</td>\n",
              "      <td>4</td>\n",
              "      <td>0</td>\n",
              "      <td>0</td>\n",
              "      <td>0</td>\n",
              "      <td>6</td>\n",
              "      <td>4400.0</td>\n",
              "      <td>SHM</td>\n",
              "      <td>Rumah dijual Cepat Tanpa Perantara-SHM, Karang...</td>\n",
              "      <td>Rumah dijual dengan 5 kamar tidur di Karang Pa...</td>\n",
              "    </tr>\n",
              "    <tr>\n",
              "      <th>6</th>\n",
              "      <td>7</td>\n",
              "      <td>10/03/2021</td>\n",
              "      <td>https://www.99.co/id/properti/rumah-dijual-1-1...</td>\n",
              "      <td>1100</td>\n",
              "      <td>Ambon, Maluku</td>\n",
              "      <td>134.0</td>\n",
              "      <td>250.0</td>\n",
              "      <td>3</td>\n",
              "      <td>2</td>\n",
              "      <td>0</td>\n",
              "      <td>0</td>\n",
              "      <td>0</td>\n",
              "      <td>0</td>\n",
              "      <td>2200.0</td>\n",
              "      <td>SHM</td>\n",
              "      <td>Rumah Murah di karang panjang, Ambon Maluku</td>\n",
              "      <td>Dijual rumah Murah di Karang Panjang ambon Mal...</td>\n",
              "    </tr>\n",
              "  </tbody>\n",
              "</table>\n",
              "</div>"
            ],
            "text/plain": [
              "   no  ...                                          Deskripsi\n",
              "0   1  ...  Peminat Serius Hubungi:\\r\\nIbu Ata\\r\\n0851-012...\n",
              "1   2  ...  Pemilik langsung, tanpa perantara. Lokasi Stra...\n",
              "2   3  ...  Sertifikat SHM ( Sertifikat Hak Milik ). Harga...\n",
              "3   4  ...  Luas Tanah 360m Bangunan 300m Kamar Tidur 5 Ma...\n",
              "4   5  ...  Jual Rumah 3Kamar, 2 kamar mandi\\r\\nSpesifikas...\n",
              "5   6  ...  Rumah dijual dengan 5 kamar tidur di Karang Pa...\n",
              "6   7  ...  Dijual rumah Murah di Karang Panjang ambon Mal...\n",
              "\n",
              "[7 rows x 17 columns]"
            ]
          },
          "metadata": {
            "tags": []
          },
          "execution_count": 17
        }
      ]
    },
    {
      "cell_type": "code",
      "metadata": {
        "colab": {
          "base_uri": "https://localhost:8080/",
          "height": 517
        },
        "id": "010Mex3TLzPx",
        "outputId": "47d261bd-fff1-456a-96d6-563c6da3d3cd"
      },
      "source": [
        "rumah.tail(5)"
      ],
      "execution_count": null,
      "outputs": [
        {
          "output_type": "execute_result",
          "data": {
            "text/html": [
              "<div>\n",
              "<style scoped>\n",
              "    .dataframe tbody tr th:only-of-type {\n",
              "        vertical-align: middle;\n",
              "    }\n",
              "\n",
              "    .dataframe tbody tr th {\n",
              "        vertical-align: top;\n",
              "    }\n",
              "\n",
              "    .dataframe thead th {\n",
              "        text-align: right;\n",
              "    }\n",
              "</style>\n",
              "<table border=\"1\" class=\"dataframe\">\n",
              "  <thead>\n",
              "    <tr style=\"text-align: right;\">\n",
              "      <th></th>\n",
              "      <th>no</th>\n",
              "      <th>Tgl_Iklan</th>\n",
              "      <th>url</th>\n",
              "      <th>Harga_juta</th>\n",
              "      <th>Kota_Provinsi</th>\n",
              "      <th>Luas_Tanah</th>\n",
              "      <th>Luas_Bangunan</th>\n",
              "      <th>KT</th>\n",
              "      <th>KM</th>\n",
              "      <th>KTP</th>\n",
              "      <th>KMP</th>\n",
              "      <th>Carport</th>\n",
              "      <th>Garasi</th>\n",
              "      <th>Listrik</th>\n",
              "      <th>Surat</th>\n",
              "      <th>Judul</th>\n",
              "      <th>Deskripsi</th>\n",
              "    </tr>\n",
              "  </thead>\n",
              "  <tbody>\n",
              "    <tr>\n",
              "      <th>45</th>\n",
              "      <td>46</td>\n",
              "      <td>04/07/2018</td>\n",
              "      <td>https://dagymoiproperti.wordpress.com/2018/07/...</td>\n",
              "      <td>785</td>\n",
              "      <td>Ternate, Maluku Utara</td>\n",
              "      <td>120.0</td>\n",
              "      <td>120.0</td>\n",
              "      <td>4</td>\n",
              "      <td>3</td>\n",
              "      <td>0</td>\n",
              "      <td>0</td>\n",
              "      <td>1</td>\n",
              "      <td>0</td>\n",
              "      <td>NaN</td>\n",
              "      <td>SHM</td>\n",
              "      <td>Update Harga Perumahan Dagymoi Green Village, ...</td>\n",
              "      <td>Sertifikat Hak Milik \\r\\n➡4 kamar tidur \\r\\n➡3...</td>\n",
              "    </tr>\n",
              "    <tr>\n",
              "      <th>46</th>\n",
              "      <td>47</td>\n",
              "      <td>25/02/2018</td>\n",
              "      <td>https://dagymoiproperti.wordpress.com/2018/02/...</td>\n",
              "      <td>300</td>\n",
              "      <td>Ternate, Maluku Utara</td>\n",
              "      <td>98.0</td>\n",
              "      <td>70.0</td>\n",
              "      <td>2</td>\n",
              "      <td>2</td>\n",
              "      <td>0</td>\n",
              "      <td>0</td>\n",
              "      <td>1</td>\n",
              "      <td>0</td>\n",
              "      <td>1100.0</td>\n",
              "      <td>SHM</td>\n",
              "      <td>Jambula Residence (SOLD)</td>\n",
              "      <td>Tipe 70 Jambula Residence. Fasilitas : 2 kamar...</td>\n",
              "    </tr>\n",
              "    <tr>\n",
              "      <th>47</th>\n",
              "      <td>48</td>\n",
              "      <td>25/02/2018</td>\n",
              "      <td>https://dagymoiproperti.wordpress.com/2018/02/...</td>\n",
              "      <td>168</td>\n",
              "      <td>Bacan, Maluku Utara</td>\n",
              "      <td>36.0</td>\n",
              "      <td>98.0</td>\n",
              "      <td>2</td>\n",
              "      <td>1</td>\n",
              "      <td>0</td>\n",
              "      <td>0</td>\n",
              "      <td>1</td>\n",
              "      <td>0</td>\n",
              "      <td>NaN</td>\n",
              "      <td>SHM</td>\n",
              "      <td>Marabose Permai, Bacan Halsel</td>\n",
              "      <td>Perumahan Marabose Permai berlokasi di Kota Ba...</td>\n",
              "    </tr>\n",
              "    <tr>\n",
              "      <th>48</th>\n",
              "      <td>49</td>\n",
              "      <td>25/02/2018</td>\n",
              "      <td>https://dagymoiproperti.wordpress.com/2018/02/...</td>\n",
              "      <td>141</td>\n",
              "      <td>Ternate, Maluku Utara</td>\n",
              "      <td>87.0</td>\n",
              "      <td>36.0</td>\n",
              "      <td>2</td>\n",
              "      <td>1</td>\n",
              "      <td>0</td>\n",
              "      <td>0</td>\n",
              "      <td>1</td>\n",
              "      <td>0</td>\n",
              "      <td>1100.0</td>\n",
              "      <td>SHM</td>\n",
              "      <td>Jambula Residence (SOLD)</td>\n",
              "      <td>Tipe 36 Jambula Residence.Cicilan 870rb-an/bul...</td>\n",
              "    </tr>\n",
              "    <tr>\n",
              "      <th>49</th>\n",
              "      <td>50</td>\n",
              "      <td>26/08/2017</td>\n",
              "      <td>umah.waa2.co.id/detail?id=a04cea79e83644265109...</td>\n",
              "      <td>900</td>\n",
              "      <td>Ambon, Maluku</td>\n",
              "      <td>314.0</td>\n",
              "      <td>300.0</td>\n",
              "      <td>8</td>\n",
              "      <td>5</td>\n",
              "      <td>0</td>\n",
              "      <td>0</td>\n",
              "      <td>0</td>\n",
              "      <td>0</td>\n",
              "      <td>NaN</td>\n",
              "      <td>NaN</td>\n",
              "      <td>Rumah dijual rumah kos dijual investasi cerdas...</td>\n",
              "      <td>Rumah dijual rumah kos dijual investasi cerdas...</td>\n",
              "    </tr>\n",
              "  </tbody>\n",
              "</table>\n",
              "</div>"
            ],
            "text/plain": [
              "    no  ...                                          Deskripsi\n",
              "45  46  ...  Sertifikat Hak Milik \\r\\n➡4 kamar tidur \\r\\n➡3...\n",
              "46  47  ...  Tipe 70 Jambula Residence. Fasilitas : 2 kamar...\n",
              "47  48  ...  Perumahan Marabose Permai berlokasi di Kota Ba...\n",
              "48  49  ...  Tipe 36 Jambula Residence.Cicilan 870rb-an/bul...\n",
              "49  50  ...  Rumah dijual rumah kos dijual investasi cerdas...\n",
              "\n",
              "[5 rows x 17 columns]"
            ]
          },
          "metadata": {
            "tags": []
          },
          "execution_count": 18
        }
      ]
    },
    {
      "cell_type": "code",
      "metadata": {
        "colab": {
          "base_uri": "https://localhost:8080/",
          "height": 1000
        },
        "id": "81Wq9ikpLzZY",
        "outputId": "a59eb985-bbab-4536-c578-835d6d80fcd4"
      },
      "source": [
        "rumah.sample(10)"
      ],
      "execution_count": null,
      "outputs": [
        {
          "output_type": "execute_result",
          "data": {
            "text/html": [
              "<div>\n",
              "<style scoped>\n",
              "    .dataframe tbody tr th:only-of-type {\n",
              "        vertical-align: middle;\n",
              "    }\n",
              "\n",
              "    .dataframe tbody tr th {\n",
              "        vertical-align: top;\n",
              "    }\n",
              "\n",
              "    .dataframe thead th {\n",
              "        text-align: right;\n",
              "    }\n",
              "</style>\n",
              "<table border=\"1\" class=\"dataframe\">\n",
              "  <thead>\n",
              "    <tr style=\"text-align: right;\">\n",
              "      <th></th>\n",
              "      <th>no</th>\n",
              "      <th>Tgl_Iklan</th>\n",
              "      <th>url</th>\n",
              "      <th>Harga_juta</th>\n",
              "      <th>Kota_Provinsi</th>\n",
              "      <th>Luas_Tanah</th>\n",
              "      <th>Luas_Bangunan</th>\n",
              "      <th>KT</th>\n",
              "      <th>KM</th>\n",
              "      <th>KTP</th>\n",
              "      <th>KMP</th>\n",
              "      <th>Carport</th>\n",
              "      <th>Garasi</th>\n",
              "      <th>Listrik</th>\n",
              "      <th>Surat</th>\n",
              "      <th>Judul</th>\n",
              "      <th>Deskripsi</th>\n",
              "    </tr>\n",
              "  </thead>\n",
              "  <tbody>\n",
              "    <tr>\n",
              "      <th>15</th>\n",
              "      <td>16</td>\n",
              "      <td>06/03/2021</td>\n",
              "      <td>https://www.olx.co.id/item/jual-rumah-di-kota-...</td>\n",
              "      <td>470</td>\n",
              "      <td>Ambon, Maluku</td>\n",
              "      <td>81.0</td>\n",
              "      <td>80.0</td>\n",
              "      <td>2</td>\n",
              "      <td>2</td>\n",
              "      <td>0</td>\n",
              "      <td>0</td>\n",
              "      <td>1</td>\n",
              "      <td>0</td>\n",
              "      <td>1300.0</td>\n",
              "      <td>SHM</td>\n",
              "      <td>Jual Rumah di Kota Ambon</td>\n",
              "      <td>Dijual rumah tinggal siap huni. Bagi yang berm...</td>\n",
              "    </tr>\n",
              "    <tr>\n",
              "      <th>3</th>\n",
              "      <td>4</td>\n",
              "      <td>17/03/2021</td>\n",
              "      <td>https://rumah.trovit.co.id/listing/rumah-belan...</td>\n",
              "      <td>12000</td>\n",
              "      <td>Ambon, Maluku</td>\n",
              "      <td>360.0</td>\n",
              "      <td>300.0</td>\n",
              "      <td>5</td>\n",
              "      <td>2</td>\n",
              "      <td>0</td>\n",
              "      <td>0</td>\n",
              "      <td>3</td>\n",
              "      <td>0</td>\n",
              "      <td>NaN</td>\n",
              "      <td>NaN</td>\n",
              "      <td>Rumah Belanda Sayap Riau Terawat, Belitung, Am...</td>\n",
              "      <td>Luas Tanah 360m Bangunan 300m Kamar Tidur 5 Ma...</td>\n",
              "    </tr>\n",
              "    <tr>\n",
              "      <th>10</th>\n",
              "      <td>11</td>\n",
              "      <td>08/03/2021</td>\n",
              "      <td>https://www.dotproperty.id/rumah-dijual-dengan...</td>\n",
              "      <td>12000</td>\n",
              "      <td>Ambon, Maluku</td>\n",
              "      <td>428.0</td>\n",
              "      <td>NaN</td>\n",
              "      <td>6</td>\n",
              "      <td>2</td>\n",
              "      <td>0</td>\n",
              "      <td>0</td>\n",
              "      <td>1</td>\n",
              "      <td>0</td>\n",
              "      <td>NaN</td>\n",
              "      <td>NaN</td>\n",
              "      <td>rumah strategis depan jalan raya utama kota am...</td>\n",
              "      <td>Rumah dijual dengan 6 kamar tidur di Rijali, M...</td>\n",
              "    </tr>\n",
              "    <tr>\n",
              "      <th>12</th>\n",
              "      <td>13</td>\n",
              "      <td>07/03/2021</td>\n",
              "      <td>https://www.olx.co.id/item/jual-bangunan-dan-t...</td>\n",
              "      <td>3500</td>\n",
              "      <td>Ambon, Maluku</td>\n",
              "      <td>387.0</td>\n",
              "      <td>85.0</td>\n",
              "      <td>10</td>\n",
              "      <td>4</td>\n",
              "      <td>0</td>\n",
              "      <td>0</td>\n",
              "      <td>0</td>\n",
              "      <td>0</td>\n",
              "      <td>NaN</td>\n",
              "      <td>SHM</td>\n",
              "      <td>Jual bangunan dan tanah Depan pintu masuk rekt...</td>\n",
              "      <td>Luas tanah 387 m2. Bangunan 85 m2. Sertifikat ...</td>\n",
              "    </tr>\n",
              "    <tr>\n",
              "      <th>36</th>\n",
              "      <td>37</td>\n",
              "      <td>12/06/2019</td>\n",
              "      <td>https://dagymoiproperti.wordpress.com/2019/06/...</td>\n",
              "      <td>451</td>\n",
              "      <td>Ternate, Maluku Utara</td>\n",
              "      <td>105.0</td>\n",
              "      <td>70.0</td>\n",
              "      <td>3</td>\n",
              "      <td>2</td>\n",
              "      <td>0</td>\n",
              "      <td>0</td>\n",
              "      <td>1</td>\n",
              "      <td>0</td>\n",
              "      <td>1300.0</td>\n",
              "      <td>SHM</td>\n",
              "      <td>Perumahan Shafira Residence – kel. Ngade, Ternate</td>\n",
              "      <td>Perumahan yang berlokasi di Selatan Kota Terna...</td>\n",
              "    </tr>\n",
              "    <tr>\n",
              "      <th>37</th>\n",
              "      <td>38</td>\n",
              "      <td>12/06/2019</td>\n",
              "      <td>https://dagymoiproperti.wordpress.com/2019/06/...</td>\n",
              "      <td>168</td>\n",
              "      <td>Ternate, Maluku Utara</td>\n",
              "      <td>85.0</td>\n",
              "      <td>36.0</td>\n",
              "      <td>2</td>\n",
              "      <td>1</td>\n",
              "      <td>0</td>\n",
              "      <td>0</td>\n",
              "      <td>1</td>\n",
              "      <td>0</td>\n",
              "      <td>1300.0</td>\n",
              "      <td>SHM</td>\n",
              "      <td>Perumahan Shafira Residence – kel. Ngade, Ternate</td>\n",
              "      <td>Perumahan yang berlokasi di Selatan Kota Terna...</td>\n",
              "    </tr>\n",
              "    <tr>\n",
              "      <th>16</th>\n",
              "      <td>17</td>\n",
              "      <td>04/03/2021</td>\n",
              "      <td>https://www.rumah123.com/properti/ternate/hos7...</td>\n",
              "      <td>5000</td>\n",
              "      <td>Ternate, Maluku Utara</td>\n",
              "      <td>214.0</td>\n",
              "      <td>100.0</td>\n",
              "      <td>5</td>\n",
              "      <td>4</td>\n",
              "      <td>0</td>\n",
              "      <td>0</td>\n",
              "      <td>4</td>\n",
              "      <td>0</td>\n",
              "      <td>2200.0</td>\n",
              "      <td>SHM</td>\n",
              "      <td>rumah dan 2 ruko | #0058</td>\n",
              "      <td>Kode Iklan #0058 RUMAH 2 lantai plus 2 ruko de...</td>\n",
              "    </tr>\n",
              "    <tr>\n",
              "      <th>20</th>\n",
              "      <td>21</td>\n",
              "      <td>26/02/2021</td>\n",
              "      <td>https://www.olx.co.id/item/tanah-dan-bangunan-...</td>\n",
              "      <td>780</td>\n",
              "      <td>Ambon, Maluku</td>\n",
              "      <td>168.0</td>\n",
              "      <td>100.0</td>\n",
              "      <td>4</td>\n",
              "      <td>2</td>\n",
              "      <td>0</td>\n",
              "      <td>0</td>\n",
              "      <td>1</td>\n",
              "      <td>0</td>\n",
              "      <td>NaN</td>\n",
              "      <td>HGB</td>\n",
              "      <td>Tanah dan Bangunan Depan Jalan Utama</td>\n",
              "      <td>Lokasi strategis tepat di Depan Jalan Utama, b...</td>\n",
              "    </tr>\n",
              "    <tr>\n",
              "      <th>40</th>\n",
              "      <td>41</td>\n",
              "      <td>07/05/2019</td>\n",
              "      <td>https://dagymoiproperti.wordpress.com/2019/05/...</td>\n",
              "      <td>168</td>\n",
              "      <td>Ternate, Maluku Utara</td>\n",
              "      <td>84.0</td>\n",
              "      <td>36.0</td>\n",
              "      <td>2</td>\n",
              "      <td>1</td>\n",
              "      <td>0</td>\n",
              "      <td>0</td>\n",
              "      <td>1</td>\n",
              "      <td>0</td>\n",
              "      <td>1300.0</td>\n",
              "      <td>NaN</td>\n",
              "      <td>Perumahan Sultan Residence - Kel. Sangaji Utar...</td>\n",
              "      <td>Perumahan dengan harga Jual Subsidi type 36/85...</td>\n",
              "    </tr>\n",
              "    <tr>\n",
              "      <th>19</th>\n",
              "      <td>20</td>\n",
              "      <td>02/03/2021</td>\n",
              "      <td>https://rumah.trovit.co.id/listing/crystal-tow...</td>\n",
              "      <td>799</td>\n",
              "      <td>Maluku</td>\n",
              "      <td>962.0</td>\n",
              "      <td>962.0</td>\n",
              "      <td>3</td>\n",
              "      <td>2</td>\n",
              "      <td>0</td>\n",
              "      <td>0</td>\n",
              "      <td>0</td>\n",
              "      <td>0</td>\n",
              "      <td>NaN</td>\n",
              "      <td>NaN</td>\n",
              "      <td>Crystal Town House Termewah</td>\n",
              "      <td>Rumah 2 lantai yang berada dikawasan bisnis da...</td>\n",
              "    </tr>\n",
              "  </tbody>\n",
              "</table>\n",
              "</div>"
            ],
            "text/plain": [
              "    no  ...                                          Deskripsi\n",
              "15  16  ...  Dijual rumah tinggal siap huni. Bagi yang berm...\n",
              "3    4  ...  Luas Tanah 360m Bangunan 300m Kamar Tidur 5 Ma...\n",
              "10  11  ...  Rumah dijual dengan 6 kamar tidur di Rijali, M...\n",
              "12  13  ...  Luas tanah 387 m2. Bangunan 85 m2. Sertifikat ...\n",
              "36  37  ...  Perumahan yang berlokasi di Selatan Kota Terna...\n",
              "37  38  ...  Perumahan yang berlokasi di Selatan Kota Terna...\n",
              "16  17  ...  Kode Iklan #0058 RUMAH 2 lantai plus 2 ruko de...\n",
              "20  21  ...  Lokasi strategis tepat di Depan Jalan Utama, b...\n",
              "40  41  ...  Perumahan dengan harga Jual Subsidi type 36/85...\n",
              "19  20  ...  Rumah 2 lantai yang berada dikawasan bisnis da...\n",
              "\n",
              "[10 rows x 17 columns]"
            ]
          },
          "metadata": {
            "tags": []
          },
          "execution_count": 19
        }
      ]
    },
    {
      "cell_type": "code",
      "metadata": {
        "colab": {
          "base_uri": "https://localhost:8080/"
        },
        "id": "oQtNfE_ZL8Y3",
        "outputId": "6066ef55-3b10-4384-a661-823274cfe8b2"
      },
      "source": [
        "rumah.columns"
      ],
      "execution_count": null,
      "outputs": [
        {
          "output_type": "execute_result",
          "data": {
            "text/plain": [
              "Index(['no', 'Tgl_Iklan', 'url', 'Harga_juta', 'Kota_Provinsi', 'Luas_Tanah',\n",
              "       'Luas_Bangunan', 'KT', 'KM', 'KTP', 'KMP', 'Carport', 'Garasi',\n",
              "       'Listrik', 'Surat', 'Judul', 'Deskripsi'],\n",
              "      dtype='object')"
            ]
          },
          "metadata": {
            "tags": []
          },
          "execution_count": 20
        }
      ]
    },
    {
      "cell_type": "code",
      "metadata": {
        "id": "RZUnYCYBMCDl"
      },
      "source": [
        "# Drop kolom pertama karena tidak berguna (hanya index)\n",
        "rumah.drop(\"no\", axis=1, inplace=True)"
      ],
      "execution_count": null,
      "outputs": []
    },
    {
      "cell_type": "code",
      "metadata": {
        "colab": {
          "base_uri": "https://localhost:8080/"
        },
        "id": "34ZlH5YsMFpC",
        "outputId": "6ddf84cb-4697-45f0-a261-0913acdfc648"
      },
      "source": [
        "# tipe data di setiap kolom\n",
        "# Wajib di periksa apakah tipe datanya sudah tepat?\n",
        "# Perhatikan df sebagaimana semua variable di Python diperlakukan seperti object\n",
        "rumah.info()"
      ],
      "execution_count": null,
      "outputs": [
        {
          "output_type": "stream",
          "text": [
            "<class 'pandas.core.frame.DataFrame'>\n",
            "RangeIndex: 50 entries, 0 to 49\n",
            "Data columns (total 16 columns):\n",
            " #   Column         Non-Null Count  Dtype  \n",
            "---  ------         --------------  -----  \n",
            " 0   Tgl_Iklan      50 non-null     object \n",
            " 1   url            50 non-null     object \n",
            " 2   Harga_juta     50 non-null     int64  \n",
            " 3   Kota_Provinsi  50 non-null     object \n",
            " 4   Luas_Tanah     48 non-null     float64\n",
            " 5   Luas_Bangunan  47 non-null     float64\n",
            " 6   KT             50 non-null     int64  \n",
            " 7   KM             50 non-null     int64  \n",
            " 8   KTP            50 non-null     int64  \n",
            " 9   KMP            50 non-null     int64  \n",
            " 10  Carport        50 non-null     int64  \n",
            " 11  Garasi         50 non-null     int64  \n",
            " 12  Listrik        24 non-null     float64\n",
            " 13  Surat          41 non-null     object \n",
            " 14  Judul          49 non-null     object \n",
            " 15  Deskripsi      50 non-null     object \n",
            "dtypes: float64(3), int64(7), object(6)\n",
            "memory usage: 6.4+ KB\n"
          ],
          "name": "stdout"
        }
      ]
    },
    {
      "cell_type": "code",
      "metadata": {
        "colab": {
          "base_uri": "https://localhost:8080/"
        },
        "id": "xdg5ZPcNMJZo",
        "outputId": "d541f7d0-aedd-436e-83b5-a12bf34f2446"
      },
      "source": [
        "rumah.dtypes"
      ],
      "execution_count": null,
      "outputs": [
        {
          "output_type": "execute_result",
          "data": {
            "text/plain": [
              "Tgl_Iklan         object\n",
              "url               object\n",
              "Harga_juta         int64\n",
              "Kota_Provinsi     object\n",
              "Luas_Tanah       float64\n",
              "Luas_Bangunan    float64\n",
              "KT                 int64\n",
              "KM                 int64\n",
              "KTP                int64\n",
              "KMP                int64\n",
              "Carport            int64\n",
              "Garasi             int64\n",
              "Listrik          float64\n",
              "Surat             object\n",
              "Judul             object\n",
              "Deskripsi         object\n",
              "dtype: object"
            ]
          },
          "metadata": {
            "tags": []
          },
          "execution_count": 23
        }
      ]
    },
    {
      "cell_type": "markdown",
      "metadata": {
        "id": "JjczLHpBGh4T"
      },
      "source": [
        "# Mengganti Tipe Data"
      ]
    },
    {
      "cell_type": "code",
      "metadata": {
        "colab": {
          "base_uri": "https://localhost:8080/"
        },
        "id": "b6m-L-mIMMuj",
        "outputId": "2f6750a4-066c-40ef-98b0-430ecbeec3c9"
      },
      "source": [
        "# dataframe types: https://pbpython.com/pandas_dtypes.html\n",
        "# mengubah tipe data variabel 'Tgl_Iklan' dan 'Listrik'\n",
        "rumah['Tgl_Iklan'] = rumah['Tgl_Iklan'].astype('datetime64')\n",
        "rumah['Listrik'] = rumah['Listrik'].astype('float64')\n",
        "rumah.dtypes"
      ],
      "execution_count": null,
      "outputs": [
        {
          "output_type": "execute_result",
          "data": {
            "text/plain": [
              "Tgl_Iklan        datetime64[ns]\n",
              "url                      object\n",
              "Harga_juta                int64\n",
              "Kota_Provinsi            object\n",
              "Luas_Tanah              float64\n",
              "Luas_Bangunan           float64\n",
              "KT                        int64\n",
              "KM                        int64\n",
              "KTP                       int64\n",
              "KMP                       int64\n",
              "Carport                   int64\n",
              "Garasi                    int64\n",
              "Listrik                 float64\n",
              "Surat                    object\n",
              "Judul                    object\n",
              "Deskripsi                object\n",
              "dtype: object"
            ]
          },
          "metadata": {
            "tags": []
          },
          "execution_count": 24
        }
      ]
    },
    {
      "cell_type": "markdown",
      "metadata": {
        "id": "OgLruA0uG_23"
      },
      "source": [
        "# Memeriksa Duplikasi Data"
      ]
    },
    {
      "cell_type": "code",
      "metadata": {
        "colab": {
          "base_uri": "https://localhost:8080/"
        },
        "id": "tIhbbAWTNtXc",
        "outputId": "be0a9151-0209-4291-afbd-2d2fa864c15e"
      },
      "source": [
        "#mengecek apakah ada duplikat data?\n",
        "print(rumah.shape)\n",
        "rumah.duplicated().sum()"
      ],
      "execution_count": null,
      "outputs": [
        {
          "output_type": "stream",
          "text": [
            "(50, 16)\n"
          ],
          "name": "stdout"
        },
        {
          "output_type": "execute_result",
          "data": {
            "text/plain": [
              "0"
            ]
          },
          "metadata": {
            "tags": []
          },
          "execution_count": 25
        }
      ]
    },
    {
      "cell_type": "code",
      "metadata": {
        "colab": {
          "base_uri": "https://localhost:8080/"
        },
        "id": "Y4x_Sw-LOCf1",
        "outputId": "b9145cd8-ec6f-4427-9fe8-1dc1840f6ab1"
      },
      "source": [
        "#menghapus entri yang memiliki data duplikat\n",
        "rumah.drop_duplicates(inplace=True)\n",
        "print(rumah.duplicated().sum())\n",
        "print(rumah.shape)"
      ],
      "execution_count": null,
      "outputs": [
        {
          "output_type": "stream",
          "text": [
            "0\n",
            "(50, 16)\n"
          ],
          "name": "stdout"
        }
      ]
    },
    {
      "cell_type": "code",
      "metadata": {
        "id": "F_B_KA4RPHxP",
        "colab": {
          "base_uri": "https://localhost:8080/",
          "height": 197
        },
        "outputId": "a06e7744-4190-4a71-f230-0ea7ffdc318b"
      },
      "source": [
        "#Memilih hanya variable dengan tipe tertentu\n",
        "rumah_num = rumah.select_dtypes(include=['float64', 'int64'])\n",
        "rumah_num.head()"
      ],
      "execution_count": null,
      "outputs": [
        {
          "output_type": "execute_result",
          "data": {
            "text/html": [
              "<div>\n",
              "<style scoped>\n",
              "    .dataframe tbody tr th:only-of-type {\n",
              "        vertical-align: middle;\n",
              "    }\n",
              "\n",
              "    .dataframe tbody tr th {\n",
              "        vertical-align: top;\n",
              "    }\n",
              "\n",
              "    .dataframe thead th {\n",
              "        text-align: right;\n",
              "    }\n",
              "</style>\n",
              "<table border=\"1\" class=\"dataframe\">\n",
              "  <thead>\n",
              "    <tr style=\"text-align: right;\">\n",
              "      <th></th>\n",
              "      <th>Harga_juta</th>\n",
              "      <th>Luas_Tanah</th>\n",
              "      <th>Luas_Bangunan</th>\n",
              "      <th>KT</th>\n",
              "      <th>KM</th>\n",
              "      <th>KTP</th>\n",
              "      <th>KMP</th>\n",
              "      <th>Carport</th>\n",
              "      <th>Garasi</th>\n",
              "      <th>Listrik</th>\n",
              "    </tr>\n",
              "  </thead>\n",
              "  <tbody>\n",
              "    <tr>\n",
              "      <th>0</th>\n",
              "      <td>1200</td>\n",
              "      <td>135.0</td>\n",
              "      <td>70.0</td>\n",
              "      <td>2</td>\n",
              "      <td>2</td>\n",
              "      <td>1</td>\n",
              "      <td>0</td>\n",
              "      <td>1</td>\n",
              "      <td>0</td>\n",
              "      <td>1300.0</td>\n",
              "    </tr>\n",
              "    <tr>\n",
              "      <th>1</th>\n",
              "      <td>1110</td>\n",
              "      <td>135.0</td>\n",
              "      <td>70.0</td>\n",
              "      <td>3</td>\n",
              "      <td>2</td>\n",
              "      <td>0</td>\n",
              "      <td>0</td>\n",
              "      <td>1</td>\n",
              "      <td>0</td>\n",
              "      <td>NaN</td>\n",
              "    </tr>\n",
              "    <tr>\n",
              "      <th>2</th>\n",
              "      <td>2100</td>\n",
              "      <td>875.0</td>\n",
              "      <td>220.0</td>\n",
              "      <td>3</td>\n",
              "      <td>3</td>\n",
              "      <td>0</td>\n",
              "      <td>0</td>\n",
              "      <td>1</td>\n",
              "      <td>1</td>\n",
              "      <td>2200.0</td>\n",
              "    </tr>\n",
              "    <tr>\n",
              "      <th>3</th>\n",
              "      <td>12000</td>\n",
              "      <td>360.0</td>\n",
              "      <td>300.0</td>\n",
              "      <td>5</td>\n",
              "      <td>2</td>\n",
              "      <td>0</td>\n",
              "      <td>0</td>\n",
              "      <td>3</td>\n",
              "      <td>0</td>\n",
              "      <td>NaN</td>\n",
              "    </tr>\n",
              "    <tr>\n",
              "      <th>4</th>\n",
              "      <td>1250</td>\n",
              "      <td>120.0</td>\n",
              "      <td>542.0</td>\n",
              "      <td>3</td>\n",
              "      <td>2</td>\n",
              "      <td>0</td>\n",
              "      <td>0</td>\n",
              "      <td>0</td>\n",
              "      <td>0</td>\n",
              "      <td>NaN</td>\n",
              "    </tr>\n",
              "  </tbody>\n",
              "</table>\n",
              "</div>"
            ],
            "text/plain": [
              "   Harga_juta  Luas_Tanah  Luas_Bangunan  KT  ...  KMP  Carport  Garasi  Listrik\n",
              "0        1200       135.0           70.0   2  ...    0        1       0   1300.0\n",
              "1        1110       135.0           70.0   3  ...    0        1       0      NaN\n",
              "2        2100       875.0          220.0   3  ...    0        1       1   2200.0\n",
              "3       12000       360.0          300.0   5  ...    0        3       0      NaN\n",
              "4        1250       120.0          542.0   3  ...    0        0       0      NaN\n",
              "\n",
              "[5 rows x 10 columns]"
            ]
          },
          "metadata": {
            "tags": []
          },
          "execution_count": 27
        }
      ]
    },
    {
      "cell_type": "code",
      "metadata": {
        "colab": {
          "base_uri": "https://localhost:8080/",
          "height": 197
        },
        "id": "ZVq6esZhR_02",
        "outputId": "40f38a19-5481-49fd-def0-db1fe251ee33"
      },
      "source": [
        "#memilih hanya variable dengan tipe tertentu\n",
        "rumah_obj = rumah.select_dtypes(include = [object])\n",
        "rumah_obj.head()"
      ],
      "execution_count": null,
      "outputs": [
        {
          "output_type": "execute_result",
          "data": {
            "text/html": [
              "<div>\n",
              "<style scoped>\n",
              "    .dataframe tbody tr th:only-of-type {\n",
              "        vertical-align: middle;\n",
              "    }\n",
              "\n",
              "    .dataframe tbody tr th {\n",
              "        vertical-align: top;\n",
              "    }\n",
              "\n",
              "    .dataframe thead th {\n",
              "        text-align: right;\n",
              "    }\n",
              "</style>\n",
              "<table border=\"1\" class=\"dataframe\">\n",
              "  <thead>\n",
              "    <tr style=\"text-align: right;\">\n",
              "      <th></th>\n",
              "      <th>url</th>\n",
              "      <th>Kota_Provinsi</th>\n",
              "      <th>Surat</th>\n",
              "      <th>Judul</th>\n",
              "      <th>Deskripsi</th>\n",
              "    </tr>\n",
              "  </thead>\n",
              "  <tbody>\n",
              "    <tr>\n",
              "      <th>0</th>\n",
              "      <td>https://www.realoka.com/82784-dijual-disewa-ru...</td>\n",
              "      <td>Ambon, Maluku</td>\n",
              "      <td>SHM</td>\n",
              "      <td>Dijual Disewa Rumah di Citraland Ambon Pr1699</td>\n",
              "      <td>Peminat Serius Hubungi:\\r\\nIbu Ata\\r\\n0851-012...</td>\n",
              "    </tr>\n",
              "    <tr>\n",
              "      <th>1</th>\n",
              "      <td>https://www.olx.co.id/item/rumah-di-citraland-...</td>\n",
              "      <td>Ambon, Maluku</td>\n",
              "      <td>SHM</td>\n",
              "      <td>Rumah di Citraland Ambon</td>\n",
              "      <td>Pemilik langsung, tanpa perantara. Lokasi Stra...</td>\n",
              "    </tr>\n",
              "    <tr>\n",
              "      <th>2</th>\n",
              "      <td>https://www.olx.co.id/item/di-jual-rumah-tingg...</td>\n",
              "      <td>Tual, Maluku</td>\n",
              "      <td>SHM</td>\n",
              "      <td>Di Jual Rumah Tinggal Di BTN Indah Tual</td>\n",
              "      <td>Sertifikat SHM ( Sertifikat Hak Milik ). Harga...</td>\n",
              "    </tr>\n",
              "    <tr>\n",
              "      <th>3</th>\n",
              "      <td>https://rumah.trovit.co.id/listing/rumah-belan...</td>\n",
              "      <td>Ambon, Maluku</td>\n",
              "      <td>NaN</td>\n",
              "      <td>Rumah Belanda Sayap Riau Terawat, Belitung, Am...</td>\n",
              "      <td>Luas Tanah 360m Bangunan 300m Kamar Tidur 5 Ma...</td>\n",
              "    </tr>\n",
              "    <tr>\n",
              "      <th>4</th>\n",
              "      <td>https://rumah.trovit.co.id/listing/dijual-ruma...</td>\n",
              "      <td>Maluku Tengah</td>\n",
              "      <td>SHM</td>\n",
              "      <td>Dijual Rumah Potensi Pebisnis</td>\n",
              "      <td>Jual Rumah 3Kamar, 2 kamar mandi\\r\\nSpesifikas...</td>\n",
              "    </tr>\n",
              "  </tbody>\n",
              "</table>\n",
              "</div>"
            ],
            "text/plain": [
              "                                                 url  ...                                          Deskripsi\n",
              "0  https://www.realoka.com/82784-dijual-disewa-ru...  ...  Peminat Serius Hubungi:\\r\\nIbu Ata\\r\\n0851-012...\n",
              "1  https://www.olx.co.id/item/rumah-di-citraland-...  ...  Pemilik langsung, tanpa perantara. Lokasi Stra...\n",
              "2  https://www.olx.co.id/item/di-jual-rumah-tingg...  ...  Sertifikat SHM ( Sertifikat Hak Milik ). Harga...\n",
              "3  https://rumah.trovit.co.id/listing/rumah-belan...  ...  Luas Tanah 360m Bangunan 300m Kamar Tidur 5 Ma...\n",
              "4  https://rumah.trovit.co.id/listing/dijual-ruma...  ...  Jual Rumah 3Kamar, 2 kamar mandi\\r\\nSpesifikas...\n",
              "\n",
              "[5 rows x 5 columns]"
            ]
          },
          "metadata": {
            "tags": []
          },
          "execution_count": 28
        }
      ]
    },
    {
      "cell_type": "code",
      "metadata": {
        "id": "xxq_Jms9T6IG",
        "colab": {
          "base_uri": "https://localhost:8080/",
          "height": 257
        },
        "outputId": "6e507210-3611-414d-c4fa-5064960d031a"
      },
      "source": [
        "# Choosing some columns manually\n",
        "X = rumah[['Harga_juta','Luas_Tanah']]\n",
        "X[:7]"
      ],
      "execution_count": null,
      "outputs": [
        {
          "output_type": "execute_result",
          "data": {
            "text/html": [
              "<div>\n",
              "<style scoped>\n",
              "    .dataframe tbody tr th:only-of-type {\n",
              "        vertical-align: middle;\n",
              "    }\n",
              "\n",
              "    .dataframe tbody tr th {\n",
              "        vertical-align: top;\n",
              "    }\n",
              "\n",
              "    .dataframe thead th {\n",
              "        text-align: right;\n",
              "    }\n",
              "</style>\n",
              "<table border=\"1\" class=\"dataframe\">\n",
              "  <thead>\n",
              "    <tr style=\"text-align: right;\">\n",
              "      <th></th>\n",
              "      <th>Harga_juta</th>\n",
              "      <th>Luas_Tanah</th>\n",
              "    </tr>\n",
              "  </thead>\n",
              "  <tbody>\n",
              "    <tr>\n",
              "      <th>0</th>\n",
              "      <td>1200</td>\n",
              "      <td>135.0</td>\n",
              "    </tr>\n",
              "    <tr>\n",
              "      <th>1</th>\n",
              "      <td>1110</td>\n",
              "      <td>135.0</td>\n",
              "    </tr>\n",
              "    <tr>\n",
              "      <th>2</th>\n",
              "      <td>2100</td>\n",
              "      <td>875.0</td>\n",
              "    </tr>\n",
              "    <tr>\n",
              "      <th>3</th>\n",
              "      <td>12000</td>\n",
              "      <td>360.0</td>\n",
              "    </tr>\n",
              "    <tr>\n",
              "      <th>4</th>\n",
              "      <td>1250</td>\n",
              "      <td>120.0</td>\n",
              "    </tr>\n",
              "    <tr>\n",
              "      <th>5</th>\n",
              "      <td>15000</td>\n",
              "      <td>500.0</td>\n",
              "    </tr>\n",
              "    <tr>\n",
              "      <th>6</th>\n",
              "      <td>1100</td>\n",
              "      <td>134.0</td>\n",
              "    </tr>\n",
              "  </tbody>\n",
              "</table>\n",
              "</div>"
            ],
            "text/plain": [
              "   Harga_juta  Luas_Tanah\n",
              "0        1200       135.0\n",
              "1        1110       135.0\n",
              "2        2100       875.0\n",
              "3       12000       360.0\n",
              "4        1250       120.0\n",
              "5       15000       500.0\n",
              "6        1100       134.0"
            ]
          },
          "metadata": {
            "tags": []
          },
          "execution_count": 29
        }
      ]
    },
    {
      "cell_type": "code",
      "metadata": {
        "colab": {
          "base_uri": "https://localhost:8080/",
          "height": 285
        },
        "id": "lYJehLrrV73_",
        "outputId": "db90a62c-d50b-48ff-9e62-aca18a093407"
      },
      "source": [
        "#Distributions\n",
        "p = sns.distplot(rumah['Harga_juta'],kde=True, rug=True)"
      ],
      "execution_count": null,
      "outputs": [
        {
          "output_type": "display_data",
          "data": {
            "image/png": "[encoded data removed]",
            "text/plain": [
              "<Figure size 432x288 with 1 Axes>"
            ]
          },
          "metadata": {
            "tags": []
          }
        }
      ]
    },
    {
      "cell_type": "markdown",
      "metadata": {
        "id": "k5ucCSgNHQDD"
      },
      "source": [
        "# Menghapus Outlier pada Variabel \"Harga_juta\""
      ]
    },
    {
      "cell_type": "code",
      "metadata": {
        "colab": {
          "base_uri": "https://localhost:8080/"
        },
        "id": "2KhfBH6zipwo",
        "outputId": "f76aeb83-b2e0-4fdc-f3f0-1f69d706f396"
      },
      "source": [
        "# Misal dengan asumsi data berdistribusi normal\n",
        "# dan menggunakan 95% confidence interval di sekitar variabel \"harga\"\n",
        "\n",
        "df1 = np.abs(rumah.Harga_juta - rumah.Harga_juta.mean())<=(2*rumah.Harga_juta.std())\n",
        "# mu-2s<x<mu+2s\n",
        "print(df1.shape)\n",
        "df1.head()"
      ],
      "execution_count": null,
      "outputs": [
        {
          "output_type": "stream",
          "text": [
            "(50,)\n"
          ],
          "name": "stdout"
        },
        {
          "output_type": "execute_result",
          "data": {
            "text/plain": [
              "0     True\n",
              "1     True\n",
              "2     True\n",
              "3    False\n",
              "4     True\n",
              "Name: Harga_juta, dtype: bool"
            ]
          },
          "metadata": {
            "tags": []
          },
          "execution_count": 31
        }
      ]
    },
    {
      "cell_type": "code",
      "metadata": {
        "id": "HQcTYCIra9Bn",
        "colab": {
          "base_uri": "https://localhost:8080/",
          "height": 284
        },
        "outputId": "812ac8ff-dc0a-40b9-d8dc-3bc9e501d22f"
      },
      "source": [
        "# Distributions\n",
        "p = sns.distplot(rumah['Luas_Tanah'], kde=True, rug=True)"
      ],
      "execution_count": null,
      "outputs": [
        {
          "output_type": "display_data",
          "data": {
            "image/png": "[encoded data removed]",
            "text/plain": [
              "<Figure size 432x288 with 1 Axes>"
            ]
          },
          "metadata": {
            "tags": []
          }
        }
      ]
    },
    {
      "cell_type": "markdown",
      "metadata": {
        "id": "JgPw3owMHksa"
      },
      "source": [
        "# Menghapus Outlier pada Variabel \"Luas_Tanah\""
      ]
    },
    {
      "cell_type": "code",
      "metadata": {
        "colab": {
          "base_uri": "https://localhost:8080/"
        },
        "id": "OOWOqjiOhpVl",
        "outputId": "ca434b50-9494-4247-bcab-0ec681cf4e2d"
      },
      "source": [
        "# Misal dengan asumsi data berdistribusi normal\n",
        "# dan menggunakan 95% confidence interval di sekitar variabel \"Luas_Tanah\"\n",
        "\n",
        "df1 = np.abs(rumah.Luas_Tanah - rumah.Luas_Tanah.mean())<=(2*rumah.Luas_Tanah.std())\n",
        "# mu-2s<x<mu+2s\n",
        "print(df1.shape)\n",
        "df1.head()"
      ],
      "execution_count": null,
      "outputs": [
        {
          "output_type": "stream",
          "text": [
            "(50,)\n"
          ],
          "name": "stdout"
        },
        {
          "output_type": "execute_result",
          "data": {
            "text/plain": [
              "0    True\n",
              "1    True\n",
              "2    True\n",
              "3    True\n",
              "4    True\n",
              "Name: Luas_Tanah, dtype: bool"
            ]
          },
          "metadata": {
            "tags": []
          },
          "execution_count": 41
        }
      ]
    },
    {
      "cell_type": "code",
      "metadata": {
        "colab": {
          "base_uri": "https://localhost:8080/"
        },
        "id": "lFcN_bGwjIq4",
        "outputId": "ffd2dd7b-52f5-4afa-aa25-868b5cb7887f"
      },
      "source": [
        "rumah3 = rumah[df1] # Data tanpa outliers  #untuk variabel 'Harga_juta'\n",
        "print(rumah3.shape, rumah.shape)\n",
        "# Perhatikan disini sengaja data yang telah di remove outliernya \n",
        "# disimpan dalam variabel baru \"rumah3\"\n",
        "# Jika datanya besar hati-hati melakukan hal ini"
      ],
      "execution_count": null,
      "outputs": [
        {
          "output_type": "stream",
          "text": [
            "(47, 16) (50, 16)\n"
          ],
          "name": "stdout"
        }
      ]
    },
    {
      "cell_type": "code",
      "metadata": {
        "colab": {
          "base_uri": "https://localhost:8080/",
          "height": 284
        },
        "id": "VgIcxsJOjauo",
        "outputId": "9c8ff7dc-4e6a-4e10-8506-0f7d95505fb9"
      },
      "source": [
        "# Distributions\n",
        "p = sns.distplot(rumah3['Harga_juta'], kde=True, rug=True)"
      ],
      "execution_count": null,
      "outputs": [
        {
          "output_type": "display_data",
          "data": {
            "image/png": "[encoded data removed]",
            "text/plain": [
              "<Figure size 432x288 with 1 Axes>"
            ]
          },
          "metadata": {
            "tags": []
          }
        }
      ]
    },
    {
      "cell_type": "code",
      "metadata": {
        "colab": {
          "base_uri": "https://localhost:8080/"
        },
        "id": "i797X_ZZiAFl",
        "outputId": "b4965d13-973f-46e3-a631-d98627cf47cb"
      },
      "source": [
        "rumah2 = rumah[df2] # Data tanpa outliers #Variabel Luas_Tanah\n",
        "print(rumah2.shape, rumah.shape)\n",
        "# Perhatikan disini sengaja data yang telah di remove outliernya \n",
        "# disimpan dalam variabel baru \"rumah2\"\n",
        "# Jika datanya besar hati-hati melakukan hal ini"
      ],
      "execution_count": null,
      "outputs": [
        {
          "output_type": "stream",
          "text": [
            "(47, 16) (50, 16)\n"
          ],
          "name": "stdout"
        }
      ]
    },
    {
      "cell_type": "code",
      "metadata": {
        "colab": {
          "base_uri": "https://localhost:8080/",
          "height": 284
        },
        "id": "RtGN63QRiT3p",
        "outputId": "2900ff6a-f1b2-4d93-dbb2-4ea784bc4432"
      },
      "source": [
        "# Distributions\n",
        "p = sns.distplot(rumah2['Luas_Tanah'], kde=True, rug=True)"
      ],
      "execution_count": null,
      "outputs": [
        {
          "output_type": "display_data",
          "data": {
            "image/png": "[encoded data removed]",
            "text/plain": [
              "<Figure size 432x288 with 1 Axes>"
            ]
          },
          "metadata": {
            "tags": []
          }
        }
      ]
    },
    {
      "cell_type": "markdown",
      "metadata": {
        "id": "iwyV28Y9H8E1"
      },
      "source": [
        "# Memeriksa Missing Values"
      ]
    },
    {
      "cell_type": "code",
      "metadata": {
        "id": "DOBXF5N8dsU9",
        "colab": {
          "base_uri": "https://localhost:8080/"
        },
        "outputId": "4d664dd4-202d-4b67-8adb-1877d19cab62"
      },
      "source": [
        "# General Look at the Missing Values\n",
        "print(rumah2.isnull().sum())"
      ],
      "execution_count": null,
      "outputs": [
        {
          "output_type": "stream",
          "text": [
            "Tgl_Iklan         0\n",
            "url               0\n",
            "Harga_juta        0\n",
            "Kota_Provinsi     0\n",
            "Luas_Tanah        0\n",
            "Luas_Bangunan     1\n",
            "KT                0\n",
            "KM                0\n",
            "KTP               0\n",
            "KMP               0\n",
            "Carport           0\n",
            "Garasi            0\n",
            "Listrik          23\n",
            "Surat             7\n",
            "Judul             1\n",
            "Deskripsi         0\n",
            "dtype: int64\n"
          ],
          "name": "stdout"
        }
      ]
    },
    {
      "cell_type": "code",
      "metadata": {
        "colab": {
          "base_uri": "https://localhost:8080/"
        },
        "id": "tRuzVFiFkwuG",
        "outputId": "82047f28-b84c-4463-9595-aaed2e067272"
      },
      "source": [
        "# General Look at the Missing Values\n",
        "print(rumah3.isnull().sum())"
      ],
      "execution_count": null,
      "outputs": [
        {
          "output_type": "stream",
          "text": [
            "Tgl_Iklan         0\n",
            "url               0\n",
            "Harga_juta        0\n",
            "Kota_Provinsi     0\n",
            "Luas_Tanah        0\n",
            "Luas_Bangunan     1\n",
            "KT                0\n",
            "KM                0\n",
            "KTP               0\n",
            "KMP               0\n",
            "Carport           0\n",
            "Garasi            0\n",
            "Listrik          23\n",
            "Surat             7\n",
            "Judul             1\n",
            "Deskripsi         0\n",
            "dtype: int64\n"
          ],
          "name": "stdout"
        }
      ]
    },
    {
      "cell_type": "code",
      "metadata": {
        "colab": {
          "base_uri": "https://localhost:8080/",
          "height": 360
        },
        "id": "OyeJyL8ulCeb",
        "outputId": "1cb93788-3a91-425e-e019-8df16c7d6401"
      },
      "source": [
        "sns.heatmap(rumah2.isnull(), cbar=False)\n",
        "plt.title('Heatmap Missing Value')\n",
        "plt.show()"
      ],
      "execution_count": null,
      "outputs": [
        {
          "output_type": "display_data",
          "data": {
            "image/png": "[encoded data removed]",
            "text/plain": [
              "<Figure size 432x288 with 1 Axes>"
            ]
          },
          "metadata": {
            "tags": []
          }
        }
      ]
    },
    {
      "cell_type": "code",
      "metadata": {
        "colab": {
          "base_uri": "https://localhost:8080/",
          "height": 360
        },
        "id": "40woeYYClgIW",
        "outputId": "4002ccef-0363-4a1c-d3f7-652d306a0956"
      },
      "source": [
        "sns.heatmap(rumah3.isnull(), cbar=False)\n",
        "plt.title('Heatmap Missing Value')\n",
        "plt.show()"
      ],
      "execution_count": null,
      "outputs": [
        {
          "output_type": "display_data",
          "data": {
            "image/png": "[encoded data removed]",
            "text/plain": [
              "<Figure size 432x288 with 1 Axes>"
            ]
          },
          "metadata": {
            "tags": []
          }
        }
      ]
    },
    {
      "cell_type": "code",
      "metadata": {
        "colab": {
          "base_uri": "https://localhost:8080/",
          "height": 527
        },
        "id": "XqWFFQoqlkiM",
        "outputId": "cd4a5d18-345b-48c0-df37-237b28dd5264"
      },
      "source": [
        "(rumah3.isnull().sum()/len(rumah3)).to_frame('persentase missing')"
      ],
      "execution_count": null,
      "outputs": [
        {
          "output_type": "execute_result",
          "data": {
            "text/html": [
              "<div>\n",
              "<style scoped>\n",
              "    .dataframe tbody tr th:only-of-type {\n",
              "        vertical-align: middle;\n",
              "    }\n",
              "\n",
              "    .dataframe tbody tr th {\n",
              "        vertical-align: top;\n",
              "    }\n",
              "\n",
              "    .dataframe thead th {\n",
              "        text-align: right;\n",
              "    }\n",
              "</style>\n",
              "<table border=\"1\" class=\"dataframe\">\n",
              "  <thead>\n",
              "    <tr style=\"text-align: right;\">\n",
              "      <th></th>\n",
              "      <th>persentase missing</th>\n",
              "    </tr>\n",
              "  </thead>\n",
              "  <tbody>\n",
              "    <tr>\n",
              "      <th>Tgl_Iklan</th>\n",
              "      <td>0.000000</td>\n",
              "    </tr>\n",
              "    <tr>\n",
              "      <th>url</th>\n",
              "      <td>0.000000</td>\n",
              "    </tr>\n",
              "    <tr>\n",
              "      <th>Harga_juta</th>\n",
              "      <td>0.000000</td>\n",
              "    </tr>\n",
              "    <tr>\n",
              "      <th>Kota_Provinsi</th>\n",
              "      <td>0.000000</td>\n",
              "    </tr>\n",
              "    <tr>\n",
              "      <th>Luas_Tanah</th>\n",
              "      <td>0.000000</td>\n",
              "    </tr>\n",
              "    <tr>\n",
              "      <th>Luas_Bangunan</th>\n",
              "      <td>0.021277</td>\n",
              "    </tr>\n",
              "    <tr>\n",
              "      <th>KT</th>\n",
              "      <td>0.000000</td>\n",
              "    </tr>\n",
              "    <tr>\n",
              "      <th>KM</th>\n",
              "      <td>0.000000</td>\n",
              "    </tr>\n",
              "    <tr>\n",
              "      <th>KTP</th>\n",
              "      <td>0.000000</td>\n",
              "    </tr>\n",
              "    <tr>\n",
              "      <th>KMP</th>\n",
              "      <td>0.000000</td>\n",
              "    </tr>\n",
              "    <tr>\n",
              "      <th>Carport</th>\n",
              "      <td>0.000000</td>\n",
              "    </tr>\n",
              "    <tr>\n",
              "      <th>Garasi</th>\n",
              "      <td>0.000000</td>\n",
              "    </tr>\n",
              "    <tr>\n",
              "      <th>Listrik</th>\n",
              "      <td>0.489362</td>\n",
              "    </tr>\n",
              "    <tr>\n",
              "      <th>Surat</th>\n",
              "      <td>0.148936</td>\n",
              "    </tr>\n",
              "    <tr>\n",
              "      <th>Judul</th>\n",
              "      <td>0.021277</td>\n",
              "    </tr>\n",
              "    <tr>\n",
              "      <th>Deskripsi</th>\n",
              "      <td>0.000000</td>\n",
              "    </tr>\n",
              "  </tbody>\n",
              "</table>\n",
              "</div>"
            ],
            "text/plain": [
              "               persentase missing\n",
              "Tgl_Iklan                0.000000\n",
              "url                      0.000000\n",
              "Harga_juta               0.000000\n",
              "Kota_Provinsi            0.000000\n",
              "Luas_Tanah               0.000000\n",
              "Luas_Bangunan            0.021277\n",
              "KT                       0.000000\n",
              "KM                       0.000000\n",
              "KTP                      0.000000\n",
              "KMP                      0.000000\n",
              "Carport                  0.000000\n",
              "Garasi                   0.000000\n",
              "Listrik                  0.489362\n",
              "Surat                    0.148936\n",
              "Judul                    0.021277\n",
              "Deskripsi                0.000000"
            ]
          },
          "metadata": {
            "tags": []
          },
          "execution_count": 53
        }
      ]
    },
    {
      "cell_type": "markdown",
      "metadata": {
        "id": "gkRQzH4PIQBV"
      },
      "source": [
        "# Menangani Missing Values"
      ]
    },
    {
      "cell_type": "code",
      "metadata": {
        "id": "hvx0v7_nCKWE"
      },
      "source": [
        "# Drop kolom Listrik karena terdapat banyak missing value\n",
        "rumah3.drop(\"Listrik\", axis=1, inplace=True)"
      ],
      "execution_count": null,
      "outputs": []
    },
    {
      "cell_type": "code",
      "metadata": {
        "id": "XrP_Cp2ZAeQt"
      },
      "source": [
        "# Drop kolom Listrik karena terdapat banyak missing value\n",
        "rumah2.drop(\"Listrik\", axis=1, inplace=True)"
      ],
      "execution_count": null,
      "outputs": []
    },
    {
      "cell_type": "code",
      "metadata": {
        "colab": {
          "base_uri": "https://localhost:8080/",
          "height": 381
        },
        "id": "UWXSXNN4AkJ5",
        "outputId": "6e204af7-f75c-42bf-ce72-7bf53696f0bc"
      },
      "source": [
        "rumah3.head()"
      ],
      "execution_count": null,
      "outputs": [
        {
          "output_type": "execute_result",
          "data": {
            "text/html": [
              "<div>\n",
              "<style scoped>\n",
              "    .dataframe tbody tr th:only-of-type {\n",
              "        vertical-align: middle;\n",
              "    }\n",
              "\n",
              "    .dataframe tbody tr th {\n",
              "        vertical-align: top;\n",
              "    }\n",
              "\n",
              "    .dataframe thead th {\n",
              "        text-align: right;\n",
              "    }\n",
              "</style>\n",
              "<table border=\"1\" class=\"dataframe\">\n",
              "  <thead>\n",
              "    <tr style=\"text-align: right;\">\n",
              "      <th></th>\n",
              "      <th>Tgl_Iklan</th>\n",
              "      <th>url</th>\n",
              "      <th>Harga_juta</th>\n",
              "      <th>Kota_Provinsi</th>\n",
              "      <th>Luas_Tanah</th>\n",
              "      <th>Luas_Bangunan</th>\n",
              "      <th>KT</th>\n",
              "      <th>KM</th>\n",
              "      <th>KTP</th>\n",
              "      <th>KMP</th>\n",
              "      <th>Carport</th>\n",
              "      <th>Garasi</th>\n",
              "      <th>Surat</th>\n",
              "      <th>Judul</th>\n",
              "      <th>Deskripsi</th>\n",
              "    </tr>\n",
              "  </thead>\n",
              "  <tbody>\n",
              "    <tr>\n",
              "      <th>0</th>\n",
              "      <td>2021-08-04</td>\n",
              "      <td>https://www.realoka.com/82784-dijual-disewa-ru...</td>\n",
              "      <td>1200</td>\n",
              "      <td>Ambon, Maluku</td>\n",
              "      <td>135.0</td>\n",
              "      <td>70.0</td>\n",
              "      <td>2</td>\n",
              "      <td>2</td>\n",
              "      <td>1</td>\n",
              "      <td>0</td>\n",
              "      <td>1</td>\n",
              "      <td>0</td>\n",
              "      <td>SHM</td>\n",
              "      <td>Dijual Disewa Rumah di Citraland Ambon Pr1699</td>\n",
              "      <td>Peminat Serius Hubungi:\\r\\nIbu Ata\\r\\n0851-012...</td>\n",
              "    </tr>\n",
              "    <tr>\n",
              "      <th>1</th>\n",
              "      <td>2021-04-04</td>\n",
              "      <td>https://www.olx.co.id/item/rumah-di-citraland-...</td>\n",
              "      <td>1110</td>\n",
              "      <td>Ambon, Maluku</td>\n",
              "      <td>135.0</td>\n",
              "      <td>70.0</td>\n",
              "      <td>3</td>\n",
              "      <td>2</td>\n",
              "      <td>0</td>\n",
              "      <td>0</td>\n",
              "      <td>1</td>\n",
              "      <td>0</td>\n",
              "      <td>SHM</td>\n",
              "      <td>Rumah di Citraland Ambon</td>\n",
              "      <td>Pemilik langsung, tanpa perantara. Lokasi Stra...</td>\n",
              "    </tr>\n",
              "    <tr>\n",
              "      <th>2</th>\n",
              "      <td>2021-03-22</td>\n",
              "      <td>https://www.olx.co.id/item/di-jual-rumah-tingg...</td>\n",
              "      <td>2100</td>\n",
              "      <td>Tual, Maluku</td>\n",
              "      <td>875.0</td>\n",
              "      <td>220.0</td>\n",
              "      <td>3</td>\n",
              "      <td>3</td>\n",
              "      <td>0</td>\n",
              "      <td>0</td>\n",
              "      <td>1</td>\n",
              "      <td>1</td>\n",
              "      <td>SHM</td>\n",
              "      <td>Di Jual Rumah Tinggal Di BTN Indah Tual</td>\n",
              "      <td>Sertifikat SHM ( Sertifikat Hak Milik ). Harga...</td>\n",
              "    </tr>\n",
              "    <tr>\n",
              "      <th>3</th>\n",
              "      <td>2021-03-17</td>\n",
              "      <td>https://rumah.trovit.co.id/listing/rumah-belan...</td>\n",
              "      <td>12000</td>\n",
              "      <td>Ambon, Maluku</td>\n",
              "      <td>360.0</td>\n",
              "      <td>300.0</td>\n",
              "      <td>5</td>\n",
              "      <td>2</td>\n",
              "      <td>0</td>\n",
              "      <td>0</td>\n",
              "      <td>3</td>\n",
              "      <td>0</td>\n",
              "      <td>NaN</td>\n",
              "      <td>Rumah Belanda Sayap Riau Terawat, Belitung, Am...</td>\n",
              "      <td>Luas Tanah 360m Bangunan 300m Kamar Tidur 5 Ma...</td>\n",
              "    </tr>\n",
              "    <tr>\n",
              "      <th>4</th>\n",
              "      <td>2021-03-17</td>\n",
              "      <td>https://rumah.trovit.co.id/listing/dijual-ruma...</td>\n",
              "      <td>1250</td>\n",
              "      <td>Maluku Tengah</td>\n",
              "      <td>120.0</td>\n",
              "      <td>542.0</td>\n",
              "      <td>3</td>\n",
              "      <td>2</td>\n",
              "      <td>0</td>\n",
              "      <td>0</td>\n",
              "      <td>0</td>\n",
              "      <td>0</td>\n",
              "      <td>SHM</td>\n",
              "      <td>Dijual Rumah Potensi Pebisnis</td>\n",
              "      <td>Jual Rumah 3Kamar, 2 kamar mandi\\r\\nSpesifikas...</td>\n",
              "    </tr>\n",
              "  </tbody>\n",
              "</table>\n",
              "</div>"
            ],
            "text/plain": [
              "   Tgl_Iklan  ...                                          Deskripsi\n",
              "0 2021-08-04  ...  Peminat Serius Hubungi:\\r\\nIbu Ata\\r\\n0851-012...\n",
              "1 2021-04-04  ...  Pemilik langsung, tanpa perantara. Lokasi Stra...\n",
              "2 2021-03-22  ...  Sertifikat SHM ( Sertifikat Hak Milik ). Harga...\n",
              "3 2021-03-17  ...  Luas Tanah 360m Bangunan 300m Kamar Tidur 5 Ma...\n",
              "4 2021-03-17  ...  Jual Rumah 3Kamar, 2 kamar mandi\\r\\nSpesifikas...\n",
              "\n",
              "[5 rows x 15 columns]"
            ]
          },
          "metadata": {
            "tags": []
          },
          "execution_count": 56
        }
      ]
    },
    {
      "cell_type": "code",
      "metadata": {
        "colab": {
          "base_uri": "https://localhost:8080/"
        },
        "id": "WHkLU3BYAzz8",
        "outputId": "81ea7cd0-c924-4750-d717-68a1fc2fbc72"
      },
      "source": [
        "# Ukuran Data\n",
        "N, P = rumah3.shape\n",
        "'baris = ', N, ', Kolom = ', P"
      ],
      "execution_count": null,
      "outputs": [
        {
          "output_type": "execute_result",
          "data": {
            "text/plain": [
              "('baris = ', 47, ', Kolom = ', 15)"
            ]
          },
          "metadata": {
            "tags": []
          },
          "execution_count": 57
        }
      ]
    },
    {
      "cell_type": "code",
      "metadata": {
        "colab": {
          "base_uri": "https://localhost:8080/"
        },
        "id": "oHFr50p4BF0e",
        "outputId": "9c2987f3-360f-4952-e2ee-95235515a64b"
      },
      "source": [
        "print(rumah3.isnull().sum())"
      ],
      "execution_count": null,
      "outputs": [
        {
          "output_type": "stream",
          "text": [
            "Tgl_Iklan        0\n",
            "url              0\n",
            "Harga_juta       0\n",
            "Kota_Provinsi    0\n",
            "Luas_Tanah       0\n",
            "Luas_Bangunan    1\n",
            "KT               0\n",
            "KM               0\n",
            "KTP              0\n",
            "KMP              0\n",
            "Carport          0\n",
            "Garasi           0\n",
            "Surat            7\n",
            "Judul            1\n",
            "Deskripsi        0\n",
            "dtype: int64\n"
          ],
          "name": "stdout"
        }
      ]
    },
    {
      "cell_type": "code",
      "metadata": {
        "colab": {
          "base_uri": "https://localhost:8080/",
          "height": 1000
        },
        "id": "YVdxs03mBcKO",
        "outputId": "f21a80cf-32b8-4818-9815-99f2d041013b"
      },
      "source": [
        "rumah3.dropna(subset=['Surat'])"
      ],
      "execution_count": null,
      "outputs": [
        {
          "output_type": "execute_result",
          "data": {
            "text/html": [
              "<div>\n",
              "<style scoped>\n",
              "    .dataframe tbody tr th:only-of-type {\n",
              "        vertical-align: middle;\n",
              "    }\n",
              "\n",
              "    .dataframe tbody tr th {\n",
              "        vertical-align: top;\n",
              "    }\n",
              "\n",
              "    .dataframe thead th {\n",
              "        text-align: right;\n",
              "    }\n",
              "</style>\n",
              "<table border=\"1\" class=\"dataframe\">\n",
              "  <thead>\n",
              "    <tr style=\"text-align: right;\">\n",
              "      <th></th>\n",
              "      <th>Tgl_Iklan</th>\n",
              "      <th>url</th>\n",
              "      <th>Harga_juta</th>\n",
              "      <th>Kota_Provinsi</th>\n",
              "      <th>Luas_Tanah</th>\n",
              "      <th>Luas_Bangunan</th>\n",
              "      <th>KT</th>\n",
              "      <th>KM</th>\n",
              "      <th>KTP</th>\n",
              "      <th>KMP</th>\n",
              "      <th>Carport</th>\n",
              "      <th>Garasi</th>\n",
              "      <th>Surat</th>\n",
              "      <th>Judul</th>\n",
              "      <th>Deskripsi</th>\n",
              "    </tr>\n",
              "  </thead>\n",
              "  <tbody>\n",
              "    <tr>\n",
              "      <th>0</th>\n",
              "      <td>2021-08-04</td>\n",
              "      <td>https://www.realoka.com/82784-dijual-disewa-ru...</td>\n",
              "      <td>1200</td>\n",
              "      <td>Ambon, Maluku</td>\n",
              "      <td>135.0</td>\n",
              "      <td>70.0</td>\n",
              "      <td>2</td>\n",
              "      <td>2</td>\n",
              "      <td>1</td>\n",
              "      <td>0</td>\n",
              "      <td>1</td>\n",
              "      <td>0</td>\n",
              "      <td>SHM</td>\n",
              "      <td>Dijual Disewa Rumah di Citraland Ambon Pr1699</td>\n",
              "      <td>Peminat Serius Hubungi:\\r\\nIbu Ata\\r\\n0851-012...</td>\n",
              "    </tr>\n",
              "    <tr>\n",
              "      <th>1</th>\n",
              "      <td>2021-04-04</td>\n",
              "      <td>https://www.olx.co.id/item/rumah-di-citraland-...</td>\n",
              "      <td>1110</td>\n",
              "      <td>Ambon, Maluku</td>\n",
              "      <td>135.0</td>\n",
              "      <td>70.0</td>\n",
              "      <td>3</td>\n",
              "      <td>2</td>\n",
              "      <td>0</td>\n",
              "      <td>0</td>\n",
              "      <td>1</td>\n",
              "      <td>0</td>\n",
              "      <td>SHM</td>\n",
              "      <td>Rumah di Citraland Ambon</td>\n",
              "      <td>Pemilik langsung, tanpa perantara. Lokasi Stra...</td>\n",
              "    </tr>\n",
              "    <tr>\n",
              "      <th>2</th>\n",
              "      <td>2021-03-22</td>\n",
              "      <td>https://www.olx.co.id/item/di-jual-rumah-tingg...</td>\n",
              "      <td>2100</td>\n",
              "      <td>Tual, Maluku</td>\n",
              "      <td>875.0</td>\n",
              "      <td>220.0</td>\n",
              "      <td>3</td>\n",
              "      <td>3</td>\n",
              "      <td>0</td>\n",
              "      <td>0</td>\n",
              "      <td>1</td>\n",
              "      <td>1</td>\n",
              "      <td>SHM</td>\n",
              "      <td>Di Jual Rumah Tinggal Di BTN Indah Tual</td>\n",
              "      <td>Sertifikat SHM ( Sertifikat Hak Milik ). Harga...</td>\n",
              "    </tr>\n",
              "    <tr>\n",
              "      <th>4</th>\n",
              "      <td>2021-03-17</td>\n",
              "      <td>https://rumah.trovit.co.id/listing/dijual-ruma...</td>\n",
              "      <td>1250</td>\n",
              "      <td>Maluku Tengah</td>\n",
              "      <td>120.0</td>\n",
              "      <td>542.0</td>\n",
              "      <td>3</td>\n",
              "      <td>2</td>\n",
              "      <td>0</td>\n",
              "      <td>0</td>\n",
              "      <td>0</td>\n",
              "      <td>0</td>\n",
              "      <td>SHM</td>\n",
              "      <td>Dijual Rumah Potensi Pebisnis</td>\n",
              "      <td>Jual Rumah 3Kamar, 2 kamar mandi\\r\\nSpesifikas...</td>\n",
              "    </tr>\n",
              "    <tr>\n",
              "      <th>5</th>\n",
              "      <td>2021-03-14</td>\n",
              "      <td>https://www.dotproperty.id/rumah-dijual-dengan...</td>\n",
              "      <td>15000</td>\n",
              "      <td>Ambon, Maluku</td>\n",
              "      <td>500.0</td>\n",
              "      <td>255.0</td>\n",
              "      <td>5</td>\n",
              "      <td>4</td>\n",
              "      <td>0</td>\n",
              "      <td>0</td>\n",
              "      <td>0</td>\n",
              "      <td>6</td>\n",
              "      <td>SHM</td>\n",
              "      <td>Rumah dijual Cepat Tanpa Perantara-SHM, Karang...</td>\n",
              "      <td>Rumah dijual dengan 5 kamar tidur di Karang Pa...</td>\n",
              "    </tr>\n",
              "    <tr>\n",
              "      <th>6</th>\n",
              "      <td>2021-10-03</td>\n",
              "      <td>https://www.99.co/id/properti/rumah-dijual-1-1...</td>\n",
              "      <td>1100</td>\n",
              "      <td>Ambon, Maluku</td>\n",
              "      <td>134.0</td>\n",
              "      <td>250.0</td>\n",
              "      <td>3</td>\n",
              "      <td>2</td>\n",
              "      <td>0</td>\n",
              "      <td>0</td>\n",
              "      <td>0</td>\n",
              "      <td>0</td>\n",
              "      <td>SHM</td>\n",
              "      <td>Rumah Murah di karang panjang, Ambon Maluku</td>\n",
              "      <td>Dijual rumah Murah di Karang Panjang ambon Mal...</td>\n",
              "    </tr>\n",
              "    <tr>\n",
              "      <th>11</th>\n",
              "      <td>2021-08-03</td>\n",
              "      <td>https://www.realoka.com/90543-jual-rumah-murah...</td>\n",
              "      <td>350</td>\n",
              "      <td>Ambon, Maluku</td>\n",
              "      <td>1100.0</td>\n",
              "      <td>900.0</td>\n",
              "      <td>3</td>\n",
              "      <td>1</td>\n",
              "      <td>0</td>\n",
              "      <td>0</td>\n",
              "      <td>0</td>\n",
              "      <td>0</td>\n",
              "      <td>SHM</td>\n",
              "      <td>Jual Rumah Murah Cepat Nego</td>\n",
              "      <td>Jual cepat rumah daerah stategis! Terletak di ...</td>\n",
              "    </tr>\n",
              "    <tr>\n",
              "      <th>12</th>\n",
              "      <td>2021-07-03</td>\n",
              "      <td>https://www.olx.co.id/item/jual-bangunan-dan-t...</td>\n",
              "      <td>3500</td>\n",
              "      <td>Ambon, Maluku</td>\n",
              "      <td>387.0</td>\n",
              "      <td>85.0</td>\n",
              "      <td>10</td>\n",
              "      <td>4</td>\n",
              "      <td>0</td>\n",
              "      <td>0</td>\n",
              "      <td>0</td>\n",
              "      <td>0</td>\n",
              "      <td>SHM</td>\n",
              "      <td>Jual bangunan dan tanah Depan pintu masuk rekt...</td>\n",
              "      <td>Luas tanah 387 m2. Bangunan 85 m2. Sertifikat ...</td>\n",
              "    </tr>\n",
              "    <tr>\n",
              "      <th>13</th>\n",
              "      <td>2021-07-03</td>\n",
              "      <td>https://www.olx.co.id/item/rumah-di-jual-tanpa...</td>\n",
              "      <td>12000</td>\n",
              "      <td>Ambon, Maluku</td>\n",
              "      <td>500.0</td>\n",
              "      <td>250.0</td>\n",
              "      <td>5</td>\n",
              "      <td>4</td>\n",
              "      <td>1</td>\n",
              "      <td>1</td>\n",
              "      <td>1</td>\n",
              "      <td>5</td>\n",
              "      <td>SHM</td>\n",
              "      <td>Rumah di jual tanpa perantara</td>\n",
              "      <td>Rumah dijual Cepat tanpa Perantara, lokasi dek...</td>\n",
              "    </tr>\n",
              "    <tr>\n",
              "      <th>14</th>\n",
              "      <td>2021-07-03</td>\n",
              "      <td>https://rumah.trovit.co.id/listing/dijual-mura...</td>\n",
              "      <td>280</td>\n",
              "      <td>Ternate, Maluku Utara</td>\n",
              "      <td>902.0</td>\n",
              "      <td>902.0</td>\n",
              "      <td>2</td>\n",
              "      <td>1</td>\n",
              "      <td>0</td>\n",
              "      <td>0</td>\n",
              "      <td>1</td>\n",
              "      <td>0</td>\n",
              "      <td>SHM</td>\n",
              "      <td>Dijual Murah Rumah Hunian Lokasi Stategis</td>\n",
              "      <td>Di jual rumah strategis,dekat dengan pusat kot...</td>\n",
              "    </tr>\n",
              "    <tr>\n",
              "      <th>15</th>\n",
              "      <td>2021-06-03</td>\n",
              "      <td>https://www.olx.co.id/item/jual-rumah-di-kota-...</td>\n",
              "      <td>470</td>\n",
              "      <td>Ambon, Maluku</td>\n",
              "      <td>81.0</td>\n",
              "      <td>80.0</td>\n",
              "      <td>2</td>\n",
              "      <td>2</td>\n",
              "      <td>0</td>\n",
              "      <td>0</td>\n",
              "      <td>1</td>\n",
              "      <td>0</td>\n",
              "      <td>SHM</td>\n",
              "      <td>Jual Rumah di Kota Ambon</td>\n",
              "      <td>Dijual rumah tinggal siap huni. Bagi yang berm...</td>\n",
              "    </tr>\n",
              "    <tr>\n",
              "      <th>16</th>\n",
              "      <td>2021-04-03</td>\n",
              "      <td>https://www.rumah123.com/properti/ternate/hos7...</td>\n",
              "      <td>5000</td>\n",
              "      <td>Ternate, Maluku Utara</td>\n",
              "      <td>214.0</td>\n",
              "      <td>100.0</td>\n",
              "      <td>5</td>\n",
              "      <td>4</td>\n",
              "      <td>0</td>\n",
              "      <td>0</td>\n",
              "      <td>4</td>\n",
              "      <td>0</td>\n",
              "      <td>SHM</td>\n",
              "      <td>rumah dan 2 ruko | #0058</td>\n",
              "      <td>Kode Iklan #0058 RUMAH 2 lantai plus 2 ruko de...</td>\n",
              "    </tr>\n",
              "    <tr>\n",
              "      <th>18</th>\n",
              "      <td>2021-02-03</td>\n",
              "      <td>https://www.dotproperty.id/rumah-dijual-dengan...</td>\n",
              "      <td>2250</td>\n",
              "      <td>Maluku</td>\n",
              "      <td>99.0</td>\n",
              "      <td>99.0</td>\n",
              "      <td>2</td>\n",
              "      <td>2</td>\n",
              "      <td>0</td>\n",
              "      <td>0</td>\n",
              "      <td>0</td>\n",
              "      <td>0</td>\n",
              "      <td>SHM</td>\n",
              "      <td>CEPAT !! RUMAH SIAP HUNI di Sunter Agung ,Jln ...</td>\n",
              "      <td>Rumah dijual dengan 2 kamar tidur di Maluku\\r\\...</td>\n",
              "    </tr>\n",
              "    <tr>\n",
              "      <th>20</th>\n",
              "      <td>2021-02-26</td>\n",
              "      <td>https://www.olx.co.id/item/tanah-dan-bangunan-...</td>\n",
              "      <td>780</td>\n",
              "      <td>Ambon, Maluku</td>\n",
              "      <td>168.0</td>\n",
              "      <td>100.0</td>\n",
              "      <td>4</td>\n",
              "      <td>2</td>\n",
              "      <td>0</td>\n",
              "      <td>0</td>\n",
              "      <td>1</td>\n",
              "      <td>0</td>\n",
              "      <td>HGB</td>\n",
              "      <td>Tanah dan Bangunan Depan Jalan Utama</td>\n",
              "      <td>Lokasi strategis tepat di Depan Jalan Utama, b...</td>\n",
              "    </tr>\n",
              "    <tr>\n",
              "      <th>21</th>\n",
              "      <td>2021-09-02</td>\n",
              "      <td>https://www.olx.co.id/item/dijual-rumah-tingga...</td>\n",
              "      <td>3200</td>\n",
              "      <td>Ambon, Maluku</td>\n",
              "      <td>300.0</td>\n",
              "      <td>300.0</td>\n",
              "      <td>4</td>\n",
              "      <td>4</td>\n",
              "      <td>0</td>\n",
              "      <td>0</td>\n",
              "      <td>1</td>\n",
              "      <td>1</td>\n",
              "      <td>SHM</td>\n",
              "      <td>DIJUAL : RUMAH TINGGAL 2 LANTAI PLUS PERABOT</td>\n",
              "      <td>Kondisi rumah terawat</td>\n",
              "    </tr>\n",
              "    <tr>\n",
              "      <th>22</th>\n",
              "      <td>2021-01-02</td>\n",
              "      <td>https://www.olx.co.id/item/dijual-cepat-rumah-...</td>\n",
              "      <td>2200</td>\n",
              "      <td>Ambon, Maluku</td>\n",
              "      <td>195.0</td>\n",
              "      <td>280.0</td>\n",
              "      <td>8</td>\n",
              "      <td>5</td>\n",
              "      <td>0</td>\n",
              "      <td>0</td>\n",
              "      <td>2</td>\n",
              "      <td>0</td>\n",
              "      <td>SHM</td>\n",
              "      <td>Dijual cepat rumah + kos + usaha air minum isi...</td>\n",
              "      <td>Rumah tinggal + usaha kos2an + usaha air minum...</td>\n",
              "    </tr>\n",
              "    <tr>\n",
              "      <th>23</th>\n",
              "      <td>2021-01-31</td>\n",
              "      <td>https://www.olx.co.id/item/dijual-rumah-di-jl-...</td>\n",
              "      <td>2200</td>\n",
              "      <td>Ambon, Maluku</td>\n",
              "      <td>720.0</td>\n",
              "      <td>630.0</td>\n",
              "      <td>5</td>\n",
              "      <td>2</td>\n",
              "      <td>0</td>\n",
              "      <td>0</td>\n",
              "      <td>1</td>\n",
              "      <td>2</td>\n",
              "      <td>SHM</td>\n",
              "      <td>Dijual Rumah di Jl. Air Salobar SK 55/28 Maluk...</td>\n",
              "      <td>Dijual Rumah Sertifikat Hak Milik dengan luas ...</td>\n",
              "    </tr>\n",
              "    <tr>\n",
              "      <th>24</th>\n",
              "      <td>2021-01-22</td>\n",
              "      <td>https://www.olx.co.id/item/rumah-prospek-bange...</td>\n",
              "      <td>2400</td>\n",
              "      <td>Ambon, Maluku</td>\n",
              "      <td>800.0</td>\n",
              "      <td>660.0</td>\n",
              "      <td>6</td>\n",
              "      <td>5</td>\n",
              "      <td>0</td>\n",
              "      <td>0</td>\n",
              "      <td>8</td>\n",
              "      <td>1</td>\n",
              "      <td>SHM</td>\n",
              "      <td>Rumah prospek banget Masih bisa Nego - Lokasi ...</td>\n",
              "      <td>Yang Bantu Jualkan dapat 1% Dari Harga Jual (k...</td>\n",
              "    </tr>\n",
              "    <tr>\n",
              "      <th>25</th>\n",
              "      <td>2021-01-18</td>\n",
              "      <td>https://www.olx.co.id/item/jual-rumah-siap-pak...</td>\n",
              "      <td>650</td>\n",
              "      <td>Ambon, Maluku</td>\n",
              "      <td>120.0</td>\n",
              "      <td>120.0</td>\n",
              "      <td>3</td>\n",
              "      <td>1</td>\n",
              "      <td>0</td>\n",
              "      <td>0</td>\n",
              "      <td>0</td>\n",
              "      <td>0</td>\n",
              "      <td>SHM</td>\n",
              "      <td>Jual Rumah siap Pakai BTN Kebun Cengkeh, Ambon</td>\n",
              "      <td>Rumah layak pakai, ukuran lebih besar dari rum...</td>\n",
              "    </tr>\n",
              "    <tr>\n",
              "      <th>26</th>\n",
              "      <td>2020-12-20</td>\n",
              "      <td>https://www.99.co/id/properti/rumah-dijual-550...</td>\n",
              "      <td>550</td>\n",
              "      <td>Ambon, Maluku</td>\n",
              "      <td>100.0</td>\n",
              "      <td>36.0</td>\n",
              "      <td>2</td>\n",
              "      <td>1</td>\n",
              "      <td>0</td>\n",
              "      <td>0</td>\n",
              "      <td>1</td>\n",
              "      <td>0</td>\n",
              "      <td>SHM</td>\n",
              "      <td>Jual rmh +kelebihan tanah + ac</td>\n",
              "      <td>lokasi perumahan bliss village lateri bebas ma...</td>\n",
              "    </tr>\n",
              "    <tr>\n",
              "      <th>27</th>\n",
              "      <td>2020-12-20</td>\n",
              "      <td>https://www.99.co/id/properti/rumah-dijual-700...</td>\n",
              "      <td>700</td>\n",
              "      <td>Ambon, Maluku</td>\n",
              "      <td>100.0</td>\n",
              "      <td>36.0</td>\n",
              "      <td>2</td>\n",
              "      <td>1</td>\n",
              "      <td>0</td>\n",
              "      <td>0</td>\n",
              "      <td>1</td>\n",
              "      <td>0</td>\n",
              "      <td>SHM</td>\n",
              "      <td>Jual rumah bebas banjir nyaman asri aman</td>\n",
              "      <td>-</td>\n",
              "    </tr>\n",
              "    <tr>\n",
              "      <th>28</th>\n",
              "      <td>2020-10-10</td>\n",
              "      <td>https://www.rumahku.com/p/J9XWG001/rumah-dijua...</td>\n",
              "      <td>155</td>\n",
              "      <td>Aha, Pulau Morotai, Maluku Utara</td>\n",
              "      <td>120.0</td>\n",
              "      <td>36.0</td>\n",
              "      <td>2</td>\n",
              "      <td>1</td>\n",
              "      <td>0</td>\n",
              "      <td>0</td>\n",
              "      <td>1</td>\n",
              "      <td>0</td>\n",
              "      <td>SHM</td>\n",
              "      <td>Falila Residence Morotai</td>\n",
              "      <td>Jababeka Morotai adalah Badan Usaha yang ditun...</td>\n",
              "    </tr>\n",
              "    <tr>\n",
              "      <th>29</th>\n",
              "      <td>2020-10-08</td>\n",
              "      <td>http://citralandambon.com/read/2019/03/22/28/J...</td>\n",
              "      <td>746</td>\n",
              "      <td>Ambon, Maluku</td>\n",
              "      <td>90.0</td>\n",
              "      <td>43.0</td>\n",
              "      <td>2</td>\n",
              "      <td>1</td>\n",
              "      <td>0</td>\n",
              "      <td>0</td>\n",
              "      <td>1</td>\n",
              "      <td>0</td>\n",
              "      <td>SHM</td>\n",
              "      <td>JADE (LB. 43 M2 | LT. 90 M2)</td>\n",
              "      <td>SPESIFIKASI BANGUNAN \\r\\n\\r\\nPONDASI : Batu Ka...</td>\n",
              "    </tr>\n",
              "    <tr>\n",
              "      <th>30</th>\n",
              "      <td>2020-10-08</td>\n",
              "      <td>http://citralandambon.com/read/2019/03/22/29/E...</td>\n",
              "      <td>941</td>\n",
              "      <td>Ambon, Maluku</td>\n",
              "      <td>105.0</td>\n",
              "      <td>59.0</td>\n",
              "      <td>2</td>\n",
              "      <td>1</td>\n",
              "      <td>0</td>\n",
              "      <td>0</td>\n",
              "      <td>1</td>\n",
              "      <td>0</td>\n",
              "      <td>SHM</td>\n",
              "      <td>EMERALD (LB. 59 M2 | LT. 105 M2)</td>\n",
              "      <td>SPESIFIKASI BANGUNAN, PONDASI : Batu Karang Pa...</td>\n",
              "    </tr>\n",
              "    <tr>\n",
              "      <th>31</th>\n",
              "      <td>2020-10-08</td>\n",
              "      <td>http://citralandambon.com/read/2019/03/22/30/R...</td>\n",
              "      <td>1033</td>\n",
              "      <td>Ambon, Maluku</td>\n",
              "      <td>120.0</td>\n",
              "      <td>63.0</td>\n",
              "      <td>2</td>\n",
              "      <td>1</td>\n",
              "      <td>0</td>\n",
              "      <td>0</td>\n",
              "      <td>1</td>\n",
              "      <td>0</td>\n",
              "      <td>SHM</td>\n",
              "      <td>RUBY (LB. 63 M2 | LT. 120 M2)</td>\n",
              "      <td>SPESIFIKASI BANGUNAN\\r\\n\\r\\nPONDASI : Batu Kar...</td>\n",
              "    </tr>\n",
              "    <tr>\n",
              "      <th>32</th>\n",
              "      <td>2020-10-08</td>\n",
              "      <td>http://citralandambon.com/read/2019/03/22/31/S...</td>\n",
              "      <td>1130</td>\n",
              "      <td>Ambon, Maluku</td>\n",
              "      <td>135.0</td>\n",
              "      <td>72.0</td>\n",
              "      <td>2</td>\n",
              "      <td>1</td>\n",
              "      <td>1</td>\n",
              "      <td>1</td>\n",
              "      <td>1</td>\n",
              "      <td>0</td>\n",
              "      <td>SHM</td>\n",
              "      <td>SAPPHIRE (LB. 70 M2 | LT. 135 M2)</td>\n",
              "      <td>SPESIFIKASI BANGUNAN \\r\\n\\r\\nPONDASI : Batu Ka...</td>\n",
              "    </tr>\n",
              "    <tr>\n",
              "      <th>33</th>\n",
              "      <td>2020-10-08</td>\n",
              "      <td>http://citralandambon.com/read/2019/03/22/32/D...</td>\n",
              "      <td>1975</td>\n",
              "      <td>Ambon, Maluku</td>\n",
              "      <td>200.0</td>\n",
              "      <td>100.0</td>\n",
              "      <td>3</td>\n",
              "      <td>2</td>\n",
              "      <td>0</td>\n",
              "      <td>0</td>\n",
              "      <td>2</td>\n",
              "      <td>0</td>\n",
              "      <td>SHM</td>\n",
              "      <td>DIAMOND (LB. 100 M2 | LT. 200 M2)</td>\n",
              "      <td>SPESIFIKASI BANGUNAN \\r\\n\\r\\nPONDASI : Batu Ka...</td>\n",
              "    </tr>\n",
              "    <tr>\n",
              "      <th>34</th>\n",
              "      <td>2020-04-13</td>\n",
              "      <td>https://www.rumahku.com/p/YXL7T001/rumah-dijua...</td>\n",
              "      <td>12000</td>\n",
              "      <td>Ambon, Maluku</td>\n",
              "      <td>428.0</td>\n",
              "      <td>150.0</td>\n",
              "      <td>6</td>\n",
              "      <td>2</td>\n",
              "      <td>0</td>\n",
              "      <td>0</td>\n",
              "      <td>0</td>\n",
              "      <td>6</td>\n",
              "      <td>SHM</td>\n",
              "      <td>rumah luas depan jalan raya berhadapan dengan ...</td>\n",
              "      <td>cocok buat para investor yang ingin berbisnis ...</td>\n",
              "    </tr>\n",
              "    <tr>\n",
              "      <th>35</th>\n",
              "      <td>2019-07-26</td>\n",
              "      <td>https://www.rumah123.com/properti/ambon/hos479...</td>\n",
              "      <td>650</td>\n",
              "      <td>Ambon, Maluku</td>\n",
              "      <td>193.0</td>\n",
              "      <td>30.0</td>\n",
              "      <td>1</td>\n",
              "      <td>1</td>\n",
              "      <td>0</td>\n",
              "      <td>0</td>\n",
              "      <td>0</td>\n",
              "      <td>0</td>\n",
              "      <td>SHM</td>\n",
              "      <td>murah bth cepat laku!! waitatiri ambon, strate...</td>\n",
              "      <td>Rumah Dijual Ambon</td>\n",
              "    </tr>\n",
              "    <tr>\n",
              "      <th>36</th>\n",
              "      <td>2019-12-06</td>\n",
              "      <td>https://dagymoiproperti.wordpress.com/2019/06/...</td>\n",
              "      <td>451</td>\n",
              "      <td>Ternate, Maluku Utara</td>\n",
              "      <td>105.0</td>\n",
              "      <td>70.0</td>\n",
              "      <td>3</td>\n",
              "      <td>2</td>\n",
              "      <td>0</td>\n",
              "      <td>0</td>\n",
              "      <td>1</td>\n",
              "      <td>0</td>\n",
              "      <td>SHM</td>\n",
              "      <td>Perumahan Shafira Residence – kel. Ngade, Ternate</td>\n",
              "      <td>Perumahan yang berlokasi di Selatan Kota Terna...</td>\n",
              "    </tr>\n",
              "    <tr>\n",
              "      <th>37</th>\n",
              "      <td>2019-12-06</td>\n",
              "      <td>https://dagymoiproperti.wordpress.com/2019/06/...</td>\n",
              "      <td>168</td>\n",
              "      <td>Ternate, Maluku Utara</td>\n",
              "      <td>85.0</td>\n",
              "      <td>36.0</td>\n",
              "      <td>2</td>\n",
              "      <td>1</td>\n",
              "      <td>0</td>\n",
              "      <td>0</td>\n",
              "      <td>1</td>\n",
              "      <td>0</td>\n",
              "      <td>SHM</td>\n",
              "      <td>Perumahan Shafira Residence – kel. Ngade, Ternate</td>\n",
              "      <td>Perumahan yang berlokasi di Selatan Kota Terna...</td>\n",
              "    </tr>\n",
              "    <tr>\n",
              "      <th>38</th>\n",
              "      <td>2019-07-05</td>\n",
              "      <td>https://dagymoiproperti.wordpress.com/2019/05/...</td>\n",
              "      <td>168</td>\n",
              "      <td>Ternate, Maluku Utara</td>\n",
              "      <td>85.0</td>\n",
              "      <td>36.0</td>\n",
              "      <td>2</td>\n",
              "      <td>1</td>\n",
              "      <td>0</td>\n",
              "      <td>0</td>\n",
              "      <td>1</td>\n",
              "      <td>0</td>\n",
              "      <td>AJB/BPHTB</td>\n",
              "      <td>NaN</td>\n",
              "      <td>Perumahan dengan Harga Jual Subsidi type 36/85...</td>\n",
              "    </tr>\n",
              "    <tr>\n",
              "      <th>41</th>\n",
              "      <td>2018-07-23</td>\n",
              "      <td>https://dagymoiproperti.wordpress.com/2018/07/...</td>\n",
              "      <td>168</td>\n",
              "      <td>Ternate, Maluku Utara</td>\n",
              "      <td>85.0</td>\n",
              "      <td>36.0</td>\n",
              "      <td>2</td>\n",
              "      <td>1</td>\n",
              "      <td>0</td>\n",
              "      <td>0</td>\n",
              "      <td>1</td>\n",
              "      <td>0</td>\n",
              "      <td>AJB/BPHTB</td>\n",
              "      <td>Perumahan Subsidi Dagymoi Green Park I, Tubo</td>\n",
              "      <td>Perumahan dengan Harga Jual Subsidi type 36/85...</td>\n",
              "    </tr>\n",
              "    <tr>\n",
              "      <th>42</th>\n",
              "      <td>2018-04-07</td>\n",
              "      <td>https://dagymoiproperti.wordpress.com/2018/07/...</td>\n",
              "      <td>288</td>\n",
              "      <td>Ternate, Maluku Utara</td>\n",
              "      <td>84.0</td>\n",
              "      <td>40.0</td>\n",
              "      <td>2</td>\n",
              "      <td>1</td>\n",
              "      <td>0</td>\n",
              "      <td>0</td>\n",
              "      <td>1</td>\n",
              "      <td>0</td>\n",
              "      <td>SHM</td>\n",
              "      <td>Update Harga Perumahan Dagymoi Green Village, ...</td>\n",
              "      <td>Sertifikat Hak Milik \\r\\n➡2 kamar tidur \\r\\n➡1...</td>\n",
              "    </tr>\n",
              "    <tr>\n",
              "      <th>43</th>\n",
              "      <td>2018-04-07</td>\n",
              "      <td>https://dagymoiproperti.wordpress.com/2018/07/...</td>\n",
              "      <td>316</td>\n",
              "      <td>Ternate, Maluku Utara</td>\n",
              "      <td>84.0</td>\n",
              "      <td>45.0</td>\n",
              "      <td>2</td>\n",
              "      <td>1</td>\n",
              "      <td>0</td>\n",
              "      <td>0</td>\n",
              "      <td>1</td>\n",
              "      <td>0</td>\n",
              "      <td>SHM</td>\n",
              "      <td>Update Harga Perumahan Dagymoi Green Village, ...</td>\n",
              "      <td>Sertifikat Hak Milik \\r\\n➡2 kamar tidur \\r\\n➡1...</td>\n",
              "    </tr>\n",
              "    <tr>\n",
              "      <th>44</th>\n",
              "      <td>2018-04-07</td>\n",
              "      <td>https://dagymoiproperti.wordpress.com/2018/07/...</td>\n",
              "      <td>495</td>\n",
              "      <td>Ternate, Maluku Utara</td>\n",
              "      <td>98.0</td>\n",
              "      <td>70.0</td>\n",
              "      <td>3</td>\n",
              "      <td>2</td>\n",
              "      <td>0</td>\n",
              "      <td>0</td>\n",
              "      <td>1</td>\n",
              "      <td>0</td>\n",
              "      <td>SHM</td>\n",
              "      <td>Update Harga Perumahan Dagymoi Green Village, ...</td>\n",
              "      <td>Sertifikat Hak Milik \\r\\n➡3 kamar tidur \\r\\n➡2...</td>\n",
              "    </tr>\n",
              "    <tr>\n",
              "      <th>45</th>\n",
              "      <td>2018-04-07</td>\n",
              "      <td>https://dagymoiproperti.wordpress.com/2018/07/...</td>\n",
              "      <td>785</td>\n",
              "      <td>Ternate, Maluku Utara</td>\n",
              "      <td>120.0</td>\n",
              "      <td>120.0</td>\n",
              "      <td>4</td>\n",
              "      <td>3</td>\n",
              "      <td>0</td>\n",
              "      <td>0</td>\n",
              "      <td>1</td>\n",
              "      <td>0</td>\n",
              "      <td>SHM</td>\n",
              "      <td>Update Harga Perumahan Dagymoi Green Village, ...</td>\n",
              "      <td>Sertifikat Hak Milik \\r\\n➡4 kamar tidur \\r\\n➡3...</td>\n",
              "    </tr>\n",
              "    <tr>\n",
              "      <th>46</th>\n",
              "      <td>2018-02-25</td>\n",
              "      <td>https://dagymoiproperti.wordpress.com/2018/02/...</td>\n",
              "      <td>300</td>\n",
              "      <td>Ternate, Maluku Utara</td>\n",
              "      <td>98.0</td>\n",
              "      <td>70.0</td>\n",
              "      <td>2</td>\n",
              "      <td>2</td>\n",
              "      <td>0</td>\n",
              "      <td>0</td>\n",
              "      <td>1</td>\n",
              "      <td>0</td>\n",
              "      <td>SHM</td>\n",
              "      <td>Jambula Residence (SOLD)</td>\n",
              "      <td>Tipe 70 Jambula Residence. Fasilitas : 2 kamar...</td>\n",
              "    </tr>\n",
              "    <tr>\n",
              "      <th>47</th>\n",
              "      <td>2018-02-25</td>\n",
              "      <td>https://dagymoiproperti.wordpress.com/2018/02/...</td>\n",
              "      <td>168</td>\n",
              "      <td>Bacan, Maluku Utara</td>\n",
              "      <td>36.0</td>\n",
              "      <td>98.0</td>\n",
              "      <td>2</td>\n",
              "      <td>1</td>\n",
              "      <td>0</td>\n",
              "      <td>0</td>\n",
              "      <td>1</td>\n",
              "      <td>0</td>\n",
              "      <td>SHM</td>\n",
              "      <td>Marabose Permai, Bacan Halsel</td>\n",
              "      <td>Perumahan Marabose Permai berlokasi di Kota Ba...</td>\n",
              "    </tr>\n",
              "    <tr>\n",
              "      <th>48</th>\n",
              "      <td>2018-02-25</td>\n",
              "      <td>https://dagymoiproperti.wordpress.com/2018/02/...</td>\n",
              "      <td>141</td>\n",
              "      <td>Ternate, Maluku Utara</td>\n",
              "      <td>87.0</td>\n",
              "      <td>36.0</td>\n",
              "      <td>2</td>\n",
              "      <td>1</td>\n",
              "      <td>0</td>\n",
              "      <td>0</td>\n",
              "      <td>1</td>\n",
              "      <td>0</td>\n",
              "      <td>SHM</td>\n",
              "      <td>Jambula Residence (SOLD)</td>\n",
              "      <td>Tipe 36 Jambula Residence.Cicilan 870rb-an/bul...</td>\n",
              "    </tr>\n",
              "  </tbody>\n",
              "</table>\n",
              "</div>"
            ],
            "text/plain": [
              "    Tgl_Iklan  ...                                          Deskripsi\n",
              "0  2021-08-04  ...  Peminat Serius Hubungi:\\r\\nIbu Ata\\r\\n0851-012...\n",
              "1  2021-04-04  ...  Pemilik langsung, tanpa perantara. Lokasi Stra...\n",
              "2  2021-03-22  ...  Sertifikat SHM ( Sertifikat Hak Milik ). Harga...\n",
              "4  2021-03-17  ...  Jual Rumah 3Kamar, 2 kamar mandi\\r\\nSpesifikas...\n",
              "5  2021-03-14  ...  Rumah dijual dengan 5 kamar tidur di Karang Pa...\n",
              "6  2021-10-03  ...  Dijual rumah Murah di Karang Panjang ambon Mal...\n",
              "11 2021-08-03  ...  Jual cepat rumah daerah stategis! Terletak di ...\n",
              "12 2021-07-03  ...  Luas tanah 387 m2. Bangunan 85 m2. Sertifikat ...\n",
              "13 2021-07-03  ...  Rumah dijual Cepat tanpa Perantara, lokasi dek...\n",
              "14 2021-07-03  ...  Di jual rumah strategis,dekat dengan pusat kot...\n",
              "15 2021-06-03  ...  Dijual rumah tinggal siap huni. Bagi yang berm...\n",
              "16 2021-04-03  ...  Kode Iklan #0058 RUMAH 2 lantai plus 2 ruko de...\n",
              "18 2021-02-03  ...  Rumah dijual dengan 2 kamar tidur di Maluku\\r\\...\n",
              "20 2021-02-26  ...  Lokasi strategis tepat di Depan Jalan Utama, b...\n",
              "21 2021-09-02  ...                              Kondisi rumah terawat\n",
              "22 2021-01-02  ...  Rumah tinggal + usaha kos2an + usaha air minum...\n",
              "23 2021-01-31  ...  Dijual Rumah Sertifikat Hak Milik dengan luas ...\n",
              "24 2021-01-22  ...  Yang Bantu Jualkan dapat 1% Dari Harga Jual (k...\n",
              "25 2021-01-18  ...  Rumah layak pakai, ukuran lebih besar dari rum...\n",
              "26 2020-12-20  ...  lokasi perumahan bliss village lateri bebas ma...\n",
              "27 2020-12-20  ...                                                  -\n",
              "28 2020-10-10  ...  Jababeka Morotai adalah Badan Usaha yang ditun...\n",
              "29 2020-10-08  ...  SPESIFIKASI BANGUNAN \\r\\n\\r\\nPONDASI : Batu Ka...\n",
              "30 2020-10-08  ...  SPESIFIKASI BANGUNAN, PONDASI : Batu Karang Pa...\n",
              "31 2020-10-08  ...  SPESIFIKASI BANGUNAN\\r\\n\\r\\nPONDASI : Batu Kar...\n",
              "32 2020-10-08  ...  SPESIFIKASI BANGUNAN \\r\\n\\r\\nPONDASI : Batu Ka...\n",
              "33 2020-10-08  ...  SPESIFIKASI BANGUNAN \\r\\n\\r\\nPONDASI : Batu Ka...\n",
              "34 2020-04-13  ...  cocok buat para investor yang ingin berbisnis ...\n",
              "35 2019-07-26  ...                                 Rumah Dijual Ambon\n",
              "36 2019-12-06  ...  Perumahan yang berlokasi di Selatan Kota Terna...\n",
              "37 2019-12-06  ...  Perumahan yang berlokasi di Selatan Kota Terna...\n",
              "38 2019-07-05  ...  Perumahan dengan Harga Jual Subsidi type 36/85...\n",
              "41 2018-07-23  ...  Perumahan dengan Harga Jual Subsidi type 36/85...\n",
              "42 2018-04-07  ...  Sertifikat Hak Milik \\r\\n➡2 kamar tidur \\r\\n➡1...\n",
              "43 2018-04-07  ...  Sertifikat Hak Milik \\r\\n➡2 kamar tidur \\r\\n➡1...\n",
              "44 2018-04-07  ...  Sertifikat Hak Milik \\r\\n➡3 kamar tidur \\r\\n➡2...\n",
              "45 2018-04-07  ...  Sertifikat Hak Milik \\r\\n➡4 kamar tidur \\r\\n➡3...\n",
              "46 2018-02-25  ...  Tipe 70 Jambula Residence. Fasilitas : 2 kamar...\n",
              "47 2018-02-25  ...  Perumahan Marabose Permai berlokasi di Kota Ba...\n",
              "48 2018-02-25  ...  Tipe 36 Jambula Residence.Cicilan 870rb-an/bul...\n",
              "\n",
              "[40 rows x 15 columns]"
            ]
          },
          "metadata": {
            "tags": []
          },
          "execution_count": 63
        }
      ]
    },
    {
      "cell_type": "code",
      "metadata": {
        "id": "ktSBxkzYCLV7"
      },
      "source": [
        "rumah3.dropna(inplace=True)"
      ],
      "execution_count": null,
      "outputs": []
    },
    {
      "cell_type": "code",
      "metadata": {
        "colab": {
          "base_uri": "https://localhost:8080/"
        },
        "id": "Bv8_nfm4Byjq",
        "outputId": "b28b0af5-eced-4adb-be2e-15914d269213"
      },
      "source": [
        "print(rumah3.isnull().sum())"
      ],
      "execution_count": null,
      "outputs": [
        {
          "output_type": "stream",
          "text": [
            "Tgl_Iklan        0\n",
            "url              0\n",
            "Harga_juta       0\n",
            "Kota_Provinsi    0\n",
            "Luas_Tanah       0\n",
            "Luas_Bangunan    0\n",
            "KT               0\n",
            "KM               0\n",
            "KTP              0\n",
            "KMP              0\n",
            "Carport          0\n",
            "Garasi           0\n",
            "Surat            0\n",
            "Judul            0\n",
            "Deskripsi        0\n",
            "dtype: int64\n"
          ],
          "name": "stdout"
        }
      ]
    },
    {
      "cell_type": "code",
      "metadata": {
        "colab": {
          "base_uri": "https://localhost:8080/",
          "height": 364
        },
        "id": "BKGb0HtwCdS9",
        "outputId": "78bbe7d1-d85f-41ed-a2aa-63c48852bfce"
      },
      "source": [
        "rumah3.head()"
      ],
      "execution_count": null,
      "outputs": [
        {
          "output_type": "execute_result",
          "data": {
            "text/html": [
              "<div>\n",
              "<style scoped>\n",
              "    .dataframe tbody tr th:only-of-type {\n",
              "        vertical-align: middle;\n",
              "    }\n",
              "\n",
              "    .dataframe tbody tr th {\n",
              "        vertical-align: top;\n",
              "    }\n",
              "\n",
              "    .dataframe thead th {\n",
              "        text-align: right;\n",
              "    }\n",
              "</style>\n",
              "<table border=\"1\" class=\"dataframe\">\n",
              "  <thead>\n",
              "    <tr style=\"text-align: right;\">\n",
              "      <th></th>\n",
              "      <th>Tgl_Iklan</th>\n",
              "      <th>url</th>\n",
              "      <th>Harga_juta</th>\n",
              "      <th>Kota_Provinsi</th>\n",
              "      <th>Luas_Tanah</th>\n",
              "      <th>Luas_Bangunan</th>\n",
              "      <th>KT</th>\n",
              "      <th>KM</th>\n",
              "      <th>KTP</th>\n",
              "      <th>KMP</th>\n",
              "      <th>Carport</th>\n",
              "      <th>Garasi</th>\n",
              "      <th>Surat</th>\n",
              "      <th>Judul</th>\n",
              "      <th>Deskripsi</th>\n",
              "    </tr>\n",
              "  </thead>\n",
              "  <tbody>\n",
              "    <tr>\n",
              "      <th>0</th>\n",
              "      <td>2021-08-04</td>\n",
              "      <td>https://www.realoka.com/82784-dijual-disewa-ru...</td>\n",
              "      <td>1200</td>\n",
              "      <td>Ambon, Maluku</td>\n",
              "      <td>135.0</td>\n",
              "      <td>70.0</td>\n",
              "      <td>2</td>\n",
              "      <td>2</td>\n",
              "      <td>1</td>\n",
              "      <td>0</td>\n",
              "      <td>1</td>\n",
              "      <td>0</td>\n",
              "      <td>SHM</td>\n",
              "      <td>Dijual Disewa Rumah di Citraland Ambon Pr1699</td>\n",
              "      <td>Peminat Serius Hubungi:\\r\\nIbu Ata\\r\\n0851-012...</td>\n",
              "    </tr>\n",
              "    <tr>\n",
              "      <th>1</th>\n",
              "      <td>2021-04-04</td>\n",
              "      <td>https://www.olx.co.id/item/rumah-di-citraland-...</td>\n",
              "      <td>1110</td>\n",
              "      <td>Ambon, Maluku</td>\n",
              "      <td>135.0</td>\n",
              "      <td>70.0</td>\n",
              "      <td>3</td>\n",
              "      <td>2</td>\n",
              "      <td>0</td>\n",
              "      <td>0</td>\n",
              "      <td>1</td>\n",
              "      <td>0</td>\n",
              "      <td>SHM</td>\n",
              "      <td>Rumah di Citraland Ambon</td>\n",
              "      <td>Pemilik langsung, tanpa perantara. Lokasi Stra...</td>\n",
              "    </tr>\n",
              "    <tr>\n",
              "      <th>2</th>\n",
              "      <td>2021-03-22</td>\n",
              "      <td>https://www.olx.co.id/item/di-jual-rumah-tingg...</td>\n",
              "      <td>2100</td>\n",
              "      <td>Tual, Maluku</td>\n",
              "      <td>875.0</td>\n",
              "      <td>220.0</td>\n",
              "      <td>3</td>\n",
              "      <td>3</td>\n",
              "      <td>0</td>\n",
              "      <td>0</td>\n",
              "      <td>1</td>\n",
              "      <td>1</td>\n",
              "      <td>SHM</td>\n",
              "      <td>Di Jual Rumah Tinggal Di BTN Indah Tual</td>\n",
              "      <td>Sertifikat SHM ( Sertifikat Hak Milik ). Harga...</td>\n",
              "    </tr>\n",
              "    <tr>\n",
              "      <th>4</th>\n",
              "      <td>2021-03-17</td>\n",
              "      <td>https://rumah.trovit.co.id/listing/dijual-ruma...</td>\n",
              "      <td>1250</td>\n",
              "      <td>Maluku Tengah</td>\n",
              "      <td>120.0</td>\n",
              "      <td>542.0</td>\n",
              "      <td>3</td>\n",
              "      <td>2</td>\n",
              "      <td>0</td>\n",
              "      <td>0</td>\n",
              "      <td>0</td>\n",
              "      <td>0</td>\n",
              "      <td>SHM</td>\n",
              "      <td>Dijual Rumah Potensi Pebisnis</td>\n",
              "      <td>Jual Rumah 3Kamar, 2 kamar mandi\\r\\nSpesifikas...</td>\n",
              "    </tr>\n",
              "    <tr>\n",
              "      <th>5</th>\n",
              "      <td>2021-03-14</td>\n",
              "      <td>https://www.dotproperty.id/rumah-dijual-dengan...</td>\n",
              "      <td>15000</td>\n",
              "      <td>Ambon, Maluku</td>\n",
              "      <td>500.0</td>\n",
              "      <td>255.0</td>\n",
              "      <td>5</td>\n",
              "      <td>4</td>\n",
              "      <td>0</td>\n",
              "      <td>0</td>\n",
              "      <td>0</td>\n",
              "      <td>6</td>\n",
              "      <td>SHM</td>\n",
              "      <td>Rumah dijual Cepat Tanpa Perantara-SHM, Karang...</td>\n",
              "      <td>Rumah dijual dengan 5 kamar tidur di Karang Pa...</td>\n",
              "    </tr>\n",
              "  </tbody>\n",
              "</table>\n",
              "</div>"
            ],
            "text/plain": [
              "   Tgl_Iklan  ...                                          Deskripsi\n",
              "0 2021-08-04  ...  Peminat Serius Hubungi:\\r\\nIbu Ata\\r\\n0851-012...\n",
              "1 2021-04-04  ...  Pemilik langsung, tanpa perantara. Lokasi Stra...\n",
              "2 2021-03-22  ...  Sertifikat SHM ( Sertifikat Hak Milik ). Harga...\n",
              "4 2021-03-17  ...  Jual Rumah 3Kamar, 2 kamar mandi\\r\\nSpesifikas...\n",
              "5 2021-03-14  ...  Rumah dijual dengan 5 kamar tidur di Karang Pa...\n",
              "\n",
              "[5 rows x 15 columns]"
            ]
          },
          "metadata": {
            "tags": []
          },
          "execution_count": 66
        }
      ]
    },
    {
      "cell_type": "code",
      "metadata": {
        "colab": {
          "base_uri": "https://localhost:8080/"
        },
        "id": "gjFlp8CgClro",
        "outputId": "bdfc6b14-8554-4c40-92d9-d55cc2194c55"
      },
      "source": [
        "# Ukuran Data\n",
        "N, P = rumah3.shape\n",
        "'baris = ', N, ', Kolom = ', P"
      ],
      "execution_count": null,
      "outputs": [
        {
          "output_type": "execute_result",
          "data": {
            "text/plain": [
              "('baris = ', 39, ', Kolom = ', 15)"
            ]
          },
          "metadata": {
            "tags": []
          },
          "execution_count": 67
        }
      ]
    },
    {
      "cell_type": "markdown",
      "metadata": {
        "id": "ZNX0T4fHIY5F"
      },
      "source": [
        "# Statistika Deskriptif"
      ]
    },
    {
      "cell_type": "code",
      "metadata": {
        "colab": {
          "base_uri": "https://localhost:8080/",
          "height": 607
        },
        "id": "jrd7uumXDN_J",
        "outputId": "bc771534-5acc-4ec4-a6a1-af8f52ab466e"
      },
      "source": [
        "# Statistika Sederhana dari data \"Numerik\"-nya\n",
        "rumah3.describe(include='all')"
      ],
      "execution_count": null,
      "outputs": [
        {
          "output_type": "execute_result",
          "data": {
            "text/html": [
              "<div>\n",
              "<style scoped>\n",
              "    .dataframe tbody tr th:only-of-type {\n",
              "        vertical-align: middle;\n",
              "    }\n",
              "\n",
              "    .dataframe tbody tr th {\n",
              "        vertical-align: top;\n",
              "    }\n",
              "\n",
              "    .dataframe thead th {\n",
              "        text-align: right;\n",
              "    }\n",
              "</style>\n",
              "<table border=\"1\" class=\"dataframe\">\n",
              "  <thead>\n",
              "    <tr style=\"text-align: right;\">\n",
              "      <th></th>\n",
              "      <th>Tgl_Iklan</th>\n",
              "      <th>url</th>\n",
              "      <th>Harga_juta</th>\n",
              "      <th>Kota_Provinsi</th>\n",
              "      <th>Luas_Tanah</th>\n",
              "      <th>Luas_Bangunan</th>\n",
              "      <th>KT</th>\n",
              "      <th>KM</th>\n",
              "      <th>KTP</th>\n",
              "      <th>KMP</th>\n",
              "      <th>Carport</th>\n",
              "      <th>Garasi</th>\n",
              "      <th>Surat</th>\n",
              "      <th>Judul</th>\n",
              "      <th>Deskripsi</th>\n",
              "    </tr>\n",
              "  </thead>\n",
              "  <tbody>\n",
              "    <tr>\n",
              "      <th>count</th>\n",
              "      <td>39</td>\n",
              "      <td>39</td>\n",
              "      <td>39.000000</td>\n",
              "      <td>39</td>\n",
              "      <td>39.000000</td>\n",
              "      <td>39.000000</td>\n",
              "      <td>39.000000</td>\n",
              "      <td>39.000000</td>\n",
              "      <td>39.000000</td>\n",
              "      <td>39.000000</td>\n",
              "      <td>39.000000</td>\n",
              "      <td>39.000000</td>\n",
              "      <td>39</td>\n",
              "      <td>39</td>\n",
              "      <td>39</td>\n",
              "    </tr>\n",
              "    <tr>\n",
              "      <th>unique</th>\n",
              "      <td>26</td>\n",
              "      <td>34</td>\n",
              "      <td>NaN</td>\n",
              "      <td>7</td>\n",
              "      <td>NaN</td>\n",
              "      <td>NaN</td>\n",
              "      <td>NaN</td>\n",
              "      <td>NaN</td>\n",
              "      <td>NaN</td>\n",
              "      <td>NaN</td>\n",
              "      <td>NaN</td>\n",
              "      <td>NaN</td>\n",
              "      <td>3</td>\n",
              "      <td>34</td>\n",
              "      <td>37</td>\n",
              "    </tr>\n",
              "    <tr>\n",
              "      <th>top</th>\n",
              "      <td>2020-10-08 00:00:00</td>\n",
              "      <td>https://dagymoiproperti.wordpress.com/2018/07/...</td>\n",
              "      <td>NaN</td>\n",
              "      <td>Ambon, Maluku</td>\n",
              "      <td>NaN</td>\n",
              "      <td>NaN</td>\n",
              "      <td>NaN</td>\n",
              "      <td>NaN</td>\n",
              "      <td>NaN</td>\n",
              "      <td>NaN</td>\n",
              "      <td>NaN</td>\n",
              "      <td>NaN</td>\n",
              "      <td>SHM</td>\n",
              "      <td>Update Harga Perumahan Dagymoi Green Village, ...</td>\n",
              "      <td>SPESIFIKASI BANGUNAN \\r\\n\\r\\nPONDASI : Batu Ka...</td>\n",
              "    </tr>\n",
              "    <tr>\n",
              "      <th>freq</th>\n",
              "      <td>5</td>\n",
              "      <td>4</td>\n",
              "      <td>NaN</td>\n",
              "      <td>23</td>\n",
              "      <td>NaN</td>\n",
              "      <td>NaN</td>\n",
              "      <td>NaN</td>\n",
              "      <td>NaN</td>\n",
              "      <td>NaN</td>\n",
              "      <td>NaN</td>\n",
              "      <td>NaN</td>\n",
              "      <td>NaN</td>\n",
              "      <td>37</td>\n",
              "      <td>4</td>\n",
              "      <td>3</td>\n",
              "    </tr>\n",
              "    <tr>\n",
              "      <th>first</th>\n",
              "      <td>2018-02-25 00:00:00</td>\n",
              "      <td>NaN</td>\n",
              "      <td>NaN</td>\n",
              "      <td>NaN</td>\n",
              "      <td>NaN</td>\n",
              "      <td>NaN</td>\n",
              "      <td>NaN</td>\n",
              "      <td>NaN</td>\n",
              "      <td>NaN</td>\n",
              "      <td>NaN</td>\n",
              "      <td>NaN</td>\n",
              "      <td>NaN</td>\n",
              "      <td>NaN</td>\n",
              "      <td>NaN</td>\n",
              "      <td>NaN</td>\n",
              "    </tr>\n",
              "    <tr>\n",
              "      <th>last</th>\n",
              "      <td>2021-10-03 00:00:00</td>\n",
              "      <td>NaN</td>\n",
              "      <td>NaN</td>\n",
              "      <td>NaN</td>\n",
              "      <td>NaN</td>\n",
              "      <td>NaN</td>\n",
              "      <td>NaN</td>\n",
              "      <td>NaN</td>\n",
              "      <td>NaN</td>\n",
              "      <td>NaN</td>\n",
              "      <td>NaN</td>\n",
              "      <td>NaN</td>\n",
              "      <td>NaN</td>\n",
              "      <td>NaN</td>\n",
              "      <td>NaN</td>\n",
              "    </tr>\n",
              "    <tr>\n",
              "      <th>mean</th>\n",
              "      <td>NaN</td>\n",
              "      <td>NaN</td>\n",
              "      <td>2056.410256</td>\n",
              "      <td>NaN</td>\n",
              "      <td>255.333333</td>\n",
              "      <td>183.564103</td>\n",
              "      <td>3.230769</td>\n",
              "      <td>2.025641</td>\n",
              "      <td>0.076923</td>\n",
              "      <td>0.051282</td>\n",
              "      <td>1.076923</td>\n",
              "      <td>0.564103</td>\n",
              "      <td>NaN</td>\n",
              "      <td>NaN</td>\n",
              "      <td>NaN</td>\n",
              "    </tr>\n",
              "    <tr>\n",
              "      <th>std</th>\n",
              "      <td>NaN</td>\n",
              "      <td>NaN</td>\n",
              "      <td>3394.047954</td>\n",
              "      <td>NaN</td>\n",
              "      <td>270.722458</td>\n",
              "      <td>229.883929</td>\n",
              "      <td>1.856164</td>\n",
              "      <td>1.224469</td>\n",
              "      <td>0.269953</td>\n",
              "      <td>0.223456</td>\n",
              "      <td>1.345257</td>\n",
              "      <td>1.552500</td>\n",
              "      <td>NaN</td>\n",
              "      <td>NaN</td>\n",
              "      <td>NaN</td>\n",
              "    </tr>\n",
              "    <tr>\n",
              "      <th>min</th>\n",
              "      <td>NaN</td>\n",
              "      <td>NaN</td>\n",
              "      <td>141.000000</td>\n",
              "      <td>NaN</td>\n",
              "      <td>36.000000</td>\n",
              "      <td>30.000000</td>\n",
              "      <td>1.000000</td>\n",
              "      <td>1.000000</td>\n",
              "      <td>0.000000</td>\n",
              "      <td>0.000000</td>\n",
              "      <td>0.000000</td>\n",
              "      <td>0.000000</td>\n",
              "      <td>NaN</td>\n",
              "      <td>NaN</td>\n",
              "      <td>NaN</td>\n",
              "    </tr>\n",
              "    <tr>\n",
              "      <th>25%</th>\n",
              "      <td>NaN</td>\n",
              "      <td>NaN</td>\n",
              "      <td>400.500000</td>\n",
              "      <td>NaN</td>\n",
              "      <td>98.500000</td>\n",
              "      <td>52.000000</td>\n",
              "      <td>2.000000</td>\n",
              "      <td>1.000000</td>\n",
              "      <td>0.000000</td>\n",
              "      <td>0.000000</td>\n",
              "      <td>1.000000</td>\n",
              "      <td>0.000000</td>\n",
              "      <td>NaN</td>\n",
              "      <td>NaN</td>\n",
              "      <td>NaN</td>\n",
              "    </tr>\n",
              "    <tr>\n",
              "      <th>50%</th>\n",
              "      <td>NaN</td>\n",
              "      <td>NaN</td>\n",
              "      <td>785.000000</td>\n",
              "      <td>NaN</td>\n",
              "      <td>120.000000</td>\n",
              "      <td>85.000000</td>\n",
              "      <td>3.000000</td>\n",
              "      <td>2.000000</td>\n",
              "      <td>0.000000</td>\n",
              "      <td>0.000000</td>\n",
              "      <td>1.000000</td>\n",
              "      <td>0.000000</td>\n",
              "      <td>NaN</td>\n",
              "      <td>NaN</td>\n",
              "      <td>NaN</td>\n",
              "    </tr>\n",
              "    <tr>\n",
              "      <th>75%</th>\n",
              "      <td>NaN</td>\n",
              "      <td>NaN</td>\n",
              "      <td>2150.000000</td>\n",
              "      <td>NaN</td>\n",
              "      <td>257.000000</td>\n",
              "      <td>235.000000</td>\n",
              "      <td>4.000000</td>\n",
              "      <td>2.000000</td>\n",
              "      <td>0.000000</td>\n",
              "      <td>0.000000</td>\n",
              "      <td>1.000000</td>\n",
              "      <td>0.000000</td>\n",
              "      <td>NaN</td>\n",
              "      <td>NaN</td>\n",
              "      <td>NaN</td>\n",
              "    </tr>\n",
              "    <tr>\n",
              "      <th>max</th>\n",
              "      <td>NaN</td>\n",
              "      <td>NaN</td>\n",
              "      <td>15000.000000</td>\n",
              "      <td>NaN</td>\n",
              "      <td>1100.000000</td>\n",
              "      <td>902.000000</td>\n",
              "      <td>10.000000</td>\n",
              "      <td>5.000000</td>\n",
              "      <td>1.000000</td>\n",
              "      <td>1.000000</td>\n",
              "      <td>8.000000</td>\n",
              "      <td>6.000000</td>\n",
              "      <td>NaN</td>\n",
              "      <td>NaN</td>\n",
              "      <td>NaN</td>\n",
              "    </tr>\n",
              "  </tbody>\n",
              "</table>\n",
              "</div>"
            ],
            "text/plain": [
              "                  Tgl_Iklan  ...                                          Deskripsi\n",
              "count                    39  ...                                                 39\n",
              "unique                   26  ...                                                 37\n",
              "top     2020-10-08 00:00:00  ...  SPESIFIKASI BANGUNAN \\r\\n\\r\\nPONDASI : Batu Ka...\n",
              "freq                      5  ...                                                  3\n",
              "first   2018-02-25 00:00:00  ...                                                NaN\n",
              "last    2021-10-03 00:00:00  ...                                                NaN\n",
              "mean                    NaN  ...                                                NaN\n",
              "std                     NaN  ...                                                NaN\n",
              "min                     NaN  ...                                                NaN\n",
              "25%                     NaN  ...                                                NaN\n",
              "50%                     NaN  ...                                                NaN\n",
              "75%                     NaN  ...                                                NaN\n",
              "max                     NaN  ...                                                NaN\n",
              "\n",
              "[13 rows x 15 columns]"
            ]
          },
          "metadata": {
            "tags": []
          },
          "execution_count": 68
        }
      ]
    },
    {
      "cell_type": "code",
      "metadata": {
        "colab": {
          "base_uri": "https://localhost:8080/",
          "height": 287
        },
        "id": "2j-CFBh_DR3D",
        "outputId": "525480d4-0abe-4e8e-cf0b-c306769df890"
      },
      "source": [
        "#statistik sederhana seluruh datanya\n",
        "rumah[['Harga_juta','Luas_Tanah']].describe(include='all')"
      ],
      "execution_count": null,
      "outputs": [
        {
          "output_type": "execute_result",
          "data": {
            "text/html": [
              "<div>\n",
              "<style scoped>\n",
              "    .dataframe tbody tr th:only-of-type {\n",
              "        vertical-align: middle;\n",
              "    }\n",
              "\n",
              "    .dataframe tbody tr th {\n",
              "        vertical-align: top;\n",
              "    }\n",
              "\n",
              "    .dataframe thead th {\n",
              "        text-align: right;\n",
              "    }\n",
              "</style>\n",
              "<table border=\"1\" class=\"dataframe\">\n",
              "  <thead>\n",
              "    <tr style=\"text-align: right;\">\n",
              "      <th></th>\n",
              "      <th>Harga_juta</th>\n",
              "      <th>Luas_Tanah</th>\n",
              "    </tr>\n",
              "  </thead>\n",
              "  <tbody>\n",
              "    <tr>\n",
              "      <th>count</th>\n",
              "      <td>50.000000</td>\n",
              "      <td>48.000000</td>\n",
              "    </tr>\n",
              "    <tr>\n",
              "      <th>mean</th>\n",
              "      <td>2197.840000</td>\n",
              "      <td>340.958333</td>\n",
              "    </tr>\n",
              "    <tr>\n",
              "      <th>std</th>\n",
              "      <td>3657.417547</td>\n",
              "      <td>603.705154</td>\n",
              "    </tr>\n",
              "    <tr>\n",
              "      <th>min</th>\n",
              "      <td>141.000000</td>\n",
              "      <td>36.000000</td>\n",
              "    </tr>\n",
              "    <tr>\n",
              "      <th>25%</th>\n",
              "      <td>362.500000</td>\n",
              "      <td>96.000000</td>\n",
              "    </tr>\n",
              "    <tr>\n",
              "      <th>50%</th>\n",
              "      <td>782.500000</td>\n",
              "      <td>127.000000</td>\n",
              "    </tr>\n",
              "    <tr>\n",
              "      <th>75%</th>\n",
              "      <td>2075.000000</td>\n",
              "      <td>366.750000</td>\n",
              "    </tr>\n",
              "    <tr>\n",
              "      <th>max</th>\n",
              "      <td>15000.000000</td>\n",
              "      <td>4002.000000</td>\n",
              "    </tr>\n",
              "  </tbody>\n",
              "</table>\n",
              "</div>"
            ],
            "text/plain": [
              "         Harga_juta   Luas_Tanah\n",
              "count     50.000000    48.000000\n",
              "mean    2197.840000   340.958333\n",
              "std     3657.417547   603.705154\n",
              "min      141.000000    36.000000\n",
              "25%      362.500000    96.000000\n",
              "50%      782.500000   127.000000\n",
              "75%     2075.000000   366.750000\n",
              "max    15000.000000  4002.000000"
            ]
          },
          "metadata": {
            "tags": []
          },
          "execution_count": 69
        }
      ]
    },
    {
      "cell_type": "markdown",
      "metadata": {
        "id": "rRwjjYl_ImpI"
      },
      "source": [
        "# Visualisasi Data"
      ]
    },
    {
      "cell_type": "code",
      "metadata": {
        "colab": {
          "base_uri": "https://localhost:8080/",
          "height": 364
        },
        "id": "UJpOvWheDbIu",
        "outputId": "3ce759bc-7a9d-4be7-eae4-7ff540d12c14"
      },
      "source": [
        "col = \"Harga_juta\"\n",
        "plot = sns.displot(data=rumah3, x=col, kde=True)"
      ],
      "execution_count": null,
      "outputs": [
        {
          "output_type": "display_data",
          "data": {
            "image/png": "[encoded data removed]",
            "text/plain": [
              "<Figure size 360x360 with 1 Axes>"
            ]
          },
          "metadata": {
            "tags": []
          }
        }
      ]
    },
    {
      "cell_type": "code",
      "metadata": {
        "colab": {
          "base_uri": "https://localhost:8080/",
          "height": 471
        },
        "id": "WHHcMn5IDgrZ",
        "outputId": "80bea4d3-c7db-4a13-dd67-97e560ec9a26"
      },
      "source": [
        "plot = sns.displot(data=rumah3, x=col, hue='Luas_Tanah', kind=\"kde\")"
      ],
      "execution_count": null,
      "outputs": [
        {
          "output_type": "display_data",
          "data": {
            "image/png": "[encoded data removed]",
            "text/plain": [
              "<Figure size 438.3x360 with 1 Axes>"
            ]
          },
          "metadata": {
            "tags": []
          }
        }
      ]
    },
    {
      "cell_type": "code",
      "metadata": {
        "colab": {
          "base_uri": "https://localhost:8080/",
          "height": 133
        },
        "id": "W8tqCyWeDodB",
        "outputId": "eaf2c362-1619-45a6-eda6-6702f4031621"
      },
      "source": [
        "numerical = rumah3.select_dtypes(include = ['int64','float64']).columns\n",
        "\n",
        "rumah3[numerical].hist(figsize=(15, 6), layout=(4, 10));"
      ],
      "execution_count": null,
      "outputs": [
        {
          "output_type": "display_data",
          "data": {
            "image/png": "[encoded data removed]",
            "text/plain": [
              "<Figure size 1080x432 with 40 Axes>"
            ]
          },
          "metadata": {
            "tags": []
          }
        }
      ]
    },
    {
      "cell_type": "markdown",
      "metadata": {
        "id": "IfTo1TcNI3Z3"
      },
      "source": [
        "# Scatter Plot Variabel 'Harga_Juta' dan 'Luas_Tanah'"
      ]
    },
    {
      "cell_type": "code",
      "metadata": {
        "colab": {
          "base_uri": "https://localhost:8080/",
          "height": 284
        },
        "id": "JCBz5nofDy0K",
        "outputId": "4b29bc0c-66c6-48f1-bbba-a92b977f1288"
      },
      "source": [
        "p = sns.scatterplot(x=rumah3['Luas_Tanah'], y=rumah3['Harga_juta'], hue=rumah3['Luas_Bangunan'])"
      ],
      "execution_count": null,
      "outputs": [
        {
          "output_type": "display_data",
          "data": {
            "image/png": "[encoded data removed]",
            "text/plain": [
              "<Figure size 432x288 with 1 Axes>"
            ]
          },
          "metadata": {
            "tags": []
          }
        }
      ]
    },
    {
      "cell_type": "markdown",
      "metadata": {
        "id": "NeSVUm-0JJ6c"
      },
      "source": [
        "# Joint Plot Variabel 'Luas_Tanah' dan 'Harga_juta'"
      ]
    },
    {
      "cell_type": "code",
      "metadata": {
        "colab": {
          "base_uri": "https://localhost:8080/",
          "height": 436
        },
        "id": "QLX53zMDD50P",
        "outputId": "1dfbe36c-d014-4216-a386-db3b8b216de9"
      },
      "source": [
        "p = sns.jointplot(x=rumah3['Luas_Tanah'], y=rumah3['Harga_juta'])"
      ],
      "execution_count": null,
      "outputs": [
        {
          "output_type": "display_data",
          "data": {
            "image/png": "[encoded data removed]",
            "text/plain": [
              "<Figure size 432x432 with 3 Axes>"
            ]
          },
          "metadata": {
            "tags": []
          }
        }
      ]
    },
    {
      "cell_type": "markdown",
      "metadata": {
        "id": "71xQuvZnIuuG"
      },
      "source": [
        "#Tabel Korelasi Antarvariabel"
      ]
    },
    {
      "cell_type": "code",
      "metadata": {
        "colab": {
          "base_uri": "https://localhost:8080/",
          "height": 317
        },
        "id": "4dBJtx4uD90U",
        "outputId": "e4da31ff-260b-4acd-c89b-af2c6ebabe76"
      },
      "source": [
        "rumah3.corr()"
      ],
      "execution_count": null,
      "outputs": [
        {
          "output_type": "execute_result",
          "data": {
            "text/html": [
              "<div>\n",
              "<style scoped>\n",
              "    .dataframe tbody tr th:only-of-type {\n",
              "        vertical-align: middle;\n",
              "    }\n",
              "\n",
              "    .dataframe tbody tr th {\n",
              "        vertical-align: top;\n",
              "    }\n",
              "\n",
              "    .dataframe thead th {\n",
              "        text-align: right;\n",
              "    }\n",
              "</style>\n",
              "<table border=\"1\" class=\"dataframe\">\n",
              "  <thead>\n",
              "    <tr style=\"text-align: right;\">\n",
              "      <th></th>\n",
              "      <th>Harga_juta</th>\n",
              "      <th>Luas_Tanah</th>\n",
              "      <th>Luas_Bangunan</th>\n",
              "      <th>KT</th>\n",
              "      <th>KM</th>\n",
              "      <th>KTP</th>\n",
              "      <th>KMP</th>\n",
              "      <th>Carport</th>\n",
              "      <th>Garasi</th>\n",
              "    </tr>\n",
              "  </thead>\n",
              "  <tbody>\n",
              "    <tr>\n",
              "      <th>Harga_juta</th>\n",
              "      <td>1.000000</td>\n",
              "      <td>0.299390</td>\n",
              "      <td>0.085979</td>\n",
              "      <td>0.505660</td>\n",
              "      <td>0.529333</td>\n",
              "      <td>0.234391</td>\n",
              "      <td>0.312880</td>\n",
              "      <td>-0.040024</td>\n",
              "      <td>0.943201</td>\n",
              "    </tr>\n",
              "    <tr>\n",
              "      <th>Luas_Tanah</th>\n",
              "      <td>0.299390</td>\n",
              "      <td>1.000000</td>\n",
              "      <td>0.824693</td>\n",
              "      <td>0.345322</td>\n",
              "      <td>0.316009</td>\n",
              "      <td>0.001440</td>\n",
              "      <td>0.054086</td>\n",
              "      <td>0.201600</td>\n",
              "      <td>0.367264</td>\n",
              "    </tr>\n",
              "    <tr>\n",
              "      <th>Luas_Bangunan</th>\n",
              "      <td>0.085979</td>\n",
              "      <td>0.824693</td>\n",
              "      <td>1.000000</td>\n",
              "      <td>0.237188</td>\n",
              "      <td>0.221422</td>\n",
              "      <td>-0.067294</td>\n",
              "      <td>-0.023119</td>\n",
              "      <td>0.197276</td>\n",
              "      <td>0.153487</td>\n",
              "    </tr>\n",
              "    <tr>\n",
              "      <th>KT</th>\n",
              "      <td>0.505660</td>\n",
              "      <td>0.345322</td>\n",
              "      <td>0.237188</td>\n",
              "      <td>1.000000</td>\n",
              "      <td>0.796244</td>\n",
              "      <td>-0.036359</td>\n",
              "      <td>0.034164</td>\n",
              "      <td>0.235098</td>\n",
              "      <td>0.391976</td>\n",
              "    </tr>\n",
              "    <tr>\n",
              "      <th>KM</th>\n",
              "      <td>0.529333</td>\n",
              "      <td>0.316009</td>\n",
              "      <td>0.221422</td>\n",
              "      <td>0.796244</td>\n",
              "      <td>1.000000</td>\n",
              "      <td>0.073488</td>\n",
              "      <td>0.091246</td>\n",
              "      <td>0.462070</td>\n",
              "      <td>0.379801</td>\n",
              "    </tr>\n",
              "    <tr>\n",
              "      <th>KTP</th>\n",
              "      <td>0.234391</td>\n",
              "      <td>0.001440</td>\n",
              "      <td>-0.067294</td>\n",
              "      <td>-0.036359</td>\n",
              "      <td>0.073488</td>\n",
              "      <td>1.000000</td>\n",
              "      <td>0.805387</td>\n",
              "      <td>-0.016723</td>\n",
              "      <td>0.207693</td>\n",
              "    </tr>\n",
              "    <tr>\n",
              "      <th>KMP</th>\n",
              "      <td>0.312880</td>\n",
              "      <td>0.054086</td>\n",
              "      <td>-0.023119</td>\n",
              "      <td>0.034164</td>\n",
              "      <td>0.091246</td>\n",
              "      <td>0.805387</td>\n",
              "      <td>1.000000</td>\n",
              "      <td>-0.013468</td>\n",
              "      <td>0.293701</td>\n",
              "    </tr>\n",
              "    <tr>\n",
              "      <th>Carport</th>\n",
              "      <td>-0.040024</td>\n",
              "      <td>0.201600</td>\n",
              "      <td>0.197276</td>\n",
              "      <td>0.235098</td>\n",
              "      <td>0.462070</td>\n",
              "      <td>-0.016723</td>\n",
              "      <td>-0.013468</td>\n",
              "      <td>1.000000</td>\n",
              "      <td>-0.084325</td>\n",
              "    </tr>\n",
              "    <tr>\n",
              "      <th>Garasi</th>\n",
              "      <td>0.943201</td>\n",
              "      <td>0.367264</td>\n",
              "      <td>0.153487</td>\n",
              "      <td>0.391976</td>\n",
              "      <td>0.379801</td>\n",
              "      <td>0.207693</td>\n",
              "      <td>0.293701</td>\n",
              "      <td>-0.084325</td>\n",
              "      <td>1.000000</td>\n",
              "    </tr>\n",
              "  </tbody>\n",
              "</table>\n",
              "</div>"
            ],
            "text/plain": [
              "               Harga_juta  Luas_Tanah  ...   Carport    Garasi\n",
              "Harga_juta       1.000000    0.299390  ... -0.040024  0.943201\n",
              "Luas_Tanah       0.299390    1.000000  ...  0.201600  0.367264\n",
              "Luas_Bangunan    0.085979    0.824693  ...  0.197276  0.153487\n",
              "KT               0.505660    0.345322  ...  0.235098  0.391976\n",
              "KM               0.529333    0.316009  ...  0.462070  0.379801\n",
              "KTP              0.234391    0.001440  ... -0.016723  0.207693\n",
              "KMP              0.312880    0.054086  ... -0.013468  0.293701\n",
              "Carport         -0.040024    0.201600  ...  1.000000 -0.084325\n",
              "Garasi           0.943201    0.367264  ... -0.084325  1.000000\n",
              "\n",
              "[9 rows x 9 columns]"
            ]
          },
          "metadata": {
            "tags": []
          },
          "execution_count": 75
        }
      ]
    },
    {
      "cell_type": "markdown",
      "metadata": {
        "id": "qAmxI1mzJb2m"
      },
      "source": [
        "# Heat Map"
      ]
    },
    {
      "cell_type": "code",
      "metadata": {
        "colab": {
          "base_uri": "https://localhost:8080/",
          "height": 671
        },
        "id": "A_6VKSrIEGZ5",
        "outputId": "2bd29765-6586-40ac-c9bc-dcc1d28a8930"
      },
      "source": [
        "# HeatMap untuk menyelidiki korelasi\n",
        "corr2 = rumah3.corr() # We already examined SalePrice correlations\n",
        "plt.figure(figsize=(12, 10))\n",
        "sns.heatmap(corr2[(corr2 >= 0.5) | (corr2 <= -0.4)], \n",
        "            cmap='viridis', vmax=1.0, vmin=-1.0, linewidths=0.1,\n",
        "            annot=True, annot_kws={\"size\": 14}, square=True);"
      ],
      "execution_count": null,
      "outputs": [
        {
          "output_type": "display_data",
          "data": {
            "image/png": "[encoded data removed]",
            "text/plain": [
              "<Figure size 864x720 with 2 Axes>"
            ]
          },
          "metadata": {
            "tags": []
          }
        }
      ]
    },
    {
      "cell_type": "markdown",
      "metadata": {
        "id": "ySh247dZJhKD"
      },
      "source": [
        "# Kesimpulan"
      ]
    },
    {
      "cell_type": "markdown",
      "metadata": {
        "id": "QFesbC8wErMK"
      },
      "source": [
        "Dari 50 data iklan penjualan rumah di Maluku, ditemukan 3 data yang merupakan outlier, lalu kami me-remove outlier tersebut. Sehingga data yang diobservasi tersisa 47 data. Dari 47 data tersebut, terdapat 2 missing value pada variabel 'Luas_Tanah', 2 missing values pada variabel 'Luas_Bangunan', 23 missing values pada variabel 'Listrik', 7 missing value pada variabel 'Surat', dan 1 missing value pada variabel 'Judul'. Lalu kita menghapus data yang mengandung missing values dengan cara Menghapus Variabel 'Listrik', karena terdapat kurang lebih 50% data yang missing dan melakukan Listwise deletion pada variabel 'Surat', 'Luas_Bangunan\", dan 'Luas_Tanah'. Setelah dilakukan penghapusan missing value, tersisa 19 baris dan 16 kolom data. Untuk melihat keragaman data, kami melakukan Stastistika deskriptif. Kami ingin mengetahui hubungan antara variabel 'Harga_juta' dan variabel 'Luas_Tanah', berdasarkan hasil visualisasi dengan menggunakan scatterplot diperoleh kesimpulan variabel 'Harga_juta' dengan variabel 'Luas_Tanah' memiliki hubungan yang positif, bahwa semakin besar nilai luas tanah maka harga jual rumah juga semakin besar jika diasumsikan luas bangunan, kamar tidur, kamar mandi, kamar tidur pembantu, kamar mandi pembantu, carport, garasi, dan listrik sama. Berdasarkan tabel korelasi antarvariabel, diperoleh bahwa variabel 'Harga_juta' dengan 'Garasi' memiliki korelasi terbesar yaitu 0.94.\n",
        "\n",
        "Rekomendasi untuk penjual rumah:\n",
        "\n",
        "\n",
        "*   Dikarenakan korelasi yang tinggi antara variabel 'Harga_juta' dengan 'Garasi', kami merekomendasikan untuk menyediakan fasilitas garasi agar nilai jual dari rumah lebih optimal. \n",
        "*   List item\n",
        "\n",
        "Rekomendasi untuk pembeli rumah:\n",
        "\n",
        "\n",
        "\n",
        "\n"
      ]
    }
  ]
}
