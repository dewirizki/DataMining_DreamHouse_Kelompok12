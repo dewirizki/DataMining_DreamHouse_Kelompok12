{
  "nbformat": 4,
  "nbformat_minor": 0,
  "metadata": {
    "colab": {
      "name": "Bismillah Fix Datmin",
      "provenance": [],
      "collapsed_sections": [],
      "include_colab_link": true
    },
    "kernelspec": {
      "name": "python3",
      "display_name": "Python 3"
    },
    "language_info": {
      "name": "python"
    }
  },
  "cells": [
    {
      "cell_type": "markdown",
      "metadata": {
        "id": "view-in-github",
        "colab_type": "text"
      },
      "source": [
        "<a href=\"https://colab.research.google.com/github/dewirizki/DataMining_DreamHouse_Kelompok12/blob/main/Bismillah_Fix_Datmin.ipynb\" target=\"_parent\"><img src=\"https://colab.research.google.com/assets/colab-badge.svg\" alt=\"Open In Colab\"/></a>"
      ]
    },
    {
      "cell_type": "code",
      "metadata": {
        "colab": {
          "base_uri": "https://localhost:8080/"
        },
        "id": "5724gxm8Ksq-",
        "outputId": "83371b75-23f1-4437-ebf9-0446ddd61d09"
      },
      "source": [
        "pip install matplotlib"
      ],
      "execution_count": null,
      "outputs": [
        {
          "output_type": "stream",
          "text": [
            "Requirement already satisfied: matplotlib in /usr/local/lib/python3.7/dist-packages (3.2.2)\n",
            "Requirement already satisfied: python-dateutil>=2.1 in /usr/local/lib/python3.7/dist-packages (from matplotlib) (2.8.1)\n",
            "Requirement already satisfied: pyparsing!=2.0.4,!=2.1.2,!=2.1.6,>=2.0.1 in /usr/local/lib/python3.7/dist-packages (from matplotlib) (2.4.7)\n",
            "Requirement already satisfied: cycler>=0.10 in /usr/local/lib/python3.7/dist-packages (from matplotlib) (0.10.0)\n",
            "Requirement already satisfied: kiwisolver>=1.0.1 in /usr/local/lib/python3.7/dist-packages (from matplotlib) (1.3.1)\n",
            "Requirement already satisfied: numpy>=1.11 in /usr/local/lib/python3.7/dist-packages (from matplotlib) (1.19.5)\n",
            "Requirement already satisfied: six>=1.5 in /usr/local/lib/python3.7/dist-packages (from python-dateutil>=2.1->matplotlib) (1.15.0)\n"
          ],
          "name": "stdout"
        }
      ]
    },
    {
      "cell_type": "code",
      "metadata": {
        "colab": {
          "base_uri": "https://localhost:8080/"
        },
        "id": "6SBdsmz9KzU6",
        "outputId": "fa2b9148-7050-4407-bb62-19689b07fa1c"
      },
      "source": [
        "pip install pandas"
      ],
      "execution_count": null,
      "outputs": [
        {
          "output_type": "stream",
          "text": [
            "Requirement already satisfied: pandas in /usr/local/lib/python3.7/dist-packages (1.1.5)\n",
            "Requirement already satisfied: python-dateutil>=2.7.3 in /usr/local/lib/python3.7/dist-packages (from pandas) (2.8.1)\n",
            "Requirement already satisfied: pytz>=2017.2 in /usr/local/lib/python3.7/dist-packages (from pandas) (2018.9)\n",
            "Requirement already satisfied: numpy>=1.15.4 in /usr/local/lib/python3.7/dist-packages (from pandas) (1.19.5)\n",
            "Requirement already satisfied: six>=1.5 in /usr/local/lib/python3.7/dist-packages (from python-dateutil>=2.7.3->pandas) (1.15.0)\n"
          ],
          "name": "stdout"
        }
      ]
    },
    {
      "cell_type": "code",
      "metadata": {
        "colab": {
          "base_uri": "https://localhost:8080/"
        },
        "id": "A98b-YQIK242",
        "outputId": "b86c46e8-d6e7-40b1-f7f8-119bb4eb4769"
      },
      "source": [
        "pip install stats"
      ],
      "execution_count": null,
      "outputs": [
        {
          "output_type": "stream",
          "text": [
            "Collecting stats\n",
            "\u001b[?25l  Downloading https://files.pythonhosted.org/packages/87/43/f2d8d8e2660740ecca9c0fab85a07bc02da27d1fcc5071ee481082888720/stats-0.1.2a.tar.gz (127kB)\n",
            "\r\u001b[K     |██▋                             | 10kB 14.2MB/s eta 0:00:01\r\u001b[K     |█████▏                          | 20kB 15.5MB/s eta 0:00:01\r\u001b[K     |███████▊                        | 30kB 10.5MB/s eta 0:00:01\r\u001b[K     |██████████▎                     | 40kB 8.5MB/s eta 0:00:01\r\u001b[K     |████████████▉                   | 51kB 4.2MB/s eta 0:00:01\r\u001b[K     |███████████████▍                | 61kB 4.7MB/s eta 0:00:01\r\u001b[K     |██████████████████              | 71kB 4.9MB/s eta 0:00:01\r\u001b[K     |████████████████████▌           | 81kB 5.2MB/s eta 0:00:01\r\u001b[K     |███████████████████████         | 92kB 5.5MB/s eta 0:00:01\r\u001b[K     |█████████████████████████▊      | 102kB 5.8MB/s eta 0:00:01\r\u001b[K     |████████████████████████████▎   | 112kB 5.8MB/s eta 0:00:01\r\u001b[K     |██████████████████████████████▉ | 122kB 5.8MB/s eta 0:00:01\r\u001b[K     |████████████████████████████████| 133kB 5.8MB/s \n",
            "\u001b[?25hBuilding wheels for collected packages: stats\n",
            "  Building wheel for stats (setup.py) ... \u001b[?25l\u001b[?25hdone\n",
            "  Created wheel for stats: filename=stats-0.1.2a0-cp37-none-any.whl size=24279 sha256=5d42a4a2805c240c6af24f82167b83492d9f41c87f3149168377ee01145bf91a\n",
            "  Stored in directory: /root/.cache/pip/wheels/1f/64/c9/da1748f4ce76935afc665178ead2217b90147bac5ca096aa56\n",
            "Successfully built stats\n",
            "Installing collected packages: stats\n",
            "Successfully installed stats-0.1.2a0\n"
          ],
          "name": "stdout"
        }
      ]
    },
    {
      "cell_type": "code",
      "metadata": {
        "colab": {
          "base_uri": "https://localhost:8080/"
        },
        "id": "KrtiDR6sK8OK",
        "outputId": "9a598b20-5e2f-42fb-ec56-19b5564334c8"
      },
      "source": [
        "pip install scipy"
      ],
      "execution_count": null,
      "outputs": [
        {
          "output_type": "stream",
          "text": [
            "Requirement already satisfied: scipy in /usr/local/lib/python3.7/dist-packages (1.4.1)\n",
            "Requirement already satisfied: numpy>=1.13.3 in /usr/local/lib/python3.7/dist-packages (from scipy) (1.19.5)\n"
          ],
          "name": "stdout"
        }
      ]
    },
    {
      "cell_type": "code",
      "metadata": {
        "colab": {
          "base_uri": "https://localhost:8080/"
        },
        "id": "Cdax0b9KK_tZ",
        "outputId": "475444e5-387f-40c4-d4a1-69e333cd116b"
      },
      "source": [
        "pip install more-itertools"
      ],
      "execution_count": null,
      "outputs": [
        {
          "output_type": "stream",
          "text": [
            "Requirement already satisfied: more-itertools in /usr/local/lib/python3.7/dist-packages (8.7.0)\n"
          ],
          "name": "stdout"
        }
      ]
    },
    {
      "cell_type": "code",
      "metadata": {
        "colab": {
          "base_uri": "https://localhost:8080/"
        },
        "id": "3Zitksd5LDra",
        "outputId": "ab966f33-2661-46d6-f02f-1974d17cb57d"
      },
      "source": [
        "pip install seaborn"
      ],
      "execution_count": null,
      "outputs": [
        {
          "output_type": "stream",
          "text": [
            "Requirement already satisfied: seaborn in /usr/local/lib/python3.7/dist-packages (0.11.1)\n",
            "Requirement already satisfied: matplotlib>=2.2 in /usr/local/lib/python3.7/dist-packages (from seaborn) (3.2.2)\n",
            "Requirement already satisfied: scipy>=1.0 in /usr/local/lib/python3.7/dist-packages (from seaborn) (1.4.1)\n",
            "Requirement already satisfied: numpy>=1.15 in /usr/local/lib/python3.7/dist-packages (from seaborn) (1.19.5)\n",
            "Requirement already satisfied: pandas>=0.23 in /usr/local/lib/python3.7/dist-packages (from seaborn) (1.1.5)\n",
            "Requirement already satisfied: kiwisolver>=1.0.1 in /usr/local/lib/python3.7/dist-packages (from matplotlib>=2.2->seaborn) (1.3.1)\n",
            "Requirement already satisfied: python-dateutil>=2.1 in /usr/local/lib/python3.7/dist-packages (from matplotlib>=2.2->seaborn) (2.8.1)\n",
            "Requirement already satisfied: cycler>=0.10 in /usr/local/lib/python3.7/dist-packages (from matplotlib>=2.2->seaborn) (0.10.0)\n",
            "Requirement already satisfied: pyparsing!=2.0.4,!=2.1.2,!=2.1.6,>=2.0.1 in /usr/local/lib/python3.7/dist-packages (from matplotlib>=2.2->seaborn) (2.4.7)\n",
            "Requirement already satisfied: pytz>=2017.2 in /usr/local/lib/python3.7/dist-packages (from pandas>=0.23->seaborn) (2018.9)\n",
            "Requirement already satisfied: six>=1.5 in /usr/local/lib/python3.7/dist-packages (from python-dateutil>=2.1->matplotlib>=2.2->seaborn) (1.15.0)\n"
          ],
          "name": "stdout"
        }
      ]
    },
    {
      "cell_type": "code",
      "metadata": {
        "colab": {
          "base_uri": "https://localhost:8080/"
        },
        "id": "Uc8rUEDKLIvB",
        "outputId": "d5807b91-31d7-4351-c5d4-6dbc5b827a3c"
      },
      "source": [
        "pip install numpy"
      ],
      "execution_count": null,
      "outputs": [
        {
          "output_type": "stream",
          "text": [
            "Requirement already satisfied: numpy in /usr/local/lib/python3.7/dist-packages (1.19.5)\n"
          ],
          "name": "stdout"
        }
      ]
    },
    {
      "cell_type": "code",
      "metadata": {
        "colab": {
          "base_uri": "https://localhost:8080/"
        },
        "id": "8MzBETIWLKzL",
        "outputId": "014d5685-d2fb-4a14-8b05-e781874fb619"
      },
      "source": [
        "pip install scikit-lego"
      ],
      "execution_count": null,
      "outputs": [
        {
          "output_type": "stream",
          "text": [
            "Collecting scikit-lego\n",
            "\u001b[?25l  Downloading https://files.pythonhosted.org/packages/ec/33/068c7a588df9b5fc8f3dcf64fc2a91812360edf4c3ccc87664f6e0c1bc87/scikit_lego-0.6.6-py2.py3-none-any.whl (220kB)\n",
            "\r\u001b[K     |█▌                              | 10kB 17.7MB/s eta 0:00:01\r\u001b[K     |███                             | 20kB 22.7MB/s eta 0:00:01\r\u001b[K     |████▌                           | 30kB 11.7MB/s eta 0:00:01\r\u001b[K     |██████                          | 40kB 8.7MB/s eta 0:00:01\r\u001b[K     |███████▍                        | 51kB 4.1MB/s eta 0:00:01\r\u001b[K     |█████████                       | 61kB 4.3MB/s eta 0:00:01\r\u001b[K     |██████████▍                     | 71kB 4.8MB/s eta 0:00:01\r\u001b[K     |███████████▉                    | 81kB 5.2MB/s eta 0:00:01\r\u001b[K     |█████████████▍                  | 92kB 5.4MB/s eta 0:00:01\r\u001b[K     |██████████████▉                 | 102kB 5.7MB/s eta 0:00:01\r\u001b[K     |████████████████▎               | 112kB 5.7MB/s eta 0:00:01\r\u001b[K     |█████████████████▉              | 122kB 5.7MB/s eta 0:00:01\r\u001b[K     |███████████████████▎            | 133kB 5.7MB/s eta 0:00:01\r\u001b[K     |████████████████████▉           | 143kB 5.7MB/s eta 0:00:01\r\u001b[K     |██████████████████████▎         | 153kB 5.7MB/s eta 0:00:01\r\u001b[K     |███████████████████████▊        | 163kB 5.7MB/s eta 0:00:01\r\u001b[K     |█████████████████████████▎      | 174kB 5.7MB/s eta 0:00:01\r\u001b[K     |██████████████████████████▊     | 184kB 5.7MB/s eta 0:00:01\r\u001b[K     |████████████████████████████▏   | 194kB 5.7MB/s eta 0:00:01\r\u001b[K     |█████████████████████████████▊  | 204kB 5.7MB/s eta 0:00:01\r\u001b[K     |███████████████████████████████▏| 215kB 5.7MB/s eta 0:00:01\r\u001b[K     |████████████████████████████████| 225kB 5.7MB/s \n",
            "\u001b[?25hRequirement already satisfied: autograd>=1.2 in /usr/local/lib/python3.7/dist-packages (from scikit-lego) (1.3)\n",
            "Requirement already satisfied: pandas>=1.1.5 in /usr/local/lib/python3.7/dist-packages (from scikit-lego) (1.1.5)\n",
            "Requirement already satisfied: patsy>=0.5.1 in /usr/local/lib/python3.7/dist-packages (from scikit-lego) (0.5.1)\n",
            "Requirement already satisfied: umap-learn>=0.4.6 in /usr/local/lib/python3.7/dist-packages (from scikit-lego) (0.5.1)\n",
            "Collecting scikit-learn>=0.24.1\n",
            "\u001b[?25l  Downloading https://files.pythonhosted.org/packages/f3/74/eb899f41d55f957e2591cde5528e75871f817d9fb46d4732423ecaca736d/scikit_learn-0.24.1-cp37-cp37m-manylinux2010_x86_64.whl (22.3MB)\n",
            "\u001b[K     |████████████████████████████████| 22.3MB 1.5MB/s \n",
            "\u001b[?25hCollecting Deprecated>=1.2.6\n",
            "  Downloading https://files.pythonhosted.org/packages/fb/73/994edfcba74443146c84b91921fcc269374354118d4f452fb0c54c1cbb12/Deprecated-1.2.12-py2.py3-none-any.whl\n",
            "Requirement already satisfied: numpy>=1.12 in /usr/local/lib/python3.7/dist-packages (from autograd>=1.2->scikit-lego) (1.19.5)\n",
            "Requirement already satisfied: future>=0.15.2 in /usr/local/lib/python3.7/dist-packages (from autograd>=1.2->scikit-lego) (0.16.0)\n",
            "Requirement already satisfied: pytz>=2017.2 in /usr/local/lib/python3.7/dist-packages (from pandas>=1.1.5->scikit-lego) (2018.9)\n",
            "Requirement already satisfied: python-dateutil>=2.7.3 in /usr/local/lib/python3.7/dist-packages (from pandas>=1.1.5->scikit-lego) (2.8.1)\n",
            "Requirement already satisfied: six in /usr/local/lib/python3.7/dist-packages (from patsy>=0.5.1->scikit-lego) (1.15.0)\n",
            "Requirement already satisfied: scipy>=1.0 in /usr/local/lib/python3.7/dist-packages (from umap-learn>=0.4.6->scikit-lego) (1.4.1)\n",
            "Requirement already satisfied: pynndescent>=0.5 in /usr/local/lib/python3.7/dist-packages (from umap-learn>=0.4.6->scikit-lego) (0.5.2)\n",
            "Requirement already satisfied: numba>=0.49 in /usr/local/lib/python3.7/dist-packages (from umap-learn>=0.4.6->scikit-lego) (0.51.2)\n",
            "Requirement already satisfied: joblib>=0.11 in /usr/local/lib/python3.7/dist-packages (from scikit-learn>=0.24.1->scikit-lego) (1.0.1)\n",
            "Collecting threadpoolctl>=2.0.0\n",
            "  Downloading https://files.pythonhosted.org/packages/f7/12/ec3f2e203afa394a149911729357aa48affc59c20e2c1c8297a60f33f133/threadpoolctl-2.1.0-py3-none-any.whl\n",
            "Requirement already satisfied: wrapt<2,>=1.10 in /usr/local/lib/python3.7/dist-packages (from Deprecated>=1.2.6->scikit-lego) (1.12.1)\n",
            "Requirement already satisfied: llvmlite>=0.30 in /usr/local/lib/python3.7/dist-packages (from pynndescent>=0.5->umap-learn>=0.4.6->scikit-lego) (0.34.0)\n",
            "Requirement already satisfied: setuptools in /usr/local/lib/python3.7/dist-packages (from numba>=0.49->umap-learn>=0.4.6->scikit-lego) (54.2.0)\n",
            "Installing collected packages: threadpoolctl, scikit-learn, Deprecated, scikit-lego\n",
            "  Found existing installation: scikit-learn 0.22.2.post1\n",
            "    Uninstalling scikit-learn-0.22.2.post1:\n",
            "      Successfully uninstalled scikit-learn-0.22.2.post1\n",
            "Successfully installed Deprecated-1.2.12 scikit-learn-0.24.1 scikit-lego-0.6.6 threadpoolctl-2.1.0\n"
          ],
          "name": "stdout"
        }
      ]
    },
    {
      "cell_type": "code",
      "metadata": {
        "colab": {
          "base_uri": "https://localhost:8080/"
        },
        "id": "lgKxZSaOLTdk",
        "outputId": "8870e094-cede-420a-f075-c94638176efb"
      },
      "source": [
        "pip install scikit-mlm"
      ],
      "execution_count": null,
      "outputs": [
        {
          "output_type": "stream",
          "text": [
            "Collecting scikit-mlm\n",
            "  Downloading https://files.pythonhosted.org/packages/03/df/4beec31e0d421ee4daffc7838ca262b4811340acca83b689f4020f180e1f/scikit-mlm-0.1.1.tar.gz\n",
            "Requirement already satisfied: numpy>=1.15.4 in /usr/local/lib/python3.7/dist-packages (from scikit-mlm) (1.19.5)\n",
            "Requirement already satisfied: scipy>=1.1.0 in /usr/local/lib/python3.7/dist-packages (from scikit-mlm) (1.4.1)\n",
            "Requirement already satisfied: scikit-learn>=0.21.0 in /usr/local/lib/python3.7/dist-packages (from scikit-mlm) (0.24.1)\n",
            "Collecting fuzzy-c-means>=0.0.6\n",
            "  Downloading https://files.pythonhosted.org/packages/cc/34/64498f52ddfb0a22a22f2cfcc0b293c6864f6fcc664a53b4cce9302b59fc/fuzzy_c_means-1.2.4-py3-none-any.whl\n",
            "\u001b[31mERROR: Could not find a version that satisfies the requirement mrsr>=0.0.3 (from scikit-mlm) (from versions: none)\u001b[0m\n",
            "\u001b[31mERROR: No matching distribution found for mrsr>=0.0.3 (from scikit-mlm)\u001b[0m\n"
          ],
          "name": "stdout"
        }
      ]
    },
    {
      "cell_type": "code",
      "metadata": {
        "colab": {
          "base_uri": "https://localhost:8080/"
        },
        "id": "gzbeAQBALWfw",
        "outputId": "468c3580-d300-4cea-e443-fc13b3561b67"
      },
      "source": [
        "pip install pytest-warnings"
      ],
      "execution_count": null,
      "outputs": [
        {
          "output_type": "stream",
          "text": [
            "Collecting pytest-warnings\n",
            "  Downloading https://files.pythonhosted.org/packages/01/2f/74fecb0fd1a87272fd29af0c41ea86992a070c47373447b6a544f257c4e0/pytest_warnings-0.3.1-py2.py3-none-any.whl\n",
            "Requirement already satisfied: pytest in /usr/local/lib/python3.7/dist-packages (from pytest-warnings) (3.6.4)\n",
            "Requirement already satisfied: six>=1.10.0 in /usr/local/lib/python3.7/dist-packages (from pytest->pytest-warnings) (1.15.0)\n",
            "Requirement already satisfied: setuptools in /usr/local/lib/python3.7/dist-packages (from pytest->pytest-warnings) (54.2.0)\n",
            "Requirement already satisfied: more-itertools>=4.0.0 in /usr/local/lib/python3.7/dist-packages (from pytest->pytest-warnings) (8.7.0)\n",
            "Requirement already satisfied: attrs>=17.4.0 in /usr/local/lib/python3.7/dist-packages (from pytest->pytest-warnings) (20.3.0)\n",
            "Requirement already satisfied: py>=1.5.0 in /usr/local/lib/python3.7/dist-packages (from pytest->pytest-warnings) (1.10.0)\n",
            "Requirement already satisfied: pluggy<0.8,>=0.5 in /usr/local/lib/python3.7/dist-packages (from pytest->pytest-warnings) (0.7.1)\n",
            "Requirement already satisfied: atomicwrites>=1.0 in /usr/local/lib/python3.7/dist-packages (from pytest->pytest-warnings) (1.4.0)\n",
            "Installing collected packages: pytest-warnings\n",
            "Successfully installed pytest-warnings-0.3.1\n"
          ],
          "name": "stdout"
        }
      ]
    },
    {
      "cell_type": "code",
      "metadata": {
        "colab": {
          "base_uri": "https://localhost:8080/"
        },
        "id": "4xU4RN1WLamW",
        "outputId": "a46ac096-9041-4a3d-b154-89a8497e7bfb"
      },
      "source": [
        "pip install scikit-learn"
      ],
      "execution_count": null,
      "outputs": [
        {
          "output_type": "stream",
          "text": [
            "Requirement already satisfied: scikit-learn in /usr/local/lib/python3.7/dist-packages (0.24.1)\n",
            "Requirement already satisfied: threadpoolctl>=2.0.0 in /usr/local/lib/python3.7/dist-packages (from scikit-learn) (2.1.0)\n",
            "Requirement already satisfied: joblib>=0.11 in /usr/local/lib/python3.7/dist-packages (from scikit-learn) (1.0.1)\n",
            "Requirement already satisfied: scipy>=0.19.1 in /usr/local/lib/python3.7/dist-packages (from scikit-learn) (1.4.1)\n",
            "Requirement already satisfied: numpy>=1.13.3 in /usr/local/lib/python3.7/dist-packages (from scikit-learn) (1.19.5)\n"
          ],
          "name": "stdout"
        }
      ]
    },
    {
      "cell_type": "code",
      "metadata": {
        "colab": {
          "base_uri": "https://localhost:8080/"
        },
        "id": "4aAqqlUPLdwm",
        "outputId": "f70bc28a-fe29-49fb-9c5f-2070b4bbab51"
      },
      "source": [
        "pip install scikit-mlm"
      ],
      "execution_count": null,
      "outputs": [
        {
          "output_type": "stream",
          "text": [
            "Collecting scikit-mlm\n",
            "  Using cached https://files.pythonhosted.org/packages/03/df/4beec31e0d421ee4daffc7838ca262b4811340acca83b689f4020f180e1f/scikit-mlm-0.1.1.tar.gz\n",
            "Requirement already satisfied: numpy>=1.15.4 in /usr/local/lib/python3.7/dist-packages (from scikit-mlm) (1.19.5)\n",
            "Requirement already satisfied: scipy>=1.1.0 in /usr/local/lib/python3.7/dist-packages (from scikit-mlm) (1.4.1)\n",
            "Requirement already satisfied: scikit-learn>=0.21.0 in /usr/local/lib/python3.7/dist-packages (from scikit-mlm) (0.24.1)\n",
            "Collecting fuzzy-c-means>=0.0.6\n",
            "  Using cached https://files.pythonhosted.org/packages/cc/34/64498f52ddfb0a22a22f2cfcc0b293c6864f6fcc664a53b4cce9302b59fc/fuzzy_c_means-1.2.4-py3-none-any.whl\n",
            "\u001b[31mERROR: Could not find a version that satisfies the requirement mrsr>=0.0.3 (from scikit-mlm) (from versions: none)\u001b[0m\n",
            "\u001b[31mERROR: No matching distribution found for mrsr>=0.0.3 (from scikit-mlm)\u001b[0m\n"
          ],
          "name": "stdout"
        }
      ]
    },
    {
      "cell_type": "code",
      "metadata": {
        "id": "us50D6_ELi-G"
      },
      "source": [
        "import warnings; warnings.simplefilter('ignore')\n",
        "import scipy, itertools, pandas as pd, matplotlib.pyplot as plt, seaborn as sns, numpy as np\n",
        "from scipy import stats\n",
        "from sklearn.preprocessing import StandardScaler, MinMaxScaler\n",
        "\n",
        "plt.style.use('bmh'); sns.set()"
      ],
      "execution_count": null,
      "outputs": []
    },
    {
      "cell_type": "code",
      "metadata": {
        "id": "BsaarKLGLlRj",
        "colab": {
          "base_uri": "https://localhost:8080/"
        },
        "outputId": "f18ae77b-dbf0-4bc6-ca7d-f1ce043bebc0"
      },
      "source": [
        "# Importing CSV data  https://pandas.pydata.org/pandas-docs/stable/reference/api/pandas.read_csv.html\n",
        "try:\n",
        "    # Running Locally \n",
        "    rumah = pd.read_csv('main/jual.csv')\n",
        "except:\n",
        "    # Running in Google Colab\n",
        "    !mkdir main\n",
        "    !wget -P main/ https://raw.githubusercontent.com/dewirizki/DataMining_DreamHouse_Kelompok12/main/jual.csv\n",
        "    rumah = pd.read_csv('main/jual.csv')"
      ],
      "execution_count": null,
      "outputs": [
        {
          "output_type": "stream",
          "text": [
            "--2021-04-11 17:17:29--  https://raw.githubusercontent.com/dewirizki/DataMining_DreamHouse_Kelompok12/main/jual.csv\n",
            "Resolving raw.githubusercontent.com (raw.githubusercontent.com)... 185.199.108.133, 185.199.111.133, 185.199.110.133, ...\n",
            "Connecting to raw.githubusercontent.com (raw.githubusercontent.com)|185.199.108.133|:443... connected.\n",
            "HTTP request sent, awaiting response... 200 OK\n",
            "Length: 28589 (28K) [text/plain]\n",
            "Saving to: ‘main/jual.csv’\n",
            "\n",
            "jual.csv            100%[===================>]  27.92K  --.-KB/s    in 0.002s  \n",
            "\n",
            "2021-04-11 17:17:30 (12.7 MB/s) - ‘main/jual.csv’ saved [28589/28589]\n",
            "\n"
          ],
          "name": "stdout"
        }
      ]
    },
    {
      "cell_type": "code",
      "metadata": {
        "colab": {
          "base_uri": "https://localhost:8080/"
        },
        "id": "zINrPCrSLuOx",
        "outputId": "f937ea6c-419d-4aa1-8cdb-b207503b7c18"
      },
      "source": [
        "# Tipe Datanya : DataFrame (df)\n",
        "print(type(rumah))\n",
        "# Ukuran Data\n",
        "N, P = rumah.shape\n",
        "'baris = ', N, ', Kolom = ', P"
      ],
      "execution_count": null,
      "outputs": [
        {
          "output_type": "stream",
          "text": [
            "<class 'pandas.core.frame.DataFrame'>\n"
          ],
          "name": "stdout"
        },
        {
          "output_type": "execute_result",
          "data": {
            "text/plain": [
              "('baris = ', 50, ', Kolom = ', 17)"
            ]
          },
          "metadata": {
            "tags": []
          },
          "execution_count": 16
        }
      ]
    },
    {
      "cell_type": "code",
      "metadata": {
        "colab": {
          "base_uri": "https://localhost:8080/",
          "height": 830
        },
        "id": "-mb4FqFmLzBr",
        "outputId": "27a0add3-5137-4c4d-b815-99edb6e99dac"
      },
      "source": [
        "rumah.head(7)"
      ],
      "execution_count": null,
      "outputs": [
        {
          "output_type": "execute_result",
          "data": {
            "text/html": [
              "<div>\n",
              "<style scoped>\n",
              "    .dataframe tbody tr th:only-of-type {\n",
              "        vertical-align: middle;\n",
              "    }\n",
              "\n",
              "    .dataframe tbody tr th {\n",
              "        vertical-align: top;\n",
              "    }\n",
              "\n",
              "    .dataframe thead th {\n",
              "        text-align: right;\n",
              "    }\n",
              "</style>\n",
              "<table border=\"1\" class=\"dataframe\">\n",
              "  <thead>\n",
              "    <tr style=\"text-align: right;\">\n",
              "      <th></th>\n",
              "      <th>no</th>\n",
              "      <th>Tgl_Iklan</th>\n",
              "      <th>url</th>\n",
              "      <th>Harga_juta</th>\n",
              "      <th>Kota_Provinsi</th>\n",
              "      <th>Luas_Tanah</th>\n",
              "      <th>Luas_Bangunan</th>\n",
              "      <th>KT</th>\n",
              "      <th>KM</th>\n",
              "      <th>KTP</th>\n",
              "      <th>KMP</th>\n",
              "      <th>Carport</th>\n",
              "      <th>Garasi</th>\n",
              "      <th>Listrik</th>\n",
              "      <th>Surat</th>\n",
              "      <th>Judul</th>\n",
              "      <th>Deskripsi</th>\n",
              "    </tr>\n",
              "  </thead>\n",
              "  <tbody>\n",
              "    <tr>\n",
              "      <th>0</th>\n",
              "      <td>1</td>\n",
              "      <td>08/04/2021</td>\n",
              "      <td>https://www.realoka.com/82784-dijual-disewa-ru...</td>\n",
              "      <td>1200</td>\n",
              "      <td>Ambon, Maluku</td>\n",
              "      <td>135.0</td>\n",
              "      <td>70.0</td>\n",
              "      <td>2</td>\n",
              "      <td>2</td>\n",
              "      <td>1</td>\n",
              "      <td>0</td>\n",
              "      <td>1</td>\n",
              "      <td>0</td>\n",
              "      <td>1300.0</td>\n",
              "      <td>SHM</td>\n",
              "      <td>Dijual Disewa Rumah di Citraland Ambon Pr1699</td>\n",
              "      <td>Peminat Serius Hubungi:\\r\\nIbu Ata\\r\\n0851-012...</td>\n",
              "    </tr>\n",
              "    <tr>\n",
              "      <th>1</th>\n",
              "      <td>2</td>\n",
              "      <td>04/04/2021</td>\n",
              "      <td>https://www.olx.co.id/item/rumah-di-citraland-...</td>\n",
              "      <td>1110</td>\n",
              "      <td>Ambon, Maluku</td>\n",
              "      <td>135.0</td>\n",
              "      <td>70.0</td>\n",
              "      <td>3</td>\n",
              "      <td>2</td>\n",
              "      <td>0</td>\n",
              "      <td>0</td>\n",
              "      <td>1</td>\n",
              "      <td>0</td>\n",
              "      <td>NaN</td>\n",
              "      <td>SHM</td>\n",
              "      <td>Rumah di Citraland Ambon</td>\n",
              "      <td>Pemilik langsung, tanpa perantara. Lokasi Stra...</td>\n",
              "    </tr>\n",
              "    <tr>\n",
              "      <th>2</th>\n",
              "      <td>3</td>\n",
              "      <td>22/03/2021</td>\n",
              "      <td>https://www.olx.co.id/item/di-jual-rumah-tingg...</td>\n",
              "      <td>2100</td>\n",
              "      <td>Tual, Maluku</td>\n",
              "      <td>875.0</td>\n",
              "      <td>220.0</td>\n",
              "      <td>3</td>\n",
              "      <td>3</td>\n",
              "      <td>0</td>\n",
              "      <td>0</td>\n",
              "      <td>1</td>\n",
              "      <td>1</td>\n",
              "      <td>2200.0</td>\n",
              "      <td>SHM</td>\n",
              "      <td>Di Jual Rumah Tinggal Di BTN Indah Tual</td>\n",
              "      <td>Sertifikat SHM ( Sertifikat Hak Milik ). Harga...</td>\n",
              "    </tr>\n",
              "    <tr>\n",
              "      <th>3</th>\n",
              "      <td>4</td>\n",
              "      <td>17/03/2021</td>\n",
              "      <td>https://rumah.trovit.co.id/listing/rumah-belan...</td>\n",
              "      <td>12000</td>\n",
              "      <td>Ambon, Maluku</td>\n",
              "      <td>360.0</td>\n",
              "      <td>300.0</td>\n",
              "      <td>5</td>\n",
              "      <td>2</td>\n",
              "      <td>0</td>\n",
              "      <td>0</td>\n",
              "      <td>3</td>\n",
              "      <td>0</td>\n",
              "      <td>NaN</td>\n",
              "      <td>NaN</td>\n",
              "      <td>Rumah Belanda Sayap Riau Terawat, Belitung, Am...</td>\n",
              "      <td>Luas Tanah 360m Bangunan 300m Kamar Tidur 5 Ma...</td>\n",
              "    </tr>\n",
              "    <tr>\n",
              "      <th>4</th>\n",
              "      <td>5</td>\n",
              "      <td>17/03/2021</td>\n",
              "      <td>https://rumah.trovit.co.id/listing/dijual-ruma...</td>\n",
              "      <td>1250</td>\n",
              "      <td>Maluku Tengah</td>\n",
              "      <td>120.0</td>\n",
              "      <td>542.0</td>\n",
              "      <td>3</td>\n",
              "      <td>2</td>\n",
              "      <td>0</td>\n",
              "      <td>0</td>\n",
              "      <td>0</td>\n",
              "      <td>0</td>\n",
              "      <td>NaN</td>\n",
              "      <td>SHM</td>\n",
              "      <td>Dijual Rumah Potensi Pebisnis</td>\n",
              "      <td>Jual Rumah 3Kamar, 2 kamar mandi\\r\\nSpesifikas...</td>\n",
              "    </tr>\n",
              "    <tr>\n",
              "      <th>5</th>\n",
              "      <td>6</td>\n",
              "      <td>14/03/2021</td>\n",
              "      <td>https://www.dotproperty.id/rumah-dijual-dengan...</td>\n",
              "      <td>15000</td>\n",
              "      <td>Ambon, Maluku</td>\n",
              "      <td>500.0</td>\n",
              "      <td>255.0</td>\n",
              "      <td>5</td>\n",
              "      <td>4</td>\n",
              "      <td>0</td>\n",
              "      <td>0</td>\n",
              "      <td>0</td>\n",
              "      <td>6</td>\n",
              "      <td>4400.0</td>\n",
              "      <td>SHM</td>\n",
              "      <td>Rumah dijual Cepat Tanpa Perantara-SHM, Karang...</td>\n",
              "      <td>Rumah dijual dengan 5 kamar tidur di Karang Pa...</td>\n",
              "    </tr>\n",
              "    <tr>\n",
              "      <th>6</th>\n",
              "      <td>7</td>\n",
              "      <td>10/03/2021</td>\n",
              "      <td>https://www.99.co/id/properti/rumah-dijual-1-1...</td>\n",
              "      <td>1100</td>\n",
              "      <td>Ambon, Maluku</td>\n",
              "      <td>134.0</td>\n",
              "      <td>250.0</td>\n",
              "      <td>3</td>\n",
              "      <td>2</td>\n",
              "      <td>0</td>\n",
              "      <td>0</td>\n",
              "      <td>0</td>\n",
              "      <td>0</td>\n",
              "      <td>2200.0</td>\n",
              "      <td>SHM</td>\n",
              "      <td>Rumah Murah di karang panjang, Ambon Maluku</td>\n",
              "      <td>Dijual rumah Murah di Karang Panjang ambon Mal...</td>\n",
              "    </tr>\n",
              "  </tbody>\n",
              "</table>\n",
              "</div>"
            ],
            "text/plain": [
              "   no  ...                                          Deskripsi\n",
              "0   1  ...  Peminat Serius Hubungi:\\r\\nIbu Ata\\r\\n0851-012...\n",
              "1   2  ...  Pemilik langsung, tanpa perantara. Lokasi Stra...\n",
              "2   3  ...  Sertifikat SHM ( Sertifikat Hak Milik ). Harga...\n",
              "3   4  ...  Luas Tanah 360m Bangunan 300m Kamar Tidur 5 Ma...\n",
              "4   5  ...  Jual Rumah 3Kamar, 2 kamar mandi\\r\\nSpesifikas...\n",
              "5   6  ...  Rumah dijual dengan 5 kamar tidur di Karang Pa...\n",
              "6   7  ...  Dijual rumah Murah di Karang Panjang ambon Mal...\n",
              "\n",
              "[7 rows x 17 columns]"
            ]
          },
          "metadata": {
            "tags": []
          },
          "execution_count": 17
        }
      ]
    },
    {
      "cell_type": "code",
      "metadata": {
        "colab": {
          "base_uri": "https://localhost:8080/",
          "height": 530
        },
        "id": "010Mex3TLzPx",
        "outputId": "adf71d2c-7ef6-45ba-a724-3e99d7c4b028"
      },
      "source": [
        "rumah.tail(5)"
      ],
      "execution_count": null,
      "outputs": [
        {
          "output_type": "execute_result",
          "data": {
            "text/html": [
              "<div>\n",
              "<style scoped>\n",
              "    .dataframe tbody tr th:only-of-type {\n",
              "        vertical-align: middle;\n",
              "    }\n",
              "\n",
              "    .dataframe tbody tr th {\n",
              "        vertical-align: top;\n",
              "    }\n",
              "\n",
              "    .dataframe thead th {\n",
              "        text-align: right;\n",
              "    }\n",
              "</style>\n",
              "<table border=\"1\" class=\"dataframe\">\n",
              "  <thead>\n",
              "    <tr style=\"text-align: right;\">\n",
              "      <th></th>\n",
              "      <th>no</th>\n",
              "      <th>Tgl_Iklan</th>\n",
              "      <th>url</th>\n",
              "      <th>Harga_juta</th>\n",
              "      <th>Kota_Provinsi</th>\n",
              "      <th>Luas_Tanah</th>\n",
              "      <th>Luas_Bangunan</th>\n",
              "      <th>KT</th>\n",
              "      <th>KM</th>\n",
              "      <th>KTP</th>\n",
              "      <th>KMP</th>\n",
              "      <th>Carport</th>\n",
              "      <th>Garasi</th>\n",
              "      <th>Listrik</th>\n",
              "      <th>Surat</th>\n",
              "      <th>Judul</th>\n",
              "      <th>Deskripsi</th>\n",
              "    </tr>\n",
              "  </thead>\n",
              "  <tbody>\n",
              "    <tr>\n",
              "      <th>45</th>\n",
              "      <td>46</td>\n",
              "      <td>04/07/2018</td>\n",
              "      <td>https://dagymoiproperti.wordpress.com/2018/07/...</td>\n",
              "      <td>785</td>\n",
              "      <td>Ternate, Maluku Utara</td>\n",
              "      <td>120.0</td>\n",
              "      <td>120.0</td>\n",
              "      <td>4</td>\n",
              "      <td>3</td>\n",
              "      <td>0</td>\n",
              "      <td>0</td>\n",
              "      <td>1</td>\n",
              "      <td>0</td>\n",
              "      <td>NaN</td>\n",
              "      <td>SHM</td>\n",
              "      <td>Update Harga Perumahan Dagymoi Green Village, ...</td>\n",
              "      <td>Sertifikat Hak Milik \\r\\n➡4 kamar tidur \\r\\n➡3...</td>\n",
              "    </tr>\n",
              "    <tr>\n",
              "      <th>46</th>\n",
              "      <td>47</td>\n",
              "      <td>25/02/2018</td>\n",
              "      <td>https://dagymoiproperti.wordpress.com/2018/02/...</td>\n",
              "      <td>300</td>\n",
              "      <td>Ternate, Maluku Utara</td>\n",
              "      <td>98.0</td>\n",
              "      <td>70.0</td>\n",
              "      <td>2</td>\n",
              "      <td>2</td>\n",
              "      <td>0</td>\n",
              "      <td>0</td>\n",
              "      <td>1</td>\n",
              "      <td>0</td>\n",
              "      <td>1100.0</td>\n",
              "      <td>SHM</td>\n",
              "      <td>Jambula Residence (SOLD)</td>\n",
              "      <td>Tipe 70 Jambula Residence. Fasilitas : 2 kamar...</td>\n",
              "    </tr>\n",
              "    <tr>\n",
              "      <th>47</th>\n",
              "      <td>48</td>\n",
              "      <td>25/02/2018</td>\n",
              "      <td>https://dagymoiproperti.wordpress.com/2018/02/...</td>\n",
              "      <td>168</td>\n",
              "      <td>Bacan, Maluku Utara</td>\n",
              "      <td>36.0</td>\n",
              "      <td>98.0</td>\n",
              "      <td>2</td>\n",
              "      <td>1</td>\n",
              "      <td>0</td>\n",
              "      <td>0</td>\n",
              "      <td>1</td>\n",
              "      <td>0</td>\n",
              "      <td>NaN</td>\n",
              "      <td>SHM</td>\n",
              "      <td>Marabose Permai, Bacan Halsel</td>\n",
              "      <td>Perumahan Marabose Permai berlokasi di Kota Ba...</td>\n",
              "    </tr>\n",
              "    <tr>\n",
              "      <th>48</th>\n",
              "      <td>49</td>\n",
              "      <td>25/02/2018</td>\n",
              "      <td>https://dagymoiproperti.wordpress.com/2018/02/...</td>\n",
              "      <td>141</td>\n",
              "      <td>Ternate, Maluku Utara</td>\n",
              "      <td>87.0</td>\n",
              "      <td>36.0</td>\n",
              "      <td>2</td>\n",
              "      <td>1</td>\n",
              "      <td>0</td>\n",
              "      <td>0</td>\n",
              "      <td>1</td>\n",
              "      <td>0</td>\n",
              "      <td>1100.0</td>\n",
              "      <td>SHM</td>\n",
              "      <td>Jambula Residence (SOLD)</td>\n",
              "      <td>Tipe 36 Jambula Residence.Cicilan 870rb-an/bul...</td>\n",
              "    </tr>\n",
              "    <tr>\n",
              "      <th>49</th>\n",
              "      <td>50</td>\n",
              "      <td>26/08/2017</td>\n",
              "      <td>umah.waa2.co.id/detail?id=a04cea79e83644265109...</td>\n",
              "      <td>900</td>\n",
              "      <td>Ambon, Maluku</td>\n",
              "      <td>314.0</td>\n",
              "      <td>300.0</td>\n",
              "      <td>8</td>\n",
              "      <td>5</td>\n",
              "      <td>0</td>\n",
              "      <td>0</td>\n",
              "      <td>0</td>\n",
              "      <td>0</td>\n",
              "      <td>NaN</td>\n",
              "      <td>NaN</td>\n",
              "      <td>Rumah dijual rumah kos dijual investasi cerdas...</td>\n",
              "      <td>Rumah dijual rumah kos dijual investasi cerdas...</td>\n",
              "    </tr>\n",
              "  </tbody>\n",
              "</table>\n",
              "</div>"
            ],
            "text/plain": [
              "    no  ...                                          Deskripsi\n",
              "45  46  ...  Sertifikat Hak Milik \\r\\n➡4 kamar tidur \\r\\n➡3...\n",
              "46  47  ...  Tipe 70 Jambula Residence. Fasilitas : 2 kamar...\n",
              "47  48  ...  Perumahan Marabose Permai berlokasi di Kota Ba...\n",
              "48  49  ...  Tipe 36 Jambula Residence.Cicilan 870rb-an/bul...\n",
              "49  50  ...  Rumah dijual rumah kos dijual investasi cerdas...\n",
              "\n",
              "[5 rows x 17 columns]"
            ]
          },
          "metadata": {
            "tags": []
          },
          "execution_count": 18
        }
      ]
    },
    {
      "cell_type": "code",
      "metadata": {
        "colab": {
          "base_uri": "https://localhost:8080/",
          "height": 1000
        },
        "id": "81Wq9ikpLzZY",
        "outputId": "c2e2aaa7-84cb-47e9-8993-68de66be7f4c"
      },
      "source": [
        "rumah.sample(10)"
      ],
      "execution_count": null,
      "outputs": [
        {
          "output_type": "execute_result",
          "data": {
            "text/html": [
              "<div>\n",
              "<style scoped>\n",
              "    .dataframe tbody tr th:only-of-type {\n",
              "        vertical-align: middle;\n",
              "    }\n",
              "\n",
              "    .dataframe tbody tr th {\n",
              "        vertical-align: top;\n",
              "    }\n",
              "\n",
              "    .dataframe thead th {\n",
              "        text-align: right;\n",
              "    }\n",
              "</style>\n",
              "<table border=\"1\" class=\"dataframe\">\n",
              "  <thead>\n",
              "    <tr style=\"text-align: right;\">\n",
              "      <th></th>\n",
              "      <th>no</th>\n",
              "      <th>Tgl_Iklan</th>\n",
              "      <th>url</th>\n",
              "      <th>Harga_juta</th>\n",
              "      <th>Kota_Provinsi</th>\n",
              "      <th>Luas_Tanah</th>\n",
              "      <th>Luas_Bangunan</th>\n",
              "      <th>KT</th>\n",
              "      <th>KM</th>\n",
              "      <th>KTP</th>\n",
              "      <th>KMP</th>\n",
              "      <th>Carport</th>\n",
              "      <th>Garasi</th>\n",
              "      <th>Listrik</th>\n",
              "      <th>Surat</th>\n",
              "      <th>Judul</th>\n",
              "      <th>Deskripsi</th>\n",
              "    </tr>\n",
              "  </thead>\n",
              "  <tbody>\n",
              "    <tr>\n",
              "      <th>41</th>\n",
              "      <td>42</td>\n",
              "      <td>23/07/2018</td>\n",
              "      <td>https://dagymoiproperti.wordpress.com/2018/07/...</td>\n",
              "      <td>168</td>\n",
              "      <td>Ternate, Maluku Utara</td>\n",
              "      <td>85.0</td>\n",
              "      <td>36.0</td>\n",
              "      <td>2</td>\n",
              "      <td>1</td>\n",
              "      <td>0</td>\n",
              "      <td>0</td>\n",
              "      <td>1</td>\n",
              "      <td>0</td>\n",
              "      <td>NaN</td>\n",
              "      <td>AJB/BPHTB</td>\n",
              "      <td>Perumahan Subsidi Dagymoi Green Park I, Tubo</td>\n",
              "      <td>Perumahan dengan Harga Jual Subsidi type 36/85...</td>\n",
              "    </tr>\n",
              "    <tr>\n",
              "      <th>45</th>\n",
              "      <td>46</td>\n",
              "      <td>04/07/2018</td>\n",
              "      <td>https://dagymoiproperti.wordpress.com/2018/07/...</td>\n",
              "      <td>785</td>\n",
              "      <td>Ternate, Maluku Utara</td>\n",
              "      <td>120.0</td>\n",
              "      <td>120.0</td>\n",
              "      <td>4</td>\n",
              "      <td>3</td>\n",
              "      <td>0</td>\n",
              "      <td>0</td>\n",
              "      <td>1</td>\n",
              "      <td>0</td>\n",
              "      <td>NaN</td>\n",
              "      <td>SHM</td>\n",
              "      <td>Update Harga Perumahan Dagymoi Green Village, ...</td>\n",
              "      <td>Sertifikat Hak Milik \\r\\n➡4 kamar tidur \\r\\n➡3...</td>\n",
              "    </tr>\n",
              "    <tr>\n",
              "      <th>11</th>\n",
              "      <td>12</td>\n",
              "      <td>08/03/2021</td>\n",
              "      <td>https://www.realoka.com/90543-jual-rumah-murah...</td>\n",
              "      <td>350</td>\n",
              "      <td>Ambon, Maluku</td>\n",
              "      <td>1100.0</td>\n",
              "      <td>900.0</td>\n",
              "      <td>3</td>\n",
              "      <td>1</td>\n",
              "      <td>0</td>\n",
              "      <td>0</td>\n",
              "      <td>0</td>\n",
              "      <td>0</td>\n",
              "      <td>NaN</td>\n",
              "      <td>SHM</td>\n",
              "      <td>Jual Rumah Murah Cepat Nego</td>\n",
              "      <td>Jual cepat rumah daerah stategis! Terletak di ...</td>\n",
              "    </tr>\n",
              "    <tr>\n",
              "      <th>44</th>\n",
              "      <td>45</td>\n",
              "      <td>04/07/2018</td>\n",
              "      <td>https://dagymoiproperti.wordpress.com/2018/07/...</td>\n",
              "      <td>495</td>\n",
              "      <td>Ternate, Maluku Utara</td>\n",
              "      <td>98.0</td>\n",
              "      <td>70.0</td>\n",
              "      <td>3</td>\n",
              "      <td>2</td>\n",
              "      <td>0</td>\n",
              "      <td>0</td>\n",
              "      <td>1</td>\n",
              "      <td>0</td>\n",
              "      <td>NaN</td>\n",
              "      <td>SHM</td>\n",
              "      <td>Update Harga Perumahan Dagymoi Green Village, ...</td>\n",
              "      <td>Sertifikat Hak Milik \\r\\n➡3 kamar tidur \\r\\n➡2...</td>\n",
              "    </tr>\n",
              "    <tr>\n",
              "      <th>7</th>\n",
              "      <td>8</td>\n",
              "      <td>08/03/2021</td>\n",
              "      <td>https://rumah.trovit.co.id/listing/rumah-denga...</td>\n",
              "      <td>2000</td>\n",
              "      <td>Maluku Utara</td>\n",
              "      <td>4002.0</td>\n",
              "      <td>NaN</td>\n",
              "      <td>7</td>\n",
              "      <td>4</td>\n",
              "      <td>0</td>\n",
              "      <td>0</td>\n",
              "      <td>2</td>\n",
              "      <td>0</td>\n",
              "      <td>NaN</td>\n",
              "      <td>SHM</td>\n",
              "      <td>Rumah dengan Halaman Luas</td>\n",
              "      <td>Rumah pribadi di huni sejak th 1990,akses jala...</td>\n",
              "    </tr>\n",
              "    <tr>\n",
              "      <th>28</th>\n",
              "      <td>29</td>\n",
              "      <td>10/10/2020</td>\n",
              "      <td>https://www.rumahku.com/p/J9XWG001/rumah-dijua...</td>\n",
              "      <td>155</td>\n",
              "      <td>Aha, Pulau Morotai, Maluku Utara</td>\n",
              "      <td>120.0</td>\n",
              "      <td>36.0</td>\n",
              "      <td>2</td>\n",
              "      <td>1</td>\n",
              "      <td>0</td>\n",
              "      <td>0</td>\n",
              "      <td>1</td>\n",
              "      <td>0</td>\n",
              "      <td>2200.0</td>\n",
              "      <td>SHM</td>\n",
              "      <td>Falila Residence Morotai</td>\n",
              "      <td>Jababeka Morotai adalah Badan Usaha yang ditun...</td>\n",
              "    </tr>\n",
              "    <tr>\n",
              "      <th>4</th>\n",
              "      <td>5</td>\n",
              "      <td>17/03/2021</td>\n",
              "      <td>https://rumah.trovit.co.id/listing/dijual-ruma...</td>\n",
              "      <td>1250</td>\n",
              "      <td>Maluku Tengah</td>\n",
              "      <td>120.0</td>\n",
              "      <td>542.0</td>\n",
              "      <td>3</td>\n",
              "      <td>2</td>\n",
              "      <td>0</td>\n",
              "      <td>0</td>\n",
              "      <td>0</td>\n",
              "      <td>0</td>\n",
              "      <td>NaN</td>\n",
              "      <td>SHM</td>\n",
              "      <td>Dijual Rumah Potensi Pebisnis</td>\n",
              "      <td>Jual Rumah 3Kamar, 2 kamar mandi\\r\\nSpesifikas...</td>\n",
              "    </tr>\n",
              "    <tr>\n",
              "      <th>30</th>\n",
              "      <td>31</td>\n",
              "      <td>10/08/2020</td>\n",
              "      <td>http://citralandambon.com/read/2019/03/22/29/E...</td>\n",
              "      <td>941</td>\n",
              "      <td>Ambon, Maluku</td>\n",
              "      <td>105.0</td>\n",
              "      <td>59.0</td>\n",
              "      <td>2</td>\n",
              "      <td>1</td>\n",
              "      <td>0</td>\n",
              "      <td>0</td>\n",
              "      <td>1</td>\n",
              "      <td>0</td>\n",
              "      <td>1300.0</td>\n",
              "      <td>SHM</td>\n",
              "      <td>EMERALD (LB. 59 M2 | LT. 105 M2)</td>\n",
              "      <td>SPESIFIKASI BANGUNAN, PONDASI : Batu Karang Pa...</td>\n",
              "    </tr>\n",
              "    <tr>\n",
              "      <th>37</th>\n",
              "      <td>38</td>\n",
              "      <td>12/06/2019</td>\n",
              "      <td>https://dagymoiproperti.wordpress.com/2019/06/...</td>\n",
              "      <td>168</td>\n",
              "      <td>Ternate, Maluku Utara</td>\n",
              "      <td>85.0</td>\n",
              "      <td>36.0</td>\n",
              "      <td>2</td>\n",
              "      <td>1</td>\n",
              "      <td>0</td>\n",
              "      <td>0</td>\n",
              "      <td>1</td>\n",
              "      <td>0</td>\n",
              "      <td>1300.0</td>\n",
              "      <td>SHM</td>\n",
              "      <td>Perumahan Shafira Residence – kel. Ngade, Ternate</td>\n",
              "      <td>Perumahan yang berlokasi di Selatan Kota Terna...</td>\n",
              "    </tr>\n",
              "    <tr>\n",
              "      <th>35</th>\n",
              "      <td>36</td>\n",
              "      <td>26/07/2019</td>\n",
              "      <td>https://www.rumah123.com/properti/ambon/hos479...</td>\n",
              "      <td>650</td>\n",
              "      <td>Ambon, Maluku</td>\n",
              "      <td>193.0</td>\n",
              "      <td>30.0</td>\n",
              "      <td>1</td>\n",
              "      <td>1</td>\n",
              "      <td>0</td>\n",
              "      <td>0</td>\n",
              "      <td>0</td>\n",
              "      <td>0</td>\n",
              "      <td>1300.0</td>\n",
              "      <td>SHM</td>\n",
              "      <td>murah bth cepat laku!! waitatiri ambon, strate...</td>\n",
              "      <td>Rumah Dijual Ambon</td>\n",
              "    </tr>\n",
              "  </tbody>\n",
              "</table>\n",
              "</div>"
            ],
            "text/plain": [
              "    no  ...                                          Deskripsi\n",
              "41  42  ...  Perumahan dengan Harga Jual Subsidi type 36/85...\n",
              "45  46  ...  Sertifikat Hak Milik \\r\\n➡4 kamar tidur \\r\\n➡3...\n",
              "11  12  ...  Jual cepat rumah daerah stategis! Terletak di ...\n",
              "44  45  ...  Sertifikat Hak Milik \\r\\n➡3 kamar tidur \\r\\n➡2...\n",
              "7    8  ...  Rumah pribadi di huni sejak th 1990,akses jala...\n",
              "28  29  ...  Jababeka Morotai adalah Badan Usaha yang ditun...\n",
              "4    5  ...  Jual Rumah 3Kamar, 2 kamar mandi\\r\\nSpesifikas...\n",
              "30  31  ...  SPESIFIKASI BANGUNAN, PONDASI : Batu Karang Pa...\n",
              "37  38  ...  Perumahan yang berlokasi di Selatan Kota Terna...\n",
              "35  36  ...                                 Rumah Dijual Ambon\n",
              "\n",
              "[10 rows x 17 columns]"
            ]
          },
          "metadata": {
            "tags": []
          },
          "execution_count": 19
        }
      ]
    },
    {
      "cell_type": "code",
      "metadata": {
        "colab": {
          "base_uri": "https://localhost:8080/"
        },
        "id": "oQtNfE_ZL8Y3",
        "outputId": "5640a533-8347-4484-a54c-8add14d48328"
      },
      "source": [
        "rumah.columns"
      ],
      "execution_count": null,
      "outputs": [
        {
          "output_type": "execute_result",
          "data": {
            "text/plain": [
              "Index(['no', 'Tgl_Iklan', 'url', 'Harga_juta', 'Kota_Provinsi', 'Luas_Tanah',\n",
              "       'Luas_Bangunan', 'KT', 'KM', 'KTP', 'KMP', 'Carport', 'Garasi',\n",
              "       'Listrik', 'Surat', 'Judul', 'Deskripsi'],\n",
              "      dtype='object')"
            ]
          },
          "metadata": {
            "tags": []
          },
          "execution_count": 20
        }
      ]
    },
    {
      "cell_type": "code",
      "metadata": {
        "id": "RZUnYCYBMCDl"
      },
      "source": [
        "# Drop kolom pertama karena tidak berguna (hanya index)\n",
        "rumah.drop(\"no\", axis=1, inplace=True)"
      ],
      "execution_count": null,
      "outputs": []
    },
    {
      "cell_type": "code",
      "metadata": {
        "colab": {
          "base_uri": "https://localhost:8080/"
        },
        "id": "34ZlH5YsMFpC",
        "outputId": "afac4b16-0907-4ae7-a097-0493d66fd785"
      },
      "source": [
        "# tipe data di setiap kolom\n",
        "# Wajib di periksa apakah tipe datanya sudah tepat?\n",
        "# Perhatikan df sebagaimana semua variable di Python diperlakukan seperti object\n",
        "rumah.info()"
      ],
      "execution_count": null,
      "outputs": [
        {
          "output_type": "stream",
          "text": [
            "<class 'pandas.core.frame.DataFrame'>\n",
            "RangeIndex: 50 entries, 0 to 49\n",
            "Data columns (total 16 columns):\n",
            " #   Column         Non-Null Count  Dtype  \n",
            "---  ------         --------------  -----  \n",
            " 0   Tgl_Iklan      50 non-null     object \n",
            " 1   url            50 non-null     object \n",
            " 2   Harga_juta     50 non-null     int64  \n",
            " 3   Kota_Provinsi  50 non-null     object \n",
            " 4   Luas_Tanah     48 non-null     float64\n",
            " 5   Luas_Bangunan  47 non-null     float64\n",
            " 6   KT             50 non-null     int64  \n",
            " 7   KM             50 non-null     int64  \n",
            " 8   KTP            50 non-null     int64  \n",
            " 9   KMP            50 non-null     int64  \n",
            " 10  Carport        50 non-null     int64  \n",
            " 11  Garasi         50 non-null     int64  \n",
            " 12  Listrik        24 non-null     float64\n",
            " 13  Surat          41 non-null     object \n",
            " 14  Judul          49 non-null     object \n",
            " 15  Deskripsi      50 non-null     object \n",
            "dtypes: float64(3), int64(7), object(6)\n",
            "memory usage: 6.4+ KB\n"
          ],
          "name": "stdout"
        }
      ]
    },
    {
      "cell_type": "code",
      "metadata": {
        "colab": {
          "base_uri": "https://localhost:8080/"
        },
        "id": "xdg5ZPcNMJZo",
        "outputId": "4dddb06e-b71f-4b63-eb5d-c92d7c0de2b8"
      },
      "source": [
        "rumah.dtypes"
      ],
      "execution_count": null,
      "outputs": [
        {
          "output_type": "execute_result",
          "data": {
            "text/plain": [
              "Tgl_Iklan         object\n",
              "url               object\n",
              "Harga_juta         int64\n",
              "Kota_Provinsi     object\n",
              "Luas_Tanah       float64\n",
              "Luas_Bangunan    float64\n",
              "KT                 int64\n",
              "KM                 int64\n",
              "KTP                int64\n",
              "KMP                int64\n",
              "Carport            int64\n",
              "Garasi             int64\n",
              "Listrik          float64\n",
              "Surat             object\n",
              "Judul             object\n",
              "Deskripsi         object\n",
              "dtype: object"
            ]
          },
          "metadata": {
            "tags": []
          },
          "execution_count": 23
        }
      ]
    },
    {
      "cell_type": "markdown",
      "metadata": {
        "id": "JjczLHpBGh4T"
      },
      "source": [
        "# Mengganti Tipe Data"
      ]
    },
    {
      "cell_type": "code",
      "metadata": {
        "colab": {
          "base_uri": "https://localhost:8080/"
        },
        "id": "b6m-L-mIMMuj",
        "outputId": "c4a9982c-23da-48a9-fb40-39ea76716f19"
      },
      "source": [
        "# dataframe types: https://pbpython.com/pandas_dtypes.html\n",
        "# mengubah tipe data variabel 'Tgl_Iklan' dan 'Listrik'\n",
        "rumah['Tgl_Iklan'] = rumah['Tgl_Iklan'].astype('datetime64')\n",
        "rumah['Listrik'] = rumah['Listrik'].astype('float64')\n",
        "rumah['Surat'] = rumah['Surat'].astype('category')\n",
        "rumah.dtypes"
      ],
      "execution_count": null,
      "outputs": [
        {
          "output_type": "execute_result",
          "data": {
            "text/plain": [
              "Tgl_Iklan        datetime64[ns]\n",
              "url                      object\n",
              "Harga_juta                int64\n",
              "Kota_Provinsi            object\n",
              "Luas_Tanah              float64\n",
              "Luas_Bangunan           float64\n",
              "KT                        int64\n",
              "KM                        int64\n",
              "KTP                       int64\n",
              "KMP                       int64\n",
              "Carport                   int64\n",
              "Garasi                    int64\n",
              "Listrik                 float64\n",
              "Surat                  category\n",
              "Judul                    object\n",
              "Deskripsi                object\n",
              "dtype: object"
            ]
          },
          "metadata": {
            "tags": []
          },
          "execution_count": 24
        }
      ]
    },
    {
      "cell_type": "markdown",
      "metadata": {
        "id": "OgLruA0uG_23"
      },
      "source": [
        "# Memeriksa Duplikasi Data"
      ]
    },
    {
      "cell_type": "code",
      "metadata": {
        "colab": {
          "base_uri": "https://localhost:8080/"
        },
        "id": "tIhbbAWTNtXc",
        "outputId": "eed82707-2c63-499f-8b97-a8957dade11f"
      },
      "source": [
        "#mengecek apakah ada duplikat data?\n",
        "print(rumah.shape)\n",
        "rumah.duplicated().sum()"
      ],
      "execution_count": null,
      "outputs": [
        {
          "output_type": "stream",
          "text": [
            "(50, 16)\n"
          ],
          "name": "stdout"
        },
        {
          "output_type": "execute_result",
          "data": {
            "text/plain": [
              "0"
            ]
          },
          "metadata": {
            "tags": []
          },
          "execution_count": 25
        }
      ]
    },
    {
      "cell_type": "code",
      "metadata": {
        "colab": {
          "base_uri": "https://localhost:8080/"
        },
        "id": "Y4x_Sw-LOCf1",
        "outputId": "d4eeab3d-8cd7-4f7f-f5d0-5a830f4f6577"
      },
      "source": [
        "#menghapus entri yang memiliki data duplikat\n",
        "rumah.drop_duplicates(inplace=True)\n",
        "print(rumah.duplicated().sum())\n",
        "print(rumah.shape)"
      ],
      "execution_count": null,
      "outputs": [
        {
          "output_type": "stream",
          "text": [
            "0\n",
            "(50, 16)\n"
          ],
          "name": "stdout"
        }
      ]
    },
    {
      "cell_type": "code",
      "metadata": {
        "id": "F_B_KA4RPHxP",
        "colab": {
          "base_uri": "https://localhost:8080/",
          "height": 224
        },
        "outputId": "96904e61-43c4-48ed-f6e8-28eeb6ee702e"
      },
      "source": [
        "#Memilih hanya variable dengan tipe tertentu\n",
        "rumah_num = rumah.select_dtypes(include=['float64', 'int64'])\n",
        "rumah_num.head()"
      ],
      "execution_count": null,
      "outputs": [
        {
          "output_type": "execute_result",
          "data": {
            "text/html": [
              "<div>\n",
              "<style scoped>\n",
              "    .dataframe tbody tr th:only-of-type {\n",
              "        vertical-align: middle;\n",
              "    }\n",
              "\n",
              "    .dataframe tbody tr th {\n",
              "        vertical-align: top;\n",
              "    }\n",
              "\n",
              "    .dataframe thead th {\n",
              "        text-align: right;\n",
              "    }\n",
              "</style>\n",
              "<table border=\"1\" class=\"dataframe\">\n",
              "  <thead>\n",
              "    <tr style=\"text-align: right;\">\n",
              "      <th></th>\n",
              "      <th>Harga_juta</th>\n",
              "      <th>Luas_Tanah</th>\n",
              "      <th>Luas_Bangunan</th>\n",
              "      <th>KT</th>\n",
              "      <th>KM</th>\n",
              "      <th>KTP</th>\n",
              "      <th>KMP</th>\n",
              "      <th>Carport</th>\n",
              "      <th>Garasi</th>\n",
              "      <th>Listrik</th>\n",
              "    </tr>\n",
              "  </thead>\n",
              "  <tbody>\n",
              "    <tr>\n",
              "      <th>0</th>\n",
              "      <td>1200</td>\n",
              "      <td>135.0</td>\n",
              "      <td>70.0</td>\n",
              "      <td>2</td>\n",
              "      <td>2</td>\n",
              "      <td>1</td>\n",
              "      <td>0</td>\n",
              "      <td>1</td>\n",
              "      <td>0</td>\n",
              "      <td>1300.0</td>\n",
              "    </tr>\n",
              "    <tr>\n",
              "      <th>1</th>\n",
              "      <td>1110</td>\n",
              "      <td>135.0</td>\n",
              "      <td>70.0</td>\n",
              "      <td>3</td>\n",
              "      <td>2</td>\n",
              "      <td>0</td>\n",
              "      <td>0</td>\n",
              "      <td>1</td>\n",
              "      <td>0</td>\n",
              "      <td>NaN</td>\n",
              "    </tr>\n",
              "    <tr>\n",
              "      <th>2</th>\n",
              "      <td>2100</td>\n",
              "      <td>875.0</td>\n",
              "      <td>220.0</td>\n",
              "      <td>3</td>\n",
              "      <td>3</td>\n",
              "      <td>0</td>\n",
              "      <td>0</td>\n",
              "      <td>1</td>\n",
              "      <td>1</td>\n",
              "      <td>2200.0</td>\n",
              "    </tr>\n",
              "    <tr>\n",
              "      <th>3</th>\n",
              "      <td>12000</td>\n",
              "      <td>360.0</td>\n",
              "      <td>300.0</td>\n",
              "      <td>5</td>\n",
              "      <td>2</td>\n",
              "      <td>0</td>\n",
              "      <td>0</td>\n",
              "      <td>3</td>\n",
              "      <td>0</td>\n",
              "      <td>NaN</td>\n",
              "    </tr>\n",
              "    <tr>\n",
              "      <th>4</th>\n",
              "      <td>1250</td>\n",
              "      <td>120.0</td>\n",
              "      <td>542.0</td>\n",
              "      <td>3</td>\n",
              "      <td>2</td>\n",
              "      <td>0</td>\n",
              "      <td>0</td>\n",
              "      <td>0</td>\n",
              "      <td>0</td>\n",
              "      <td>NaN</td>\n",
              "    </tr>\n",
              "  </tbody>\n",
              "</table>\n",
              "</div>"
            ],
            "text/plain": [
              "   Harga_juta  Luas_Tanah  Luas_Bangunan  KT  ...  KMP  Carport  Garasi  Listrik\n",
              "0        1200       135.0           70.0   2  ...    0        1       0   1300.0\n",
              "1        1110       135.0           70.0   3  ...    0        1       0      NaN\n",
              "2        2100       875.0          220.0   3  ...    0        1       1   2200.0\n",
              "3       12000       360.0          300.0   5  ...    0        3       0      NaN\n",
              "4        1250       120.0          542.0   3  ...    0        0       0      NaN\n",
              "\n",
              "[5 rows x 10 columns]"
            ]
          },
          "metadata": {
            "tags": []
          },
          "execution_count": 27
        }
      ]
    },
    {
      "cell_type": "code",
      "metadata": {
        "colab": {
          "base_uri": "https://localhost:8080/",
          "height": 374
        },
        "id": "ZVq6esZhR_02",
        "outputId": "692e256f-28cc-4f61-d2e1-4e709ce7ea1e"
      },
      "source": [
        "#memilih hanya variable dengan tipe tertentu\n",
        "rumah_obj = rumah.select_dtypes(include = [object])\n",
        "rumah_obj.head()"
      ],
      "execution_count": null,
      "outputs": [
        {
          "output_type": "execute_result",
          "data": {
            "text/html": [
              "<div>\n",
              "<style scoped>\n",
              "    .dataframe tbody tr th:only-of-type {\n",
              "        vertical-align: middle;\n",
              "    }\n",
              "\n",
              "    .dataframe tbody tr th {\n",
              "        vertical-align: top;\n",
              "    }\n",
              "\n",
              "    .dataframe thead th {\n",
              "        text-align: right;\n",
              "    }\n",
              "</style>\n",
              "<table border=\"1\" class=\"dataframe\">\n",
              "  <thead>\n",
              "    <tr style=\"text-align: right;\">\n",
              "      <th></th>\n",
              "      <th>url</th>\n",
              "      <th>Kota_Provinsi</th>\n",
              "      <th>Judul</th>\n",
              "      <th>Deskripsi</th>\n",
              "    </tr>\n",
              "  </thead>\n",
              "  <tbody>\n",
              "    <tr>\n",
              "      <th>0</th>\n",
              "      <td>https://www.realoka.com/82784-dijual-disewa-ru...</td>\n",
              "      <td>Ambon, Maluku</td>\n",
              "      <td>Dijual Disewa Rumah di Citraland Ambon Pr1699</td>\n",
              "      <td>Peminat Serius Hubungi:\\r\\nIbu Ata\\r\\n0851-012...</td>\n",
              "    </tr>\n",
              "    <tr>\n",
              "      <th>1</th>\n",
              "      <td>https://www.olx.co.id/item/rumah-di-citraland-...</td>\n",
              "      <td>Ambon, Maluku</td>\n",
              "      <td>Rumah di Citraland Ambon</td>\n",
              "      <td>Pemilik langsung, tanpa perantara. Lokasi Stra...</td>\n",
              "    </tr>\n",
              "    <tr>\n",
              "      <th>2</th>\n",
              "      <td>https://www.olx.co.id/item/di-jual-rumah-tingg...</td>\n",
              "      <td>Tual, Maluku</td>\n",
              "      <td>Di Jual Rumah Tinggal Di BTN Indah Tual</td>\n",
              "      <td>Sertifikat SHM ( Sertifikat Hak Milik ). Harga...</td>\n",
              "    </tr>\n",
              "    <tr>\n",
              "      <th>3</th>\n",
              "      <td>https://rumah.trovit.co.id/listing/rumah-belan...</td>\n",
              "      <td>Ambon, Maluku</td>\n",
              "      <td>Rumah Belanda Sayap Riau Terawat, Belitung, Am...</td>\n",
              "      <td>Luas Tanah 360m Bangunan 300m Kamar Tidur 5 Ma...</td>\n",
              "    </tr>\n",
              "    <tr>\n",
              "      <th>4</th>\n",
              "      <td>https://rumah.trovit.co.id/listing/dijual-ruma...</td>\n",
              "      <td>Maluku Tengah</td>\n",
              "      <td>Dijual Rumah Potensi Pebisnis</td>\n",
              "      <td>Jual Rumah 3Kamar, 2 kamar mandi\\r\\nSpesifikas...</td>\n",
              "    </tr>\n",
              "  </tbody>\n",
              "</table>\n",
              "</div>"
            ],
            "text/plain": [
              "                                                 url  ...                                          Deskripsi\n",
              "0  https://www.realoka.com/82784-dijual-disewa-ru...  ...  Peminat Serius Hubungi:\\r\\nIbu Ata\\r\\n0851-012...\n",
              "1  https://www.olx.co.id/item/rumah-di-citraland-...  ...  Pemilik langsung, tanpa perantara. Lokasi Stra...\n",
              "2  https://www.olx.co.id/item/di-jual-rumah-tingg...  ...  Sertifikat SHM ( Sertifikat Hak Milik ). Harga...\n",
              "3  https://rumah.trovit.co.id/listing/rumah-belan...  ...  Luas Tanah 360m Bangunan 300m Kamar Tidur 5 Ma...\n",
              "4  https://rumah.trovit.co.id/listing/dijual-ruma...  ...  Jual Rumah 3Kamar, 2 kamar mandi\\r\\nSpesifikas...\n",
              "\n",
              "[5 rows x 4 columns]"
            ]
          },
          "metadata": {
            "tags": []
          },
          "execution_count": 28
        }
      ]
    },
    {
      "cell_type": "code",
      "metadata": {
        "colab": {
          "base_uri": "https://localhost:8080/",
          "height": 204
        },
        "id": "1YXJ-Yz0Y24G",
        "outputId": "8fa46448-2732-419f-a5b3-39542cb42452"
      },
      "source": [
        "# Memilih hanya variable dengan tipe tertentu\n",
        "rumah_cat = rumah.select_dtypes(include = ['category'])\n",
        "rumah_cat.head()"
      ],
      "execution_count": null,
      "outputs": [
        {
          "output_type": "execute_result",
          "data": {
            "text/html": [
              "<div>\n",
              "<style scoped>\n",
              "    .dataframe tbody tr th:only-of-type {\n",
              "        vertical-align: middle;\n",
              "    }\n",
              "\n",
              "    .dataframe tbody tr th {\n",
              "        vertical-align: top;\n",
              "    }\n",
              "\n",
              "    .dataframe thead th {\n",
              "        text-align: right;\n",
              "    }\n",
              "</style>\n",
              "<table border=\"1\" class=\"dataframe\">\n",
              "  <thead>\n",
              "    <tr style=\"text-align: right;\">\n",
              "      <th></th>\n",
              "      <th>Surat</th>\n",
              "    </tr>\n",
              "  </thead>\n",
              "  <tbody>\n",
              "    <tr>\n",
              "      <th>0</th>\n",
              "      <td>SHM</td>\n",
              "    </tr>\n",
              "    <tr>\n",
              "      <th>1</th>\n",
              "      <td>SHM</td>\n",
              "    </tr>\n",
              "    <tr>\n",
              "      <th>2</th>\n",
              "      <td>SHM</td>\n",
              "    </tr>\n",
              "    <tr>\n",
              "      <th>3</th>\n",
              "      <td>NaN</td>\n",
              "    </tr>\n",
              "    <tr>\n",
              "      <th>4</th>\n",
              "      <td>SHM</td>\n",
              "    </tr>\n",
              "  </tbody>\n",
              "</table>\n",
              "</div>"
            ],
            "text/plain": [
              "  Surat\n",
              "0   SHM\n",
              "1   SHM\n",
              "2   SHM\n",
              "3   NaN\n",
              "4   SHM"
            ]
          },
          "metadata": {
            "tags": []
          },
          "execution_count": 29
        }
      ]
    },
    {
      "cell_type": "code",
      "metadata": {
        "colab": {
          "base_uri": "https://localhost:8080/",
          "height": 204
        },
        "id": "B6YRMFTvZIlN",
        "outputId": "ef150302-3bbf-4b05-84a1-81a9995936d2"
      },
      "source": [
        "df = pd.get_dummies(rumah['Surat'], prefix='Sertif')\n",
        "df.head()"
      ],
      "execution_count": null,
      "outputs": [
        {
          "output_type": "execute_result",
          "data": {
            "text/html": [
              "<div>\n",
              "<style scoped>\n",
              "    .dataframe tbody tr th:only-of-type {\n",
              "        vertical-align: middle;\n",
              "    }\n",
              "\n",
              "    .dataframe tbody tr th {\n",
              "        vertical-align: top;\n",
              "    }\n",
              "\n",
              "    .dataframe thead th {\n",
              "        text-align: right;\n",
              "    }\n",
              "</style>\n",
              "<table border=\"1\" class=\"dataframe\">\n",
              "  <thead>\n",
              "    <tr style=\"text-align: right;\">\n",
              "      <th></th>\n",
              "      <th>Sertif_AJB/BPHTB</th>\n",
              "      <th>Sertif_HGB</th>\n",
              "      <th>Sertif_SHM</th>\n",
              "    </tr>\n",
              "  </thead>\n",
              "  <tbody>\n",
              "    <tr>\n",
              "      <th>0</th>\n",
              "      <td>0</td>\n",
              "      <td>0</td>\n",
              "      <td>1</td>\n",
              "    </tr>\n",
              "    <tr>\n",
              "      <th>1</th>\n",
              "      <td>0</td>\n",
              "      <td>0</td>\n",
              "      <td>1</td>\n",
              "    </tr>\n",
              "    <tr>\n",
              "      <th>2</th>\n",
              "      <td>0</td>\n",
              "      <td>0</td>\n",
              "      <td>1</td>\n",
              "    </tr>\n",
              "    <tr>\n",
              "      <th>3</th>\n",
              "      <td>0</td>\n",
              "      <td>0</td>\n",
              "      <td>0</td>\n",
              "    </tr>\n",
              "    <tr>\n",
              "      <th>4</th>\n",
              "      <td>0</td>\n",
              "      <td>0</td>\n",
              "      <td>1</td>\n",
              "    </tr>\n",
              "  </tbody>\n",
              "</table>\n",
              "</div>"
            ],
            "text/plain": [
              "   Sertif_AJB/BPHTB  Sertif_HGB  Sertif_SHM\n",
              "0                 0           0           1\n",
              "1                 0           0           1\n",
              "2                 0           0           1\n",
              "3                 0           0           0\n",
              "4                 0           0           1"
            ]
          },
          "metadata": {
            "tags": []
          },
          "execution_count": 30
        }
      ]
    },
    {
      "cell_type": "code",
      "metadata": {
        "colab": {
          "base_uri": "https://localhost:8080/",
          "height": 709
        },
        "id": "Sb7_ivmgZ5MJ",
        "outputId": "e8b07122-206d-48d6-c7b1-37a6810d33e9"
      },
      "source": [
        "df2 = pd.concat([rumah, df], axis = 1)\n",
        "df2.head().transpose()"
      ],
      "execution_count": null,
      "outputs": [
        {
          "output_type": "execute_result",
          "data": {
            "text/html": [
              "<div>\n",
              "<style scoped>\n",
              "    .dataframe tbody tr th:only-of-type {\n",
              "        vertical-align: middle;\n",
              "    }\n",
              "\n",
              "    .dataframe tbody tr th {\n",
              "        vertical-align: top;\n",
              "    }\n",
              "\n",
              "    .dataframe thead th {\n",
              "        text-align: right;\n",
              "    }\n",
              "</style>\n",
              "<table border=\"1\" class=\"dataframe\">\n",
              "  <thead>\n",
              "    <tr style=\"text-align: right;\">\n",
              "      <th></th>\n",
              "      <th>0</th>\n",
              "      <th>1</th>\n",
              "      <th>2</th>\n",
              "      <th>3</th>\n",
              "      <th>4</th>\n",
              "    </tr>\n",
              "  </thead>\n",
              "  <tbody>\n",
              "    <tr>\n",
              "      <th>Tgl_Iklan</th>\n",
              "      <td>2021-08-04 00:00:00</td>\n",
              "      <td>2021-04-04 00:00:00</td>\n",
              "      <td>2021-03-22 00:00:00</td>\n",
              "      <td>2021-03-17 00:00:00</td>\n",
              "      <td>2021-03-17 00:00:00</td>\n",
              "    </tr>\n",
              "    <tr>\n",
              "      <th>url</th>\n",
              "      <td>https://www.realoka.com/82784-dijual-disewa-ru...</td>\n",
              "      <td>https://www.olx.co.id/item/rumah-di-citraland-...</td>\n",
              "      <td>https://www.olx.co.id/item/di-jual-rumah-tingg...</td>\n",
              "      <td>https://rumah.trovit.co.id/listing/rumah-belan...</td>\n",
              "      <td>https://rumah.trovit.co.id/listing/dijual-ruma...</td>\n",
              "    </tr>\n",
              "    <tr>\n",
              "      <th>Harga_juta</th>\n",
              "      <td>1200</td>\n",
              "      <td>1110</td>\n",
              "      <td>2100</td>\n",
              "      <td>12000</td>\n",
              "      <td>1250</td>\n",
              "    </tr>\n",
              "    <tr>\n",
              "      <th>Kota_Provinsi</th>\n",
              "      <td>Ambon, Maluku</td>\n",
              "      <td>Ambon, Maluku</td>\n",
              "      <td>Tual, Maluku</td>\n",
              "      <td>Ambon, Maluku</td>\n",
              "      <td>Maluku Tengah</td>\n",
              "    </tr>\n",
              "    <tr>\n",
              "      <th>Luas_Tanah</th>\n",
              "      <td>135</td>\n",
              "      <td>135</td>\n",
              "      <td>875</td>\n",
              "      <td>360</td>\n",
              "      <td>120</td>\n",
              "    </tr>\n",
              "    <tr>\n",
              "      <th>Luas_Bangunan</th>\n",
              "      <td>70</td>\n",
              "      <td>70</td>\n",
              "      <td>220</td>\n",
              "      <td>300</td>\n",
              "      <td>542</td>\n",
              "    </tr>\n",
              "    <tr>\n",
              "      <th>KT</th>\n",
              "      <td>2</td>\n",
              "      <td>3</td>\n",
              "      <td>3</td>\n",
              "      <td>5</td>\n",
              "      <td>3</td>\n",
              "    </tr>\n",
              "    <tr>\n",
              "      <th>KM</th>\n",
              "      <td>2</td>\n",
              "      <td>2</td>\n",
              "      <td>3</td>\n",
              "      <td>2</td>\n",
              "      <td>2</td>\n",
              "    </tr>\n",
              "    <tr>\n",
              "      <th>KTP</th>\n",
              "      <td>1</td>\n",
              "      <td>0</td>\n",
              "      <td>0</td>\n",
              "      <td>0</td>\n",
              "      <td>0</td>\n",
              "    </tr>\n",
              "    <tr>\n",
              "      <th>KMP</th>\n",
              "      <td>0</td>\n",
              "      <td>0</td>\n",
              "      <td>0</td>\n",
              "      <td>0</td>\n",
              "      <td>0</td>\n",
              "    </tr>\n",
              "    <tr>\n",
              "      <th>Carport</th>\n",
              "      <td>1</td>\n",
              "      <td>1</td>\n",
              "      <td>1</td>\n",
              "      <td>3</td>\n",
              "      <td>0</td>\n",
              "    </tr>\n",
              "    <tr>\n",
              "      <th>Garasi</th>\n",
              "      <td>0</td>\n",
              "      <td>0</td>\n",
              "      <td>1</td>\n",
              "      <td>0</td>\n",
              "      <td>0</td>\n",
              "    </tr>\n",
              "    <tr>\n",
              "      <th>Listrik</th>\n",
              "      <td>1300</td>\n",
              "      <td>NaN</td>\n",
              "      <td>2200</td>\n",
              "      <td>NaN</td>\n",
              "      <td>NaN</td>\n",
              "    </tr>\n",
              "    <tr>\n",
              "      <th>Surat</th>\n",
              "      <td>SHM</td>\n",
              "      <td>SHM</td>\n",
              "      <td>SHM</td>\n",
              "      <td>NaN</td>\n",
              "      <td>SHM</td>\n",
              "    </tr>\n",
              "    <tr>\n",
              "      <th>Judul</th>\n",
              "      <td>Dijual Disewa Rumah di Citraland Ambon Pr1699</td>\n",
              "      <td>Rumah di Citraland Ambon</td>\n",
              "      <td>Di Jual Rumah Tinggal Di BTN Indah Tual</td>\n",
              "      <td>Rumah Belanda Sayap Riau Terawat, Belitung, Am...</td>\n",
              "      <td>Dijual Rumah Potensi Pebisnis</td>\n",
              "    </tr>\n",
              "    <tr>\n",
              "      <th>Deskripsi</th>\n",
              "      <td>Peminat Serius Hubungi:\\r\\nIbu Ata\\r\\n0851-012...</td>\n",
              "      <td>Pemilik langsung, tanpa perantara. Lokasi Stra...</td>\n",
              "      <td>Sertifikat SHM ( Sertifikat Hak Milik ). Harga...</td>\n",
              "      <td>Luas Tanah 360m Bangunan 300m Kamar Tidur 5 Ma...</td>\n",
              "      <td>Jual Rumah 3Kamar, 2 kamar mandi\\r\\nSpesifikas...</td>\n",
              "    </tr>\n",
              "    <tr>\n",
              "      <th>Sertif_AJB/BPHTB</th>\n",
              "      <td>0</td>\n",
              "      <td>0</td>\n",
              "      <td>0</td>\n",
              "      <td>0</td>\n",
              "      <td>0</td>\n",
              "    </tr>\n",
              "    <tr>\n",
              "      <th>Sertif_HGB</th>\n",
              "      <td>0</td>\n",
              "      <td>0</td>\n",
              "      <td>0</td>\n",
              "      <td>0</td>\n",
              "      <td>0</td>\n",
              "    </tr>\n",
              "    <tr>\n",
              "      <th>Sertif_SHM</th>\n",
              "      <td>1</td>\n",
              "      <td>1</td>\n",
              "      <td>1</td>\n",
              "      <td>0</td>\n",
              "      <td>1</td>\n",
              "    </tr>\n",
              "  </tbody>\n",
              "</table>\n",
              "</div>"
            ],
            "text/plain": [
              "                                                                  0  ...                                                  4\n",
              "Tgl_Iklan                                       2021-08-04 00:00:00  ...                                2021-03-17 00:00:00\n",
              "url               https://www.realoka.com/82784-dijual-disewa-ru...  ...  https://rumah.trovit.co.id/listing/dijual-ruma...\n",
              "Harga_juta                                                     1200  ...                                               1250\n",
              "Kota_Provinsi                                         Ambon, Maluku  ...                                      Maluku Tengah\n",
              "Luas_Tanah                                                      135  ...                                                120\n",
              "Luas_Bangunan                                                    70  ...                                                542\n",
              "KT                                                                2  ...                                                  3\n",
              "KM                                                                2  ...                                                  2\n",
              "KTP                                                               1  ...                                                  0\n",
              "KMP                                                               0  ...                                                  0\n",
              "Carport                                                           1  ...                                                  0\n",
              "Garasi                                                            0  ...                                                  0\n",
              "Listrik                                                        1300  ...                                                NaN\n",
              "Surat                                                           SHM  ...                                                SHM\n",
              "Judul                 Dijual Disewa Rumah di Citraland Ambon Pr1699  ...                      Dijual Rumah Potensi Pebisnis\n",
              "Deskripsi         Peminat Serius Hubungi:\\r\\nIbu Ata\\r\\n0851-012...  ...  Jual Rumah 3Kamar, 2 kamar mandi\\r\\nSpesifikas...\n",
              "Sertif_AJB/BPHTB                                                  0  ...                                                  0\n",
              "Sertif_HGB                                                        0  ...                                                  0\n",
              "Sertif_SHM                                                        1  ...                                                  1\n",
              "\n",
              "[19 rows x 5 columns]"
            ]
          },
          "metadata": {
            "tags": []
          },
          "execution_count": 31
        }
      ]
    },
    {
      "cell_type": "code",
      "metadata": {
        "id": "xxq_Jms9T6IG",
        "colab": {
          "base_uri": "https://localhost:8080/",
          "height": 266
        },
        "outputId": "ad993d5e-fd7f-4c3f-ddd7-930bc994a90a"
      },
      "source": [
        "# Choosing some columns manually\n",
        "X = rumah[['Harga_juta','Luas_Tanah']]\n",
        "X[:7]"
      ],
      "execution_count": null,
      "outputs": [
        {
          "output_type": "execute_result",
          "data": {
            "text/html": [
              "<div>\n",
              "<style scoped>\n",
              "    .dataframe tbody tr th:only-of-type {\n",
              "        vertical-align: middle;\n",
              "    }\n",
              "\n",
              "    .dataframe tbody tr th {\n",
              "        vertical-align: top;\n",
              "    }\n",
              "\n",
              "    .dataframe thead th {\n",
              "        text-align: right;\n",
              "    }\n",
              "</style>\n",
              "<table border=\"1\" class=\"dataframe\">\n",
              "  <thead>\n",
              "    <tr style=\"text-align: right;\">\n",
              "      <th></th>\n",
              "      <th>Harga_juta</th>\n",
              "      <th>Luas_Tanah</th>\n",
              "    </tr>\n",
              "  </thead>\n",
              "  <tbody>\n",
              "    <tr>\n",
              "      <th>0</th>\n",
              "      <td>1200</td>\n",
              "      <td>135.0</td>\n",
              "    </tr>\n",
              "    <tr>\n",
              "      <th>1</th>\n",
              "      <td>1110</td>\n",
              "      <td>135.0</td>\n",
              "    </tr>\n",
              "    <tr>\n",
              "      <th>2</th>\n",
              "      <td>2100</td>\n",
              "      <td>875.0</td>\n",
              "    </tr>\n",
              "    <tr>\n",
              "      <th>3</th>\n",
              "      <td>12000</td>\n",
              "      <td>360.0</td>\n",
              "    </tr>\n",
              "    <tr>\n",
              "      <th>4</th>\n",
              "      <td>1250</td>\n",
              "      <td>120.0</td>\n",
              "    </tr>\n",
              "    <tr>\n",
              "      <th>5</th>\n",
              "      <td>15000</td>\n",
              "      <td>500.0</td>\n",
              "    </tr>\n",
              "    <tr>\n",
              "      <th>6</th>\n",
              "      <td>1100</td>\n",
              "      <td>134.0</td>\n",
              "    </tr>\n",
              "  </tbody>\n",
              "</table>\n",
              "</div>"
            ],
            "text/plain": [
              "   Harga_juta  Luas_Tanah\n",
              "0        1200       135.0\n",
              "1        1110       135.0\n",
              "2        2100       875.0\n",
              "3       12000       360.0\n",
              "4        1250       120.0\n",
              "5       15000       500.0\n",
              "6        1100       134.0"
            ]
          },
          "metadata": {
            "tags": []
          },
          "execution_count": 32
        }
      ]
    },
    {
      "cell_type": "markdown",
      "metadata": {
        "id": "t6TZ-eQWbOfi"
      },
      "source": [
        "# Apakah ada kecenderungan perbedaan harga rumah akibat dari jenis sertifikat?"
      ]
    },
    {
      "cell_type": "code",
      "metadata": {
        "colab": {
          "base_uri": "https://localhost:8080/",
          "height": 382
        },
        "id": "PmBVmGVObfl8",
        "outputId": "2507859b-7633-4e72-a81a-5f3c5f8259ca"
      },
      "source": [
        "p= sns.catplot(x=\"Surat\", y=\"Harga_juta\", data=rumah)\n",
        "# Apa yang bisa dilihat dari hasil ini?"
      ],
      "execution_count": null,
      "outputs": [
        {
          "output_type": "display_data",
          "data": {
            "image/png": "[encoded data removed]",
            "text/plain": [
              "<Figure size 360x360 with 1 Axes>"
            ]
          },
          "metadata": {
            "tags": []
          }
        }
      ]
    },
    {
      "cell_type": "code",
      "metadata": {
        "colab": {
          "base_uri": "https://localhost:8080/",
          "height": 286
        },
        "id": "lYJehLrrV73_",
        "outputId": "cb0739a9-9555-49bd-ea76-15d9a6e6c5a1"
      },
      "source": [
        "#Distributions\n",
        "p = sns.distplot(rumah['Harga_juta'],kde=True, rug=True)"
      ],
      "execution_count": null,
      "outputs": [
        {
          "output_type": "display_data",
          "data": {
            "image/png": "[encoded data removed]",
            "text/plain": [
              "<Figure size 432x288 with 1 Axes>"
            ]
          },
          "metadata": {
            "tags": []
          }
        }
      ]
    },
    {
      "cell_type": "markdown",
      "metadata": {
        "id": "k5ucCSgNHQDD"
      },
      "source": [
        "# Menghapus Outlier pada Variabel \"Harga_juta\""
      ]
    },
    {
      "cell_type": "code",
      "metadata": {
        "colab": {
          "base_uri": "https://localhost:8080/"
        },
        "id": "2KhfBH6zipwo",
        "outputId": "7c8bd7fa-e435-44a0-eb2f-ccce27da72a6"
      },
      "source": [
        "# Misal dengan asumsi data berdistribusi normal\n",
        "# dan menggunakan 95% confidence interval di sekitar variabel \"harga\"\n",
        "\n",
        "df3 = np.abs(rumah.Harga_juta - rumah.Harga_juta.mean())<=(2*rumah.Harga_juta.std())\n",
        "# mu-2s<x<mu+2s\n",
        "print(df3.shape)\n",
        "df3.head()"
      ],
      "execution_count": null,
      "outputs": [
        {
          "output_type": "stream",
          "text": [
            "(50,)\n"
          ],
          "name": "stdout"
        },
        {
          "output_type": "execute_result",
          "data": {
            "text/plain": [
              "0     True\n",
              "1     True\n",
              "2     True\n",
              "3    False\n",
              "4     True\n",
              "Name: Harga_juta, dtype: bool"
            ]
          },
          "metadata": {
            "tags": []
          },
          "execution_count": 35
        }
      ]
    },
    {
      "cell_type": "code",
      "metadata": {
        "id": "HQcTYCIra9Bn",
        "colab": {
          "base_uri": "https://localhost:8080/",
          "height": 285
        },
        "outputId": "836c3cb7-275b-432f-aea7-b9114a254d77"
      },
      "source": [
        "# Distributions\n",
        "p = sns.distplot(rumah['Luas_Tanah'], kde=True, rug=True)"
      ],
      "execution_count": null,
      "outputs": [
        {
          "output_type": "display_data",
          "data": {
            "image/png": "[encoded data removed]",
            "text/plain": [
              "<Figure size 432x288 with 1 Axes>"
            ]
          },
          "metadata": {
            "tags": []
          }
        }
      ]
    },
    {
      "cell_type": "markdown",
      "metadata": {
        "id": "JgPw3owMHksa"
      },
      "source": [
        "# Menghapus Outlier pada Variabel \"Luas_Tanah\""
      ]
    },
    {
      "cell_type": "code",
      "metadata": {
        "colab": {
          "base_uri": "https://localhost:8080/"
        },
        "id": "OOWOqjiOhpVl",
        "outputId": "448d4323-8bdc-484b-aadb-bdc6eadffeb1"
      },
      "source": [
        "# Misal dengan asumsi data berdistribusi normal\n",
        "# dan menggunakan 95% confidence interval di sekitar variabel \"Luas_Tanah\"\n",
        "\n",
        "df4 = np.abs(rumah.Luas_Tanah - rumah.Luas_Tanah.mean())<=(2*rumah.Luas_Tanah.std())\n",
        "# mu-2s<x<mu+2s\n",
        "print(df4.shape)\n",
        "df4.head()"
      ],
      "execution_count": null,
      "outputs": [
        {
          "output_type": "stream",
          "text": [
            "(50,)\n"
          ],
          "name": "stdout"
        },
        {
          "output_type": "execute_result",
          "data": {
            "text/plain": [
              "0    True\n",
              "1    True\n",
              "2    True\n",
              "3    True\n",
              "4    True\n",
              "Name: Luas_Tanah, dtype: bool"
            ]
          },
          "metadata": {
            "tags": []
          },
          "execution_count": 37
        }
      ]
    },
    {
      "cell_type": "code",
      "metadata": {
        "colab": {
          "base_uri": "https://localhost:8080/"
        },
        "id": "lFcN_bGwjIq4",
        "outputId": "d78e22c3-aca3-4ca6-ea30-d368f0a7dfb7"
      },
      "source": [
        "rumah3 = rumah[df3] # Data tanpa outliers  #untuk variabel 'Harga_juta'\n",
        "print(rumah3.shape, rumah.shape)\n",
        "# Perhatikan disini sengaja data yang telah di remove outliernya \n",
        "# disimpan dalam variabel baru \"rumah3\"\n",
        "# Jika datanya besar hati-hati melakukan hal ini"
      ],
      "execution_count": null,
      "outputs": [
        {
          "output_type": "stream",
          "text": [
            "(45, 16) (50, 16)\n"
          ],
          "name": "stdout"
        }
      ]
    },
    {
      "cell_type": "code",
      "metadata": {
        "colab": {
          "base_uri": "https://localhost:8080/",
          "height": 285
        },
        "id": "VgIcxsJOjauo",
        "outputId": "abc3bab7-49ff-40be-b3cf-fbaea2358551"
      },
      "source": [
        "# Distributions\n",
        "p = sns.distplot(rumah3['Harga_juta'], kde=True, rug=True)"
      ],
      "execution_count": null,
      "outputs": [
        {
          "output_type": "display_data",
          "data": {
            "image/png": "[encoded data removed]",
            "text/plain": [
              "<Figure size 432x288 with 1 Axes>"
            ]
          },
          "metadata": {
            "tags": []
          }
        }
      ]
    },
    {
      "cell_type": "code",
      "metadata": {
        "colab": {
          "base_uri": "https://localhost:8080/"
        },
        "id": "i797X_ZZiAFl",
        "outputId": "a626b954-2538-440d-ccd5-05396f4f813a"
      },
      "source": [
        "rumah2 = rumah[df4] # Data tanpa outliers #Variabel Luas_Tanah\n",
        "print(rumah2.shape, rumah.shape)\n",
        "# Perhatikan disini sengaja data yang telah di remove outliernya \n",
        "# disimpan dalam variabel baru \"rumah2\"\n",
        "# Jika datanya besar hati-hati melakukan hal ini"
      ],
      "execution_count": null,
      "outputs": [
        {
          "output_type": "stream",
          "text": [
            "(47, 16) (50, 16)\n"
          ],
          "name": "stdout"
        }
      ]
    },
    {
      "cell_type": "code",
      "metadata": {
        "colab": {
          "base_uri": "https://localhost:8080/",
          "height": 285
        },
        "id": "RtGN63QRiT3p",
        "outputId": "e550191d-7966-49b7-c883-b151db2dc63f"
      },
      "source": [
        "# Distributions\n",
        "p = sns.distplot(rumah2['Luas_Tanah'], kde=True, rug=True)"
      ],
      "execution_count": null,
      "outputs": [
        {
          "output_type": "display_data",
          "data": {
            "image/png": "[encoded data removed]",
            "text/plain": [
              "<Figure size 432x288 with 1 Axes>"
            ]
          },
          "metadata": {
            "tags": []
          }
        }
      ]
    },
    {
      "cell_type": "code",
      "metadata": {
        "colab": {
          "base_uri": "https://localhost:8080/",
          "height": 382
        },
        "id": "E9APMaF_cB-u",
        "outputId": "62fbeb2b-e30a-4404-a379-fc486e782bfd"
      },
      "source": [
        "p= sns.catplot(x=\"Surat\", y=\"Harga_juta\", data=rumah3)\n",
        "# Apa yang bisa dilihat dari hasil ini?"
      ],
      "execution_count": null,
      "outputs": [
        {
          "output_type": "display_data",
          "data": {
            "image/png": "[encoded data removed]",
            "text/plain": [
              "<Figure size 360x360 with 1 Axes>"
            ]
          },
          "metadata": {
            "tags": []
          }
        }
      ]
    },
    {
      "cell_type": "markdown",
      "metadata": {
        "id": "iwyV28Y9H8E1"
      },
      "source": [
        "# Memeriksa Missing Values"
      ]
    },
    {
      "cell_type": "code",
      "metadata": {
        "id": "DOBXF5N8dsU9",
        "colab": {
          "base_uri": "https://localhost:8080/"
        },
        "outputId": "1ed1e511-1ae2-435f-809f-5de733a76fd4"
      },
      "source": [
        "# General Look at the Missing Values\n",
        "print(rumah2.isnull().sum())"
      ],
      "execution_count": null,
      "outputs": [
        {
          "output_type": "stream",
          "text": [
            "Tgl_Iklan         0\n",
            "url               0\n",
            "Harga_juta        0\n",
            "Kota_Provinsi     0\n",
            "Luas_Tanah        0\n",
            "Luas_Bangunan     1\n",
            "KT                0\n",
            "KM                0\n",
            "KTP               0\n",
            "KMP               0\n",
            "Carport           0\n",
            "Garasi            0\n",
            "Listrik          23\n",
            "Surat             7\n",
            "Judul             1\n",
            "Deskripsi         0\n",
            "dtype: int64\n"
          ],
          "name": "stdout"
        }
      ]
    },
    {
      "cell_type": "code",
      "metadata": {
        "colab": {
          "base_uri": "https://localhost:8080/"
        },
        "id": "kWjTW9y5c7gF",
        "outputId": "aca05048-159f-4e16-99c7-1d3f961c2369"
      },
      "source": [
        "set(rumah3['Surat'])"
      ],
      "execution_count": null,
      "outputs": [
        {
          "output_type": "execute_result",
          "data": {
            "text/plain": [
              "{'AJB/BPHTB', 'HGB', 'SHM', nan}"
            ]
          },
          "metadata": {
            "tags": []
          },
          "execution_count": 44
        }
      ]
    },
    {
      "cell_type": "code",
      "metadata": {
        "colab": {
          "base_uri": "https://localhost:8080/"
        },
        "id": "tRuzVFiFkwuG",
        "outputId": "e702f47f-eceb-44c4-d3ab-4c86f27a607a"
      },
      "source": [
        "# General Look at the Missing Values\n",
        "print(rumah3.isnull().sum())"
      ],
      "execution_count": null,
      "outputs": [
        {
          "output_type": "stream",
          "text": [
            "Tgl_Iklan         0\n",
            "url               0\n",
            "Harga_juta        0\n",
            "Kota_Provinsi     0\n",
            "Luas_Tanah        2\n",
            "Luas_Bangunan     2\n",
            "KT                0\n",
            "KM                0\n",
            "KTP               0\n",
            "KMP               0\n",
            "Carport           0\n",
            "Garasi            0\n",
            "Listrik          23\n",
            "Surat             7\n",
            "Judul             1\n",
            "Deskripsi         0\n",
            "dtype: int64\n"
          ],
          "name": "stdout"
        }
      ]
    },
    {
      "cell_type": "code",
      "metadata": {
        "colab": {
          "base_uri": "https://localhost:8080/",
          "height": 360
        },
        "id": "OyeJyL8ulCeb",
        "outputId": "62521639-b521-4808-ffe1-a9c424431240"
      },
      "source": [
        "sns.heatmap(rumah2.isnull(), cbar=False)\n",
        "plt.title('Heatmap Missing Value')\n",
        "plt.show()"
      ],
      "execution_count": null,
      "outputs": [
        {
          "output_type": "display_data",
          "data": {
            "image/png": "[encoded data removed]",
            "text/plain": [
              "<Figure size 432x288 with 1 Axes>"
            ]
          },
          "metadata": {
            "tags": []
          }
        }
      ]
    },
    {
      "cell_type": "code",
      "metadata": {
        "colab": {
          "base_uri": "https://localhost:8080/",
          "height": 360
        },
        "id": "40woeYYClgIW",
        "outputId": "56f22595-c019-455f-a474-dad80aa2b83a"
      },
      "source": [
        "sns.heatmap(rumah3.isnull(), cbar=False)\n",
        "plt.title('Heatmap Missing Value')\n",
        "plt.show()"
      ],
      "execution_count": null,
      "outputs": [
        {
          "output_type": "display_data",
          "data": {
            "image/png": "[encoded data removed]",
            "text/plain": [
              "<Figure size 432x288 with 1 Axes>"
            ]
          },
          "metadata": {
            "tags": []
          }
        }
      ]
    },
    {
      "cell_type": "code",
      "metadata": {
        "colab": {
          "base_uri": "https://localhost:8080/",
          "height": 545
        },
        "id": "XqWFFQoqlkiM",
        "outputId": "a5949f1c-92b8-4225-d797-e9593ad5233a"
      },
      "source": [
        "(rumah3.isnull().sum()/len(rumah3)).to_frame('persentase missing')"
      ],
      "execution_count": null,
      "outputs": [
        {
          "output_type": "execute_result",
          "data": {
            "text/html": [
              "<div>\n",
              "<style scoped>\n",
              "    .dataframe tbody tr th:only-of-type {\n",
              "        vertical-align: middle;\n",
              "    }\n",
              "\n",
              "    .dataframe tbody tr th {\n",
              "        vertical-align: top;\n",
              "    }\n",
              "\n",
              "    .dataframe thead th {\n",
              "        text-align: right;\n",
              "    }\n",
              "</style>\n",
              "<table border=\"1\" class=\"dataframe\">\n",
              "  <thead>\n",
              "    <tr style=\"text-align: right;\">\n",
              "      <th></th>\n",
              "      <th>persentase missing</th>\n",
              "    </tr>\n",
              "  </thead>\n",
              "  <tbody>\n",
              "    <tr>\n",
              "      <th>Tgl_Iklan</th>\n",
              "      <td>0.000000</td>\n",
              "    </tr>\n",
              "    <tr>\n",
              "      <th>url</th>\n",
              "      <td>0.000000</td>\n",
              "    </tr>\n",
              "    <tr>\n",
              "      <th>Harga_juta</th>\n",
              "      <td>0.000000</td>\n",
              "    </tr>\n",
              "    <tr>\n",
              "      <th>Kota_Provinsi</th>\n",
              "      <td>0.000000</td>\n",
              "    </tr>\n",
              "    <tr>\n",
              "      <th>Luas_Tanah</th>\n",
              "      <td>0.044444</td>\n",
              "    </tr>\n",
              "    <tr>\n",
              "      <th>Luas_Bangunan</th>\n",
              "      <td>0.044444</td>\n",
              "    </tr>\n",
              "    <tr>\n",
              "      <th>KT</th>\n",
              "      <td>0.000000</td>\n",
              "    </tr>\n",
              "    <tr>\n",
              "      <th>KM</th>\n",
              "      <td>0.000000</td>\n",
              "    </tr>\n",
              "    <tr>\n",
              "      <th>KTP</th>\n",
              "      <td>0.000000</td>\n",
              "    </tr>\n",
              "    <tr>\n",
              "      <th>KMP</th>\n",
              "      <td>0.000000</td>\n",
              "    </tr>\n",
              "    <tr>\n",
              "      <th>Carport</th>\n",
              "      <td>0.000000</td>\n",
              "    </tr>\n",
              "    <tr>\n",
              "      <th>Garasi</th>\n",
              "      <td>0.000000</td>\n",
              "    </tr>\n",
              "    <tr>\n",
              "      <th>Listrik</th>\n",
              "      <td>0.511111</td>\n",
              "    </tr>\n",
              "    <tr>\n",
              "      <th>Surat</th>\n",
              "      <td>0.155556</td>\n",
              "    </tr>\n",
              "    <tr>\n",
              "      <th>Judul</th>\n",
              "      <td>0.022222</td>\n",
              "    </tr>\n",
              "    <tr>\n",
              "      <th>Deskripsi</th>\n",
              "      <td>0.000000</td>\n",
              "    </tr>\n",
              "  </tbody>\n",
              "</table>\n",
              "</div>"
            ],
            "text/plain": [
              "               persentase missing\n",
              "Tgl_Iklan                0.000000\n",
              "url                      0.000000\n",
              "Harga_juta               0.000000\n",
              "Kota_Provinsi            0.000000\n",
              "Luas_Tanah               0.044444\n",
              "Luas_Bangunan            0.044444\n",
              "KT                       0.000000\n",
              "KM                       0.000000\n",
              "KTP                      0.000000\n",
              "KMP                      0.000000\n",
              "Carport                  0.000000\n",
              "Garasi                   0.000000\n",
              "Listrik                  0.511111\n",
              "Surat                    0.155556\n",
              "Judul                    0.022222\n",
              "Deskripsi                0.000000"
            ]
          },
          "metadata": {
            "tags": []
          },
          "execution_count": 48
        }
      ]
    },
    {
      "cell_type": "markdown",
      "metadata": {
        "id": "gkRQzH4PIQBV"
      },
      "source": [
        "# Menangani Missing Values"
      ]
    },
    {
      "cell_type": "code",
      "metadata": {
        "id": "hvx0v7_nCKWE"
      },
      "source": [
        "# Drop kolom Listrik karena terdapat banyak missing value\n",
        "rumah3.drop(\"Listrik\", axis=1, inplace=True)"
      ],
      "execution_count": null,
      "outputs": []
    },
    {
      "cell_type": "code",
      "metadata": {
        "id": "XrP_Cp2ZAeQt"
      },
      "source": [
        "# Drop kolom Listrik karena terdapat banyak missing value\n",
        "rumah2.drop(\"Listrik\", axis=1, inplace=True)"
      ],
      "execution_count": null,
      "outputs": []
    },
    {
      "cell_type": "code",
      "metadata": {
        "colab": {
          "base_uri": "https://localhost:8080/",
          "height": 598
        },
        "id": "UWXSXNN4AkJ5",
        "outputId": "ec8b73ee-9d1d-4a4c-dc7b-a47db4f6828a"
      },
      "source": [
        "rumah3.head()"
      ],
      "execution_count": null,
      "outputs": [
        {
          "output_type": "execute_result",
          "data": {
            "text/html": [
              "<div>\n",
              "<style scoped>\n",
              "    .dataframe tbody tr th:only-of-type {\n",
              "        vertical-align: middle;\n",
              "    }\n",
              "\n",
              "    .dataframe tbody tr th {\n",
              "        vertical-align: top;\n",
              "    }\n",
              "\n",
              "    .dataframe thead th {\n",
              "        text-align: right;\n",
              "    }\n",
              "</style>\n",
              "<table border=\"1\" class=\"dataframe\">\n",
              "  <thead>\n",
              "    <tr style=\"text-align: right;\">\n",
              "      <th></th>\n",
              "      <th>Tgl_Iklan</th>\n",
              "      <th>url</th>\n",
              "      <th>Harga_juta</th>\n",
              "      <th>Kota_Provinsi</th>\n",
              "      <th>Luas_Tanah</th>\n",
              "      <th>Luas_Bangunan</th>\n",
              "      <th>KT</th>\n",
              "      <th>KM</th>\n",
              "      <th>KTP</th>\n",
              "      <th>KMP</th>\n",
              "      <th>Carport</th>\n",
              "      <th>Garasi</th>\n",
              "      <th>Surat</th>\n",
              "      <th>Judul</th>\n",
              "      <th>Deskripsi</th>\n",
              "    </tr>\n",
              "  </thead>\n",
              "  <tbody>\n",
              "    <tr>\n",
              "      <th>0</th>\n",
              "      <td>2021-08-04</td>\n",
              "      <td>https://www.realoka.com/82784-dijual-disewa-ru...</td>\n",
              "      <td>1200</td>\n",
              "      <td>Ambon, Maluku</td>\n",
              "      <td>135.0</td>\n",
              "      <td>70.0</td>\n",
              "      <td>2</td>\n",
              "      <td>2</td>\n",
              "      <td>1</td>\n",
              "      <td>0</td>\n",
              "      <td>1</td>\n",
              "      <td>0</td>\n",
              "      <td>SHM</td>\n",
              "      <td>Dijual Disewa Rumah di Citraland Ambon Pr1699</td>\n",
              "      <td>Peminat Serius Hubungi:\\r\\nIbu Ata\\r\\n0851-012...</td>\n",
              "    </tr>\n",
              "    <tr>\n",
              "      <th>1</th>\n",
              "      <td>2021-04-04</td>\n",
              "      <td>https://www.olx.co.id/item/rumah-di-citraland-...</td>\n",
              "      <td>1110</td>\n",
              "      <td>Ambon, Maluku</td>\n",
              "      <td>135.0</td>\n",
              "      <td>70.0</td>\n",
              "      <td>3</td>\n",
              "      <td>2</td>\n",
              "      <td>0</td>\n",
              "      <td>0</td>\n",
              "      <td>1</td>\n",
              "      <td>0</td>\n",
              "      <td>SHM</td>\n",
              "      <td>Rumah di Citraland Ambon</td>\n",
              "      <td>Pemilik langsung, tanpa perantara. Lokasi Stra...</td>\n",
              "    </tr>\n",
              "    <tr>\n",
              "      <th>2</th>\n",
              "      <td>2021-03-22</td>\n",
              "      <td>https://www.olx.co.id/item/di-jual-rumah-tingg...</td>\n",
              "      <td>2100</td>\n",
              "      <td>Tual, Maluku</td>\n",
              "      <td>875.0</td>\n",
              "      <td>220.0</td>\n",
              "      <td>3</td>\n",
              "      <td>3</td>\n",
              "      <td>0</td>\n",
              "      <td>0</td>\n",
              "      <td>1</td>\n",
              "      <td>1</td>\n",
              "      <td>SHM</td>\n",
              "      <td>Di Jual Rumah Tinggal Di BTN Indah Tual</td>\n",
              "      <td>Sertifikat SHM ( Sertifikat Hak Milik ). Harga...</td>\n",
              "    </tr>\n",
              "    <tr>\n",
              "      <th>4</th>\n",
              "      <td>2021-03-17</td>\n",
              "      <td>https://rumah.trovit.co.id/listing/dijual-ruma...</td>\n",
              "      <td>1250</td>\n",
              "      <td>Maluku Tengah</td>\n",
              "      <td>120.0</td>\n",
              "      <td>542.0</td>\n",
              "      <td>3</td>\n",
              "      <td>2</td>\n",
              "      <td>0</td>\n",
              "      <td>0</td>\n",
              "      <td>0</td>\n",
              "      <td>0</td>\n",
              "      <td>SHM</td>\n",
              "      <td>Dijual Rumah Potensi Pebisnis</td>\n",
              "      <td>Jual Rumah 3Kamar, 2 kamar mandi\\r\\nSpesifikas...</td>\n",
              "    </tr>\n",
              "    <tr>\n",
              "      <th>6</th>\n",
              "      <td>2021-10-03</td>\n",
              "      <td>https://www.99.co/id/properti/rumah-dijual-1-1...</td>\n",
              "      <td>1100</td>\n",
              "      <td>Ambon, Maluku</td>\n",
              "      <td>134.0</td>\n",
              "      <td>250.0</td>\n",
              "      <td>3</td>\n",
              "      <td>2</td>\n",
              "      <td>0</td>\n",
              "      <td>0</td>\n",
              "      <td>0</td>\n",
              "      <td>0</td>\n",
              "      <td>SHM</td>\n",
              "      <td>Rumah Murah di karang panjang, Ambon Maluku</td>\n",
              "      <td>Dijual rumah Murah di Karang Panjang ambon Mal...</td>\n",
              "    </tr>\n",
              "  </tbody>\n",
              "</table>\n",
              "</div>"
            ],
            "text/plain": [
              "   Tgl_Iklan  ...                                          Deskripsi\n",
              "0 2021-08-04  ...  Peminat Serius Hubungi:\\r\\nIbu Ata\\r\\n0851-012...\n",
              "1 2021-04-04  ...  Pemilik langsung, tanpa perantara. Lokasi Stra...\n",
              "2 2021-03-22  ...  Sertifikat SHM ( Sertifikat Hak Milik ). Harga...\n",
              "4 2021-03-17  ...  Jual Rumah 3Kamar, 2 kamar mandi\\r\\nSpesifikas...\n",
              "6 2021-10-03  ...  Dijual rumah Murah di Karang Panjang ambon Mal...\n",
              "\n",
              "[5 rows x 15 columns]"
            ]
          },
          "metadata": {
            "tags": []
          },
          "execution_count": 51
        }
      ]
    },
    {
      "cell_type": "code",
      "metadata": {
        "colab": {
          "base_uri": "https://localhost:8080/"
        },
        "id": "WHkLU3BYAzz8",
        "outputId": "991e60a7-7d26-4268-9401-aa1dfa307313"
      },
      "source": [
        "# Ukuran Data\n",
        "N, P = rumah3.shape\n",
        "'baris = ', N, ', Kolom = ', P"
      ],
      "execution_count": null,
      "outputs": [
        {
          "output_type": "execute_result",
          "data": {
            "text/plain": [
              "('baris = ', 45, ', Kolom = ', 15)"
            ]
          },
          "metadata": {
            "tags": []
          },
          "execution_count": 52
        }
      ]
    },
    {
      "cell_type": "code",
      "metadata": {
        "colab": {
          "base_uri": "https://localhost:8080/"
        },
        "id": "oHFr50p4BF0e",
        "outputId": "9fba3b6e-09eb-40fd-a5a1-e35502dcae1d"
      },
      "source": [
        "print(rumah3.isnull().sum())"
      ],
      "execution_count": null,
      "outputs": [
        {
          "output_type": "stream",
          "text": [
            "Tgl_Iklan        0\n",
            "url              0\n",
            "Harga_juta       0\n",
            "Kota_Provinsi    0\n",
            "Luas_Tanah       2\n",
            "Luas_Bangunan    2\n",
            "KT               0\n",
            "KM               0\n",
            "KTP              0\n",
            "KMP              0\n",
            "Carport          0\n",
            "Garasi           0\n",
            "Surat            7\n",
            "Judul            1\n",
            "Deskripsi        0\n",
            "dtype: int64\n"
          ],
          "name": "stdout"
        }
      ]
    },
    {
      "cell_type": "code",
      "metadata": {
        "id": "YVdxs03mBcKO"
      },
      "source": [
        "X = rumah3.dropna()"
      ],
      "execution_count": null,
      "outputs": []
    },
    {
      "cell_type": "code",
      "metadata": {
        "colab": {
          "base_uri": "https://localhost:8080/"
        },
        "id": "NJoj9D5chAo_",
        "outputId": "3eaa89fe-1e34-483f-8308-3161575cbc71"
      },
      "source": [
        "print(X.isnull().sum())"
      ],
      "execution_count": null,
      "outputs": [
        {
          "output_type": "stream",
          "text": [
            "Tgl_Iklan        0\n",
            "url              0\n",
            "Harga_juta       0\n",
            "Kota_Provinsi    0\n",
            "Luas_Tanah       0\n",
            "Luas_Bangunan    0\n",
            "KT               0\n",
            "KM               0\n",
            "KTP              0\n",
            "KMP              0\n",
            "Carport          0\n",
            "Garasi           0\n",
            "Surat            0\n",
            "Judul            0\n",
            "Deskripsi        0\n",
            "dtype: int64\n"
          ],
          "name": "stdout"
        }
      ]
    },
    {
      "cell_type": "code",
      "metadata": {
        "colab": {
          "base_uri": "https://localhost:8080/"
        },
        "id": "V5KBnAM7dK4F",
        "outputId": "e2418836-acbf-4466-a03b-e754ffb57e11"
      },
      "source": [
        "set(X['Surat'])"
      ],
      "execution_count": null,
      "outputs": [
        {
          "output_type": "execute_result",
          "data": {
            "text/plain": [
              "{'AJB/BPHTB', 'HGB', 'SHM'}"
            ]
          },
          "metadata": {
            "tags": []
          },
          "execution_count": 56
        }
      ]
    },
    {
      "cell_type": "code",
      "metadata": {
        "colab": {
          "base_uri": "https://localhost:8080/",
          "height": 598
        },
        "id": "BKGb0HtwCdS9",
        "outputId": "d609d1d7-253a-429a-8fa2-11f74c19a397"
      },
      "source": [
        "X.head()"
      ],
      "execution_count": null,
      "outputs": [
        {
          "output_type": "execute_result",
          "data": {
            "text/html": [
              "<div>\n",
              "<style scoped>\n",
              "    .dataframe tbody tr th:only-of-type {\n",
              "        vertical-align: middle;\n",
              "    }\n",
              "\n",
              "    .dataframe tbody tr th {\n",
              "        vertical-align: top;\n",
              "    }\n",
              "\n",
              "    .dataframe thead th {\n",
              "        text-align: right;\n",
              "    }\n",
              "</style>\n",
              "<table border=\"1\" class=\"dataframe\">\n",
              "  <thead>\n",
              "    <tr style=\"text-align: right;\">\n",
              "      <th></th>\n",
              "      <th>Tgl_Iklan</th>\n",
              "      <th>url</th>\n",
              "      <th>Harga_juta</th>\n",
              "      <th>Kota_Provinsi</th>\n",
              "      <th>Luas_Tanah</th>\n",
              "      <th>Luas_Bangunan</th>\n",
              "      <th>KT</th>\n",
              "      <th>KM</th>\n",
              "      <th>KTP</th>\n",
              "      <th>KMP</th>\n",
              "      <th>Carport</th>\n",
              "      <th>Garasi</th>\n",
              "      <th>Surat</th>\n",
              "      <th>Judul</th>\n",
              "      <th>Deskripsi</th>\n",
              "    </tr>\n",
              "  </thead>\n",
              "  <tbody>\n",
              "    <tr>\n",
              "      <th>0</th>\n",
              "      <td>2021-08-04</td>\n",
              "      <td>https://www.realoka.com/82784-dijual-disewa-ru...</td>\n",
              "      <td>1200</td>\n",
              "      <td>Ambon, Maluku</td>\n",
              "      <td>135.0</td>\n",
              "      <td>70.0</td>\n",
              "      <td>2</td>\n",
              "      <td>2</td>\n",
              "      <td>1</td>\n",
              "      <td>0</td>\n",
              "      <td>1</td>\n",
              "      <td>0</td>\n",
              "      <td>SHM</td>\n",
              "      <td>Dijual Disewa Rumah di Citraland Ambon Pr1699</td>\n",
              "      <td>Peminat Serius Hubungi:\\r\\nIbu Ata\\r\\n0851-012...</td>\n",
              "    </tr>\n",
              "    <tr>\n",
              "      <th>1</th>\n",
              "      <td>2021-04-04</td>\n",
              "      <td>https://www.olx.co.id/item/rumah-di-citraland-...</td>\n",
              "      <td>1110</td>\n",
              "      <td>Ambon, Maluku</td>\n",
              "      <td>135.0</td>\n",
              "      <td>70.0</td>\n",
              "      <td>3</td>\n",
              "      <td>2</td>\n",
              "      <td>0</td>\n",
              "      <td>0</td>\n",
              "      <td>1</td>\n",
              "      <td>0</td>\n",
              "      <td>SHM</td>\n",
              "      <td>Rumah di Citraland Ambon</td>\n",
              "      <td>Pemilik langsung, tanpa perantara. Lokasi Stra...</td>\n",
              "    </tr>\n",
              "    <tr>\n",
              "      <th>2</th>\n",
              "      <td>2021-03-22</td>\n",
              "      <td>https://www.olx.co.id/item/di-jual-rumah-tingg...</td>\n",
              "      <td>2100</td>\n",
              "      <td>Tual, Maluku</td>\n",
              "      <td>875.0</td>\n",
              "      <td>220.0</td>\n",
              "      <td>3</td>\n",
              "      <td>3</td>\n",
              "      <td>0</td>\n",
              "      <td>0</td>\n",
              "      <td>1</td>\n",
              "      <td>1</td>\n",
              "      <td>SHM</td>\n",
              "      <td>Di Jual Rumah Tinggal Di BTN Indah Tual</td>\n",
              "      <td>Sertifikat SHM ( Sertifikat Hak Milik ). Harga...</td>\n",
              "    </tr>\n",
              "    <tr>\n",
              "      <th>4</th>\n",
              "      <td>2021-03-17</td>\n",
              "      <td>https://rumah.trovit.co.id/listing/dijual-ruma...</td>\n",
              "      <td>1250</td>\n",
              "      <td>Maluku Tengah</td>\n",
              "      <td>120.0</td>\n",
              "      <td>542.0</td>\n",
              "      <td>3</td>\n",
              "      <td>2</td>\n",
              "      <td>0</td>\n",
              "      <td>0</td>\n",
              "      <td>0</td>\n",
              "      <td>0</td>\n",
              "      <td>SHM</td>\n",
              "      <td>Dijual Rumah Potensi Pebisnis</td>\n",
              "      <td>Jual Rumah 3Kamar, 2 kamar mandi\\r\\nSpesifikas...</td>\n",
              "    </tr>\n",
              "    <tr>\n",
              "      <th>6</th>\n",
              "      <td>2021-10-03</td>\n",
              "      <td>https://www.99.co/id/properti/rumah-dijual-1-1...</td>\n",
              "      <td>1100</td>\n",
              "      <td>Ambon, Maluku</td>\n",
              "      <td>134.0</td>\n",
              "      <td>250.0</td>\n",
              "      <td>3</td>\n",
              "      <td>2</td>\n",
              "      <td>0</td>\n",
              "      <td>0</td>\n",
              "      <td>0</td>\n",
              "      <td>0</td>\n",
              "      <td>SHM</td>\n",
              "      <td>Rumah Murah di karang panjang, Ambon Maluku</td>\n",
              "      <td>Dijual rumah Murah di Karang Panjang ambon Mal...</td>\n",
              "    </tr>\n",
              "  </tbody>\n",
              "</table>\n",
              "</div>"
            ],
            "text/plain": [
              "   Tgl_Iklan  ...                                          Deskripsi\n",
              "0 2021-08-04  ...  Peminat Serius Hubungi:\\r\\nIbu Ata\\r\\n0851-012...\n",
              "1 2021-04-04  ...  Pemilik langsung, tanpa perantara. Lokasi Stra...\n",
              "2 2021-03-22  ...  Sertifikat SHM ( Sertifikat Hak Milik ). Harga...\n",
              "4 2021-03-17  ...  Jual Rumah 3Kamar, 2 kamar mandi\\r\\nSpesifikas...\n",
              "6 2021-10-03  ...  Dijual rumah Murah di Karang Panjang ambon Mal...\n",
              "\n",
              "[5 rows x 15 columns]"
            ]
          },
          "metadata": {
            "tags": []
          },
          "execution_count": 57
        }
      ]
    },
    {
      "cell_type": "code",
      "metadata": {
        "colab": {
          "base_uri": "https://localhost:8080/"
        },
        "id": "gjFlp8CgClro",
        "outputId": "73ea61d1-358b-4c2f-c8e6-70288eb30ca6"
      },
      "source": [
        "# Ukuran Data\n",
        "N, P = X.shape\n",
        "'baris = ', N, ', Kolom = ', P"
      ],
      "execution_count": null,
      "outputs": [
        {
          "output_type": "execute_result",
          "data": {
            "text/plain": [
              "('baris = ', 36, ', Kolom = ', 15)"
            ]
          },
          "metadata": {
            "tags": []
          },
          "execution_count": 58
        }
      ]
    },
    {
      "cell_type": "markdown",
      "metadata": {
        "id": "ZNX0T4fHIY5F"
      },
      "source": [
        "# Statistika Deskriptif"
      ]
    },
    {
      "cell_type": "code",
      "metadata": {
        "colab": {
          "base_uri": "https://localhost:8080/",
          "height": 591
        },
        "id": "jrd7uumXDN_J",
        "outputId": "102cb072-373b-42a6-cb96-d5663a375711"
      },
      "source": [
        "# Statistika Sederhana dari data \"Numerik\"-nya\n",
        "X.describe(include='all')"
      ],
      "execution_count": null,
      "outputs": [
        {
          "output_type": "execute_result",
          "data": {
            "text/html": [
              "<div>\n",
              "<style scoped>\n",
              "    .dataframe tbody tr th:only-of-type {\n",
              "        vertical-align: middle;\n",
              "    }\n",
              "\n",
              "    .dataframe tbody tr th {\n",
              "        vertical-align: top;\n",
              "    }\n",
              "\n",
              "    .dataframe thead th {\n",
              "        text-align: right;\n",
              "    }\n",
              "</style>\n",
              "<table border=\"1\" class=\"dataframe\">\n",
              "  <thead>\n",
              "    <tr style=\"text-align: right;\">\n",
              "      <th></th>\n",
              "      <th>Tgl_Iklan</th>\n",
              "      <th>url</th>\n",
              "      <th>Harga_juta</th>\n",
              "      <th>Kota_Provinsi</th>\n",
              "      <th>Luas_Tanah</th>\n",
              "      <th>Luas_Bangunan</th>\n",
              "      <th>KT</th>\n",
              "      <th>KM</th>\n",
              "      <th>KTP</th>\n",
              "      <th>KMP</th>\n",
              "      <th>Carport</th>\n",
              "      <th>Garasi</th>\n",
              "      <th>Surat</th>\n",
              "      <th>Judul</th>\n",
              "      <th>Deskripsi</th>\n",
              "    </tr>\n",
              "  </thead>\n",
              "  <tbody>\n",
              "    <tr>\n",
              "      <th>count</th>\n",
              "      <td>36</td>\n",
              "      <td>36</td>\n",
              "      <td>36.000000</td>\n",
              "      <td>36</td>\n",
              "      <td>36.000000</td>\n",
              "      <td>36.000000</td>\n",
              "      <td>36.000000</td>\n",
              "      <td>36.000000</td>\n",
              "      <td>36.000000</td>\n",
              "      <td>36.000000</td>\n",
              "      <td>36.000000</td>\n",
              "      <td>36.000000</td>\n",
              "      <td>36</td>\n",
              "      <td>36</td>\n",
              "      <td>36</td>\n",
              "    </tr>\n",
              "    <tr>\n",
              "      <th>unique</th>\n",
              "      <td>24</td>\n",
              "      <td>31</td>\n",
              "      <td>NaN</td>\n",
              "      <td>7</td>\n",
              "      <td>NaN</td>\n",
              "      <td>NaN</td>\n",
              "      <td>NaN</td>\n",
              "      <td>NaN</td>\n",
              "      <td>NaN</td>\n",
              "      <td>NaN</td>\n",
              "      <td>NaN</td>\n",
              "      <td>NaN</td>\n",
              "      <td>3</td>\n",
              "      <td>31</td>\n",
              "      <td>34</td>\n",
              "    </tr>\n",
              "    <tr>\n",
              "      <th>top</th>\n",
              "      <td>2020-10-08 00:00:00</td>\n",
              "      <td>https://dagymoiproperti.wordpress.com/2018/07/...</td>\n",
              "      <td>NaN</td>\n",
              "      <td>Ambon, Maluku</td>\n",
              "      <td>NaN</td>\n",
              "      <td>NaN</td>\n",
              "      <td>NaN</td>\n",
              "      <td>NaN</td>\n",
              "      <td>NaN</td>\n",
              "      <td>NaN</td>\n",
              "      <td>NaN</td>\n",
              "      <td>NaN</td>\n",
              "      <td>SHM</td>\n",
              "      <td>Update Harga Perumahan Dagymoi Green Village, ...</td>\n",
              "      <td>SPESIFIKASI BANGUNAN \\r\\n\\r\\nPONDASI : Batu Ka...</td>\n",
              "    </tr>\n",
              "    <tr>\n",
              "      <th>freq</th>\n",
              "      <td>5</td>\n",
              "      <td>4</td>\n",
              "      <td>NaN</td>\n",
              "      <td>20</td>\n",
              "      <td>NaN</td>\n",
              "      <td>NaN</td>\n",
              "      <td>NaN</td>\n",
              "      <td>NaN</td>\n",
              "      <td>NaN</td>\n",
              "      <td>NaN</td>\n",
              "      <td>NaN</td>\n",
              "      <td>NaN</td>\n",
              "      <td>34</td>\n",
              "      <td>4</td>\n",
              "      <td>3</td>\n",
              "    </tr>\n",
              "    <tr>\n",
              "      <th>first</th>\n",
              "      <td>2018-02-25 00:00:00</td>\n",
              "      <td>NaN</td>\n",
              "      <td>NaN</td>\n",
              "      <td>NaN</td>\n",
              "      <td>NaN</td>\n",
              "      <td>NaN</td>\n",
              "      <td>NaN</td>\n",
              "      <td>NaN</td>\n",
              "      <td>NaN</td>\n",
              "      <td>NaN</td>\n",
              "      <td>NaN</td>\n",
              "      <td>NaN</td>\n",
              "      <td>NaN</td>\n",
              "      <td>NaN</td>\n",
              "      <td>NaN</td>\n",
              "    </tr>\n",
              "    <tr>\n",
              "      <th>last</th>\n",
              "      <td>2021-10-03 00:00:00</td>\n",
              "      <td>NaN</td>\n",
              "      <td>NaN</td>\n",
              "      <td>NaN</td>\n",
              "      <td>NaN</td>\n",
              "      <td>NaN</td>\n",
              "      <td>NaN</td>\n",
              "      <td>NaN</td>\n",
              "      <td>NaN</td>\n",
              "      <td>NaN</td>\n",
              "      <td>NaN</td>\n",
              "      <td>NaN</td>\n",
              "      <td>NaN</td>\n",
              "      <td>NaN</td>\n",
              "      <td>NaN</td>\n",
              "    </tr>\n",
              "    <tr>\n",
              "      <th>mean</th>\n",
              "      <td>NaN</td>\n",
              "      <td>NaN</td>\n",
              "      <td>1144.444444</td>\n",
              "      <td>NaN</td>\n",
              "      <td>236.944444</td>\n",
              "      <td>180.666667</td>\n",
              "      <td>3.055556</td>\n",
              "      <td>1.916667</td>\n",
              "      <td>0.055556</td>\n",
              "      <td>0.027778</td>\n",
              "      <td>1.138889</td>\n",
              "      <td>0.138889</td>\n",
              "      <td>NaN</td>\n",
              "      <td>NaN</td>\n",
              "      <td>NaN</td>\n",
              "    </tr>\n",
              "    <tr>\n",
              "      <th>std</th>\n",
              "      <td>NaN</td>\n",
              "      <td>NaN</td>\n",
              "      <td>1102.157999</td>\n",
              "      <td>NaN</td>\n",
              "      <td>273.774354</td>\n",
              "      <td>238.879886</td>\n",
              "      <td>1.819646</td>\n",
              "      <td>1.180194</td>\n",
              "      <td>0.232311</td>\n",
              "      <td>0.166667</td>\n",
              "      <td>1.376388</td>\n",
              "      <td>0.424451</td>\n",
              "      <td>NaN</td>\n",
              "      <td>NaN</td>\n",
              "      <td>NaN</td>\n",
              "    </tr>\n",
              "    <tr>\n",
              "      <th>min</th>\n",
              "      <td>NaN</td>\n",
              "      <td>NaN</td>\n",
              "      <td>141.000000</td>\n",
              "      <td>NaN</td>\n",
              "      <td>36.000000</td>\n",
              "      <td>30.000000</td>\n",
              "      <td>1.000000</td>\n",
              "      <td>1.000000</td>\n",
              "      <td>0.000000</td>\n",
              "      <td>0.000000</td>\n",
              "      <td>0.000000</td>\n",
              "      <td>0.000000</td>\n",
              "      <td>NaN</td>\n",
              "      <td>NaN</td>\n",
              "      <td>NaN</td>\n",
              "    </tr>\n",
              "    <tr>\n",
              "      <th>25%</th>\n",
              "      <td>NaN</td>\n",
              "      <td>NaN</td>\n",
              "      <td>341.500000</td>\n",
              "      <td>NaN</td>\n",
              "      <td>98.000000</td>\n",
              "      <td>44.500000</td>\n",
              "      <td>2.000000</td>\n",
              "      <td>1.000000</td>\n",
              "      <td>0.000000</td>\n",
              "      <td>0.000000</td>\n",
              "      <td>1.000000</td>\n",
              "      <td>0.000000</td>\n",
              "      <td>NaN</td>\n",
              "      <td>NaN</td>\n",
              "      <td>NaN</td>\n",
              "    </tr>\n",
              "    <tr>\n",
              "      <th>50%</th>\n",
              "      <td>NaN</td>\n",
              "      <td>NaN</td>\n",
              "      <td>763.000000</td>\n",
              "      <td>NaN</td>\n",
              "      <td>120.000000</td>\n",
              "      <td>76.000000</td>\n",
              "      <td>2.000000</td>\n",
              "      <td>2.000000</td>\n",
              "      <td>0.000000</td>\n",
              "      <td>0.000000</td>\n",
              "      <td>1.000000</td>\n",
              "      <td>0.000000</td>\n",
              "      <td>NaN</td>\n",
              "      <td>NaN</td>\n",
              "      <td>NaN</td>\n",
              "    </tr>\n",
              "    <tr>\n",
              "      <th>75%</th>\n",
              "      <td>NaN</td>\n",
              "      <td>NaN</td>\n",
              "      <td>1431.250000</td>\n",
              "      <td>NaN</td>\n",
              "      <td>196.250000</td>\n",
              "      <td>145.000000</td>\n",
              "      <td>3.000000</td>\n",
              "      <td>2.000000</td>\n",
              "      <td>0.000000</td>\n",
              "      <td>0.000000</td>\n",
              "      <td>1.000000</td>\n",
              "      <td>0.000000</td>\n",
              "      <td>NaN</td>\n",
              "      <td>NaN</td>\n",
              "      <td>NaN</td>\n",
              "    </tr>\n",
              "    <tr>\n",
              "      <th>max</th>\n",
              "      <td>NaN</td>\n",
              "      <td>NaN</td>\n",
              "      <td>5000.000000</td>\n",
              "      <td>NaN</td>\n",
              "      <td>1100.000000</td>\n",
              "      <td>902.000000</td>\n",
              "      <td>10.000000</td>\n",
              "      <td>5.000000</td>\n",
              "      <td>1.000000</td>\n",
              "      <td>1.000000</td>\n",
              "      <td>8.000000</td>\n",
              "      <td>2.000000</td>\n",
              "      <td>NaN</td>\n",
              "      <td>NaN</td>\n",
              "      <td>NaN</td>\n",
              "    </tr>\n",
              "  </tbody>\n",
              "</table>\n",
              "</div>"
            ],
            "text/plain": [
              "                  Tgl_Iklan  ...                                          Deskripsi\n",
              "count                    36  ...                                                 36\n",
              "unique                   24  ...                                                 34\n",
              "top     2020-10-08 00:00:00  ...  SPESIFIKASI BANGUNAN \\r\\n\\r\\nPONDASI : Batu Ka...\n",
              "freq                      5  ...                                                  3\n",
              "first   2018-02-25 00:00:00  ...                                                NaN\n",
              "last    2021-10-03 00:00:00  ...                                                NaN\n",
              "mean                    NaN  ...                                                NaN\n",
              "std                     NaN  ...                                                NaN\n",
              "min                     NaN  ...                                                NaN\n",
              "25%                     NaN  ...                                                NaN\n",
              "50%                     NaN  ...                                                NaN\n",
              "75%                     NaN  ...                                                NaN\n",
              "max                     NaN  ...                                                NaN\n",
              "\n",
              "[13 rows x 15 columns]"
            ]
          },
          "metadata": {
            "tags": []
          },
          "execution_count": 59
        }
      ]
    },
    {
      "cell_type": "code",
      "metadata": {
        "colab": {
          "base_uri": "https://localhost:8080/",
          "height": 297
        },
        "id": "2j-CFBh_DR3D",
        "outputId": "5e3765ee-8835-4ae8-b599-557a80269306"
      },
      "source": [
        "#statistik sederhana seluruh datanya\n",
        "X[['Harga_juta','Luas_Tanah']].describe(include='all')"
      ],
      "execution_count": null,
      "outputs": [
        {
          "output_type": "execute_result",
          "data": {
            "text/html": [
              "<div>\n",
              "<style scoped>\n",
              "    .dataframe tbody tr th:only-of-type {\n",
              "        vertical-align: middle;\n",
              "    }\n",
              "\n",
              "    .dataframe tbody tr th {\n",
              "        vertical-align: top;\n",
              "    }\n",
              "\n",
              "    .dataframe thead th {\n",
              "        text-align: right;\n",
              "    }\n",
              "</style>\n",
              "<table border=\"1\" class=\"dataframe\">\n",
              "  <thead>\n",
              "    <tr style=\"text-align: right;\">\n",
              "      <th></th>\n",
              "      <th>Harga_juta</th>\n",
              "      <th>Luas_Tanah</th>\n",
              "    </tr>\n",
              "  </thead>\n",
              "  <tbody>\n",
              "    <tr>\n",
              "      <th>count</th>\n",
              "      <td>36.000000</td>\n",
              "      <td>36.000000</td>\n",
              "    </tr>\n",
              "    <tr>\n",
              "      <th>mean</th>\n",
              "      <td>1144.444444</td>\n",
              "      <td>236.944444</td>\n",
              "    </tr>\n",
              "    <tr>\n",
              "      <th>std</th>\n",
              "      <td>1102.157999</td>\n",
              "      <td>273.774354</td>\n",
              "    </tr>\n",
              "    <tr>\n",
              "      <th>min</th>\n",
              "      <td>141.000000</td>\n",
              "      <td>36.000000</td>\n",
              "    </tr>\n",
              "    <tr>\n",
              "      <th>25%</th>\n",
              "      <td>341.500000</td>\n",
              "      <td>98.000000</td>\n",
              "    </tr>\n",
              "    <tr>\n",
              "      <th>50%</th>\n",
              "      <td>763.000000</td>\n",
              "      <td>120.000000</td>\n",
              "    </tr>\n",
              "    <tr>\n",
              "      <th>75%</th>\n",
              "      <td>1431.250000</td>\n",
              "      <td>196.250000</td>\n",
              "    </tr>\n",
              "    <tr>\n",
              "      <th>max</th>\n",
              "      <td>5000.000000</td>\n",
              "      <td>1100.000000</td>\n",
              "    </tr>\n",
              "  </tbody>\n",
              "</table>\n",
              "</div>"
            ],
            "text/plain": [
              "        Harga_juta   Luas_Tanah\n",
              "count    36.000000    36.000000\n",
              "mean   1144.444444   236.944444\n",
              "std    1102.157999   273.774354\n",
              "min     141.000000    36.000000\n",
              "25%     341.500000    98.000000\n",
              "50%     763.000000   120.000000\n",
              "75%    1431.250000   196.250000\n",
              "max    5000.000000  1100.000000"
            ]
          },
          "metadata": {
            "tags": []
          },
          "execution_count": 60
        }
      ]
    },
    {
      "cell_type": "markdown",
      "metadata": {
        "id": "rRwjjYl_ImpI"
      },
      "source": [
        "# Visualisasi Data"
      ]
    },
    {
      "cell_type": "code",
      "metadata": {
        "colab": {
          "base_uri": "https://localhost:8080/",
          "height": 365
        },
        "id": "UJpOvWheDbIu",
        "outputId": "981621d4-0432-4c52-8465-7819f8bab001"
      },
      "source": [
        "col = \"Harga_juta\"\n",
        "plot = sns.displot(data=X, x=col, kde=True)"
      ],
      "execution_count": null,
      "outputs": [
        {
          "output_type": "display_data",
          "data": {
            "image/png": "[encoded data removed]",
            "text/plain": [
              "<Figure size 360x360 with 1 Axes>"
            ]
          },
          "metadata": {
            "tags": []
          }
        }
      ]
    },
    {
      "cell_type": "code",
      "metadata": {
        "colab": {
          "base_uri": "https://localhost:8080/",
          "height": 440
        },
        "id": "WHHcMn5IDgrZ",
        "outputId": "6ecf8ef1-adad-46fa-e512-b110417f0869"
      },
      "source": [
        "plot = sns.displot(data=X, x=col, hue='Luas_Tanah', kind=\"kde\")"
      ],
      "execution_count": null,
      "outputs": [
        {
          "output_type": "display_data",
          "data": {
            "image/png": "[encoded data removed]",
            "text/plain": [
              "<Figure size 438.3x360 with 1 Axes>"
            ]
          },
          "metadata": {
            "tags": []
          }
        }
      ]
    },
    {
      "cell_type": "code",
      "metadata": {
        "colab": {
          "base_uri": "https://localhost:8080/",
          "height": 109
        },
        "id": "W8tqCyWeDodB",
        "outputId": "5b1c1fbf-e860-439a-fa0d-751e695c7b98"
      },
      "source": [
        "numerical = X.select_dtypes(include = ['int64','float64']).columns\n",
        "\n",
        "X[numerical].hist(figsize=(15, 6), layout=(4, 10));"
      ],
      "execution_count": null,
      "outputs": [
        {
          "output_type": "display_data",
          "data": {
            "image/png": "[encoded data removed]",
            "text/plain": [
              "<Figure size 1080x432 with 40 Axes>"
            ]
          },
          "metadata": {
            "tags": []
          }
        }
      ]
    },
    {
      "cell_type": "markdown",
      "metadata": {
        "id": "IfTo1TcNI3Z3"
      },
      "source": [
        "# Scatter Plot Variabel 'Harga_Juta' dan 'Luas_Tanah'"
      ]
    },
    {
      "cell_type": "code",
      "metadata": {
        "colab": {
          "base_uri": "https://localhost:8080/",
          "height": 285
        },
        "id": "JCBz5nofDy0K",
        "outputId": "82aba679-2dcf-47c6-d5bd-9d9c031e9957"
      },
      "source": [
        "p = sns.scatterplot(x=X['Luas_Tanah'], y=X['Harga_juta'], hue=X['Luas_Bangunan'])"
      ],
      "execution_count": null,
      "outputs": [
        {
          "output_type": "display_data",
          "data": {
            "image/png": "[encoded data removed]",
            "text/plain": [
              "<Figure size 432x288 with 1 Axes>"
            ]
          },
          "metadata": {
            "tags": []
          }
        }
      ]
    },
    {
      "cell_type": "markdown",
      "metadata": {
        "id": "NeSVUm-0JJ6c"
      },
      "source": [
        "# Joint Plot Variabel 'Luas_Tanah' dan 'Harga_juta'"
      ]
    },
    {
      "cell_type": "code",
      "metadata": {
        "colab": {
          "base_uri": "https://localhost:8080/",
          "height": 437
        },
        "id": "QLX53zMDD50P",
        "outputId": "ecdbbe3b-1272-4fdf-a171-f24227103bc6"
      },
      "source": [
        "p = sns.jointplot(x=X['Luas_Tanah'], y=X['Harga_juta'])"
      ],
      "execution_count": null,
      "outputs": [
        {
          "output_type": "display_data",
          "data": {
            "image/png": "[encoded data removed]",
            "text/plain": [
              "<Figure size 432x432 with 3 Axes>"
            ]
          },
          "metadata": {
            "tags": []
          }
        }
      ]
    },
    {
      "cell_type": "markdown",
      "metadata": {
        "id": "71xQuvZnIuuG"
      },
      "source": [
        "#Tabel Korelasi Antarvariabel"
      ]
    },
    {
      "cell_type": "code",
      "metadata": {
        "colab": {
          "base_uri": "https://localhost:8080/",
          "height": 348
        },
        "id": "4dBJtx4uD90U",
        "outputId": "90ef8bfb-c976-485e-c33d-183dfb5d1827"
      },
      "source": [
        "X.corr()"
      ],
      "execution_count": null,
      "outputs": [
        {
          "output_type": "execute_result",
          "data": {
            "text/html": [
              "<div>\n",
              "<style scoped>\n",
              "    .dataframe tbody tr th:only-of-type {\n",
              "        vertical-align: middle;\n",
              "    }\n",
              "\n",
              "    .dataframe tbody tr th {\n",
              "        vertical-align: top;\n",
              "    }\n",
              "\n",
              "    .dataframe thead th {\n",
              "        text-align: right;\n",
              "    }\n",
              "</style>\n",
              "<table border=\"1\" class=\"dataframe\">\n",
              "  <thead>\n",
              "    <tr style=\"text-align: right;\">\n",
              "      <th></th>\n",
              "      <th>Harga_juta</th>\n",
              "      <th>Luas_Tanah</th>\n",
              "      <th>Luas_Bangunan</th>\n",
              "      <th>KT</th>\n",
              "      <th>KM</th>\n",
              "      <th>KTP</th>\n",
              "      <th>KMP</th>\n",
              "      <th>Carport</th>\n",
              "      <th>Garasi</th>\n",
              "    </tr>\n",
              "  </thead>\n",
              "  <tbody>\n",
              "    <tr>\n",
              "      <th>Harga_juta</th>\n",
              "      <td>1.000000</td>\n",
              "      <td>0.239858</td>\n",
              "      <td>0.130501</td>\n",
              "      <td>0.673451</td>\n",
              "      <td>0.770634</td>\n",
              "      <td>0.004588</td>\n",
              "      <td>-0.002247</td>\n",
              "      <td>0.386153</td>\n",
              "      <td>0.389520</td>\n",
              "    </tr>\n",
              "    <tr>\n",
              "      <th>Luas_Tanah</th>\n",
              "      <td>0.239858</td>\n",
              "      <td>1.000000</td>\n",
              "      <td>0.839014</td>\n",
              "      <td>0.294454</td>\n",
              "      <td>0.260580</td>\n",
              "      <td>-0.091593</td>\n",
              "      <td>-0.063834</td>\n",
              "      <td>0.250160</td>\n",
              "      <td>0.548366</td>\n",
              "    </tr>\n",
              "    <tr>\n",
              "      <th>Luas_Bangunan</th>\n",
              "      <td>0.130501</td>\n",
              "      <td>0.839014</td>\n",
              "      <td>1.000000</td>\n",
              "      <td>0.241668</td>\n",
              "      <td>0.211201</td>\n",
              "      <td>-0.112924</td>\n",
              "      <td>-0.077983</td>\n",
              "      <td>0.206007</td>\n",
              "      <td>0.433016</td>\n",
              "    </tr>\n",
              "    <tr>\n",
              "      <th>KT</th>\n",
              "      <td>0.673451</td>\n",
              "      <td>0.294454</td>\n",
              "      <td>0.241668</td>\n",
              "      <td>1.000000</td>\n",
              "      <td>0.813779</td>\n",
              "      <td>-0.142688</td>\n",
              "      <td>-0.099444</td>\n",
              "      <td>0.316251</td>\n",
              "      <td>0.285667</td>\n",
              "    </tr>\n",
              "    <tr>\n",
              "      <th>KM</th>\n",
              "      <td>0.770634</td>\n",
              "      <td>0.260580</td>\n",
              "      <td>0.211201</td>\n",
              "      <td>0.813779</td>\n",
              "      <td>1.000000</td>\n",
              "      <td>-0.086842</td>\n",
              "      <td>-0.133150</td>\n",
              "      <td>0.552583</td>\n",
              "      <td>0.365983</td>\n",
              "    </tr>\n",
              "    <tr>\n",
              "      <th>KTP</th>\n",
              "      <td>0.004588</td>\n",
              "      <td>-0.091593</td>\n",
              "      <td>-0.112924</td>\n",
              "      <td>-0.142688</td>\n",
              "      <td>-0.086842</td>\n",
              "      <td>1.000000</td>\n",
              "      <td>0.696932</td>\n",
              "      <td>-0.024821</td>\n",
              "      <td>-0.080488</td>\n",
              "    </tr>\n",
              "    <tr>\n",
              "      <th>KMP</th>\n",
              "      <td>-0.002247</td>\n",
              "      <td>-0.063834</td>\n",
              "      <td>-0.077983</td>\n",
              "      <td>-0.099444</td>\n",
              "      <td>-0.133150</td>\n",
              "      <td>0.696932</td>\n",
              "      <td>1.000000</td>\n",
              "      <td>-0.017299</td>\n",
              "      <td>-0.056095</td>\n",
              "    </tr>\n",
              "    <tr>\n",
              "      <th>Carport</th>\n",
              "      <td>0.386153</td>\n",
              "      <td>0.250160</td>\n",
              "      <td>0.206007</td>\n",
              "      <td>0.316251</td>\n",
              "      <td>0.552583</td>\n",
              "      <td>-0.024821</td>\n",
              "      <td>-0.017299</td>\n",
              "      <td>1.000000</td>\n",
              "      <td>0.308380</td>\n",
              "    </tr>\n",
              "    <tr>\n",
              "      <th>Garasi</th>\n",
              "      <td>0.389520</td>\n",
              "      <td>0.548366</td>\n",
              "      <td>0.433016</td>\n",
              "      <td>0.285667</td>\n",
              "      <td>0.365983</td>\n",
              "      <td>-0.080488</td>\n",
              "      <td>-0.056095</td>\n",
              "      <td>0.308380</td>\n",
              "      <td>1.000000</td>\n",
              "    </tr>\n",
              "  </tbody>\n",
              "</table>\n",
              "</div>"
            ],
            "text/plain": [
              "               Harga_juta  Luas_Tanah  ...   Carport    Garasi\n",
              "Harga_juta       1.000000    0.239858  ...  0.386153  0.389520\n",
              "Luas_Tanah       0.239858    1.000000  ...  0.250160  0.548366\n",
              "Luas_Bangunan    0.130501    0.839014  ...  0.206007  0.433016\n",
              "KT               0.673451    0.294454  ...  0.316251  0.285667\n",
              "KM               0.770634    0.260580  ...  0.552583  0.365983\n",
              "KTP              0.004588   -0.091593  ... -0.024821 -0.080488\n",
              "KMP             -0.002247   -0.063834  ... -0.017299 -0.056095\n",
              "Carport          0.386153    0.250160  ...  1.000000  0.308380\n",
              "Garasi           0.389520    0.548366  ...  0.308380  1.000000\n",
              "\n",
              "[9 rows x 9 columns]"
            ]
          },
          "metadata": {
            "tags": []
          },
          "execution_count": 66
        }
      ]
    },
    {
      "cell_type": "markdown",
      "metadata": {
        "id": "qAmxI1mzJb2m"
      },
      "source": [
        "# Heat Map"
      ]
    },
    {
      "cell_type": "code",
      "metadata": {
        "colab": {
          "base_uri": "https://localhost:8080/",
          "height": 671
        },
        "id": "A_6VKSrIEGZ5",
        "outputId": "23cb188e-5f81-4e3e-caba-3b44980584e5"
      },
      "source": [
        "# HeatMap untuk menyelidiki korelasi\n",
        "corr2 = X.corr() # We already examined SalePrice correlations\n",
        "plt.figure(figsize=(12, 10))\n",
        "sns.heatmap(corr2[(corr2 >= 0.5) | (corr2 <= -0.4)], \n",
        "            cmap='viridis', vmax=1.0, vmin=-1.0, linewidths=0.1,\n",
        "            annot=True, annot_kws={\"size\": 14}, square=True);"
      ],
      "execution_count": null,
      "outputs": [
        {
          "output_type": "display_data",
          "data": {
            "image/png": "[encoded data removed]",
            "text/plain": [
              "<Figure size 864x720 with 2 Axes>"
            ]
          },
          "metadata": {
            "tags": []
          }
        }
      ]
    },
    {
      "cell_type": "code",
      "metadata": {
        "colab": {
          "base_uri": "https://localhost:8080/"
        },
        "id": "e9SBDOzJk2CM",
        "outputId": "75a02a7a-609b-4bca-851e-28eda5c252d0"
      },
      "source": [
        "# Run this cell ONLY if this notebook run from Google Colab\n",
        "# Kalau dijalankan lokal (Anaconda/WinPython) maka silahkan install di terminal/command prompt \n",
        "# Lalu unduh secara manual file yang dibutuhkan dan letakkan di folder Python anda.\n",
        "!pip install --upgrade umap-learn\n",
        "!wget https://raw.githubusercontent.com/taudata-indonesia/eLearning/master/tau_unsup.py"
      ],
      "execution_count": null,
      "outputs": [
        {
          "output_type": "stream",
          "text": [
            "Requirement already up-to-date: umap-learn in /usr/local/lib/python3.7/dist-packages (0.5.1)\n",
            "Requirement already satisfied, skipping upgrade: scipy>=1.0 in /usr/local/lib/python3.7/dist-packages (from umap-learn) (1.4.1)\n",
            "Requirement already satisfied, skipping upgrade: scikit-learn>=0.22 in /usr/local/lib/python3.7/dist-packages (from umap-learn) (0.24.1)\n",
            "Requirement already satisfied, skipping upgrade: numpy>=1.17 in /usr/local/lib/python3.7/dist-packages (from umap-learn) (1.19.5)\n",
            "Requirement already satisfied, skipping upgrade: numba>=0.49 in /usr/local/lib/python3.7/dist-packages (from umap-learn) (0.51.2)\n",
            "Requirement already satisfied, skipping upgrade: pynndescent>=0.5 in /usr/local/lib/python3.7/dist-packages (from umap-learn) (0.5.2)\n",
            "Requirement already satisfied, skipping upgrade: joblib>=0.11 in /usr/local/lib/python3.7/dist-packages (from scikit-learn>=0.22->umap-learn) (1.0.1)\n",
            "Requirement already satisfied, skipping upgrade: threadpoolctl>=2.0.0 in /usr/local/lib/python3.7/dist-packages (from scikit-learn>=0.22->umap-learn) (2.1.0)\n",
            "Requirement already satisfied, skipping upgrade: setuptools in /usr/local/lib/python3.7/dist-packages (from numba>=0.49->umap-learn) (54.2.0)\n",
            "Requirement already satisfied, skipping upgrade: llvmlite<0.35,>=0.34.0.dev0 in /usr/local/lib/python3.7/dist-packages (from numba>=0.49->umap-learn) (0.34.0)\n",
            "--2021-04-11 17:17:43--  https://raw.githubusercontent.com/taudata-indonesia/eLearning/master/tau_unsup.py\n",
            "Resolving raw.githubusercontent.com (raw.githubusercontent.com)... 185.199.111.133, 185.199.109.133, 185.199.110.133, ...\n",
            "Connecting to raw.githubusercontent.com (raw.githubusercontent.com)|185.199.111.133|:443... connected.\n",
            "HTTP request sent, awaiting response... 200 OK\n",
            "Length: 17387 (17K) [text/plain]\n",
            "Saving to: ‘tau_unsup.py’\n",
            "\n",
            "tau_unsup.py        100%[===================>]  16.98K  --.-KB/s    in 0s      \n",
            "\n",
            "2021-04-11 17:17:43 (118 MB/s) - ‘tau_unsup.py’ saved [17387/17387]\n",
            "\n"
          ],
          "name": "stdout"
        }
      ]
    },
    {
      "cell_type": "code",
      "metadata": {
        "colab": {
          "base_uri": "https://localhost:8080/",
          "height": 130
        },
        "id": "VIpEa9bLAADo",
        "outputId": "06aaf775-7dda-4f11-e754-671b04f5a75b"
      },
      "source": [
        "conda install numpy scipy\n",
        "conda install scikit-learn\n",
        "conda install numba\n",
        "pip install umap-learn"
      ],
      "execution_count": null,
      "outputs": [
        {
          "output_type": "error",
          "ename": "SyntaxError",
          "evalue": "ignored",
          "traceback": [
            "\u001b[0;36m  File \u001b[0;32m\"<ipython-input-102-286f4fa6ea2c>\"\u001b[0;36m, line \u001b[0;32m1\u001b[0m\n\u001b[0;31m    conda install numpy scipy\u001b[0m\n\u001b[0m                ^\u001b[0m\n\u001b[0;31mSyntaxError\u001b[0m\u001b[0;31m:\u001b[0m invalid syntax\n"
          ]
        }
      ]
    },
    {
      "cell_type": "code",
      "metadata": {
        "id": "NlqDxKIzlgDm"
      },
      "source": [
        "# Importing Modules untuk Notebook ini\n",
        "import warnings; warnings.simplefilter('ignore')\n",
        "import umap, numpy as np, tau_unsup as tau, matplotlib.pyplot as plt, pandas as pd, seaborn as sns\n",
        "from sklearn import cluster, datasets\n",
        "from sklearn.metrics import silhouette_score as siluet\n",
        "from sklearn.metrics.cluster import homogeneity_score as purity\n",
        "from sklearn.metrics import normalized_mutual_info_score as NMI \n",
        "\n",
        "sns.set(style=\"ticks\", color_codes=True)\n",
        "random_state = 99"
      ],
      "execution_count": null,
      "outputs": []
    },
    {
      "cell_type": "code",
      "metadata": {
        "colab": {
          "base_uri": "https://localhost:8080/",
          "height": 1000
        },
        "id": "ozpJf6LRnMdx",
        "outputId": "799cb325-6c72-4cbd-edb4-d94c1475774e"
      },
      "source": [
        "g = sns.pairplot(X, hue=\"Surat\")"
      ],
      "execution_count": null,
      "outputs": [
        {
          "output_type": "display_data",
          "data": {
            "image/png": "[encoded data removed]",
            "text/plain": [
              "<Figure size 1718.35x1620 with 90 Axes>"
            ]
          },
          "metadata": {
            "tags": []
          }
        }
      ]
    },
    {
      "cell_type": "code",
      "metadata": {
        "colab": {
          "base_uri": "https://localhost:8080/",
          "height": 204
        },
        "id": "IGopnWNfsTPL",
        "outputId": "97b5f228-e574-4d68-b8d6-3fa45967ee31"
      },
      "source": [
        "X.drop(['Tgl_Iklan','url','Kota_Provinsi','Judul','Deskripsi'], axis=1, inplace=True)\n",
        "X.head()"
      ],
      "execution_count": null,
      "outputs": [
        {
          "output_type": "execute_result",
          "data": {
            "text/html": [
              "<div>\n",
              "<style scoped>\n",
              "    .dataframe tbody tr th:only-of-type {\n",
              "        vertical-align: middle;\n",
              "    }\n",
              "\n",
              "    .dataframe tbody tr th {\n",
              "        vertical-align: top;\n",
              "    }\n",
              "\n",
              "    .dataframe thead th {\n",
              "        text-align: right;\n",
              "    }\n",
              "</style>\n",
              "<table border=\"1\" class=\"dataframe\">\n",
              "  <thead>\n",
              "    <tr style=\"text-align: right;\">\n",
              "      <th></th>\n",
              "      <th>Harga_juta</th>\n",
              "      <th>Luas_Tanah</th>\n",
              "      <th>Luas_Bangunan</th>\n",
              "      <th>KT</th>\n",
              "      <th>KM</th>\n",
              "      <th>KTP</th>\n",
              "      <th>KMP</th>\n",
              "      <th>Carport</th>\n",
              "      <th>Garasi</th>\n",
              "      <th>Surat</th>\n",
              "    </tr>\n",
              "  </thead>\n",
              "  <tbody>\n",
              "    <tr>\n",
              "      <th>0</th>\n",
              "      <td>1200</td>\n",
              "      <td>135.0</td>\n",
              "      <td>70.0</td>\n",
              "      <td>2</td>\n",
              "      <td>2</td>\n",
              "      <td>1</td>\n",
              "      <td>0</td>\n",
              "      <td>1</td>\n",
              "      <td>0</td>\n",
              "      <td>SHM</td>\n",
              "    </tr>\n",
              "    <tr>\n",
              "      <th>1</th>\n",
              "      <td>1110</td>\n",
              "      <td>135.0</td>\n",
              "      <td>70.0</td>\n",
              "      <td>3</td>\n",
              "      <td>2</td>\n",
              "      <td>0</td>\n",
              "      <td>0</td>\n",
              "      <td>1</td>\n",
              "      <td>0</td>\n",
              "      <td>SHM</td>\n",
              "    </tr>\n",
              "    <tr>\n",
              "      <th>2</th>\n",
              "      <td>2100</td>\n",
              "      <td>875.0</td>\n",
              "      <td>220.0</td>\n",
              "      <td>3</td>\n",
              "      <td>3</td>\n",
              "      <td>0</td>\n",
              "      <td>0</td>\n",
              "      <td>1</td>\n",
              "      <td>1</td>\n",
              "      <td>SHM</td>\n",
              "    </tr>\n",
              "    <tr>\n",
              "      <th>4</th>\n",
              "      <td>1250</td>\n",
              "      <td>120.0</td>\n",
              "      <td>542.0</td>\n",
              "      <td>3</td>\n",
              "      <td>2</td>\n",
              "      <td>0</td>\n",
              "      <td>0</td>\n",
              "      <td>0</td>\n",
              "      <td>0</td>\n",
              "      <td>SHM</td>\n",
              "    </tr>\n",
              "    <tr>\n",
              "      <th>6</th>\n",
              "      <td>1100</td>\n",
              "      <td>134.0</td>\n",
              "      <td>250.0</td>\n",
              "      <td>3</td>\n",
              "      <td>2</td>\n",
              "      <td>0</td>\n",
              "      <td>0</td>\n",
              "      <td>0</td>\n",
              "      <td>0</td>\n",
              "      <td>SHM</td>\n",
              "    </tr>\n",
              "  </tbody>\n",
              "</table>\n",
              "</div>"
            ],
            "text/plain": [
              "   Harga_juta  Luas_Tanah  Luas_Bangunan  KT  ...  KMP  Carport  Garasi  Surat\n",
              "0        1200       135.0           70.0   2  ...    0        1       0    SHM\n",
              "1        1110       135.0           70.0   3  ...    0        1       0    SHM\n",
              "2        2100       875.0          220.0   3  ...    0        1       1    SHM\n",
              "4        1250       120.0          542.0   3  ...    0        0       0    SHM\n",
              "6        1100       134.0          250.0   3  ...    0        0       0    SHM\n",
              "\n",
              "[5 rows x 10 columns]"
            ]
          },
          "metadata": {
            "tags": []
          },
          "execution_count": 73
        }
      ]
    },
    {
      "cell_type": "code",
      "metadata": {
        "colab": {
          "base_uri": "https://localhost:8080/",
          "height": 1000
        },
        "id": "y0PB-g-mutcp",
        "outputId": "62ea9df9-a413-4c68-f7f3-773814b2fb49"
      },
      "source": [
        "X.iloc[:,:-1]"
      ],
      "execution_count": null,
      "outputs": [
        {
          "output_type": "execute_result",
          "data": {
            "text/html": [
              "<div>\n",
              "<style scoped>\n",
              "    .dataframe tbody tr th:only-of-type {\n",
              "        vertical-align: middle;\n",
              "    }\n",
              "\n",
              "    .dataframe tbody tr th {\n",
              "        vertical-align: top;\n",
              "    }\n",
              "\n",
              "    .dataframe thead th {\n",
              "        text-align: right;\n",
              "    }\n",
              "</style>\n",
              "<table border=\"1\" class=\"dataframe\">\n",
              "  <thead>\n",
              "    <tr style=\"text-align: right;\">\n",
              "      <th></th>\n",
              "      <th>Harga_juta</th>\n",
              "      <th>Luas_Tanah</th>\n",
              "      <th>Luas_Bangunan</th>\n",
              "      <th>KT</th>\n",
              "      <th>KM</th>\n",
              "      <th>KTP</th>\n",
              "      <th>KMP</th>\n",
              "      <th>Carport</th>\n",
              "      <th>Garasi</th>\n",
              "    </tr>\n",
              "  </thead>\n",
              "  <tbody>\n",
              "    <tr>\n",
              "      <th>0</th>\n",
              "      <td>1200</td>\n",
              "      <td>135.0</td>\n",
              "      <td>70.0</td>\n",
              "      <td>2</td>\n",
              "      <td>2</td>\n",
              "      <td>1</td>\n",
              "      <td>0</td>\n",
              "      <td>1</td>\n",
              "      <td>0</td>\n",
              "    </tr>\n",
              "    <tr>\n",
              "      <th>1</th>\n",
              "      <td>1110</td>\n",
              "      <td>135.0</td>\n",
              "      <td>70.0</td>\n",
              "      <td>3</td>\n",
              "      <td>2</td>\n",
              "      <td>0</td>\n",
              "      <td>0</td>\n",
              "      <td>1</td>\n",
              "      <td>0</td>\n",
              "    </tr>\n",
              "    <tr>\n",
              "      <th>2</th>\n",
              "      <td>2100</td>\n",
              "      <td>875.0</td>\n",
              "      <td>220.0</td>\n",
              "      <td>3</td>\n",
              "      <td>3</td>\n",
              "      <td>0</td>\n",
              "      <td>0</td>\n",
              "      <td>1</td>\n",
              "      <td>1</td>\n",
              "    </tr>\n",
              "    <tr>\n",
              "      <th>4</th>\n",
              "      <td>1250</td>\n",
              "      <td>120.0</td>\n",
              "      <td>542.0</td>\n",
              "      <td>3</td>\n",
              "      <td>2</td>\n",
              "      <td>0</td>\n",
              "      <td>0</td>\n",
              "      <td>0</td>\n",
              "      <td>0</td>\n",
              "    </tr>\n",
              "    <tr>\n",
              "      <th>6</th>\n",
              "      <td>1100</td>\n",
              "      <td>134.0</td>\n",
              "      <td>250.0</td>\n",
              "      <td>3</td>\n",
              "      <td>2</td>\n",
              "      <td>0</td>\n",
              "      <td>0</td>\n",
              "      <td>0</td>\n",
              "      <td>0</td>\n",
              "    </tr>\n",
              "    <tr>\n",
              "      <th>11</th>\n",
              "      <td>350</td>\n",
              "      <td>1100.0</td>\n",
              "      <td>900.0</td>\n",
              "      <td>3</td>\n",
              "      <td>1</td>\n",
              "      <td>0</td>\n",
              "      <td>0</td>\n",
              "      <td>0</td>\n",
              "      <td>0</td>\n",
              "    </tr>\n",
              "    <tr>\n",
              "      <th>12</th>\n",
              "      <td>3500</td>\n",
              "      <td>387.0</td>\n",
              "      <td>85.0</td>\n",
              "      <td>10</td>\n",
              "      <td>4</td>\n",
              "      <td>0</td>\n",
              "      <td>0</td>\n",
              "      <td>0</td>\n",
              "      <td>0</td>\n",
              "    </tr>\n",
              "    <tr>\n",
              "      <th>14</th>\n",
              "      <td>280</td>\n",
              "      <td>902.0</td>\n",
              "      <td>902.0</td>\n",
              "      <td>2</td>\n",
              "      <td>1</td>\n",
              "      <td>0</td>\n",
              "      <td>0</td>\n",
              "      <td>1</td>\n",
              "      <td>0</td>\n",
              "    </tr>\n",
              "    <tr>\n",
              "      <th>15</th>\n",
              "      <td>470</td>\n",
              "      <td>81.0</td>\n",
              "      <td>80.0</td>\n",
              "      <td>2</td>\n",
              "      <td>2</td>\n",
              "      <td>0</td>\n",
              "      <td>0</td>\n",
              "      <td>1</td>\n",
              "      <td>0</td>\n",
              "    </tr>\n",
              "    <tr>\n",
              "      <th>16</th>\n",
              "      <td>5000</td>\n",
              "      <td>214.0</td>\n",
              "      <td>100.0</td>\n",
              "      <td>5</td>\n",
              "      <td>4</td>\n",
              "      <td>0</td>\n",
              "      <td>0</td>\n",
              "      <td>4</td>\n",
              "      <td>0</td>\n",
              "    </tr>\n",
              "    <tr>\n",
              "      <th>18</th>\n",
              "      <td>2250</td>\n",
              "      <td>99.0</td>\n",
              "      <td>99.0</td>\n",
              "      <td>2</td>\n",
              "      <td>2</td>\n",
              "      <td>0</td>\n",
              "      <td>0</td>\n",
              "      <td>0</td>\n",
              "      <td>0</td>\n",
              "    </tr>\n",
              "    <tr>\n",
              "      <th>20</th>\n",
              "      <td>780</td>\n",
              "      <td>168.0</td>\n",
              "      <td>100.0</td>\n",
              "      <td>4</td>\n",
              "      <td>2</td>\n",
              "      <td>0</td>\n",
              "      <td>0</td>\n",
              "      <td>1</td>\n",
              "      <td>0</td>\n",
              "    </tr>\n",
              "    <tr>\n",
              "      <th>21</th>\n",
              "      <td>3200</td>\n",
              "      <td>300.0</td>\n",
              "      <td>300.0</td>\n",
              "      <td>4</td>\n",
              "      <td>4</td>\n",
              "      <td>0</td>\n",
              "      <td>0</td>\n",
              "      <td>1</td>\n",
              "      <td>1</td>\n",
              "    </tr>\n",
              "    <tr>\n",
              "      <th>22</th>\n",
              "      <td>2200</td>\n",
              "      <td>195.0</td>\n",
              "      <td>280.0</td>\n",
              "      <td>8</td>\n",
              "      <td>5</td>\n",
              "      <td>0</td>\n",
              "      <td>0</td>\n",
              "      <td>2</td>\n",
              "      <td>0</td>\n",
              "    </tr>\n",
              "    <tr>\n",
              "      <th>23</th>\n",
              "      <td>2200</td>\n",
              "      <td>720.0</td>\n",
              "      <td>630.0</td>\n",
              "      <td>5</td>\n",
              "      <td>2</td>\n",
              "      <td>0</td>\n",
              "      <td>0</td>\n",
              "      <td>1</td>\n",
              "      <td>2</td>\n",
              "    </tr>\n",
              "    <tr>\n",
              "      <th>24</th>\n",
              "      <td>2400</td>\n",
              "      <td>800.0</td>\n",
              "      <td>660.0</td>\n",
              "      <td>6</td>\n",
              "      <td>5</td>\n",
              "      <td>0</td>\n",
              "      <td>0</td>\n",
              "      <td>8</td>\n",
              "      <td>1</td>\n",
              "    </tr>\n",
              "    <tr>\n",
              "      <th>25</th>\n",
              "      <td>650</td>\n",
              "      <td>120.0</td>\n",
              "      <td>120.0</td>\n",
              "      <td>3</td>\n",
              "      <td>1</td>\n",
              "      <td>0</td>\n",
              "      <td>0</td>\n",
              "      <td>0</td>\n",
              "      <td>0</td>\n",
              "    </tr>\n",
              "    <tr>\n",
              "      <th>26</th>\n",
              "      <td>550</td>\n",
              "      <td>100.0</td>\n",
              "      <td>36.0</td>\n",
              "      <td>2</td>\n",
              "      <td>1</td>\n",
              "      <td>0</td>\n",
              "      <td>0</td>\n",
              "      <td>1</td>\n",
              "      <td>0</td>\n",
              "    </tr>\n",
              "    <tr>\n",
              "      <th>27</th>\n",
              "      <td>700</td>\n",
              "      <td>100.0</td>\n",
              "      <td>36.0</td>\n",
              "      <td>2</td>\n",
              "      <td>1</td>\n",
              "      <td>0</td>\n",
              "      <td>0</td>\n",
              "      <td>1</td>\n",
              "      <td>0</td>\n",
              "    </tr>\n",
              "    <tr>\n",
              "      <th>28</th>\n",
              "      <td>155</td>\n",
              "      <td>120.0</td>\n",
              "      <td>36.0</td>\n",
              "      <td>2</td>\n",
              "      <td>1</td>\n",
              "      <td>0</td>\n",
              "      <td>0</td>\n",
              "      <td>1</td>\n",
              "      <td>0</td>\n",
              "    </tr>\n",
              "    <tr>\n",
              "      <th>29</th>\n",
              "      <td>746</td>\n",
              "      <td>90.0</td>\n",
              "      <td>43.0</td>\n",
              "      <td>2</td>\n",
              "      <td>1</td>\n",
              "      <td>0</td>\n",
              "      <td>0</td>\n",
              "      <td>1</td>\n",
              "      <td>0</td>\n",
              "    </tr>\n",
              "    <tr>\n",
              "      <th>30</th>\n",
              "      <td>941</td>\n",
              "      <td>105.0</td>\n",
              "      <td>59.0</td>\n",
              "      <td>2</td>\n",
              "      <td>1</td>\n",
              "      <td>0</td>\n",
              "      <td>0</td>\n",
              "      <td>1</td>\n",
              "      <td>0</td>\n",
              "    </tr>\n",
              "    <tr>\n",
              "      <th>31</th>\n",
              "      <td>1033</td>\n",
              "      <td>120.0</td>\n",
              "      <td>63.0</td>\n",
              "      <td>2</td>\n",
              "      <td>1</td>\n",
              "      <td>0</td>\n",
              "      <td>0</td>\n",
              "      <td>1</td>\n",
              "      <td>0</td>\n",
              "    </tr>\n",
              "    <tr>\n",
              "      <th>32</th>\n",
              "      <td>1130</td>\n",
              "      <td>135.0</td>\n",
              "      <td>72.0</td>\n",
              "      <td>2</td>\n",
              "      <td>1</td>\n",
              "      <td>1</td>\n",
              "      <td>1</td>\n",
              "      <td>1</td>\n",
              "      <td>0</td>\n",
              "    </tr>\n",
              "    <tr>\n",
              "      <th>33</th>\n",
              "      <td>1975</td>\n",
              "      <td>200.0</td>\n",
              "      <td>100.0</td>\n",
              "      <td>3</td>\n",
              "      <td>2</td>\n",
              "      <td>0</td>\n",
              "      <td>0</td>\n",
              "      <td>2</td>\n",
              "      <td>0</td>\n",
              "    </tr>\n",
              "    <tr>\n",
              "      <th>35</th>\n",
              "      <td>650</td>\n",
              "      <td>193.0</td>\n",
              "      <td>30.0</td>\n",
              "      <td>1</td>\n",
              "      <td>1</td>\n",
              "      <td>0</td>\n",
              "      <td>0</td>\n",
              "      <td>0</td>\n",
              "      <td>0</td>\n",
              "    </tr>\n",
              "    <tr>\n",
              "      <th>36</th>\n",
              "      <td>451</td>\n",
              "      <td>105.0</td>\n",
              "      <td>70.0</td>\n",
              "      <td>3</td>\n",
              "      <td>2</td>\n",
              "      <td>0</td>\n",
              "      <td>0</td>\n",
              "      <td>1</td>\n",
              "      <td>0</td>\n",
              "    </tr>\n",
              "    <tr>\n",
              "      <th>37</th>\n",
              "      <td>168</td>\n",
              "      <td>85.0</td>\n",
              "      <td>36.0</td>\n",
              "      <td>2</td>\n",
              "      <td>1</td>\n",
              "      <td>0</td>\n",
              "      <td>0</td>\n",
              "      <td>1</td>\n",
              "      <td>0</td>\n",
              "    </tr>\n",
              "    <tr>\n",
              "      <th>41</th>\n",
              "      <td>168</td>\n",
              "      <td>85.0</td>\n",
              "      <td>36.0</td>\n",
              "      <td>2</td>\n",
              "      <td>1</td>\n",
              "      <td>0</td>\n",
              "      <td>0</td>\n",
              "      <td>1</td>\n",
              "      <td>0</td>\n",
              "    </tr>\n",
              "    <tr>\n",
              "      <th>42</th>\n",
              "      <td>288</td>\n",
              "      <td>84.0</td>\n",
              "      <td>40.0</td>\n",
              "      <td>2</td>\n",
              "      <td>1</td>\n",
              "      <td>0</td>\n",
              "      <td>0</td>\n",
              "      <td>1</td>\n",
              "      <td>0</td>\n",
              "    </tr>\n",
              "    <tr>\n",
              "      <th>43</th>\n",
              "      <td>316</td>\n",
              "      <td>84.0</td>\n",
              "      <td>45.0</td>\n",
              "      <td>2</td>\n",
              "      <td>1</td>\n",
              "      <td>0</td>\n",
              "      <td>0</td>\n",
              "      <td>1</td>\n",
              "      <td>0</td>\n",
              "    </tr>\n",
              "    <tr>\n",
              "      <th>44</th>\n",
              "      <td>495</td>\n",
              "      <td>98.0</td>\n",
              "      <td>70.0</td>\n",
              "      <td>3</td>\n",
              "      <td>2</td>\n",
              "      <td>0</td>\n",
              "      <td>0</td>\n",
              "      <td>1</td>\n",
              "      <td>0</td>\n",
              "    </tr>\n",
              "    <tr>\n",
              "      <th>45</th>\n",
              "      <td>785</td>\n",
              "      <td>120.0</td>\n",
              "      <td>120.0</td>\n",
              "      <td>4</td>\n",
              "      <td>3</td>\n",
              "      <td>0</td>\n",
              "      <td>0</td>\n",
              "      <td>1</td>\n",
              "      <td>0</td>\n",
              "    </tr>\n",
              "    <tr>\n",
              "      <th>46</th>\n",
              "      <td>300</td>\n",
              "      <td>98.0</td>\n",
              "      <td>70.0</td>\n",
              "      <td>2</td>\n",
              "      <td>2</td>\n",
              "      <td>0</td>\n",
              "      <td>0</td>\n",
              "      <td>1</td>\n",
              "      <td>0</td>\n",
              "    </tr>\n",
              "    <tr>\n",
              "      <th>47</th>\n",
              "      <td>168</td>\n",
              "      <td>36.0</td>\n",
              "      <td>98.0</td>\n",
              "      <td>2</td>\n",
              "      <td>1</td>\n",
              "      <td>0</td>\n",
              "      <td>0</td>\n",
              "      <td>1</td>\n",
              "      <td>0</td>\n",
              "    </tr>\n",
              "    <tr>\n",
              "      <th>48</th>\n",
              "      <td>141</td>\n",
              "      <td>87.0</td>\n",
              "      <td>36.0</td>\n",
              "      <td>2</td>\n",
              "      <td>1</td>\n",
              "      <td>0</td>\n",
              "      <td>0</td>\n",
              "      <td>1</td>\n",
              "      <td>0</td>\n",
              "    </tr>\n",
              "  </tbody>\n",
              "</table>\n",
              "</div>"
            ],
            "text/plain": [
              "    Harga_juta  Luas_Tanah  Luas_Bangunan  KT  KM  KTP  KMP  Carport  Garasi\n",
              "0         1200       135.0           70.0   2   2    1    0        1       0\n",
              "1         1110       135.0           70.0   3   2    0    0        1       0\n",
              "2         2100       875.0          220.0   3   3    0    0        1       1\n",
              "4         1250       120.0          542.0   3   2    0    0        0       0\n",
              "6         1100       134.0          250.0   3   2    0    0        0       0\n",
              "11         350      1100.0          900.0   3   1    0    0        0       0\n",
              "12        3500       387.0           85.0  10   4    0    0        0       0\n",
              "14         280       902.0          902.0   2   1    0    0        1       0\n",
              "15         470        81.0           80.0   2   2    0    0        1       0\n",
              "16        5000       214.0          100.0   5   4    0    0        4       0\n",
              "18        2250        99.0           99.0   2   2    0    0        0       0\n",
              "20         780       168.0          100.0   4   2    0    0        1       0\n",
              "21        3200       300.0          300.0   4   4    0    0        1       1\n",
              "22        2200       195.0          280.0   8   5    0    0        2       0\n",
              "23        2200       720.0          630.0   5   2    0    0        1       2\n",
              "24        2400       800.0          660.0   6   5    0    0        8       1\n",
              "25         650       120.0          120.0   3   1    0    0        0       0\n",
              "26         550       100.0           36.0   2   1    0    0        1       0\n",
              "27         700       100.0           36.0   2   1    0    0        1       0\n",
              "28         155       120.0           36.0   2   1    0    0        1       0\n",
              "29         746        90.0           43.0   2   1    0    0        1       0\n",
              "30         941       105.0           59.0   2   1    0    0        1       0\n",
              "31        1033       120.0           63.0   2   1    0    0        1       0\n",
              "32        1130       135.0           72.0   2   1    1    1        1       0\n",
              "33        1975       200.0          100.0   3   2    0    0        2       0\n",
              "35         650       193.0           30.0   1   1    0    0        0       0\n",
              "36         451       105.0           70.0   3   2    0    0        1       0\n",
              "37         168        85.0           36.0   2   1    0    0        1       0\n",
              "41         168        85.0           36.0   2   1    0    0        1       0\n",
              "42         288        84.0           40.0   2   1    0    0        1       0\n",
              "43         316        84.0           45.0   2   1    0    0        1       0\n",
              "44         495        98.0           70.0   3   2    0    0        1       0\n",
              "45         785       120.0          120.0   4   3    0    0        1       0\n",
              "46         300        98.0           70.0   2   2    0    0        1       0\n",
              "47         168        36.0           98.0   2   1    0    0        1       0\n",
              "48         141        87.0           36.0   2   1    0    0        1       0"
            ]
          },
          "metadata": {
            "tags": []
          },
          "execution_count": 74
        }
      ]
    },
    {
      "cell_type": "code",
      "metadata": {
        "colab": {
          "base_uri": "https://localhost:8080/"
        },
        "id": "lp1dhuZPvAdA",
        "outputId": "106542ef-a3f8-45d1-b1aa-cb97f4d12547"
      },
      "source": [
        "c_data = np.array(X.iloc[:,:-1])\n",
        "c_data[:5]"
      ],
      "execution_count": null,
      "outputs": [
        {
          "output_type": "execute_result",
          "data": {
            "text/plain": [
              "array([[1.20e+03, 1.35e+02, 7.00e+01, 2.00e+00, 2.00e+00, 1.00e+00,\n",
              "        0.00e+00, 1.00e+00, 0.00e+00],\n",
              "       [1.11e+03, 1.35e+02, 7.00e+01, 3.00e+00, 2.00e+00, 0.00e+00,\n",
              "        0.00e+00, 1.00e+00, 0.00e+00],\n",
              "       [2.10e+03, 8.75e+02, 2.20e+02, 3.00e+00, 3.00e+00, 0.00e+00,\n",
              "        0.00e+00, 1.00e+00, 1.00e+00],\n",
              "       [1.25e+03, 1.20e+02, 5.42e+02, 3.00e+00, 2.00e+00, 0.00e+00,\n",
              "        0.00e+00, 0.00e+00, 0.00e+00],\n",
              "       [1.10e+03, 1.34e+02, 2.50e+02, 3.00e+00, 2.00e+00, 0.00e+00,\n",
              "        0.00e+00, 0.00e+00, 0.00e+00]])"
            ]
          },
          "metadata": {
            "tags": []
          },
          "execution_count": 75
        }
      ]
    },
    {
      "cell_type": "code",
      "metadata": {
        "colab": {
          "base_uri": "https://localhost:8080/",
          "height": 268
        },
        "id": "kilnC6A_vGrH",
        "outputId": "23040eed-4dd9-4dff-ac3e-39aa1f491c8d"
      },
      "source": [
        "# k-means: http://scikit-learn.org/stable/modules/generated/sklearn.cluster.KMeans.html#sklearn.cluster.KMeans\n",
        "# Hapus \"random_state = random_state\" jika ingin melihat efek randomized centroid.\n",
        "k = 3\n",
        "km = cluster.KMeans(n_clusters=k, init='random', max_iter=300, tol=0.0001, n_jobs=-1, random_state = random_state)\n",
        "km.fit(c_data)\n",
        "# Hasil clusteringnya\n",
        "C_km = km.predict(c_data)\n",
        "p= sns.countplot(C_km)"
      ],
      "execution_count": null,
      "outputs": [
        {
          "output_type": "display_data",
          "data": {
            "image/png": "[encoded data removed]",
            "text/plain": [
              "<Figure size 432x288 with 1 Axes>"
            ]
          },
          "metadata": {
            "tags": []
          }
        }
      ]
    },
    {
      "cell_type": "code",
      "metadata": {
        "colab": {
          "base_uri": "https://localhost:8080/",
          "height": 215
        },
        "id": "vkrgmWhH8Wh1",
        "outputId": "aedb210c-16f7-45ec-fa24-a683740a20e0"
      },
      "source": [
        "X2D = umap.UMAP(n_neighbors=5, min_dist=0.3, random_state=random_state).fit_transform(c_data)\n",
        "fig, ax = plt.subplots()\n",
        "ax.scatter(X2D[:,0], X2D[:,1], c=C_km)\n",
        "plt.show()"
      ],
      "execution_count": null,
      "outputs": [
        {
          "output_type": "error",
          "ename": "AttributeError",
          "evalue": "ignored",
          "traceback": [
            "\u001b[0;31m---------------------------------------------------------------------------\u001b[0m",
            "\u001b[0;31mAttributeError\u001b[0m                            Traceback (most recent call last)",
            "\u001b[0;32m<ipython-input-104-7b2df3fe7254>\u001b[0m in \u001b[0;36m<module>\u001b[0;34m()\u001b[0m\n\u001b[0;32m----> 1\u001b[0;31m \u001b[0mX2D\u001b[0m \u001b[0;34m=\u001b[0m \u001b[0mumap\u001b[0m\u001b[0;34m.\u001b[0m\u001b[0mUMAP\u001b[0m\u001b[0;34m(\u001b[0m\u001b[0mn_neighbors\u001b[0m\u001b[0;34m=\u001b[0m\u001b[0;36m5\u001b[0m\u001b[0;34m,\u001b[0m \u001b[0mmin_dist\u001b[0m\u001b[0;34m=\u001b[0m\u001b[0;36m0.3\u001b[0m\u001b[0;34m,\u001b[0m \u001b[0mrandom_state\u001b[0m\u001b[0;34m=\u001b[0m\u001b[0mrandom_state\u001b[0m\u001b[0;34m)\u001b[0m\u001b[0;34m.\u001b[0m\u001b[0mfit_transform\u001b[0m\u001b[0;34m(\u001b[0m\u001b[0mc_data\u001b[0m\u001b[0;34m)\u001b[0m\u001b[0;34m\u001b[0m\u001b[0;34m\u001b[0m\u001b[0m\n\u001b[0m\u001b[1;32m      2\u001b[0m \u001b[0mfig\u001b[0m\u001b[0;34m,\u001b[0m \u001b[0max\u001b[0m \u001b[0;34m=\u001b[0m \u001b[0mplt\u001b[0m\u001b[0;34m.\u001b[0m\u001b[0msubplots\u001b[0m\u001b[0;34m(\u001b[0m\u001b[0;34m)\u001b[0m\u001b[0;34m\u001b[0m\u001b[0;34m\u001b[0m\u001b[0m\n\u001b[1;32m      3\u001b[0m \u001b[0max\u001b[0m\u001b[0;34m.\u001b[0m\u001b[0mscatter\u001b[0m\u001b[0;34m(\u001b[0m\u001b[0mX2D\u001b[0m\u001b[0;34m[\u001b[0m\u001b[0;34m:\u001b[0m\u001b[0;34m,\u001b[0m\u001b[0;36m0\u001b[0m\u001b[0;34m]\u001b[0m\u001b[0;34m,\u001b[0m \u001b[0mX2D\u001b[0m\u001b[0;34m[\u001b[0m\u001b[0;34m:\u001b[0m\u001b[0;34m,\u001b[0m\u001b[0;36m1\u001b[0m\u001b[0;34m]\u001b[0m\u001b[0;34m,\u001b[0m \u001b[0mc\u001b[0m\u001b[0;34m=\u001b[0m\u001b[0mC_km\u001b[0m\u001b[0;34m)\u001b[0m\u001b[0;34m\u001b[0m\u001b[0;34m\u001b[0m\u001b[0m\n\u001b[1;32m      4\u001b[0m \u001b[0mplt\u001b[0m\u001b[0;34m.\u001b[0m\u001b[0mshow\u001b[0m\u001b[0;34m(\u001b[0m\u001b[0;34m)\u001b[0m\u001b[0;34m\u001b[0m\u001b[0;34m\u001b[0m\u001b[0m\n",
            "\u001b[0;31mAttributeError\u001b[0m: module 'umap' has no attribute 'UMAP'"
          ]
        }
      ]
    },
    {
      "cell_type": "code",
      "metadata": {
        "colab": {
          "base_uri": "https://localhost:8080/"
        },
        "id": "ZILcM1vSvqbA",
        "outputId": "d9797026-d07f-4043-cde0-71fa27888dcc"
      },
      "source": [
        "C_km"
      ],
      "execution_count": null,
      "outputs": [
        {
          "output_type": "execute_result",
          "data": {
            "text/plain": [
              "array([0, 0, 2, 0, 0, 0, 1, 0, 0, 1, 2, 0, 1, 2, 2, 2, 0, 0, 0, 0, 0, 0,\n",
              "       0, 0, 2, 0, 0, 0, 0, 0, 0, 0, 0, 0, 0, 0], dtype=int32)"
            ]
          },
          "metadata": {
            "tags": []
          },
          "execution_count": 77
        }
      ]
    },
    {
      "cell_type": "code",
      "metadata": {
        "colab": {
          "base_uri": "https://localhost:8080/"
        },
        "id": "fEf73U1txIG9",
        "outputId": "8dde7792-d97d-4828-99cb-f4932551ef42"
      },
      "source": [
        "km.inertia_"
      ],
      "execution_count": null,
      "outputs": [
        {
          "output_type": "execute_result",
          "data": {
            "text/plain": [
              "9379195.12962963"
            ]
          },
          "metadata": {
            "tags": []
          },
          "execution_count": 78
        }
      ]
    },
    {
      "cell_type": "code",
      "metadata": {
        "colab": {
          "base_uri": "https://localhost:8080/",
          "height": 301
        },
        "id": "ZDQRBVQdxN9a",
        "outputId": "6d0ef8ae-c789-407b-cbd5-b1ee7b78960c"
      },
      "source": [
        "distorsions, k1, kN = [], 2, 10\n",
        "for k in range(k1, kN):\n",
        "    kmeans = cluster.KMeans(n_clusters=k).fit(c_data)\n",
        "    distorsions.append(kmeans.inertia_)\n",
        "#fig = plt.figure(figsize=(15, 5))\n",
        "plt.plot(range(k1, kN), distorsions); plt.grid(True)\n",
        "plt.title('Elbow curve')"
      ],
      "execution_count": null,
      "outputs": [
        {
          "output_type": "execute_result",
          "data": {
            "text/plain": [
              "Text(0.5, 1.0, 'Elbow curve')"
            ]
          },
          "metadata": {
            "tags": []
          },
          "execution_count": 79
        },
        {
          "output_type": "display_data",
          "data": {
            "image/png": "[encoded data removed]",
            "text/plain": [
              "<Figure size 432x288 with 1 Axes>"
            ]
          },
          "metadata": {
            "tags": []
          }
        }
      ]
    },
    {
      "cell_type": "code",
      "metadata": {
        "colab": {
          "base_uri": "https://localhost:8080/",
          "height": 285
        },
        "id": "U5dfbEv9xaE5",
        "outputId": "d9be8ee8-f4b2-406a-c8ae-a19825723e7a"
      },
      "source": [
        "# k-means++ clustering http://scikit-learn.org/stable/modules/generated/sklearn.cluster.KMeans.html\n",
        "k=3\n",
        "kmPP = cluster.KMeans(n_clusters=k, init='k-means++', max_iter=300, tol=0.0001, n_jobs=-1, random_state = random_state)\n",
        "kmPP.fit(c_data)\n",
        "C_kmpp = kmPP.predict(c_data)\n",
        "\n",
        "sns.countplot(C_kmpp)\n",
        "C_kmpp[:10]"
      ],
      "execution_count": null,
      "outputs": [
        {
          "output_type": "execute_result",
          "data": {
            "text/plain": [
              "array([0, 0, 1, 0, 0, 0, 2, 0, 0, 2], dtype=int32)"
            ]
          },
          "metadata": {
            "tags": []
          },
          "execution_count": 80
        },
        {
          "output_type": "display_data",
          "data": {
            "image/png": "[encoded data removed]",
            "text/plain": [
              "<Figure size 432x288 with 1 Axes>"
            ]
          },
          "metadata": {
            "tags": []
          }
        }
      ]
    },
    {
      "cell_type": "code",
      "metadata": {
        "colab": {
          "base_uri": "https://localhost:8080/",
          "height": 285
        },
        "id": "f0_BQxzSxwkt",
        "outputId": "898ce586-e79a-48c8-a871-b8818c43b4be"
      },
      "source": [
        "# MiniBatch k-Means \n",
        "# http://scikit-learn.org/stable/modules/generated/sklearn.cluster.MiniBatchKMeans.html\n",
        "# minibatch \"tidak bisa parallel\"!!!...\n",
        "# parameter penting km = batch_size ... pada aplikasi sesungguhnya disarankan \"minimal\" 3xk\n",
        "mbkm = cluster.MiniBatchKMeans(n_clusters=k, init='random', max_iter=300, tol=0.0001, batch_size = 100, random_state = random_state) \n",
        "mbkm.fit(c_data)\n",
        "C_mbkm = mbkm.predict(c_data)\n",
        "sns.countplot(C_mbkm)\n",
        "C_mbkm[:10]"
      ],
      "execution_count": null,
      "outputs": [
        {
          "output_type": "execute_result",
          "data": {
            "text/plain": [
              "array([1, 1, 1, 1, 1, 2, 0, 2, 2, 0], dtype=int32)"
            ]
          },
          "metadata": {
            "tags": []
          },
          "execution_count": 81
        },
        {
          "output_type": "display_data",
          "data": {
            "image/png": "[encoded data removed]",
            "text/plain": [
              "<Figure size 432x288 with 1 Axes>"
            ]
          },
          "metadata": {
            "tags": []
          }
        }
      ]
    },
    {
      "cell_type": "code",
      "metadata": {
        "colab": {
          "base_uri": "https://localhost:8080/",
          "height": 285
        },
        "id": "KJxxxA8fyMu1",
        "outputId": "3b8d9a8c-10d2-4e16-9bb9-9ed716602c52"
      },
      "source": [
        "# MiniBatch k-Means++\n",
        "mbkmPP = cluster.MiniBatchKMeans(n_clusters=k, init='k-means++', max_iter=300, tol=0.0001, random_state = random_state) \n",
        "mbkmPP.fit(c_data)\n",
        "C_mbkmPP = mbkmPP.predict(c_data)\n",
        "sns.countplot(C_mbkmPP)\n",
        "C_mbkmPP[:10]"
      ],
      "execution_count": null,
      "outputs": [
        {
          "output_type": "execute_result",
          "data": {
            "text/plain": [
              "array([0, 0, 1, 0, 0, 0, 1, 0, 0, 2], dtype=int32)"
            ]
          },
          "metadata": {
            "tags": []
          },
          "execution_count": 82
        },
        {
          "output_type": "display_data",
          "data": {
            "image/png": "[encoded data removed]",
            "text/plain": [
              "<Figure size 432x288 with 1 Axes>"
            ]
          },
          "metadata": {
            "tags": []
          }
        }
      ]
    },
    {
      "cell_type": "code",
      "metadata": {
        "colab": {
          "base_uri": "https://localhost:8080/"
        },
        "id": "mSbzeLRrya-w",
        "outputId": "fb315971-0716-4e96-a36f-f08f142833c2"
      },
      "source": [
        "Hasil_Clustering = [C_km, C_kmpp, C_mbkm, C_mbkmPP]\n",
        "for res in Hasil_Clustering:\n",
        "    print(siluet(c_data,res), end=', ')\n",
        "# Bagaimana cara kerja dan interpretasinya?"
      ],
      "execution_count": null,
      "outputs": [
        {
          "output_type": "stream",
          "text": [
            "0.6097741137353176, 0.6097741137353176, 0.47937678367333764, 0.6284464972489415, "
          ],
          "name": "stdout"
        }
      ]
    },
    {
      "cell_type": "code",
      "metadata": {
        "colab": {
          "base_uri": "https://localhost:8080/"
        },
        "id": "JcVmo6dryyuw",
        "outputId": "44cf8dc8-be19-4ac5-c37c-2b441154cbeb"
      },
      "source": [
        "kmPP.cluster_centers_"
      ],
      "execution_count": null,
      "outputs": [
        {
          "output_type": "execute_result",
          "data": {
            "text/plain": [
              "array([[ 6.06481481e+02,  1.75555556e+02,  1.49259259e+02,\n",
              "         2.37037037e+00,  1.40740741e+00,  7.40740741e-02,\n",
              "         3.70370370e-02,  8.14814815e-01,  5.55111512e-17],\n",
              "       [ 2.18750000e+03,  4.81500000e+02,  3.31500000e+02,\n",
              "         4.50000000e+00,  3.16666667e+00, -6.93889390e-18,\n",
              "        -3.46944695e-18,  2.33333333e+00,  6.66666667e-01],\n",
              "       [ 3.90000000e+03,  3.00333333e+02,  1.61666667e+02,\n",
              "         6.33333333e+00,  4.00000000e+00,  0.00000000e+00,\n",
              "         0.00000000e+00,  1.66666667e+00,  3.33333333e-01]])"
            ]
          },
          "metadata": {
            "tags": []
          },
          "execution_count": 84
        }
      ]
    },
    {
      "cell_type": "code",
      "metadata": {
        "colab": {
          "base_uri": "https://localhost:8080/"
        },
        "id": "2CNaLjAz0uxI",
        "outputId": "8e78e9aa-cabc-4239-cad8-ac13ebf64a5e"
      },
      "source": [
        "X.columns"
      ],
      "execution_count": null,
      "outputs": [
        {
          "output_type": "execute_result",
          "data": {
            "text/plain": [
              "Index(['Harga_juta', 'Luas_Tanah', 'Luas_Bangunan', 'KT', 'KM', 'KTP', 'KMP',\n",
              "       'Carport', 'Garasi', 'Surat'],\n",
              "      dtype='object')"
            ]
          },
          "metadata": {
            "tags": []
          },
          "execution_count": 85
        }
      ]
    },
    {
      "cell_type": "code",
      "metadata": {
        "colab": {
          "base_uri": "https://localhost:8080/",
          "height": 269
        },
        "id": "b344pcpQzNIl",
        "outputId": "3faa719c-bd29-4e88-ced7-024e70bf844b"
      },
      "source": [
        "# Evaluasi sebenarnya tidak terlalu penting di Unsupervised learning.\n",
        "# inilah yang membedakan \"clustering\" dan \"clustering Analysis\"\n",
        "# yang lebih penting adalah interpretasi, tapi Bagaimana?\n",
        "# contoh k-means++\n",
        "\n",
        "cols = ['Harga_juta','Luas_Tanah','Luas_Bangunan','KM','KT','KMP','KTP','Carport','Garasi']\n",
        "dfC = pd.DataFrame(kmPP.cluster_centers_, columns=cols)\n",
        "dfC['cluster'] = dfC.index\n",
        "\n",
        "pd.plotting.parallel_coordinates(dfC, 'cluster', color=('r', 'g', 'b'))\n",
        "plt.show()"
      ],
      "execution_count": null,
      "outputs": [
        {
          "output_type": "display_data",
          "data": {
            "image/png": "[encoded data removed]",
            "text/plain": [
              "<Figure size 432x288 with 1 Axes>"
            ]
          },
          "metadata": {
            "tags": []
          }
        }
      ]
    },
    {
      "cell_type": "code",
      "metadata": {
        "colab": {
          "base_uri": "https://localhost:8080/",
          "height": 1000
        },
        "id": "VxIETuDT09yc",
        "outputId": "28d4be75-7dc7-4530-fbe2-1537bb55d648"
      },
      "source": [
        "X['cluster'] = kmPP.labels_\n",
        "X.head(50)"
      ],
      "execution_count": null,
      "outputs": [
        {
          "output_type": "execute_result",
          "data": {
            "text/html": [
              "<div>\n",
              "<style scoped>\n",
              "    .dataframe tbody tr th:only-of-type {\n",
              "        vertical-align: middle;\n",
              "    }\n",
              "\n",
              "    .dataframe tbody tr th {\n",
              "        vertical-align: top;\n",
              "    }\n",
              "\n",
              "    .dataframe thead th {\n",
              "        text-align: right;\n",
              "    }\n",
              "</style>\n",
              "<table border=\"1\" class=\"dataframe\">\n",
              "  <thead>\n",
              "    <tr style=\"text-align: right;\">\n",
              "      <th></th>\n",
              "      <th>Harga_juta</th>\n",
              "      <th>Luas_Tanah</th>\n",
              "      <th>Luas_Bangunan</th>\n",
              "      <th>KT</th>\n",
              "      <th>KM</th>\n",
              "      <th>KTP</th>\n",
              "      <th>KMP</th>\n",
              "      <th>Carport</th>\n",
              "      <th>Garasi</th>\n",
              "      <th>Surat</th>\n",
              "      <th>cluster</th>\n",
              "    </tr>\n",
              "  </thead>\n",
              "  <tbody>\n",
              "    <tr>\n",
              "      <th>0</th>\n",
              "      <td>1200</td>\n",
              "      <td>135.0</td>\n",
              "      <td>70.0</td>\n",
              "      <td>2</td>\n",
              "      <td>2</td>\n",
              "      <td>1</td>\n",
              "      <td>0</td>\n",
              "      <td>1</td>\n",
              "      <td>0</td>\n",
              "      <td>SHM</td>\n",
              "      <td>0</td>\n",
              "    </tr>\n",
              "    <tr>\n",
              "      <th>1</th>\n",
              "      <td>1110</td>\n",
              "      <td>135.0</td>\n",
              "      <td>70.0</td>\n",
              "      <td>3</td>\n",
              "      <td>2</td>\n",
              "      <td>0</td>\n",
              "      <td>0</td>\n",
              "      <td>1</td>\n",
              "      <td>0</td>\n",
              "      <td>SHM</td>\n",
              "      <td>0</td>\n",
              "    </tr>\n",
              "    <tr>\n",
              "      <th>2</th>\n",
              "      <td>2100</td>\n",
              "      <td>875.0</td>\n",
              "      <td>220.0</td>\n",
              "      <td>3</td>\n",
              "      <td>3</td>\n",
              "      <td>0</td>\n",
              "      <td>0</td>\n",
              "      <td>1</td>\n",
              "      <td>1</td>\n",
              "      <td>SHM</td>\n",
              "      <td>1</td>\n",
              "    </tr>\n",
              "    <tr>\n",
              "      <th>4</th>\n",
              "      <td>1250</td>\n",
              "      <td>120.0</td>\n",
              "      <td>542.0</td>\n",
              "      <td>3</td>\n",
              "      <td>2</td>\n",
              "      <td>0</td>\n",
              "      <td>0</td>\n",
              "      <td>0</td>\n",
              "      <td>0</td>\n",
              "      <td>SHM</td>\n",
              "      <td>0</td>\n",
              "    </tr>\n",
              "    <tr>\n",
              "      <th>6</th>\n",
              "      <td>1100</td>\n",
              "      <td>134.0</td>\n",
              "      <td>250.0</td>\n",
              "      <td>3</td>\n",
              "      <td>2</td>\n",
              "      <td>0</td>\n",
              "      <td>0</td>\n",
              "      <td>0</td>\n",
              "      <td>0</td>\n",
              "      <td>SHM</td>\n",
              "      <td>0</td>\n",
              "    </tr>\n",
              "    <tr>\n",
              "      <th>11</th>\n",
              "      <td>350</td>\n",
              "      <td>1100.0</td>\n",
              "      <td>900.0</td>\n",
              "      <td>3</td>\n",
              "      <td>1</td>\n",
              "      <td>0</td>\n",
              "      <td>0</td>\n",
              "      <td>0</td>\n",
              "      <td>0</td>\n",
              "      <td>SHM</td>\n",
              "      <td>0</td>\n",
              "    </tr>\n",
              "    <tr>\n",
              "      <th>12</th>\n",
              "      <td>3500</td>\n",
              "      <td>387.0</td>\n",
              "      <td>85.0</td>\n",
              "      <td>10</td>\n",
              "      <td>4</td>\n",
              "      <td>0</td>\n",
              "      <td>0</td>\n",
              "      <td>0</td>\n",
              "      <td>0</td>\n",
              "      <td>SHM</td>\n",
              "      <td>2</td>\n",
              "    </tr>\n",
              "    <tr>\n",
              "      <th>14</th>\n",
              "      <td>280</td>\n",
              "      <td>902.0</td>\n",
              "      <td>902.0</td>\n",
              "      <td>2</td>\n",
              "      <td>1</td>\n",
              "      <td>0</td>\n",
              "      <td>0</td>\n",
              "      <td>1</td>\n",
              "      <td>0</td>\n",
              "      <td>SHM</td>\n",
              "      <td>0</td>\n",
              "    </tr>\n",
              "    <tr>\n",
              "      <th>15</th>\n",
              "      <td>470</td>\n",
              "      <td>81.0</td>\n",
              "      <td>80.0</td>\n",
              "      <td>2</td>\n",
              "      <td>2</td>\n",
              "      <td>0</td>\n",
              "      <td>0</td>\n",
              "      <td>1</td>\n",
              "      <td>0</td>\n",
              "      <td>SHM</td>\n",
              "      <td>0</td>\n",
              "    </tr>\n",
              "    <tr>\n",
              "      <th>16</th>\n",
              "      <td>5000</td>\n",
              "      <td>214.0</td>\n",
              "      <td>100.0</td>\n",
              "      <td>5</td>\n",
              "      <td>4</td>\n",
              "      <td>0</td>\n",
              "      <td>0</td>\n",
              "      <td>4</td>\n",
              "      <td>0</td>\n",
              "      <td>SHM</td>\n",
              "      <td>2</td>\n",
              "    </tr>\n",
              "    <tr>\n",
              "      <th>18</th>\n",
              "      <td>2250</td>\n",
              "      <td>99.0</td>\n",
              "      <td>99.0</td>\n",
              "      <td>2</td>\n",
              "      <td>2</td>\n",
              "      <td>0</td>\n",
              "      <td>0</td>\n",
              "      <td>0</td>\n",
              "      <td>0</td>\n",
              "      <td>SHM</td>\n",
              "      <td>1</td>\n",
              "    </tr>\n",
              "    <tr>\n",
              "      <th>20</th>\n",
              "      <td>780</td>\n",
              "      <td>168.0</td>\n",
              "      <td>100.0</td>\n",
              "      <td>4</td>\n",
              "      <td>2</td>\n",
              "      <td>0</td>\n",
              "      <td>0</td>\n",
              "      <td>1</td>\n",
              "      <td>0</td>\n",
              "      <td>HGB</td>\n",
              "      <td>0</td>\n",
              "    </tr>\n",
              "    <tr>\n",
              "      <th>21</th>\n",
              "      <td>3200</td>\n",
              "      <td>300.0</td>\n",
              "      <td>300.0</td>\n",
              "      <td>4</td>\n",
              "      <td>4</td>\n",
              "      <td>0</td>\n",
              "      <td>0</td>\n",
              "      <td>1</td>\n",
              "      <td>1</td>\n",
              "      <td>SHM</td>\n",
              "      <td>2</td>\n",
              "    </tr>\n",
              "    <tr>\n",
              "      <th>22</th>\n",
              "      <td>2200</td>\n",
              "      <td>195.0</td>\n",
              "      <td>280.0</td>\n",
              "      <td>8</td>\n",
              "      <td>5</td>\n",
              "      <td>0</td>\n",
              "      <td>0</td>\n",
              "      <td>2</td>\n",
              "      <td>0</td>\n",
              "      <td>SHM</td>\n",
              "      <td>1</td>\n",
              "    </tr>\n",
              "    <tr>\n",
              "      <th>23</th>\n",
              "      <td>2200</td>\n",
              "      <td>720.0</td>\n",
              "      <td>630.0</td>\n",
              "      <td>5</td>\n",
              "      <td>2</td>\n",
              "      <td>0</td>\n",
              "      <td>0</td>\n",
              "      <td>1</td>\n",
              "      <td>2</td>\n",
              "      <td>SHM</td>\n",
              "      <td>1</td>\n",
              "    </tr>\n",
              "    <tr>\n",
              "      <th>24</th>\n",
              "      <td>2400</td>\n",
              "      <td>800.0</td>\n",
              "      <td>660.0</td>\n",
              "      <td>6</td>\n",
              "      <td>5</td>\n",
              "      <td>0</td>\n",
              "      <td>0</td>\n",
              "      <td>8</td>\n",
              "      <td>1</td>\n",
              "      <td>SHM</td>\n",
              "      <td>1</td>\n",
              "    </tr>\n",
              "    <tr>\n",
              "      <th>25</th>\n",
              "      <td>650</td>\n",
              "      <td>120.0</td>\n",
              "      <td>120.0</td>\n",
              "      <td>3</td>\n",
              "      <td>1</td>\n",
              "      <td>0</td>\n",
              "      <td>0</td>\n",
              "      <td>0</td>\n",
              "      <td>0</td>\n",
              "      <td>SHM</td>\n",
              "      <td>0</td>\n",
              "    </tr>\n",
              "    <tr>\n",
              "      <th>26</th>\n",
              "      <td>550</td>\n",
              "      <td>100.0</td>\n",
              "      <td>36.0</td>\n",
              "      <td>2</td>\n",
              "      <td>1</td>\n",
              "      <td>0</td>\n",
              "      <td>0</td>\n",
              "      <td>1</td>\n",
              "      <td>0</td>\n",
              "      <td>SHM</td>\n",
              "      <td>0</td>\n",
              "    </tr>\n",
              "    <tr>\n",
              "      <th>27</th>\n",
              "      <td>700</td>\n",
              "      <td>100.0</td>\n",
              "      <td>36.0</td>\n",
              "      <td>2</td>\n",
              "      <td>1</td>\n",
              "      <td>0</td>\n",
              "      <td>0</td>\n",
              "      <td>1</td>\n",
              "      <td>0</td>\n",
              "      <td>SHM</td>\n",
              "      <td>0</td>\n",
              "    </tr>\n",
              "    <tr>\n",
              "      <th>28</th>\n",
              "      <td>155</td>\n",
              "      <td>120.0</td>\n",
              "      <td>36.0</td>\n",
              "      <td>2</td>\n",
              "      <td>1</td>\n",
              "      <td>0</td>\n",
              "      <td>0</td>\n",
              "      <td>1</td>\n",
              "      <td>0</td>\n",
              "      <td>SHM</td>\n",
              "      <td>0</td>\n",
              "    </tr>\n",
              "    <tr>\n",
              "      <th>29</th>\n",
              "      <td>746</td>\n",
              "      <td>90.0</td>\n",
              "      <td>43.0</td>\n",
              "      <td>2</td>\n",
              "      <td>1</td>\n",
              "      <td>0</td>\n",
              "      <td>0</td>\n",
              "      <td>1</td>\n",
              "      <td>0</td>\n",
              "      <td>SHM</td>\n",
              "      <td>0</td>\n",
              "    </tr>\n",
              "    <tr>\n",
              "      <th>30</th>\n",
              "      <td>941</td>\n",
              "      <td>105.0</td>\n",
              "      <td>59.0</td>\n",
              "      <td>2</td>\n",
              "      <td>1</td>\n",
              "      <td>0</td>\n",
              "      <td>0</td>\n",
              "      <td>1</td>\n",
              "      <td>0</td>\n",
              "      <td>SHM</td>\n",
              "      <td>0</td>\n",
              "    </tr>\n",
              "    <tr>\n",
              "      <th>31</th>\n",
              "      <td>1033</td>\n",
              "      <td>120.0</td>\n",
              "      <td>63.0</td>\n",
              "      <td>2</td>\n",
              "      <td>1</td>\n",
              "      <td>0</td>\n",
              "      <td>0</td>\n",
              "      <td>1</td>\n",
              "      <td>0</td>\n",
              "      <td>SHM</td>\n",
              "      <td>0</td>\n",
              "    </tr>\n",
              "    <tr>\n",
              "      <th>32</th>\n",
              "      <td>1130</td>\n",
              "      <td>135.0</td>\n",
              "      <td>72.0</td>\n",
              "      <td>2</td>\n",
              "      <td>1</td>\n",
              "      <td>1</td>\n",
              "      <td>1</td>\n",
              "      <td>1</td>\n",
              "      <td>0</td>\n",
              "      <td>SHM</td>\n",
              "      <td>0</td>\n",
              "    </tr>\n",
              "    <tr>\n",
              "      <th>33</th>\n",
              "      <td>1975</td>\n",
              "      <td>200.0</td>\n",
              "      <td>100.0</td>\n",
              "      <td>3</td>\n",
              "      <td>2</td>\n",
              "      <td>0</td>\n",
              "      <td>0</td>\n",
              "      <td>2</td>\n",
              "      <td>0</td>\n",
              "      <td>SHM</td>\n",
              "      <td>1</td>\n",
              "    </tr>\n",
              "    <tr>\n",
              "      <th>35</th>\n",
              "      <td>650</td>\n",
              "      <td>193.0</td>\n",
              "      <td>30.0</td>\n",
              "      <td>1</td>\n",
              "      <td>1</td>\n",
              "      <td>0</td>\n",
              "      <td>0</td>\n",
              "      <td>0</td>\n",
              "      <td>0</td>\n",
              "      <td>SHM</td>\n",
              "      <td>0</td>\n",
              "    </tr>\n",
              "    <tr>\n",
              "      <th>36</th>\n",
              "      <td>451</td>\n",
              "      <td>105.0</td>\n",
              "      <td>70.0</td>\n",
              "      <td>3</td>\n",
              "      <td>2</td>\n",
              "      <td>0</td>\n",
              "      <td>0</td>\n",
              "      <td>1</td>\n",
              "      <td>0</td>\n",
              "      <td>SHM</td>\n",
              "      <td>0</td>\n",
              "    </tr>\n",
              "    <tr>\n",
              "      <th>37</th>\n",
              "      <td>168</td>\n",
              "      <td>85.0</td>\n",
              "      <td>36.0</td>\n",
              "      <td>2</td>\n",
              "      <td>1</td>\n",
              "      <td>0</td>\n",
              "      <td>0</td>\n",
              "      <td>1</td>\n",
              "      <td>0</td>\n",
              "      <td>SHM</td>\n",
              "      <td>0</td>\n",
              "    </tr>\n",
              "    <tr>\n",
              "      <th>41</th>\n",
              "      <td>168</td>\n",
              "      <td>85.0</td>\n",
              "      <td>36.0</td>\n",
              "      <td>2</td>\n",
              "      <td>1</td>\n",
              "      <td>0</td>\n",
              "      <td>0</td>\n",
              "      <td>1</td>\n",
              "      <td>0</td>\n",
              "      <td>AJB/BPHTB</td>\n",
              "      <td>0</td>\n",
              "    </tr>\n",
              "    <tr>\n",
              "      <th>42</th>\n",
              "      <td>288</td>\n",
              "      <td>84.0</td>\n",
              "      <td>40.0</td>\n",
              "      <td>2</td>\n",
              "      <td>1</td>\n",
              "      <td>0</td>\n",
              "      <td>0</td>\n",
              "      <td>1</td>\n",
              "      <td>0</td>\n",
              "      <td>SHM</td>\n",
              "      <td>0</td>\n",
              "    </tr>\n",
              "    <tr>\n",
              "      <th>43</th>\n",
              "      <td>316</td>\n",
              "      <td>84.0</td>\n",
              "      <td>45.0</td>\n",
              "      <td>2</td>\n",
              "      <td>1</td>\n",
              "      <td>0</td>\n",
              "      <td>0</td>\n",
              "      <td>1</td>\n",
              "      <td>0</td>\n",
              "      <td>SHM</td>\n",
              "      <td>0</td>\n",
              "    </tr>\n",
              "    <tr>\n",
              "      <th>44</th>\n",
              "      <td>495</td>\n",
              "      <td>98.0</td>\n",
              "      <td>70.0</td>\n",
              "      <td>3</td>\n",
              "      <td>2</td>\n",
              "      <td>0</td>\n",
              "      <td>0</td>\n",
              "      <td>1</td>\n",
              "      <td>0</td>\n",
              "      <td>SHM</td>\n",
              "      <td>0</td>\n",
              "    </tr>\n",
              "    <tr>\n",
              "      <th>45</th>\n",
              "      <td>785</td>\n",
              "      <td>120.0</td>\n",
              "      <td>120.0</td>\n",
              "      <td>4</td>\n",
              "      <td>3</td>\n",
              "      <td>0</td>\n",
              "      <td>0</td>\n",
              "      <td>1</td>\n",
              "      <td>0</td>\n",
              "      <td>SHM</td>\n",
              "      <td>0</td>\n",
              "    </tr>\n",
              "    <tr>\n",
              "      <th>46</th>\n",
              "      <td>300</td>\n",
              "      <td>98.0</td>\n",
              "      <td>70.0</td>\n",
              "      <td>2</td>\n",
              "      <td>2</td>\n",
              "      <td>0</td>\n",
              "      <td>0</td>\n",
              "      <td>1</td>\n",
              "      <td>0</td>\n",
              "      <td>SHM</td>\n",
              "      <td>0</td>\n",
              "    </tr>\n",
              "    <tr>\n",
              "      <th>47</th>\n",
              "      <td>168</td>\n",
              "      <td>36.0</td>\n",
              "      <td>98.0</td>\n",
              "      <td>2</td>\n",
              "      <td>1</td>\n",
              "      <td>0</td>\n",
              "      <td>0</td>\n",
              "      <td>1</td>\n",
              "      <td>0</td>\n",
              "      <td>SHM</td>\n",
              "      <td>0</td>\n",
              "    </tr>\n",
              "    <tr>\n",
              "      <th>48</th>\n",
              "      <td>141</td>\n",
              "      <td>87.0</td>\n",
              "      <td>36.0</td>\n",
              "      <td>2</td>\n",
              "      <td>1</td>\n",
              "      <td>0</td>\n",
              "      <td>0</td>\n",
              "      <td>1</td>\n",
              "      <td>0</td>\n",
              "      <td>SHM</td>\n",
              "      <td>0</td>\n",
              "    </tr>\n",
              "  </tbody>\n",
              "</table>\n",
              "</div>"
            ],
            "text/plain": [
              "    Harga_juta  Luas_Tanah  Luas_Bangunan  ...  Garasi      Surat  cluster\n",
              "0         1200       135.0           70.0  ...       0        SHM        0\n",
              "1         1110       135.0           70.0  ...       0        SHM        0\n",
              "2         2100       875.0          220.0  ...       1        SHM        1\n",
              "4         1250       120.0          542.0  ...       0        SHM        0\n",
              "6         1100       134.0          250.0  ...       0        SHM        0\n",
              "11         350      1100.0          900.0  ...       0        SHM        0\n",
              "12        3500       387.0           85.0  ...       0        SHM        2\n",
              "14         280       902.0          902.0  ...       0        SHM        0\n",
              "15         470        81.0           80.0  ...       0        SHM        0\n",
              "16        5000       214.0          100.0  ...       0        SHM        2\n",
              "18        2250        99.0           99.0  ...       0        SHM        1\n",
              "20         780       168.0          100.0  ...       0        HGB        0\n",
              "21        3200       300.0          300.0  ...       1        SHM        2\n",
              "22        2200       195.0          280.0  ...       0        SHM        1\n",
              "23        2200       720.0          630.0  ...       2        SHM        1\n",
              "24        2400       800.0          660.0  ...       1        SHM        1\n",
              "25         650       120.0          120.0  ...       0        SHM        0\n",
              "26         550       100.0           36.0  ...       0        SHM        0\n",
              "27         700       100.0           36.0  ...       0        SHM        0\n",
              "28         155       120.0           36.0  ...       0        SHM        0\n",
              "29         746        90.0           43.0  ...       0        SHM        0\n",
              "30         941       105.0           59.0  ...       0        SHM        0\n",
              "31        1033       120.0           63.0  ...       0        SHM        0\n",
              "32        1130       135.0           72.0  ...       0        SHM        0\n",
              "33        1975       200.0          100.0  ...       0        SHM        1\n",
              "35         650       193.0           30.0  ...       0        SHM        0\n",
              "36         451       105.0           70.0  ...       0        SHM        0\n",
              "37         168        85.0           36.0  ...       0        SHM        0\n",
              "41         168        85.0           36.0  ...       0  AJB/BPHTB        0\n",
              "42         288        84.0           40.0  ...       0        SHM        0\n",
              "43         316        84.0           45.0  ...       0        SHM        0\n",
              "44         495        98.0           70.0  ...       0        SHM        0\n",
              "45         785       120.0          120.0  ...       0        SHM        0\n",
              "46         300        98.0           70.0  ...       0        SHM        0\n",
              "47         168        36.0           98.0  ...       0        SHM        0\n",
              "48         141        87.0           36.0  ...       0        SHM        0\n",
              "\n",
              "[36 rows x 11 columns]"
            ]
          },
          "metadata": {
            "tags": []
          },
          "execution_count": 87
        }
      ]
    },
    {
      "cell_type": "code",
      "metadata": {
        "id": "LuMXMxXr3iL1",
        "colab": {
          "base_uri": "https://localhost:8080/"
        },
        "outputId": "118ca493-b134-460b-d9a8-e8e253b82b8d"
      },
      "source": [
        "kmPP.cluster_centers_"
      ],
      "execution_count": null,
      "outputs": [
        {
          "output_type": "execute_result",
          "data": {
            "text/plain": [
              "array([[ 6.06481481e+02,  1.75555556e+02,  1.49259259e+02,\n",
              "         2.37037037e+00,  1.40740741e+00,  7.40740741e-02,\n",
              "         3.70370370e-02,  8.14814815e-01,  5.55111512e-17],\n",
              "       [ 2.18750000e+03,  4.81500000e+02,  3.31500000e+02,\n",
              "         4.50000000e+00,  3.16666667e+00, -6.93889390e-18,\n",
              "        -3.46944695e-18,  2.33333333e+00,  6.66666667e-01],\n",
              "       [ 3.90000000e+03,  3.00333333e+02,  1.61666667e+02,\n",
              "         6.33333333e+00,  4.00000000e+00,  0.00000000e+00,\n",
              "         0.00000000e+00,  1.66666667e+00,  3.33333333e-01]])"
            ]
          },
          "metadata": {
            "tags": []
          },
          "execution_count": 88
        }
      ]
    },
    {
      "cell_type": "markdown",
      "metadata": {
        "id": "ySh247dZJhKD"
      },
      "source": [
        "# Kesimpulan"
      ]
    },
    {
      "cell_type": "code",
      "metadata": {
        "id": "66Ps2NE2xHFx"
      },
      "source": [
        ""
      ],
      "execution_count": null,
      "outputs": []
    },
    {
      "cell_type": "code",
      "metadata": {
        "id": "2MGdYejTu8eM"
      },
      "source": [
        ""
      ],
      "execution_count": null,
      "outputs": []
    },
    {
      "cell_type": "markdown",
      "metadata": {
        "id": "QFesbC8wErMK"
      },
      "source": [
        "Dari 50 data iklan penjualan rumah di Maluku, ditemukan 3 data yang merupakan outlier, lalu kami me-remove outlier tersebut. Sehingga data yang diobservasi tersisa 47 data. Dari 47 data tersebut, terdapat 2 missing value pada variabel 'Luas_Tanah', 2 missing values pada variabel 'Luas_Bangunan', 23 missing values pada variabel 'Listrik', 7 missing value pada variabel 'Surat', dan 1 missing value pada variabel 'Judul'. Lalu kita menghapus data yang mengandung missing values dengan cara Menghapus Variabel 'Listrik', karena terdapat kurang lebih 50% data yang missing dan melakukan Listwise deletion pada variabel 'Surat', 'Luas_Bangunan\", dan 'Luas_Tanah'. Setelah dilakukan penghapusan missing value, tersisa 19 baris dan 16 kolom data. Untuk melihat keragaman data, kami melakukan Stastistika deskriptif. Kami ingin mengetahui hubungan antara variabel 'Harga_juta' dan variabel 'Luas_Tanah', berdasarkan hasil visualisasi dengan menggunakan scatterplot diperoleh kesimpulan variabel 'Harga_juta' dengan variabel 'Luas_Tanah' memiliki hubungan yang positif, bahwa semakin besar nilai luas tanah maka harga jual rumah juga semakin besar jika diasumsikan luas bangunan, kamar tidur, kamar mandi, kamar tidur pembantu, kamar mandi pembantu, carport, garasi, dan listrik sama. Berdasarkan tabel korelasi antarvariabel, diperoleh bahwa variabel 'Harga_juta' dengan 'Garasi' memiliki korelasi terbesar yaitu 0.94.\n",
        "\n",
        "Rekomendasi untuk penjual rumah:\n",
        "\n",
        "\n",
        "*   Dikarenakan korelasi yang tinggi antara variabel 'Harga_juta' dengan 'Garasi', kami merekomendasikan untuk menyediakan fasilitas garasi agar nilai jual dari rumah lebih optimal. \n",
        "*   List item\n",
        "\n",
        "Rekomendasi untuk pembeli rumah:\n",
        "\n",
        "\n",
        "\n",
        "\n"
      ]
    }
  ]
}